{
 "cells": [
  {
   "cell_type": "code",
   "execution_count": 1,
   "metadata": {
    "collapsed": true
   },
   "outputs": [],
   "source": [
    "%load_ext autoreload\n",
    "%autoreload 2\n",
    "import numpy as np\n",
    "import pandas as pd\n",
    "import matplotlib\n",
    "%matplotlib inline\n",
    "import matplotlib.pyplot as plt\n",
    "import cPickle as pickle\n",
    "\n",
    "plt.style.use('ggplot')"
   ]
  },
  {
   "cell_type": "code",
   "execution_count": 2,
   "metadata": {
    "collapsed": false
   },
   "outputs": [
    {
     "name": "stdout",
     "output_type": "stream",
     "text": [
      "/Users/odatakuma/cmu/FleetAI\n"
     ]
    }
   ],
   "source": [
    "cd .."
   ]
  },
  {
   "cell_type": "code",
   "execution_count": 3,
   "metadata": {
    "collapsed": true
   },
   "outputs": [],
   "source": [
    "data_path = 'analytics/data/taxi_trips/taxi_tripdata_2016-05.csv'"
   ]
  },
  {
   "cell_type": "code",
   "execution_count": 14,
   "metadata": {
    "collapsed": false
   },
   "outputs": [
    {
     "data": {
      "text/html": [
       "<div>\n",
       "<table border=\"1\" class=\"dataframe\">\n",
       "  <thead>\n",
       "    <tr style=\"text-align: right;\">\n",
       "      <th></th>\n",
       "      <th>dayofweek</th>\n",
       "      <th>dropoff_latitude</th>\n",
       "      <th>dropoff_longitude</th>\n",
       "      <th>hour</th>\n",
       "      <th>minute</th>\n",
       "      <th>pickup_latitude</th>\n",
       "      <th>pickup_longitude</th>\n",
       "      <th>trip_time</th>\n",
       "      <th>great_circle_distance</th>\n",
       "    </tr>\n",
       "  </thead>\n",
       "  <tbody>\n",
       "    <tr>\n",
       "      <th>0</th>\n",
       "      <td>6</td>\n",
       "      <td>40.730099</td>\n",
       "      <td>-73.983986</td>\n",
       "      <td>0</td>\n",
       "      <td>0</td>\n",
       "      <td>40.768040</td>\n",
       "      <td>-73.985901</td>\n",
       "      <td>17.516666</td>\n",
       "      <td>4221</td>\n",
       "    </tr>\n",
       "    <tr>\n",
       "      <th>1</th>\n",
       "      <td>6</td>\n",
       "      <td>40.744633</td>\n",
       "      <td>-73.980995</td>\n",
       "      <td>0</td>\n",
       "      <td>0</td>\n",
       "      <td>40.741573</td>\n",
       "      <td>-73.993073</td>\n",
       "      <td>7.016667</td>\n",
       "      <td>1072</td>\n",
       "    </tr>\n",
       "    <tr>\n",
       "      <th>2</th>\n",
       "      <td>6</td>\n",
       "      <td>40.733002</td>\n",
       "      <td>-74.002258</td>\n",
       "      <td>0</td>\n",
       "      <td>0</td>\n",
       "      <td>40.684601</td>\n",
       "      <td>-73.991943</td>\n",
       "      <td>19.783333</td>\n",
       "      <td>5451</td>\n",
       "    </tr>\n",
       "    <tr>\n",
       "      <th>3</th>\n",
       "      <td>6</td>\n",
       "      <td>40.765469</td>\n",
       "      <td>-73.975700</td>\n",
       "      <td>0</td>\n",
       "      <td>0</td>\n",
       "      <td>40.744751</td>\n",
       "      <td>-73.991577</td>\n",
       "      <td>7.516667</td>\n",
       "      <td>2663</td>\n",
       "    </tr>\n",
       "    <tr>\n",
       "      <th>4</th>\n",
       "      <td>6</td>\n",
       "      <td>40.737564</td>\n",
       "      <td>-73.997498</td>\n",
       "      <td>0</td>\n",
       "      <td>0</td>\n",
       "      <td>40.740192</td>\n",
       "      <td>-74.005280</td>\n",
       "      <td>6.650000</td>\n",
       "      <td>717</td>\n",
       "    </tr>\n",
       "  </tbody>\n",
       "</table>\n",
       "</div>"
      ],
      "text/plain": [
       "   dayofweek  dropoff_latitude  dropoff_longitude  hour  minute  \\\n",
       "0          6         40.730099         -73.983986     0       0   \n",
       "1          6         40.744633         -73.980995     0       0   \n",
       "2          6         40.733002         -74.002258     0       0   \n",
       "3          6         40.765469         -73.975700     0       0   \n",
       "4          6         40.737564         -73.997498     0       0   \n",
       "\n",
       "   pickup_latitude  pickup_longitude  trip_time  great_circle_distance  \n",
       "0        40.768040        -73.985901  17.516666                   4221  \n",
       "1        40.741573        -73.993073   7.016667                   1072  \n",
       "2        40.684601        -73.991943  19.783333                   5451  \n",
       "3        40.744751        -73.991577   7.516667                   2663  \n",
       "4        40.740192        -74.005280   6.650000                    717  "
      ]
     },
     "execution_count": 14,
     "metadata": {},
     "output_type": "execute_result"
    }
   ],
   "source": [
    "cols = ['dayofweek', 'hour', 'minute', 'pickup_latitude', 'pickup_longitude',\n",
    "        'dropoff_latitude', 'dropoff_longitude', 'great_circle_distance', 'trip_time']\n",
    "df = pd.read_csv(data_path, usecols=cols, dtype={key : np.float32 for key in cols})\n",
    "df.head()"
   ]
  },
  {
   "cell_type": "code",
   "execution_count": 15,
   "metadata": {
    "collapsed": false
   },
   "outputs": [
    {
     "data": {
      "text/plain": [
       "(12912396, 9)"
      ]
     },
     "execution_count": 15,
     "metadata": {},
     "output_type": "execute_result"
    }
   ],
   "source": [
    "df.shape"
   ]
  },
  {
   "cell_type": "code",
   "execution_count": 16,
   "metadata": {
    "collapsed": false
   },
   "outputs": [
    {
     "data": {
      "text/plain": [
       "(12869846, 8)"
      ]
     },
     "execution_count": 16,
     "metadata": {},
     "output_type": "execute_result"
    }
   ],
   "source": [
    "df['hour'] = df.hour + df.minute/60\n",
    "df = df[(df.trip_time>1.0) & (df.trip_time<60*3)]\n",
    "df = df[(df.great_circle_distance>100) & (df.great_circle_distance<100000)]\n",
    "df['great_circle_speed'] = df['great_circle_distance'] / df.trip_time / 1000 * 60\n",
    "df = df[df.great_circle_speed > 2]\n",
    "df = df[df.great_circle_speed < 150]\n",
    "df = df.drop(['minute', 'great_circle_speed'], axis=1)\n",
    "df.shape\n",
    "# df['trip_distance'] = df.trip_distance * 1.60934\n",
    "# df = df[df.trip_distance > df.great_circle_distance]\n",
    "# df = df[df.trip_distance < df.great_circle_distance*5]"
   ]
  },
  {
   "cell_type": "code",
   "execution_count": 17,
   "metadata": {
    "collapsed": false
   },
   "outputs": [
    {
     "name": "stdout",
     "output_type": "stream",
     "text": [
      "(12869846, 7)\n"
     ]
    }
   ],
   "source": [
    "from sklearn.cross_validation import train_test_split\n",
    "\n",
    "X = df[['dayofweek', 'hour', 'pickup_latitude', 'pickup_longitude',\n",
    "        'dropoff_latitude', 'dropoff_longitude', 'great_circle_distance']].values\n",
    "y = df['trip_time'].values\n",
    "X_train, X_test, y_train, y_test = train_test_split(X, y, test_size=0.3, random_state=0)\n",
    "print X.shape"
   ]
  },
  {
   "cell_type": "code",
   "execution_count": 8,
   "metadata": {
    "collapsed": false
   },
   "outputs": [
    {
     "name": "stdout",
     "output_type": "stream",
     "text": [
      "RMSE train/val: 5.3 / 5.3\n",
      "CPU times: user 6min 40s, sys: 9.05 s, total: 6min 49s\n",
      "Wall time: 6min 56s\n"
     ]
    }
   ],
   "source": [
    "%%time\n",
    "from sklearn.ensemble import GradientBoostingRegressor\n",
    "\n",
    "gbr = GradientBoostingRegressor(learning_rate=1.0, n_estimators=20, subsample=0.2, max_depth=4)\n",
    "gbr.fit(X_train, y_train)\n",
    "rmse_train = np.sqrt(((y_train - gbr.predict(X_train))**2).mean())\n",
    "rmse_test = np.sqrt(((y_test - gbr.predict(X_test))**2).mean())\n",
    "print \"RMSE train/val: %.1f / %.1f\" % (rmse_train, rmse_test)"
   ]
  },
  {
   "cell_type": "code",
   "execution_count": 13,
   "metadata": {
    "collapsed": false
   },
   "outputs": [
    {
     "name": "stdout",
     "output_type": "stream",
     "text": [
      "RMSE train/val: 4.3 / 4.6\n",
      "CPU times: user 27min 49s, sys: 6.93 s, total: 27min 56s\n",
      "Wall time: 8min 29s\n"
     ]
    }
   ],
   "source": [
    "%%time\n",
    "from sklearn.ensemble import RandomForestRegressor\n",
    "\n",
    "forest = RandomForestRegressor(n_estimators=10, min_samples_split=2e-5, n_jobs=-1)\n",
    "forest.fit(X_train, y_train)\n",
    "rmse_train = np.sqrt(((y_train - forest.predict(X_train))**2).mean())\n",
    "rmse_test = np.sqrt(((y_test - forest.predict(X_test))**2).mean())\n",
    "print \"RMSE train/val: %.1f / %.1f\" % (rmse_train, rmse_test)"
   ]
  },
  {
   "cell_type": "code",
   "execution_count": 17,
   "metadata": {
    "collapsed": false
   },
   "outputs": [],
   "source": [
    "from keras.models import Sequential\n",
    "from keras.layers.core import Dense\n",
    "\n",
    "def MLP(size, act='relu'):\n",
    "    model = Sequential()\n",
    "    model.add(Dense(size, input_dim=7, activation=act))\n",
    "    model.add(Dense(size, activation=act))\n",
    "    model.add(Dense(size, activation=act))\n",
    "    model.add(Dense(1, init='normal'))\n",
    "    model.compile(loss='mean_squared_error',  optimizer='adam')\n",
    "    return model"
   ]
  },
  {
   "cell_type": "code",
   "execution_count": 18,
   "metadata": {
    "collapsed": false
   },
   "outputs": [
    {
     "name": "stdout",
     "output_type": "stream",
     "text": [
      "RMSE train/val: 5.7 / 5.7\n",
      "CPU times: user 19min 26s, sys: 2min 24s, total: 21min 50s\n",
      "Wall time: 8min 43s\n"
     ]
    }
   ],
   "source": [
    "%%time\n",
    "mlp = MLP(64)\n",
    "mlp.fit(X_train, y_train, nb_epoch=10, batch_size=1000, verbose=0, validation_split=0.0)\n",
    "y_pred_train = mlp.predict(X_train, batch_size=10000, verbose=0)[:, 0]\n",
    "y_pred_test = mlp.predict(X_test, batch_size=10000, verbose=0)[:, 0]\n",
    "rmse_train = np.sqrt(((y_train - y_pred_train)**2).mean())\n",
    "rmse_test = np.sqrt(((y_test - y_pred_test)**2).mean())\n",
    "print \"RMSE train/val: %.1f / %.1f\" % (rmse_train, rmse_test)                         "
   ]
  },
  {
   "cell_type": "code",
   "execution_count": 18,
   "metadata": {
    "collapsed": true
   },
   "outputs": [],
   "source": [
    "from sklearn.ensemble import RandomForestRegressor"
   ]
  },
  {
   "cell_type": "code",
   "execution_count": 19,
   "metadata": {
    "collapsed": false
   },
   "outputs": [
    {
     "name": "stdout",
     "output_type": "stream",
     "text": [
      "RMSE train/val: 4.9 / 5.0\n",
      "CPU times: user 27min 42s, sys: 7.51 s, total: 27min 50s\n",
      "Wall time: 8min 28s\n"
     ]
    }
   ],
   "source": [
    "%%time\n",
    "forest = RandomForestRegressor(n_estimators=10, min_samples_split=5e-5, n_jobs=-1)\n",
    "forest.fit(X_train, y_train)\n",
    "rmse_train = np.sqrt(((y_train - forest.predict(X_train))**2).mean())\n",
    "rmse_test = np.sqrt(((y_test - forest.predict(X_test))**2).mean())\n",
    "print \"RMSE train/val: %.1f / %.1f\" % (rmse_train, rmse_test)"
   ]
  },
  {
   "cell_type": "code",
   "execution_count": 3,
   "metadata": {
    "collapsed": true
   },
   "outputs": [],
   "source": [
    "path = 'engine/model/pickle/triptime_predictor.pkl'"
   ]
  },
  {
   "cell_type": "code",
   "execution_count": 21,
   "metadata": {
    "collapsed": true
   },
   "outputs": [],
   "source": [
    "with open(path, 'wb') as f:\n",
    "    pickle.dump(forest, f)"
   ]
  },
  {
   "cell_type": "code",
   "execution_count": 4,
   "metadata": {
    "collapsed": true
   },
   "outputs": [],
   "source": [
    "with open(path, 'r') as f:\n",
    "    model = pickle.load(f)"
   ]
  },
  {
   "cell_type": "code",
   "execution_count": 7,
   "metadata": {
    "collapsed": false
   },
   "outputs": [
    {
     "data": {
      "text/html": [
       "<div>\n",
       "<table border=\"1\" class=\"dataframe\">\n",
       "  <thead>\n",
       "    <tr style=\"text-align: right;\">\n",
       "      <th></th>\n",
       "      <th>lat</th>\n",
       "      <th>lon</th>\n",
       "      <th>taxi_zone</th>\n",
       "      <th>road_density</th>\n",
       "      <th>intxn_density</th>\n",
       "      <th>latest_demand</th>\n",
       "      <th>x</th>\n",
       "      <th>y</th>\n",
       "    </tr>\n",
       "    <tr>\n",
       "      <th>geohash</th>\n",
       "      <th></th>\n",
       "      <th></th>\n",
       "      <th></th>\n",
       "      <th></th>\n",
       "      <th></th>\n",
       "      <th></th>\n",
       "      <th></th>\n",
       "      <th></th>\n",
       "    </tr>\n",
       "  </thead>\n",
       "  <tbody>\n",
       "    <tr>\n",
       "      <th>dr5qgxx</th>\n",
       "      <td>40.603358</td>\n",
       "      <td>-74.015682</td>\n",
       "      <td>10</td>\n",
       "      <td>56</td>\n",
       "      <td>36</td>\n",
       "      <td>0</td>\n",
       "      <td>3</td>\n",
       "      <td>0</td>\n",
       "    </tr>\n",
       "    <tr>\n",
       "      <th>dr5qgxy</th>\n",
       "      <td>40.604832</td>\n",
       "      <td>-74.017029</td>\n",
       "      <td>10</td>\n",
       "      <td>43</td>\n",
       "      <td>8</td>\n",
       "      <td>0</td>\n",
       "      <td>3</td>\n",
       "      <td>0</td>\n",
       "    </tr>\n",
       "    <tr>\n",
       "      <th>dr5qgxz</th>\n",
       "      <td>40.604637</td>\n",
       "      <td>-74.015335</td>\n",
       "      <td>10</td>\n",
       "      <td>22</td>\n",
       "      <td>0</td>\n",
       "      <td>0</td>\n",
       "      <td>3</td>\n",
       "      <td>0</td>\n",
       "    </tr>\n",
       "    <tr>\n",
       "      <th>dr5qgz7</th>\n",
       "      <td>40.602178</td>\n",
       "      <td>-74.010322</td>\n",
       "      <td>10</td>\n",
       "      <td>28</td>\n",
       "      <td>9</td>\n",
       "      <td>0</td>\n",
       "      <td>4</td>\n",
       "      <td>0</td>\n",
       "    </tr>\n",
       "    <tr>\n",
       "      <th>dr5qgz8</th>\n",
       "      <td>40.603474</td>\n",
       "      <td>-74.014180</td>\n",
       "      <td>10</td>\n",
       "      <td>59</td>\n",
       "      <td>14</td>\n",
       "      <td>0</td>\n",
       "      <td>3</td>\n",
       "      <td>0</td>\n",
       "    </tr>\n",
       "  </tbody>\n",
       "</table>\n",
       "</div>"
      ],
      "text/plain": [
       "               lat        lon  taxi_zone  road_density  intxn_density  \\\n",
       "geohash                                                                 \n",
       "dr5qgxx  40.603358 -74.015682         10            56             36   \n",
       "dr5qgxy  40.604832 -74.017029         10            43              8   \n",
       "dr5qgxz  40.604637 -74.015335         10            22              0   \n",
       "dr5qgz7  40.602178 -74.010322         10            28              9   \n",
       "dr5qgz8  40.603474 -74.014180         10            59             14   \n",
       "\n",
       "         latest_demand  x  y  \n",
       "geohash                       \n",
       "dr5qgxx              0  3  0  \n",
       "dr5qgxy              0  3  0  \n",
       "dr5qgxz              0  3  0  \n",
       "dr5qgz7              0  4  0  \n",
       "dr5qgz8              0  3  0  "
      ]
     },
     "execution_count": 7,
     "metadata": {},
     "output_type": "execute_result"
    }
   ],
   "source": [
    "geohash_table = pd.read_csv('engine/data/zones.csv', index_col='geohash')\n",
    "geohash_table.head()"
   ]
  },
  {
   "cell_type": "code",
   "execution_count": 16,
   "metadata": {
    "collapsed": false
   },
   "outputs": [
    {
     "data": {
      "text/html": [
       "<div>\n",
       "<table border=\"1\" class=\"dataframe\">\n",
       "  <thead>\n",
       "    <tr style=\"text-align: right;\">\n",
       "      <th></th>\n",
       "      <th>lat</th>\n",
       "      <th>lon</th>\n",
       "    </tr>\n",
       "  </thead>\n",
       "  <tbody>\n",
       "    <tr>\n",
       "      <th>2</th>\n",
       "      <td>40.865465</td>\n",
       "      <td>-73.849574</td>\n",
       "    </tr>\n",
       "    <tr>\n",
       "      <th>3</th>\n",
       "      <td>40.724116</td>\n",
       "      <td>-73.977340</td>\n",
       "    </tr>\n",
       "    <tr>\n",
       "      <th>6</th>\n",
       "      <td>40.761576</td>\n",
       "      <td>-73.919734</td>\n",
       "    </tr>\n",
       "    <tr>\n",
       "      <th>7</th>\n",
       "      <td>40.778363</td>\n",
       "      <td>-73.922796</td>\n",
       "    </tr>\n",
       "    <tr>\n",
       "      <th>8</th>\n",
       "      <td>40.753302</td>\n",
       "      <td>-73.788666</td>\n",
       "    </tr>\n",
       "  </tbody>\n",
       "</table>\n",
       "</div>"
      ],
      "text/plain": [
       "         lat        lon\n",
       "2  40.865465 -73.849574\n",
       "3  40.724116 -73.977340\n",
       "6  40.761576 -73.919734\n",
       "7  40.778363 -73.922796\n",
       "8  40.753302 -73.788666"
      ]
     },
     "execution_count": 16,
     "metadata": {},
     "output_type": "execute_result"
    }
   ],
   "source": [
    "df = geohash_table.groupby('taxi_zone')[['lat', 'lon']].mean()\n",
    "df.index = np.array(df.index).astype(int)\n",
    "df.head()"
   ]
  },
  {
   "cell_type": "code",
   "execution_count": 17,
   "metadata": {
    "collapsed": false
   },
   "outputs": [
    {
     "data": {
      "text/html": [
       "<div>\n",
       "<table border=\"1\" class=\"dataframe\">\n",
       "  <thead>\n",
       "    <tr style=\"text-align: right;\">\n",
       "      <th></th>\n",
       "      <th>plat</th>\n",
       "      <th>plon</th>\n",
       "      <th>dlat</th>\n",
       "      <th>dlon</th>\n",
       "      <th>dayofweek</th>\n",
       "      <th>hour</th>\n",
       "    </tr>\n",
       "  </thead>\n",
       "  <tbody>\n",
       "    <tr>\n",
       "      <th>(2, 2)</th>\n",
       "      <td>40.865465</td>\n",
       "      <td>-73.849574</td>\n",
       "      <td>40.865465</td>\n",
       "      <td>-73.849574</td>\n",
       "      <td>0</td>\n",
       "      <td>0</td>\n",
       "    </tr>\n",
       "    <tr>\n",
       "      <th>(2, 3)</th>\n",
       "      <td>40.865465</td>\n",
       "      <td>-73.849574</td>\n",
       "      <td>40.724116</td>\n",
       "      <td>-73.977340</td>\n",
       "      <td>0</td>\n",
       "      <td>0</td>\n",
       "    </tr>\n",
       "    <tr>\n",
       "      <th>(2, 6)</th>\n",
       "      <td>40.865465</td>\n",
       "      <td>-73.849574</td>\n",
       "      <td>40.761576</td>\n",
       "      <td>-73.919734</td>\n",
       "      <td>0</td>\n",
       "      <td>0</td>\n",
       "    </tr>\n",
       "    <tr>\n",
       "      <th>(2, 7)</th>\n",
       "      <td>40.865465</td>\n",
       "      <td>-73.849574</td>\n",
       "      <td>40.778363</td>\n",
       "      <td>-73.922796</td>\n",
       "      <td>0</td>\n",
       "      <td>0</td>\n",
       "    </tr>\n",
       "    <tr>\n",
       "      <th>(2, 8)</th>\n",
       "      <td>40.865465</td>\n",
       "      <td>-73.849574</td>\n",
       "      <td>40.753302</td>\n",
       "      <td>-73.788666</td>\n",
       "      <td>0</td>\n",
       "      <td>0</td>\n",
       "    </tr>\n",
       "  </tbody>\n",
       "</table>\n",
       "</div>"
      ],
      "text/plain": [
       "             plat       plon       dlat       dlon  dayofweek  hour\n",
       "(2, 2)  40.865465 -73.849574  40.865465 -73.849574          0     0\n",
       "(2, 3)  40.865465 -73.849574  40.724116 -73.977340          0     0\n",
       "(2, 6)  40.865465 -73.849574  40.761576 -73.919734          0     0\n",
       "(2, 7)  40.865465 -73.849574  40.778363 -73.922796          0     0\n",
       "(2, 8)  40.865465 -73.849574  40.753302 -73.788666          0     0"
      ]
     },
     "execution_count": 17,
     "metadata": {},
     "output_type": "execute_result"
    }
   ],
   "source": [
    "data = pd.DataFrame(index=[(p, d) for p in df.index for d in df.index], columns=['plat', 'plon', 'dlat', 'dlon'])\n",
    "data.loc[[(p, d) for p in df.index for d in df.index], :] = [(plat, plon, dlat, dlon) for plat, plon in df.values\n",
    "                                                           for dlat, dlon in df.values]\n",
    "data['dayofweek'] = 0\n",
    "data['hour'] = 0\n",
    "data.head()"
   ]
  },
  {
   "cell_type": "code",
   "execution_count": 19,
   "metadata": {
    "collapsed": false
   },
   "outputs": [],
   "source": [
    "from engine.mapper import geohelper as gh\n",
    "data['distance'] = gh.distance_in_meters(data.plat, data.plon, data.dlat, data.dlon)"
   ]
  },
  {
   "cell_type": "code",
   "execution_count": 24,
   "metadata": {
    "collapsed": false
   },
   "outputs": [
    {
     "name": "stdout",
     "output_type": "stream",
     "text": [
      "CPU times: user 44 s, sys: 4.91 s, total: 49 s\n",
      "Wall time: 1min 6s\n"
     ]
    }
   ],
   "source": [
    "%%time\n",
    "taxi_zones = df.index\n",
    "nzones = len(taxi_zones)\n",
    "df_od = pd.DataFrame(index=[(d, h, z) for d in range(7) for h in range(24) for z in taxi_zones],\n",
    "                    columns=taxi_zones)\n",
    "\n",
    "for d in range(7):\n",
    "    for h in range(24):\n",
    "        df_od.loc[[(d, h, z) for z in taxi_zones], :] = model.predict(data.values).reshape((nzones, nzones))\n",
    "df_od.head()"
   ]
  },
  {
   "cell_type": "code",
   "execution_count": 25,
   "metadata": {
    "collapsed": false
   },
   "outputs": [
    {
     "data": {
      "text/html": [
       "<div>\n",
       "<table border=\"1\" class=\"dataframe\">\n",
       "  <thead>\n",
       "    <tr style=\"text-align: right;\">\n",
       "      <th></th>\n",
       "      <th>2</th>\n",
       "      <th>3</th>\n",
       "      <th>6</th>\n",
       "      <th>7</th>\n",
       "      <th>8</th>\n",
       "      <th>9</th>\n",
       "      <th>10</th>\n",
       "      <th>11</th>\n",
       "      <th>12</th>\n",
       "      <th>13</th>\n",
       "      <th>...</th>\n",
       "      <th>253</th>\n",
       "      <th>254</th>\n",
       "      <th>255</th>\n",
       "      <th>256</th>\n",
       "      <th>257</th>\n",
       "      <th>258</th>\n",
       "      <th>259</th>\n",
       "      <th>260</th>\n",
       "      <th>261</th>\n",
       "      <th>262</th>\n",
       "    </tr>\n",
       "  </thead>\n",
       "  <tbody>\n",
       "    <tr>\n",
       "      <th>(0, 0, 2)</th>\n",
       "      <td>2.38634</td>\n",
       "      <td>42.004</td>\n",
       "      <td>28.5031</td>\n",
       "      <td>30.4662</td>\n",
       "      <td>36.6025</td>\n",
       "      <td>41.1861</td>\n",
       "      <td>42.004</td>\n",
       "      <td>42.004</td>\n",
       "      <td>42.004</td>\n",
       "      <td>42.004</td>\n",
       "      <td>...</td>\n",
       "      <td>12.2993</td>\n",
       "      <td>42.004</td>\n",
       "      <td>42.004</td>\n",
       "      <td>42.004</td>\n",
       "      <td>41.1861</td>\n",
       "      <td>10.4077</td>\n",
       "      <td>41.1861</td>\n",
       "      <td>42.004</td>\n",
       "      <td>32.5984</td>\n",
       "      <td>37.8962</td>\n",
       "    </tr>\n",
       "    <tr>\n",
       "      <th>(0, 0, 3)</th>\n",
       "      <td>41.1861</td>\n",
       "      <td>2.32353</td>\n",
       "      <td>20.3072</td>\n",
       "      <td>20.6073</td>\n",
       "      <td>41.1861</td>\n",
       "      <td>41.1861</td>\n",
       "      <td>33.6279</td>\n",
       "      <td>21.3271</td>\n",
       "      <td>12.6219</td>\n",
       "      <td>33.4442</td>\n",
       "      <td>...</td>\n",
       "      <td>41.1861</td>\n",
       "      <td>9.23845</td>\n",
       "      <td>16.03</td>\n",
       "      <td>24.9837</td>\n",
       "      <td>18.5253</td>\n",
       "      <td>41.1861</td>\n",
       "      <td>20.3072</td>\n",
       "      <td>12.6219</td>\n",
       "      <td>21.3085</td>\n",
       "      <td>20.3072</td>\n",
       "    </tr>\n",
       "    <tr>\n",
       "      <th>(0, 0, 6)</th>\n",
       "      <td>18.6067</td>\n",
       "      <td>25.6595</td>\n",
       "      <td>2.38634</td>\n",
       "      <td>8.26668</td>\n",
       "      <td>18.5253</td>\n",
       "      <td>41.1861</td>\n",
       "      <td>42.004</td>\n",
       "      <td>33.0934</td>\n",
       "      <td>32.4451</td>\n",
       "      <td>42.004</td>\n",
       "      <td>...</td>\n",
       "      <td>41.1861</td>\n",
       "      <td>21.6977</td>\n",
       "      <td>20.5591</td>\n",
       "      <td>33.6279</td>\n",
       "      <td>18.3099</td>\n",
       "      <td>41.1861</td>\n",
       "      <td>16.03</td>\n",
       "      <td>32.4451</td>\n",
       "      <td>9.75905</td>\n",
       "      <td>10.6559</td>\n",
       "    </tr>\n",
       "    <tr>\n",
       "      <th>(0, 0, 7)</th>\n",
       "      <td>18.6067</td>\n",
       "      <td>29.8051</td>\n",
       "      <td>8.5416</td>\n",
       "      <td>2.38634</td>\n",
       "      <td>19.7159</td>\n",
       "      <td>41.1861</td>\n",
       "      <td>42.004</td>\n",
       "      <td>33.4442</td>\n",
       "      <td>33.2517</td>\n",
       "      <td>42.004</td>\n",
       "      <td>...</td>\n",
       "      <td>19.0614</td>\n",
       "      <td>20.3072</td>\n",
       "      <td>21.4956</td>\n",
       "      <td>42.004</td>\n",
       "      <td>19.7159</td>\n",
       "      <td>41.1861</td>\n",
       "      <td>17.9234</td>\n",
       "      <td>33.4442</td>\n",
       "      <td>16.8297</td>\n",
       "      <td>22.9587</td>\n",
       "    </tr>\n",
       "    <tr>\n",
       "      <th>(0, 0, 8)</th>\n",
       "      <td>36.4144</td>\n",
       "      <td>42.004</td>\n",
       "      <td>27.9968</td>\n",
       "      <td>30.4662</td>\n",
       "      <td>2.38634</td>\n",
       "      <td>16.4247</td>\n",
       "      <td>42.004</td>\n",
       "      <td>42.004</td>\n",
       "      <td>42.004</td>\n",
       "      <td>42.004</td>\n",
       "      <td>...</td>\n",
       "      <td>41.1861</td>\n",
       "      <td>42.004</td>\n",
       "      <td>42.004</td>\n",
       "      <td>42.004</td>\n",
       "      <td>18.3099</td>\n",
       "      <td>41.1861</td>\n",
       "      <td>24.5827</td>\n",
       "      <td>42.004</td>\n",
       "      <td>42.004</td>\n",
       "      <td>42.004</td>\n",
       "    </tr>\n",
       "  </tbody>\n",
       "</table>\n",
       "<p>5 rows × 221 columns</p>\n",
       "</div>"
      ],
      "text/plain": [
       "               2        3        6        7        8        9        10   \\\n",
       "(0, 0, 2)  2.38634   42.004  28.5031  30.4662  36.6025  41.1861   42.004   \n",
       "(0, 0, 3)  41.1861  2.32353  20.3072  20.6073  41.1861  41.1861  33.6279   \n",
       "(0, 0, 6)  18.6067  25.6595  2.38634  8.26668  18.5253  41.1861   42.004   \n",
       "(0, 0, 7)  18.6067  29.8051   8.5416  2.38634  19.7159  41.1861   42.004   \n",
       "(0, 0, 8)  36.4144   42.004  27.9968  30.4662  2.38634  16.4247   42.004   \n",
       "\n",
       "               11       12       13    ...         253      254      255  \\\n",
       "(0, 0, 2)   42.004   42.004   42.004   ...     12.2993   42.004   42.004   \n",
       "(0, 0, 3)  21.3271  12.6219  33.4442   ...     41.1861  9.23845    16.03   \n",
       "(0, 0, 6)  33.0934  32.4451   42.004   ...     41.1861  21.6977  20.5591   \n",
       "(0, 0, 7)  33.4442  33.2517   42.004   ...     19.0614  20.3072  21.4956   \n",
       "(0, 0, 8)   42.004   42.004   42.004   ...     41.1861   42.004   42.004   \n",
       "\n",
       "               256      257      258      259      260      261      262  \n",
       "(0, 0, 2)   42.004  41.1861  10.4077  41.1861   42.004  32.5984  37.8962  \n",
       "(0, 0, 3)  24.9837  18.5253  41.1861  20.3072  12.6219  21.3085  20.3072  \n",
       "(0, 0, 6)  33.6279  18.3099  41.1861    16.03  32.4451  9.75905  10.6559  \n",
       "(0, 0, 7)   42.004  19.7159  41.1861  17.9234  33.4442  16.8297  22.9587  \n",
       "(0, 0, 8)   42.004  18.3099  41.1861  24.5827   42.004   42.004   42.004  \n",
       "\n",
       "[5 rows x 221 columns]"
      ]
     },
     "execution_count": 25,
     "metadata": {},
     "output_type": "execute_result"
    }
   ],
   "source": [
    "df_od.head()"
   ]
  },
  {
   "cell_type": "code",
   "execution_count": 27,
   "metadata": {
    "collapsed": false
   },
   "outputs": [
    {
     "data": {
      "text/html": [
       "<div>\n",
       "<table border=\"1\" class=\"dataframe\">\n",
       "  <thead>\n",
       "    <tr style=\"text-align: right;\">\n",
       "      <th></th>\n",
       "      <th></th>\n",
       "      <th></th>\n",
       "      <th>2</th>\n",
       "      <th>3</th>\n",
       "      <th>6</th>\n",
       "      <th>7</th>\n",
       "      <th>8</th>\n",
       "      <th>9</th>\n",
       "      <th>10</th>\n",
       "      <th>11</th>\n",
       "      <th>12</th>\n",
       "      <th>13</th>\n",
       "      <th>...</th>\n",
       "      <th>253</th>\n",
       "      <th>254</th>\n",
       "      <th>255</th>\n",
       "      <th>256</th>\n",
       "      <th>257</th>\n",
       "      <th>258</th>\n",
       "      <th>259</th>\n",
       "      <th>260</th>\n",
       "      <th>261</th>\n",
       "      <th>262</th>\n",
       "    </tr>\n",
       "    <tr>\n",
       "      <th>dayofweek</th>\n",
       "      <th>hour</th>\n",
       "      <th>pickup_zone</th>\n",
       "      <th></th>\n",
       "      <th></th>\n",
       "      <th></th>\n",
       "      <th></th>\n",
       "      <th></th>\n",
       "      <th></th>\n",
       "      <th></th>\n",
       "      <th></th>\n",
       "      <th></th>\n",
       "      <th></th>\n",
       "      <th></th>\n",
       "      <th></th>\n",
       "      <th></th>\n",
       "      <th></th>\n",
       "      <th></th>\n",
       "      <th></th>\n",
       "      <th></th>\n",
       "      <th></th>\n",
       "      <th></th>\n",
       "      <th></th>\n",
       "      <th></th>\n",
       "    </tr>\n",
       "  </thead>\n",
       "  <tbody>\n",
       "    <tr>\n",
       "      <th rowspan=\"5\" valign=\"top\">0</th>\n",
       "      <th rowspan=\"5\" valign=\"top\">0</th>\n",
       "      <th>2</th>\n",
       "      <td>2.38634</td>\n",
       "      <td>42.004</td>\n",
       "      <td>28.5031</td>\n",
       "      <td>30.4662</td>\n",
       "      <td>36.6025</td>\n",
       "      <td>41.1861</td>\n",
       "      <td>42.004</td>\n",
       "      <td>42.004</td>\n",
       "      <td>42.004</td>\n",
       "      <td>42.004</td>\n",
       "      <td>...</td>\n",
       "      <td>12.2993</td>\n",
       "      <td>42.004</td>\n",
       "      <td>42.004</td>\n",
       "      <td>42.004</td>\n",
       "      <td>41.1861</td>\n",
       "      <td>10.4077</td>\n",
       "      <td>41.1861</td>\n",
       "      <td>42.004</td>\n",
       "      <td>32.5984</td>\n",
       "      <td>37.8962</td>\n",
       "    </tr>\n",
       "    <tr>\n",
       "      <th>3</th>\n",
       "      <td>41.1861</td>\n",
       "      <td>2.32353</td>\n",
       "      <td>20.3072</td>\n",
       "      <td>20.6073</td>\n",
       "      <td>41.1861</td>\n",
       "      <td>41.1861</td>\n",
       "      <td>33.6279</td>\n",
       "      <td>21.3271</td>\n",
       "      <td>12.6219</td>\n",
       "      <td>33.4442</td>\n",
       "      <td>...</td>\n",
       "      <td>41.1861</td>\n",
       "      <td>9.23845</td>\n",
       "      <td>16.03</td>\n",
       "      <td>24.9837</td>\n",
       "      <td>18.5253</td>\n",
       "      <td>41.1861</td>\n",
       "      <td>20.3072</td>\n",
       "      <td>12.6219</td>\n",
       "      <td>21.3085</td>\n",
       "      <td>20.3072</td>\n",
       "    </tr>\n",
       "    <tr>\n",
       "      <th>6</th>\n",
       "      <td>18.6067</td>\n",
       "      <td>25.6595</td>\n",
       "      <td>2.38634</td>\n",
       "      <td>8.26668</td>\n",
       "      <td>18.5253</td>\n",
       "      <td>41.1861</td>\n",
       "      <td>42.004</td>\n",
       "      <td>33.0934</td>\n",
       "      <td>32.4451</td>\n",
       "      <td>42.004</td>\n",
       "      <td>...</td>\n",
       "      <td>41.1861</td>\n",
       "      <td>21.6977</td>\n",
       "      <td>20.5591</td>\n",
       "      <td>33.6279</td>\n",
       "      <td>18.3099</td>\n",
       "      <td>41.1861</td>\n",
       "      <td>16.03</td>\n",
       "      <td>32.4451</td>\n",
       "      <td>9.75905</td>\n",
       "      <td>10.6559</td>\n",
       "    </tr>\n",
       "    <tr>\n",
       "      <th>7</th>\n",
       "      <td>18.6067</td>\n",
       "      <td>29.8051</td>\n",
       "      <td>8.5416</td>\n",
       "      <td>2.38634</td>\n",
       "      <td>19.7159</td>\n",
       "      <td>41.1861</td>\n",
       "      <td>42.004</td>\n",
       "      <td>33.4442</td>\n",
       "      <td>33.2517</td>\n",
       "      <td>42.004</td>\n",
       "      <td>...</td>\n",
       "      <td>19.0614</td>\n",
       "      <td>20.3072</td>\n",
       "      <td>21.4956</td>\n",
       "      <td>42.004</td>\n",
       "      <td>19.7159</td>\n",
       "      <td>41.1861</td>\n",
       "      <td>17.9234</td>\n",
       "      <td>33.4442</td>\n",
       "      <td>16.8297</td>\n",
       "      <td>22.9587</td>\n",
       "    </tr>\n",
       "    <tr>\n",
       "      <th>8</th>\n",
       "      <td>36.4144</td>\n",
       "      <td>42.004</td>\n",
       "      <td>27.9968</td>\n",
       "      <td>30.4662</td>\n",
       "      <td>2.38634</td>\n",
       "      <td>16.4247</td>\n",
       "      <td>42.004</td>\n",
       "      <td>42.004</td>\n",
       "      <td>42.004</td>\n",
       "      <td>42.004</td>\n",
       "      <td>...</td>\n",
       "      <td>41.1861</td>\n",
       "      <td>42.004</td>\n",
       "      <td>42.004</td>\n",
       "      <td>42.004</td>\n",
       "      <td>18.3099</td>\n",
       "      <td>41.1861</td>\n",
       "      <td>24.5827</td>\n",
       "      <td>42.004</td>\n",
       "      <td>42.004</td>\n",
       "      <td>42.004</td>\n",
       "    </tr>\n",
       "  </tbody>\n",
       "</table>\n",
       "<p>5 rows × 221 columns</p>\n",
       "</div>"
      ],
      "text/plain": [
       "                                2        3        6        7        8    \\\n",
       "dayofweek hour pickup_zone                                                \n",
       "0         0    2            2.38634   42.004  28.5031  30.4662  36.6025   \n",
       "               3            41.1861  2.32353  20.3072  20.6073  41.1861   \n",
       "               6            18.6067  25.6595  2.38634  8.26668  18.5253   \n",
       "               7            18.6067  29.8051   8.5416  2.38634  19.7159   \n",
       "               8            36.4144   42.004  27.9968  30.4662  2.38634   \n",
       "\n",
       "                                9        10       11       12       13   \\\n",
       "dayofweek hour pickup_zone                                                \n",
       "0         0    2            41.1861   42.004   42.004   42.004   42.004   \n",
       "               3            41.1861  33.6279  21.3271  12.6219  33.4442   \n",
       "               6            41.1861   42.004  33.0934  32.4451   42.004   \n",
       "               7            41.1861   42.004  33.4442  33.2517   42.004   \n",
       "               8            16.4247   42.004   42.004   42.004   42.004   \n",
       "\n",
       "                             ...         253      254      255      256  \\\n",
       "dayofweek hour pickup_zone   ...                                          \n",
       "0         0    2             ...     12.2993   42.004   42.004   42.004   \n",
       "               3             ...     41.1861  9.23845    16.03  24.9837   \n",
       "               6             ...     41.1861  21.6977  20.5591  33.6279   \n",
       "               7             ...     19.0614  20.3072  21.4956   42.004   \n",
       "               8             ...     41.1861   42.004   42.004   42.004   \n",
       "\n",
       "                                257      258      259      260      261  \\\n",
       "dayofweek hour pickup_zone                                                \n",
       "0         0    2            41.1861  10.4077  41.1861   42.004  32.5984   \n",
       "               3            18.5253  41.1861  20.3072  12.6219  21.3085   \n",
       "               6            18.3099  41.1861    16.03  32.4451  9.75905   \n",
       "               7            19.7159  41.1861  17.9234  33.4442  16.8297   \n",
       "               8            18.3099  41.1861  24.5827   42.004   42.004   \n",
       "\n",
       "                                262  \n",
       "dayofweek hour pickup_zone           \n",
       "0         0    2            37.8962  \n",
       "               3            20.3072  \n",
       "               6            10.6559  \n",
       "               7            22.9587  \n",
       "               8             42.004  \n",
       "\n",
       "[5 rows x 221 columns]"
      ]
     },
     "execution_count": 27,
     "metadata": {},
     "output_type": "execute_result"
    }
   ],
   "source": [
    "for key in ['dayofweek', 'hour', 'pickup_zone']:\n",
    "    df_od[key] = 0\n",
    "df_od.loc[:, ['dayofweek', 'hour', 'pickup_zone']] = list(df_od.index)\n",
    "df_od = df_od.reset_index().drop('index', axis=1)\n",
    "df_od = df_od.set_index(['dayofweek', 'hour', 'pickup_zone'])\n",
    "df_od.head()"
   ]
  },
  {
   "cell_type": "code",
   "execution_count": 28,
   "metadata": {
    "collapsed": false
   },
   "outputs": [
    {
     "name": "stdout",
     "output_type": "stream",
     "text": [
      "<class 'pandas.core.frame.DataFrame'>\n",
      "MultiIndex: 37128 entries, (0, 0, 2) to (6, 23, 262)\n",
      "Columns: 221 entries, 2 to 262\n",
      "dtypes: object(221)\n",
      "memory usage: 62.9+ MB\n"
     ]
    }
   ],
   "source": [
    "df_od.info()"
   ]
  },
  {
   "cell_type": "code",
   "execution_count": 29,
   "metadata": {
    "collapsed": true
   },
   "outputs": [],
   "source": [
    "df_od.to_csv('engine/data/eta.csv')"
   ]
  },
  {
   "cell_type": "code",
   "execution_count": null,
   "metadata": {
    "collapsed": true
   },
   "outputs": [],
   "source": []
  }
 ],
 "metadata": {
  "kernelspec": {
   "display_name": "Python 2",
   "language": "python",
   "name": "python2"
  },
  "language_info": {
   "codemirror_mode": {
    "name": "ipython",
    "version": 2
   },
   "file_extension": ".py",
   "mimetype": "text/x-python",
   "name": "python",
   "nbconvert_exporter": "python",
   "pygments_lexer": "ipython2",
   "version": "2.7.9"
  }
 },
 "nbformat": 4,
 "nbformat_minor": 0
}
