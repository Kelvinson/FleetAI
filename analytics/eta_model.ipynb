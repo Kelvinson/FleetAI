{
 "cells": [
  {
   "cell_type": "code",
   "execution_count": 1,
   "metadata": {
    "collapsed": true
   },
   "outputs": [],
   "source": [
    "%load_ext autoreload\n",
    "%autoreload 2\n",
    "import numpy as np\n",
    "import pandas as pd\n",
    "import matplotlib\n",
    "%matplotlib inline\n",
    "import matplotlib.pyplot as plt\n",
    "import cPickle as pickle\n",
    "\n",
    "plt.style.use('ggplot')"
   ]
  },
  {
   "cell_type": "code",
   "execution_count": 2,
   "metadata": {
    "collapsed": false
   },
   "outputs": [
    {
     "name": "stdout",
     "output_type": "stream",
     "text": [
      "/Users/odatakuma/cmu/FleetAI\n"
     ]
    }
   ],
   "source": [
    "cd .."
   ]
  },
  {
   "cell_type": "code",
   "execution_count": 3,
   "metadata": {
    "collapsed": true
   },
   "outputs": [],
   "source": [
    "data_path = 'data/nyc_taxi/trips_2016-05.csv'"
   ]
  },
  {
   "cell_type": "code",
   "execution_count": 4,
   "metadata": {
    "collapsed": false
   },
   "outputs": [
    {
     "data": {
      "text/html": [
       "<div>\n",
       "<table border=\"1\" class=\"dataframe\">\n",
       "  <thead>\n",
       "    <tr style=\"text-align: right;\">\n",
       "      <th></th>\n",
       "      <th>dayofweek</th>\n",
       "      <th>dlat</th>\n",
       "      <th>dlon</th>\n",
       "      <th>hour</th>\n",
       "      <th>minute</th>\n",
       "      <th>plat</th>\n",
       "      <th>plon</th>\n",
       "      <th>trip_distance</th>\n",
       "      <th>trip_time</th>\n",
       "    </tr>\n",
       "  </thead>\n",
       "  <tbody>\n",
       "    <tr>\n",
       "      <th>0</th>\n",
       "      <td>6</td>\n",
       "      <td>40.729668</td>\n",
       "      <td>-73.983788</td>\n",
       "      <td>0</td>\n",
       "      <td>0</td>\n",
       "      <td>40.768250</td>\n",
       "      <td>-73.985474</td>\n",
       "      <td>3.60</td>\n",
       "      <td>17.516666</td>\n",
       "    </tr>\n",
       "    <tr>\n",
       "      <th>1</th>\n",
       "      <td>6</td>\n",
       "      <td>40.744732</td>\n",
       "      <td>-73.980942</td>\n",
       "      <td>0</td>\n",
       "      <td>0</td>\n",
       "      <td>40.742039</td>\n",
       "      <td>-73.993431</td>\n",
       "      <td>1.09</td>\n",
       "      <td>7.016667</td>\n",
       "    </tr>\n",
       "    <tr>\n",
       "      <th>2</th>\n",
       "      <td>6</td>\n",
       "      <td>40.732506</td>\n",
       "      <td>-74.001831</td>\n",
       "      <td>0</td>\n",
       "      <td>0</td>\n",
       "      <td>40.684368</td>\n",
       "      <td>-73.992065</td>\n",
       "      <td>4.21</td>\n",
       "      <td>19.783333</td>\n",
       "    </tr>\n",
       "    <tr>\n",
       "      <th>3</th>\n",
       "      <td>6</td>\n",
       "      <td>40.737793</td>\n",
       "      <td>-73.997871</td>\n",
       "      <td>0</td>\n",
       "      <td>0</td>\n",
       "      <td>40.740585</td>\n",
       "      <td>-74.005615</td>\n",
       "      <td>0.56</td>\n",
       "      <td>6.650000</td>\n",
       "    </tr>\n",
       "    <tr>\n",
       "      <th>4</th>\n",
       "      <td>6</td>\n",
       "      <td>40.758312</td>\n",
       "      <td>-73.988319</td>\n",
       "      <td>0</td>\n",
       "      <td>0</td>\n",
       "      <td>40.755634</td>\n",
       "      <td>-73.980026</td>\n",
       "      <td>0.63</td>\n",
       "      <td>5.316667</td>\n",
       "    </tr>\n",
       "  </tbody>\n",
       "</table>\n",
       "</div>"
      ],
      "text/plain": [
       "   dayofweek       dlat       dlon  hour  minute       plat       plon  \\\n",
       "0          6  40.729668 -73.983788     0       0  40.768250 -73.985474   \n",
       "1          6  40.744732 -73.980942     0       0  40.742039 -73.993431   \n",
       "2          6  40.732506 -74.001831     0       0  40.684368 -73.992065   \n",
       "3          6  40.737793 -73.997871     0       0  40.740585 -74.005615   \n",
       "4          6  40.758312 -73.988319     0       0  40.755634 -73.980026   \n",
       "\n",
       "   trip_distance  trip_time  \n",
       "0           3.60  17.516666  \n",
       "1           1.09   7.016667  \n",
       "2           4.21  19.783333  \n",
       "3           0.56   6.650000  \n",
       "4           0.63   5.316667  "
      ]
     },
     "execution_count": 4,
     "metadata": {},
     "output_type": "execute_result"
    }
   ],
   "source": [
    "cols = ['dayofweek', 'hour', 'minute', 'plat', 'plon', 'dlat', 'dlon', 'trip_distance', 'trip_time']\n",
    "df = pd.read_csv(data_path, usecols=cols, dtype={key : np.float32 for key in cols})\n",
    "df.head()"
   ]
  },
  {
   "cell_type": "code",
   "execution_count": 5,
   "metadata": {
    "collapsed": false
   },
   "outputs": [],
   "source": [
    "# from engine.mapper.geohelper import distance_in_meters\n",
    "\n",
    "df['hour'] = df.hour + df.minute/60\n",
    "df = df.drop('minute', axis=1)\n",
    "df['trip_distance'] *= 1609.34\n",
    "# df['d'] = distance_in_meters(df.plat, df.plon, df.dlat, df.dlon).astype(int)"
   ]
  },
  {
   "cell_type": "code",
   "execution_count": 6,
   "metadata": {
    "collapsed": false
   },
   "outputs": [
    {
     "name": "stderr",
     "output_type": "stream",
     "text": [
      "/Users/odatakuma/anaconda/lib/python2.7/site-packages/sklearn/cross_validation.py:44: DeprecationWarning: This module was deprecated in version 0.18 in favor of the model_selection module into which all the refactored classes and functions are moved. Also note that the interface of the new CV iterators are different from that of this module. This module will be removed in 0.20.\n",
      "  \"This module will be removed in 0.20.\", DeprecationWarning)\n"
     ]
    },
    {
     "name": "stdout",
     "output_type": "stream",
     "text": [
      "(12806249, 7)\n"
     ]
    }
   ],
   "source": [
    "from sklearn.cross_validation import train_test_split\n",
    "\n",
    "X = df.drop('trip_time', axis=1).values\n",
    "y = df['trip_time'].values\n",
    "X_train, X_test, y_train, y_test = train_test_split(X, y, test_size=0.3, random_state=0)\n",
    "print X.shape"
   ]
  },
  {
   "cell_type": "code",
   "execution_count": 7,
   "metadata": {
    "collapsed": false
   },
   "outputs": [
    {
     "name": "stdout",
     "output_type": "stream",
     "text": [
      "RMSE train/val: 4.4 / 4.5\n",
      "CPU times: user 24min 36s, sys: 10.6 s, total: 24min 47s\n",
      "Wall time: 7min 46s\n"
     ]
    }
   ],
   "source": [
    "%%time\n",
    "from sklearn.ensemble import RandomForestRegressor\n",
    "\n",
    "forest = RandomForestRegressor(n_estimators=10, min_samples_split=5e-5, n_jobs=-1)\n",
    "forest.fit(X_train, y_train)\n",
    "rmse_train = np.sqrt(((y_train - forest.predict(X_train))**2).mean())\n",
    "rmse_test = np.sqrt(((y_test - forest.predict(X_test))**2).mean())\n",
    "print \"RMSE train/val: %.1f / %.1f\" % (rmse_train, rmse_test)"
   ]
  },
  {
   "cell_type": "code",
   "execution_count": 8,
   "metadata": {
    "collapsed": true
   },
   "outputs": [],
   "source": [
    "forest = RandomForestRegressor(n_estimators=10, min_samples_split=5e-5, n_jobs=-1)\n",
    "forest.fit(X, y)\n",
    "rmse = np.sqrt(((y - forest.predict(X))**2).mean())"
   ]
  },
  {
   "cell_type": "code",
   "execution_count": 9,
   "metadata": {
    "collapsed": false
   },
   "outputs": [
    {
     "data": {
      "text/plain": [
       "4.4777028541641029"
      ]
     },
     "execution_count": 9,
     "metadata": {},
     "output_type": "execute_result"
    }
   ],
   "source": [
    "rmse"
   ]
  },
  {
   "cell_type": "code",
   "execution_count": 10,
   "metadata": {
    "collapsed": true
   },
   "outputs": [],
   "source": [
    "path = 'data/pickle/triptime_predictor.pkl'"
   ]
  },
  {
   "cell_type": "code",
   "execution_count": 11,
   "metadata": {
    "collapsed": true
   },
   "outputs": [],
   "source": [
    "with open(path, 'wb') as f:\n",
    "    pickle.dump(forest, f)"
   ]
  },
  {
   "cell_type": "code",
   "execution_count": 12,
   "metadata": {
    "collapsed": true
   },
   "outputs": [],
   "source": [
    "with open(path, 'r') as f:\n",
    "    model = pickle.load(f)"
   ]
  },
  {
   "cell_type": "code",
   "execution_count": 13,
   "metadata": {
    "collapsed": false
   },
   "outputs": [
    {
     "data": {
      "text/html": [
       "<div>\n",
       "<table border=\"1\" class=\"dataframe\">\n",
       "  <thead>\n",
       "    <tr style=\"text-align: right;\">\n",
       "      <th></th>\n",
       "      <th>lat</th>\n",
       "      <th>lon</th>\n",
       "      <th>taxi_zone</th>\n",
       "      <th>x</th>\n",
       "      <th>y</th>\n",
       "      <th>road_density</th>\n",
       "      <th>intxn_density</th>\n",
       "    </tr>\n",
       "    <tr>\n",
       "      <th>geohash</th>\n",
       "      <th></th>\n",
       "      <th></th>\n",
       "      <th></th>\n",
       "      <th></th>\n",
       "      <th></th>\n",
       "      <th></th>\n",
       "      <th></th>\n",
       "    </tr>\n",
       "  </thead>\n",
       "  <tbody>\n",
       "    <tr>\n",
       "      <th>dr5qgxx</th>\n",
       "      <td>40.603358</td>\n",
       "      <td>-74.015682</td>\n",
       "      <td>10</td>\n",
       "      <td>2</td>\n",
       "      <td>0</td>\n",
       "      <td>32</td>\n",
       "      <td>35</td>\n",
       "    </tr>\n",
       "    <tr>\n",
       "      <th>dr5qgxy</th>\n",
       "      <td>40.604832</td>\n",
       "      <td>-74.017029</td>\n",
       "      <td>10</td>\n",
       "      <td>2</td>\n",
       "      <td>0</td>\n",
       "      <td>34</td>\n",
       "      <td>8</td>\n",
       "    </tr>\n",
       "    <tr>\n",
       "      <th>dr5qgxz</th>\n",
       "      <td>40.604637</td>\n",
       "      <td>-74.015335</td>\n",
       "      <td>10</td>\n",
       "      <td>2</td>\n",
       "      <td>0</td>\n",
       "      <td>0</td>\n",
       "      <td>0</td>\n",
       "    </tr>\n",
       "    <tr>\n",
       "      <th>dr5qgz5</th>\n",
       "      <td>40.600984</td>\n",
       "      <td>-74.009745</td>\n",
       "      <td>10</td>\n",
       "      <td>3</td>\n",
       "      <td>0</td>\n",
       "      <td>13</td>\n",
       "      <td>5</td>\n",
       "    </tr>\n",
       "    <tr>\n",
       "      <th>dr5qgz7</th>\n",
       "      <td>40.602178</td>\n",
       "      <td>-74.010322</td>\n",
       "      <td>10</td>\n",
       "      <td>3</td>\n",
       "      <td>0</td>\n",
       "      <td>28</td>\n",
       "      <td>9</td>\n",
       "    </tr>\n",
       "  </tbody>\n",
       "</table>\n",
       "</div>"
      ],
      "text/plain": [
       "               lat        lon  taxi_zone  x  y  road_density  intxn_density\n",
       "geohash                                                                    \n",
       "dr5qgxx  40.603358 -74.015682         10  2  0            32             35\n",
       "dr5qgxy  40.604832 -74.017029         10  2  0            34              8\n",
       "dr5qgxz  40.604637 -74.015335         10  2  0             0              0\n",
       "dr5qgz5  40.600984 -74.009745         10  3  0            13              5\n",
       "dr5qgz7  40.602178 -74.010322         10  3  0            28              9"
      ]
     },
     "execution_count": 13,
     "metadata": {},
     "output_type": "execute_result"
    }
   ],
   "source": [
    "geohash_table = pd.read_csv('data/table/zones.csv', index_col='geohash')\n",
    "geohash_table.head()"
   ]
  },
  {
   "cell_type": "code",
   "execution_count": 14,
   "metadata": {
    "collapsed": false
   },
   "outputs": [
    {
     "data": {
      "text/html": [
       "<div>\n",
       "<table border=\"1\" class=\"dataframe\">\n",
       "  <thead>\n",
       "    <tr style=\"text-align: right;\">\n",
       "      <th></th>\n",
       "      <th>lat</th>\n",
       "      <th>lon</th>\n",
       "    </tr>\n",
       "  </thead>\n",
       "  <tbody>\n",
       "    <tr>\n",
       "      <th>2</th>\n",
       "      <td>40.865157</td>\n",
       "      <td>-73.849539</td>\n",
       "    </tr>\n",
       "    <tr>\n",
       "      <th>3</th>\n",
       "      <td>40.724038</td>\n",
       "      <td>-73.977351</td>\n",
       "    </tr>\n",
       "    <tr>\n",
       "      <th>6</th>\n",
       "      <td>40.761465</td>\n",
       "      <td>-73.919690</td>\n",
       "    </tr>\n",
       "    <tr>\n",
       "      <th>7</th>\n",
       "      <td>40.778308</td>\n",
       "      <td>-73.923262</td>\n",
       "    </tr>\n",
       "    <tr>\n",
       "      <th>8</th>\n",
       "      <td>40.753034</td>\n",
       "      <td>-73.788619</td>\n",
       "    </tr>\n",
       "  </tbody>\n",
       "</table>\n",
       "</div>"
      ],
      "text/plain": [
       "         lat        lon\n",
       "2  40.865157 -73.849539\n",
       "3  40.724038 -73.977351\n",
       "6  40.761465 -73.919690\n",
       "7  40.778308 -73.923262\n",
       "8  40.753034 -73.788619"
      ]
     },
     "execution_count": 14,
     "metadata": {},
     "output_type": "execute_result"
    }
   ],
   "source": [
    "df = geohash_table.groupby('taxi_zone')[['lat', 'lon']].mean()\n",
    "taxi_zones = np.array(df.index).astype(int)\n",
    "df.index = taxi_zones\n",
    "df.head()"
   ]
  },
  {
   "cell_type": "code",
   "execution_count": null,
   "metadata": {
    "collapsed": true
   },
   "outputs": [],
   "source": []
  },
  {
   "cell_type": "code",
   "execution_count": 21,
   "metadata": {
    "collapsed": false
   },
   "outputs": [],
   "source": [
    "from engine.mapper.pathgenerator import PathGenerator\n",
    "\n",
    "GRAPH_PATH = 'data/pickle/nyc_network_graph.pkl'\n",
    "with open(GRAPH_PATH, 'r') as f:\n",
    "    G = pickle.load(f)\n",
    "    \n",
    "path_generator = PathGenerator(G)"
   ]
  },
  {
   "cell_type": "code",
   "execution_count": 43,
   "metadata": {
    "collapsed": false
   },
   "outputs": [],
   "source": [
    "locations = []\n",
    "for loc in df.values:\n",
    "    locations.append(path_generator.mm_convert(loc, georange=0.005))"
   ]
  },
  {
   "cell_type": "code",
   "execution_count": 46,
   "metadata": {
    "collapsed": false
   },
   "outputs": [
    {
     "data": {
      "text/html": [
       "<div>\n",
       "<table border=\"1\" class=\"dataframe\">\n",
       "  <thead>\n",
       "    <tr style=\"text-align: right;\">\n",
       "      <th></th>\n",
       "      <th>lat</th>\n",
       "      <th>lon</th>\n",
       "    </tr>\n",
       "  </thead>\n",
       "  <tbody>\n",
       "    <tr>\n",
       "      <th>2</th>\n",
       "      <td>40.865198</td>\n",
       "      <td>-73.849627</td>\n",
       "    </tr>\n",
       "    <tr>\n",
       "      <th>3</th>\n",
       "      <td>40.724197</td>\n",
       "      <td>-73.977234</td>\n",
       "    </tr>\n",
       "    <tr>\n",
       "      <th>6</th>\n",
       "      <td>40.761291</td>\n",
       "      <td>-73.919315</td>\n",
       "    </tr>\n",
       "    <tr>\n",
       "      <th>7</th>\n",
       "      <td>40.778923</td>\n",
       "      <td>-73.924125</td>\n",
       "    </tr>\n",
       "    <tr>\n",
       "      <th>8</th>\n",
       "      <td>40.753017</td>\n",
       "      <td>-73.788949</td>\n",
       "    </tr>\n",
       "  </tbody>\n",
       "</table>\n",
       "</div>"
      ],
      "text/plain": [
       "         lat        lon\n",
       "2  40.865198 -73.849627\n",
       "3  40.724197 -73.977234\n",
       "6  40.761291 -73.919315\n",
       "7  40.778923 -73.924125\n",
       "8  40.753017 -73.788949"
      ]
     },
     "execution_count": 46,
     "metadata": {},
     "output_type": "execute_result"
    }
   ],
   "source": [
    "df.loc[:, :] = locations\n",
    "df.head()"
   ]
  },
  {
   "cell_type": "code",
   "execution_count": 47,
   "metadata": {
    "collapsed": false
   },
   "outputs": [
    {
     "data": {
      "text/html": [
       "<div>\n",
       "<table border=\"1\" class=\"dataframe\">\n",
       "  <thead>\n",
       "    <tr style=\"text-align: right;\">\n",
       "      <th></th>\n",
       "      <th>plat</th>\n",
       "      <th>plon</th>\n",
       "      <th>dlat</th>\n",
       "      <th>dlon</th>\n",
       "    </tr>\n",
       "  </thead>\n",
       "  <tbody>\n",
       "    <tr>\n",
       "      <th>(2, 2)</th>\n",
       "      <td>40.865198</td>\n",
       "      <td>-73.849627</td>\n",
       "      <td>40.865198</td>\n",
       "      <td>-73.849627</td>\n",
       "    </tr>\n",
       "    <tr>\n",
       "      <th>(2, 3)</th>\n",
       "      <td>40.865198</td>\n",
       "      <td>-73.849627</td>\n",
       "      <td>40.724197</td>\n",
       "      <td>-73.977234</td>\n",
       "    </tr>\n",
       "    <tr>\n",
       "      <th>(2, 6)</th>\n",
       "      <td>40.865198</td>\n",
       "      <td>-73.849627</td>\n",
       "      <td>40.761291</td>\n",
       "      <td>-73.919315</td>\n",
       "    </tr>\n",
       "    <tr>\n",
       "      <th>(2, 7)</th>\n",
       "      <td>40.865198</td>\n",
       "      <td>-73.849627</td>\n",
       "      <td>40.778923</td>\n",
       "      <td>-73.924125</td>\n",
       "    </tr>\n",
       "    <tr>\n",
       "      <th>(2, 8)</th>\n",
       "      <td>40.865198</td>\n",
       "      <td>-73.849627</td>\n",
       "      <td>40.753017</td>\n",
       "      <td>-73.788949</td>\n",
       "    </tr>\n",
       "  </tbody>\n",
       "</table>\n",
       "</div>"
      ],
      "text/plain": [
       "             plat       plon       dlat       dlon\n",
       "(2, 2)  40.865198 -73.849627  40.865198 -73.849627\n",
       "(2, 3)  40.865198 -73.849627  40.724197 -73.977234\n",
       "(2, 6)  40.865198 -73.849627  40.761291 -73.919315\n",
       "(2, 7)  40.865198 -73.849627  40.778923 -73.924125\n",
       "(2, 8)  40.865198 -73.849627  40.753017 -73.788949"
      ]
     },
     "execution_count": 47,
     "metadata": {},
     "output_type": "execute_result"
    }
   ],
   "source": [
    "data = pd.DataFrame(index=[(p, d) for p in taxi_zones for d in taxi_zones], columns=['plat', 'plon', 'dlat', 'dlon'])\n",
    "data.loc[[(p, d) for p in taxi_zones for d in taxi_zones], :] = [(plat, plon, dlat, dlon) for plat, plon in df.values\n",
    "                                                           for dlat, dlon in df.values]\n",
    "data.head()"
   ]
  },
  {
   "cell_type": "code",
   "execution_count": null,
   "metadata": {
    "collapsed": false
   },
   "outputs": [
    {
     "name": "stdout",
     "output_type": "stream",
     "text": [
      "2\n",
      "3\n",
      "6\n",
      "7\n",
      "8\n",
      "9\n",
      "10\n",
      "11\n",
      "12\n",
      "13\n",
      "14\n",
      "15\n",
      "16\n",
      "17\n",
      "19\n",
      "20\n",
      "21\n",
      "23\n",
      "24\n",
      "25\n",
      "27\n",
      "29\n",
      "30\n",
      "31\n",
      "32\n",
      "33\n",
      "34\n",
      "35\n",
      "36\n",
      "38\n",
      "39\n",
      "40\n",
      "41\n",
      "42\n",
      "44\n",
      "45\n",
      "46\n",
      "47\n",
      "48\n",
      "49\n",
      "50\n",
      "51\n",
      "52\n",
      "53\n",
      "55\n",
      "56\n",
      "57\n",
      "58\n",
      "59\n",
      "60\n",
      "61\n",
      "62\n",
      "63\n"
     ]
    }
   ],
   "source": [
    "data['distance'] = 0\n",
    "\n",
    "for s in taxi_zones:\n",
    "    print s\n",
    "    for plat, plon, dlat, dlon in data.loc[[(s, t) for t in taxi_zones if t > s], ['plat', 'plon', 'dlat', 'dlon']].values:\n",
    "        _, d, _, _ = path_generator.map_matching_shortest_path((plat, plon), (dlat, dlon))\n",
    "        data.loc[(s, t), 'distance'] = d\n",
    "        data.loc[(t, s), 'distance'] = d    "
   ]
  },
  {
   "cell_type": "code",
   "execution_count": null,
   "metadata": {
    "collapsed": true
   },
   "outputs": [],
   "source": [
    "data['dayofweek'] = 0\n",
    "data['hour'] = 0"
   ]
  },
  {
   "cell_type": "code",
   "execution_count": 17,
   "metadata": {
    "collapsed": false
   },
   "outputs": [
    {
     "name": "stdout",
     "output_type": "stream",
     "text": [
      "CPU times: user 47.8 s, sys: 5.64 s, total: 53.5 s\n",
      "Wall time: 1min 12s\n"
     ]
    }
   ],
   "source": [
    "%%time\n",
    "taxi_zones = df.index\n",
    "nzones = len(taxi_zones)\n",
    "df_od = pd.DataFrame(index=[(d, h, z) for d in range(7) for h in range(24) for z in taxi_zones],\n",
    "                    columns=taxi_zones)\n",
    "\n",
    "for d in range(7):\n",
    "    for h in range(24):\n",
    "        df_od.loc[[(d, h, z) for z in taxi_zones], :] = model.predict(data.values).reshape((nzones, nzones))\n",
    "df_od.head()"
   ]
  },
  {
   "cell_type": "code",
   "execution_count": 18,
   "metadata": {
    "collapsed": false
   },
   "outputs": [
    {
     "data": {
      "text/html": [
       "<div>\n",
       "<table border=\"1\" class=\"dataframe\">\n",
       "  <thead>\n",
       "    <tr style=\"text-align: right;\">\n",
       "      <th></th>\n",
       "      <th>2</th>\n",
       "      <th>3</th>\n",
       "      <th>6</th>\n",
       "      <th>7</th>\n",
       "      <th>8</th>\n",
       "      <th>9</th>\n",
       "      <th>10</th>\n",
       "      <th>11</th>\n",
       "      <th>12</th>\n",
       "      <th>13</th>\n",
       "      <th>...</th>\n",
       "      <th>253</th>\n",
       "      <th>254</th>\n",
       "      <th>255</th>\n",
       "      <th>256</th>\n",
       "      <th>257</th>\n",
       "      <th>258</th>\n",
       "      <th>259</th>\n",
       "      <th>260</th>\n",
       "      <th>261</th>\n",
       "      <th>262</th>\n",
       "    </tr>\n",
       "  </thead>\n",
       "  <tbody>\n",
       "    <tr>\n",
       "      <th>(0, 0, 2)</th>\n",
       "      <td>2.55275</td>\n",
       "      <td>42.6926</td>\n",
       "      <td>21.5766</td>\n",
       "      <td>21.5766</td>\n",
       "      <td>38.4125</td>\n",
       "      <td>42.6926</td>\n",
       "      <td>42.6926</td>\n",
       "      <td>42.6926</td>\n",
       "      <td>42.6926</td>\n",
       "      <td>42.6926</td>\n",
       "      <td>...</td>\n",
       "      <td>13.1721</td>\n",
       "      <td>42.6926</td>\n",
       "      <td>42.6926</td>\n",
       "      <td>42.6926</td>\n",
       "      <td>42.6926</td>\n",
       "      <td>9.56938</td>\n",
       "      <td>42.6926</td>\n",
       "      <td>42.6926</td>\n",
       "      <td>21.5766</td>\n",
       "      <td>21.5766</td>\n",
       "    </tr>\n",
       "    <tr>\n",
       "      <th>(0, 0, 3)</th>\n",
       "      <td>42.6926</td>\n",
       "      <td>2.55275</td>\n",
       "      <td>16.2724</td>\n",
       "      <td>16.2724</td>\n",
       "      <td>42.6926</td>\n",
       "      <td>42.6926</td>\n",
       "      <td>21.5766</td>\n",
       "      <td>11.8605</td>\n",
       "      <td>9.56938</td>\n",
       "      <td>21.5766</td>\n",
       "      <td>...</td>\n",
       "      <td>42.6926</td>\n",
       "      <td>24.8653</td>\n",
       "      <td>13.1721</td>\n",
       "      <td>16.2724</td>\n",
       "      <td>21.1889</td>\n",
       "      <td>42.6926</td>\n",
       "      <td>16.2724</td>\n",
       "      <td>9.56938</td>\n",
       "      <td>16.2724</td>\n",
       "      <td>16.2724</td>\n",
       "    </tr>\n",
       "    <tr>\n",
       "      <th>(0, 0, 6)</th>\n",
       "      <td>21.5766</td>\n",
       "      <td>16.2724</td>\n",
       "      <td>2.55275</td>\n",
       "      <td>22.4842</td>\n",
       "      <td>21.1889</td>\n",
       "      <td>42.6926</td>\n",
       "      <td>42.6926</td>\n",
       "      <td>17.9982</td>\n",
       "      <td>17.9982</td>\n",
       "      <td>42.6926</td>\n",
       "      <td>...</td>\n",
       "      <td>42.6926</td>\n",
       "      <td>13.8266</td>\n",
       "      <td>16.2724</td>\n",
       "      <td>21.5766</td>\n",
       "      <td>17.9982</td>\n",
       "      <td>42.6926</td>\n",
       "      <td>13.1721</td>\n",
       "      <td>17.9982</td>\n",
       "      <td>8.59998</td>\n",
       "      <td>9.56938</td>\n",
       "    </tr>\n",
       "    <tr>\n",
       "      <th>(0, 0, 7)</th>\n",
       "      <td>21.5766</td>\n",
       "      <td>16.2724</td>\n",
       "      <td>22.4842</td>\n",
       "      <td>2.55275</td>\n",
       "      <td>21.5766</td>\n",
       "      <td>42.6926</td>\n",
       "      <td>42.6926</td>\n",
       "      <td>21.5766</td>\n",
       "      <td>20.4383</td>\n",
       "      <td>42.6926</td>\n",
       "      <td>...</td>\n",
       "      <td>21.5766</td>\n",
       "      <td>16.2724</td>\n",
       "      <td>16.2724</td>\n",
       "      <td>42.6926</td>\n",
       "      <td>21.5766</td>\n",
       "      <td>42.6926</td>\n",
       "      <td>11.8605</td>\n",
       "      <td>20.4383</td>\n",
       "      <td>13.1721</td>\n",
       "      <td>14.9456</td>\n",
       "    </tr>\n",
       "    <tr>\n",
       "      <th>(0, 0, 8)</th>\n",
       "      <td>38.4125</td>\n",
       "      <td>42.6926</td>\n",
       "      <td>21.1889</td>\n",
       "      <td>21.5766</td>\n",
       "      <td>2.55275</td>\n",
       "      <td>16.2724</td>\n",
       "      <td>42.6926</td>\n",
       "      <td>42.6926</td>\n",
       "      <td>42.6926</td>\n",
       "      <td>42.6926</td>\n",
       "      <td>...</td>\n",
       "      <td>42.6926</td>\n",
       "      <td>42.6926</td>\n",
       "      <td>42.6926</td>\n",
       "      <td>42.6926</td>\n",
       "      <td>17.9982</td>\n",
       "      <td>42.6926</td>\n",
       "      <td>17.9982</td>\n",
       "      <td>42.6926</td>\n",
       "      <td>38.4125</td>\n",
       "      <td>42.6926</td>\n",
       "    </tr>\n",
       "  </tbody>\n",
       "</table>\n",
       "<p>5 rows × 226 columns</p>\n",
       "</div>"
      ],
      "text/plain": [
       "               2        3        6        7        8        9        10   \\\n",
       "(0, 0, 2)  2.55275  42.6926  21.5766  21.5766  38.4125  42.6926  42.6926   \n",
       "(0, 0, 3)  42.6926  2.55275  16.2724  16.2724  42.6926  42.6926  21.5766   \n",
       "(0, 0, 6)  21.5766  16.2724  2.55275  22.4842  21.1889  42.6926  42.6926   \n",
       "(0, 0, 7)  21.5766  16.2724  22.4842  2.55275  21.5766  42.6926  42.6926   \n",
       "(0, 0, 8)  38.4125  42.6926  21.1889  21.5766  2.55275  16.2724  42.6926   \n",
       "\n",
       "               11       12       13    ...         253      254      255  \\\n",
       "(0, 0, 2)  42.6926  42.6926  42.6926   ...     13.1721  42.6926  42.6926   \n",
       "(0, 0, 3)  11.8605  9.56938  21.5766   ...     42.6926  24.8653  13.1721   \n",
       "(0, 0, 6)  17.9982  17.9982  42.6926   ...     42.6926  13.8266  16.2724   \n",
       "(0, 0, 7)  21.5766  20.4383  42.6926   ...     21.5766  16.2724  16.2724   \n",
       "(0, 0, 8)  42.6926  42.6926  42.6926   ...     42.6926  42.6926  42.6926   \n",
       "\n",
       "               256      257      258      259      260      261      262  \n",
       "(0, 0, 2)  42.6926  42.6926  9.56938  42.6926  42.6926  21.5766  21.5766  \n",
       "(0, 0, 3)  16.2724  21.1889  42.6926  16.2724  9.56938  16.2724  16.2724  \n",
       "(0, 0, 6)  21.5766  17.9982  42.6926  13.1721  17.9982  8.59998  9.56938  \n",
       "(0, 0, 7)  42.6926  21.5766  42.6926  11.8605  20.4383  13.1721  14.9456  \n",
       "(0, 0, 8)  42.6926  17.9982  42.6926  17.9982  42.6926  38.4125  42.6926  \n",
       "\n",
       "[5 rows x 226 columns]"
      ]
     },
     "execution_count": 18,
     "metadata": {},
     "output_type": "execute_result"
    }
   ],
   "source": [
    "df_od.head()"
   ]
  },
  {
   "cell_type": "code",
   "execution_count": 19,
   "metadata": {
    "collapsed": false
   },
   "outputs": [
    {
     "data": {
      "text/html": [
       "<div>\n",
       "<table border=\"1\" class=\"dataframe\">\n",
       "  <thead>\n",
       "    <tr style=\"text-align: right;\">\n",
       "      <th></th>\n",
       "      <th></th>\n",
       "      <th></th>\n",
       "      <th>2</th>\n",
       "      <th>3</th>\n",
       "      <th>6</th>\n",
       "      <th>7</th>\n",
       "      <th>8</th>\n",
       "      <th>9</th>\n",
       "      <th>10</th>\n",
       "      <th>11</th>\n",
       "      <th>12</th>\n",
       "      <th>13</th>\n",
       "      <th>...</th>\n",
       "      <th>253</th>\n",
       "      <th>254</th>\n",
       "      <th>255</th>\n",
       "      <th>256</th>\n",
       "      <th>257</th>\n",
       "      <th>258</th>\n",
       "      <th>259</th>\n",
       "      <th>260</th>\n",
       "      <th>261</th>\n",
       "      <th>262</th>\n",
       "    </tr>\n",
       "    <tr>\n",
       "      <th>dayofweek</th>\n",
       "      <th>hour</th>\n",
       "      <th>pickup_zone</th>\n",
       "      <th></th>\n",
       "      <th></th>\n",
       "      <th></th>\n",
       "      <th></th>\n",
       "      <th></th>\n",
       "      <th></th>\n",
       "      <th></th>\n",
       "      <th></th>\n",
       "      <th></th>\n",
       "      <th></th>\n",
       "      <th></th>\n",
       "      <th></th>\n",
       "      <th></th>\n",
       "      <th></th>\n",
       "      <th></th>\n",
       "      <th></th>\n",
       "      <th></th>\n",
       "      <th></th>\n",
       "      <th></th>\n",
       "      <th></th>\n",
       "      <th></th>\n",
       "    </tr>\n",
       "  </thead>\n",
       "  <tbody>\n",
       "    <tr>\n",
       "      <th rowspan=\"5\" valign=\"top\">0</th>\n",
       "      <th rowspan=\"5\" valign=\"top\">0</th>\n",
       "      <th>2</th>\n",
       "      <td>2.55275</td>\n",
       "      <td>42.6926</td>\n",
       "      <td>21.5766</td>\n",
       "      <td>21.5766</td>\n",
       "      <td>38.4125</td>\n",
       "      <td>42.6926</td>\n",
       "      <td>42.6926</td>\n",
       "      <td>42.6926</td>\n",
       "      <td>42.6926</td>\n",
       "      <td>42.6926</td>\n",
       "      <td>...</td>\n",
       "      <td>13.1721</td>\n",
       "      <td>42.6926</td>\n",
       "      <td>42.6926</td>\n",
       "      <td>42.6926</td>\n",
       "      <td>42.6926</td>\n",
       "      <td>9.56938</td>\n",
       "      <td>42.6926</td>\n",
       "      <td>42.6926</td>\n",
       "      <td>21.5766</td>\n",
       "      <td>21.5766</td>\n",
       "    </tr>\n",
       "    <tr>\n",
       "      <th>3</th>\n",
       "      <td>42.6926</td>\n",
       "      <td>2.55275</td>\n",
       "      <td>16.2724</td>\n",
       "      <td>16.2724</td>\n",
       "      <td>42.6926</td>\n",
       "      <td>42.6926</td>\n",
       "      <td>21.5766</td>\n",
       "      <td>11.8605</td>\n",
       "      <td>9.56938</td>\n",
       "      <td>21.5766</td>\n",
       "      <td>...</td>\n",
       "      <td>42.6926</td>\n",
       "      <td>24.8653</td>\n",
       "      <td>13.1721</td>\n",
       "      <td>16.2724</td>\n",
       "      <td>21.1889</td>\n",
       "      <td>42.6926</td>\n",
       "      <td>16.2724</td>\n",
       "      <td>9.56938</td>\n",
       "      <td>16.2724</td>\n",
       "      <td>16.2724</td>\n",
       "    </tr>\n",
       "    <tr>\n",
       "      <th>6</th>\n",
       "      <td>21.5766</td>\n",
       "      <td>16.2724</td>\n",
       "      <td>2.55275</td>\n",
       "      <td>22.4842</td>\n",
       "      <td>21.1889</td>\n",
       "      <td>42.6926</td>\n",
       "      <td>42.6926</td>\n",
       "      <td>17.9982</td>\n",
       "      <td>17.9982</td>\n",
       "      <td>42.6926</td>\n",
       "      <td>...</td>\n",
       "      <td>42.6926</td>\n",
       "      <td>13.8266</td>\n",
       "      <td>16.2724</td>\n",
       "      <td>21.5766</td>\n",
       "      <td>17.9982</td>\n",
       "      <td>42.6926</td>\n",
       "      <td>13.1721</td>\n",
       "      <td>17.9982</td>\n",
       "      <td>8.59998</td>\n",
       "      <td>9.56938</td>\n",
       "    </tr>\n",
       "    <tr>\n",
       "      <th>7</th>\n",
       "      <td>21.5766</td>\n",
       "      <td>16.2724</td>\n",
       "      <td>22.4842</td>\n",
       "      <td>2.55275</td>\n",
       "      <td>21.5766</td>\n",
       "      <td>42.6926</td>\n",
       "      <td>42.6926</td>\n",
       "      <td>21.5766</td>\n",
       "      <td>20.4383</td>\n",
       "      <td>42.6926</td>\n",
       "      <td>...</td>\n",
       "      <td>21.5766</td>\n",
       "      <td>16.2724</td>\n",
       "      <td>16.2724</td>\n",
       "      <td>42.6926</td>\n",
       "      <td>21.5766</td>\n",
       "      <td>42.6926</td>\n",
       "      <td>11.8605</td>\n",
       "      <td>20.4383</td>\n",
       "      <td>13.1721</td>\n",
       "      <td>14.9456</td>\n",
       "    </tr>\n",
       "    <tr>\n",
       "      <th>8</th>\n",
       "      <td>38.4125</td>\n",
       "      <td>42.6926</td>\n",
       "      <td>21.1889</td>\n",
       "      <td>21.5766</td>\n",
       "      <td>2.55275</td>\n",
       "      <td>16.2724</td>\n",
       "      <td>42.6926</td>\n",
       "      <td>42.6926</td>\n",
       "      <td>42.6926</td>\n",
       "      <td>42.6926</td>\n",
       "      <td>...</td>\n",
       "      <td>42.6926</td>\n",
       "      <td>42.6926</td>\n",
       "      <td>42.6926</td>\n",
       "      <td>42.6926</td>\n",
       "      <td>17.9982</td>\n",
       "      <td>42.6926</td>\n",
       "      <td>17.9982</td>\n",
       "      <td>42.6926</td>\n",
       "      <td>38.4125</td>\n",
       "      <td>42.6926</td>\n",
       "    </tr>\n",
       "  </tbody>\n",
       "</table>\n",
       "<p>5 rows × 226 columns</p>\n",
       "</div>"
      ],
      "text/plain": [
       "                                2        3        6        7        8    \\\n",
       "dayofweek hour pickup_zone                                                \n",
       "0         0    2            2.55275  42.6926  21.5766  21.5766  38.4125   \n",
       "               3            42.6926  2.55275  16.2724  16.2724  42.6926   \n",
       "               6            21.5766  16.2724  2.55275  22.4842  21.1889   \n",
       "               7            21.5766  16.2724  22.4842  2.55275  21.5766   \n",
       "               8            38.4125  42.6926  21.1889  21.5766  2.55275   \n",
       "\n",
       "                                9        10       11       12       13   \\\n",
       "dayofweek hour pickup_zone                                                \n",
       "0         0    2            42.6926  42.6926  42.6926  42.6926  42.6926   \n",
       "               3            42.6926  21.5766  11.8605  9.56938  21.5766   \n",
       "               6            42.6926  42.6926  17.9982  17.9982  42.6926   \n",
       "               7            42.6926  42.6926  21.5766  20.4383  42.6926   \n",
       "               8            16.2724  42.6926  42.6926  42.6926  42.6926   \n",
       "\n",
       "                             ...         253      254      255      256  \\\n",
       "dayofweek hour pickup_zone   ...                                          \n",
       "0         0    2             ...     13.1721  42.6926  42.6926  42.6926   \n",
       "               3             ...     42.6926  24.8653  13.1721  16.2724   \n",
       "               6             ...     42.6926  13.8266  16.2724  21.5766   \n",
       "               7             ...     21.5766  16.2724  16.2724  42.6926   \n",
       "               8             ...     42.6926  42.6926  42.6926  42.6926   \n",
       "\n",
       "                                257      258      259      260      261  \\\n",
       "dayofweek hour pickup_zone                                                \n",
       "0         0    2            42.6926  9.56938  42.6926  42.6926  21.5766   \n",
       "               3            21.1889  42.6926  16.2724  9.56938  16.2724   \n",
       "               6            17.9982  42.6926  13.1721  17.9982  8.59998   \n",
       "               7            21.5766  42.6926  11.8605  20.4383  13.1721   \n",
       "               8            17.9982  42.6926  17.9982  42.6926  38.4125   \n",
       "\n",
       "                                262  \n",
       "dayofweek hour pickup_zone           \n",
       "0         0    2            21.5766  \n",
       "               3            16.2724  \n",
       "               6            9.56938  \n",
       "               7            14.9456  \n",
       "               8            42.6926  \n",
       "\n",
       "[5 rows x 226 columns]"
      ]
     },
     "execution_count": 19,
     "metadata": {},
     "output_type": "execute_result"
    }
   ],
   "source": [
    "for key in ['dayofweek', 'hour', 'pickup_zone']:\n",
    "    df_od[key] = 0\n",
    "df_od.loc[:, ['dayofweek', 'hour', 'pickup_zone']] = list(df_od.index)\n",
    "df_od = df_od.reset_index().drop('index', axis=1)\n",
    "df_od = df_od.set_index(['dayofweek', 'hour', 'pickup_zone'])\n",
    "df_od.head()"
   ]
  },
  {
   "cell_type": "code",
   "execution_count": 20,
   "metadata": {
    "collapsed": false
   },
   "outputs": [
    {
     "name": "stdout",
     "output_type": "stream",
     "text": [
      "<class 'pandas.core.frame.DataFrame'>\n",
      "MultiIndex: 37968 entries, (0, 0, 2) to (6, 23, 262)\n",
      "Columns: 226 entries, 2 to 262\n",
      "dtypes: object(226)\n",
      "memory usage: 65.8+ MB\n"
     ]
    }
   ],
   "source": [
    "df_od.info()"
   ]
  },
  {
   "cell_type": "code",
   "execution_count": 21,
   "metadata": {
    "collapsed": true
   },
   "outputs": [],
   "source": [
    "df_od.to_csv('data/table/eta.csv')"
   ]
  },
  {
   "cell_type": "code",
   "execution_count": null,
   "metadata": {
    "collapsed": true
   },
   "outputs": [],
   "source": []
  }
 ],
 "metadata": {
  "kernelspec": {
   "display_name": "Python 2",
   "language": "python",
   "name": "python2"
  },
  "language_info": {
   "codemirror_mode": {
    "name": "ipython",
    "version": 2
   },
   "file_extension": ".py",
   "mimetype": "text/x-python",
   "name": "python",
   "nbconvert_exporter": "python",
   "pygments_lexer": "ipython2",
   "version": "2.7.9"
  }
 },
 "nbformat": 4,
 "nbformat_minor": 0
}
