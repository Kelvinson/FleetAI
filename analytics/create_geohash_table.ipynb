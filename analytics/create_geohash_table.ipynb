{
 "cells": [
  {
   "cell_type": "code",
   "execution_count": 2,
   "metadata": {
    "collapsed": false
   },
   "outputs": [],
   "source": [
    "%load_ext autoreload\n",
    "%autoreload 2\n",
    "import numpy as np\n",
    "import pandas as pd\n",
    "import matplotlib\n",
    "%matplotlib inline\n",
    "import matplotlib.pyplot as plt\n",
    "plt.style.use('ggplot')"
   ]
  },
  {
   "cell_type": "code",
   "execution_count": 3,
   "metadata": {
    "collapsed": false
   },
   "outputs": [
    {
     "name": "stdout",
     "output_type": "stream",
     "text": [
      "/Users/odatakuma/cmu/FleetAI\n"
     ]
    }
   ],
   "source": [
    "cd .."
   ]
  },
  {
   "cell_type": "code",
   "execution_count": 3,
   "metadata": {
    "collapsed": true
   },
   "outputs": [],
   "source": [
    "GREEN_PATH = 'data/nyc_taxi/trips/green_tripdata_2016-05.csv'\n",
    "YELLOW_PATH = 'data/nyc_taxi/trips/yellow_tripdata_2016-05.csv'\n",
    "OUTPUT_PATH = 'data/nyc_taxi/trips/tripdata_2016-05.csv'"
   ]
  },
  {
   "cell_type": "code",
   "execution_count": 8,
   "metadata": {
    "collapsed": false
   },
   "outputs": [
    {
     "name": "stdout",
     "output_type": "stream",
     "text": [
      "Loading data\n",
      "Cleaning data\n",
      "Geohashing\n"
     ]
    }
   ],
   "source": [
    "from analytics.preprocess import create_dataset\n",
    "\n",
    "df = create_dataset(GREEN_PATH, YELLOW_PATH)\n",
    "df.to_csv(OUTPUT_PATH, index=False)"
   ]
  },
  {
   "cell_type": "code",
   "execution_count": 5,
   "metadata": {
    "collapsed": false
   },
   "outputs": [
    {
     "data": {
      "text/html": [
       "<div>\n",
       "<table border=\"1\" class=\"dataframe\">\n",
       "  <thead>\n",
       "    <tr style=\"text-align: right;\">\n",
       "      <th></th>\n",
       "      <th>total_pickup</th>\n",
       "      <th>total_dropoff</th>\n",
       "    </tr>\n",
       "  </thead>\n",
       "  <tbody>\n",
       "    <tr>\n",
       "      <th>dr5qgru</th>\n",
       "      <td>0</td>\n",
       "      <td>1</td>\n",
       "    </tr>\n",
       "    <tr>\n",
       "      <th>dr5qgrv</th>\n",
       "      <td>0</td>\n",
       "      <td>2</td>\n",
       "    </tr>\n",
       "    <tr>\n",
       "      <th>dr5qgry</th>\n",
       "      <td>0</td>\n",
       "      <td>1</td>\n",
       "    </tr>\n",
       "    <tr>\n",
       "      <th>dr5qgxm</th>\n",
       "      <td>0</td>\n",
       "      <td>1</td>\n",
       "    </tr>\n",
       "    <tr>\n",
       "      <th>dr5qgxs</th>\n",
       "      <td>0</td>\n",
       "      <td>2</td>\n",
       "    </tr>\n",
       "  </tbody>\n",
       "</table>\n",
       "</div>"
      ],
      "text/plain": [
       "         total_pickup  total_dropoff\n",
       "dr5qgru             0              1\n",
       "dr5qgrv             0              2\n",
       "dr5qgry             0              1\n",
       "dr5qgxm             0              1\n",
       "dr5qgxs             0              2"
      ]
     },
     "execution_count": 5,
     "metadata": {},
     "output_type": "execute_result"
    }
   ],
   "source": [
    "df = pd.read_csv(OUTPUT_PATH, usecols=['phash', 'dhash'])\n",
    "pickup = df.groupby(['phash']).phash.count()\n",
    "dropoff = df.groupby(['dhash']).dhash.count()\n",
    "geohash_table = pd.concat([pickup, dropoff], axis=1).fillna(0)\n",
    "geohash_table = geohash_table.rename(columns={\n",
    "    'phash':'total_pickup',\n",
    "    'dhash':'total_dropoff'\n",
    "})\n",
    "geohash_table.head()"
   ]
  },
  {
   "cell_type": "code",
   "execution_count": 6,
   "metadata": {
    "collapsed": false
   },
   "outputs": [
    {
     "data": {
      "text/plain": [
       "(28655, 2)"
      ]
     },
     "execution_count": 6,
     "metadata": {},
     "output_type": "execute_result"
    }
   ],
   "source": [
    "geohash_table.shape"
   ]
  },
  {
   "cell_type": "code",
   "execution_count": 7,
   "metadata": {
    "collapsed": false
   },
   "outputs": [
    {
     "data": {
      "text/html": [
       "<div>\n",
       "<table border=\"1\" class=\"dataframe\">\n",
       "  <thead>\n",
       "    <tr style=\"text-align: right;\">\n",
       "      <th></th>\n",
       "      <th>geohash</th>\n",
       "      <th>total_pickup</th>\n",
       "      <th>total_dropoff</th>\n",
       "      <th>lat</th>\n",
       "      <th>lon</th>\n",
       "    </tr>\n",
       "  </thead>\n",
       "  <tbody>\n",
       "    <tr>\n",
       "      <th>0</th>\n",
       "      <td>dr5qgru</td>\n",
       "      <td>0</td>\n",
       "      <td>1</td>\n",
       "      <td>40.604782</td>\n",
       "      <td>-74.030685</td>\n",
       "    </tr>\n",
       "    <tr>\n",
       "      <th>1</th>\n",
       "      <td>dr5qgrv</td>\n",
       "      <td>0</td>\n",
       "      <td>2</td>\n",
       "      <td>40.604782</td>\n",
       "      <td>-74.029312</td>\n",
       "    </tr>\n",
       "    <tr>\n",
       "      <th>2</th>\n",
       "      <td>dr5qgry</td>\n",
       "      <td>0</td>\n",
       "      <td>1</td>\n",
       "      <td>40.604782</td>\n",
       "      <td>-74.027939</td>\n",
       "    </tr>\n",
       "    <tr>\n",
       "      <th>3</th>\n",
       "      <td>dr5qgxm</td>\n",
       "      <td>0</td>\n",
       "      <td>1</td>\n",
       "      <td>40.602036</td>\n",
       "      <td>-74.018326</td>\n",
       "    </tr>\n",
       "    <tr>\n",
       "      <th>4</th>\n",
       "      <td>dr5qgxs</td>\n",
       "      <td>0</td>\n",
       "      <td>2</td>\n",
       "      <td>40.603409</td>\n",
       "      <td>-74.019699</td>\n",
       "    </tr>\n",
       "  </tbody>\n",
       "</table>\n",
       "</div>"
      ],
      "text/plain": [
       "   geohash  total_pickup  total_dropoff        lat        lon\n",
       "0  dr5qgru             0              1  40.604782 -74.030685\n",
       "1  dr5qgrv             0              2  40.604782 -74.029312\n",
       "2  dr5qgry             0              1  40.604782 -74.027939\n",
       "3  dr5qgxm             0              1  40.602036 -74.018326\n",
       "4  dr5qgxs             0              2  40.603409 -74.019699"
      ]
     },
     "execution_count": 7,
     "metadata": {},
     "output_type": "execute_result"
    }
   ],
   "source": [
    "import Geohash\n",
    "\n",
    "geolats = []\n",
    "geolons = []\n",
    "for g in geohash_table.index:\n",
    "    lat, lon, _, _ = Geohash.decode_exactly(g)\n",
    "    geolats.append(float(lat))\n",
    "    geolons.append(float(lon))\n",
    "geohash_table['lat'] = geolats\n",
    "geohash_table['lon'] = geolons\n",
    "geohash_table = geohash_table.reset_index().rename(columns={'index':'geohash'})\n",
    "geohash_table.head()"
   ]
  },
  {
   "cell_type": "code",
   "execution_count": 8,
   "metadata": {
    "collapsed": false
   },
   "outputs": [],
   "source": [
    "import cPickle as pickle\n",
    "# import engine.mapper.geohelper as gh\n",
    "from engine.mapper.pathgenerator import PathGenerator\n",
    "\n",
    "graph_path = 'data/pickle/nyc_network_graph.pkl'\n",
    "with open(graph_path, 'r') as f:\n",
    "    G = pickle.load(f)\n",
    "\n",
    "path_generator = PathGenerator(G)"
   ]
  },
  {
   "cell_type": "code",
   "execution_count": 9,
   "metadata": {
    "collapsed": false
   },
   "outputs": [
    {
     "data": {
      "text/plain": [
       "28242"
      ]
     },
     "execution_count": 9,
     "metadata": {},
     "output_type": "execute_result"
    }
   ],
   "source": [
    "import Geohash\n",
    "\n",
    "geohash_table['mlat'] = 0\n",
    "geohash_table['mlon'] = 0\n",
    "geohash_table['mgeohash'] = ''\n",
    "r = 0.003\n",
    "for i, (lat, lon) in geohash_table[['lat', 'lon']].iterrows():\n",
    "    try:\n",
    "        mlat, mlon = path_generator.mm_convert((lat, lon), georange=r)\n",
    "        geohash_table.loc[i, ['mlat', 'mlon']] = mlat, mlon\n",
    "        geohash_table.loc[i, 'mgeohash'] = Geohash.encode(mlat, mlon, 7)\n",
    "    except:\n",
    "        continue\n",
    "        \n",
    "len(geohash_table[geohash_table.mlat!=0])"
   ]
  },
  {
   "cell_type": "code",
   "execution_count": 10,
   "metadata": {
    "collapsed": true
   },
   "outputs": [],
   "source": [
    "geohash_table.to_csv(\"data/table/g2mm.csv\", index=False)"
   ]
  },
  {
   "cell_type": "markdown",
   "metadata": {
    "collapsed": true
   },
   "source": [
    "## Create state management table"
   ]
  },
  {
   "cell_type": "code",
   "execution_count": 12,
   "metadata": {
    "collapsed": false
   },
   "outputs": [
    {
     "data": {
      "text/plain": [
       "27321"
      ]
     },
     "execution_count": 12,
     "metadata": {},
     "output_type": "execute_result"
    }
   ],
   "source": [
    "geohash_table = geohash_table[geohash_table.geohash==geohash_table.mgeohash]\n",
    "len(geohash_table)"
   ]
  },
  {
   "cell_type": "code",
   "execution_count": 38,
   "metadata": {
    "collapsed": false
   },
   "outputs": [
    {
     "data": {
      "text/plain": [
       "21458"
      ]
     },
     "execution_count": 38,
     "metadata": {},
     "output_type": "execute_result"
    }
   ],
   "source": [
    "geohash_table = geohash_table[geohash_table.total_pickup+geohash_table.total_dropoff>5]\n",
    "len(geohash_table)"
   ]
  },
  {
   "cell_type": "code",
   "execution_count": 17,
   "metadata": {
    "collapsed": false
   },
   "outputs": [
    {
     "data": {
      "text/html": [
       "<div>\n",
       "<table border=\"1\" class=\"dataframe\">\n",
       "  <thead>\n",
       "    <tr style=\"text-align: right;\">\n",
       "      <th></th>\n",
       "      <th>geohash</th>\n",
       "      <th>lat</th>\n",
       "      <th>lon</th>\n",
       "    </tr>\n",
       "  </thead>\n",
       "  <tbody>\n",
       "    <tr>\n",
       "      <th>7</th>\n",
       "      <td>dr5qgxx</td>\n",
       "      <td>40.603358</td>\n",
       "      <td>-74.015682</td>\n",
       "    </tr>\n",
       "    <tr>\n",
       "      <th>8</th>\n",
       "      <td>dr5qgxy</td>\n",
       "      <td>40.604832</td>\n",
       "      <td>-74.017029</td>\n",
       "    </tr>\n",
       "    <tr>\n",
       "      <th>9</th>\n",
       "      <td>dr5qgxz</td>\n",
       "      <td>40.604637</td>\n",
       "      <td>-74.015335</td>\n",
       "    </tr>\n",
       "    <tr>\n",
       "      <th>12</th>\n",
       "      <td>dr5qgz5</td>\n",
       "      <td>40.600984</td>\n",
       "      <td>-74.009745</td>\n",
       "    </tr>\n",
       "    <tr>\n",
       "      <th>14</th>\n",
       "      <td>dr5qgz7</td>\n",
       "      <td>40.602178</td>\n",
       "      <td>-74.010322</td>\n",
       "    </tr>\n",
       "  </tbody>\n",
       "</table>\n",
       "</div>"
      ],
      "text/plain": [
       "    geohash        lat        lon\n",
       "7   dr5qgxx  40.603358 -74.015682\n",
       "8   dr5qgxy  40.604832 -74.017029\n",
       "9   dr5qgxz  40.604637 -74.015335\n",
       "12  dr5qgz5  40.600984 -74.009745\n",
       "14  dr5qgz7  40.602178 -74.010322"
      ]
     },
     "execution_count": 17,
     "metadata": {},
     "output_type": "execute_result"
    }
   ],
   "source": [
    "geohash_table['lat'] = geohash_table.mlat\n",
    "geohash_table['lon'] = geohash_table.mlon\n",
    "geohash_table = geohash_table.drop(['mlat', 'mlon', 'mgeohash', 'total_pickup', 'total_dropoff'], axis=1)\n",
    "geohash_table.head()"
   ]
  },
  {
   "cell_type": "markdown",
   "metadata": {},
   "source": [
    "## Tag Taxi Zone"
   ]
  },
  {
   "cell_type": "code",
   "execution_count": 21,
   "metadata": {
    "collapsed": false
   },
   "outputs": [],
   "source": [
    "import geopandas as gpd\n",
    "\n",
    "nyc = gpd.read_file(\"data/nyc_taxi/taxi_zones/taxi_zones.shp\").to_crs('+proj=latlon')\n",
    "nyc = nyc[(nyc.borough != 'EWR')&(nyc.borough != 'Staten Island')]"
   ]
  },
  {
   "cell_type": "code",
   "execution_count": 22,
   "metadata": {
    "collapsed": false
   },
   "outputs": [],
   "source": [
    "import shapely\n",
    "import rtree\n",
    "\n",
    "def assign_zone(loc, gdf):\n",
    "    df = gpd.GeoDataFrame(loc.copy(), crs=\"+proj=latlon\")\n",
    "    df[\"geometry\"] = [shapely.geometry.Point(lon, lat)for lat, lon in loc.values]\n",
    "    df = gpd.sjoin(df, gdf[[\"geometry\"]], how=\"inner\", op=\"within\")    \n",
    "    return df.index_right"
   ]
  },
  {
   "cell_type": "code",
   "execution_count": 26,
   "metadata": {
    "collapsed": false,
    "scrolled": true
   },
   "outputs": [
    {
     "data": {
      "text/html": [
       "<div>\n",
       "<table border=\"1\" class=\"dataframe\">\n",
       "  <thead>\n",
       "    <tr style=\"text-align: right;\">\n",
       "      <th></th>\n",
       "      <th>lat</th>\n",
       "      <th>lon</th>\n",
       "      <th>taxi_zone</th>\n",
       "    </tr>\n",
       "    <tr>\n",
       "      <th>geohash</th>\n",
       "      <th></th>\n",
       "      <th></th>\n",
       "      <th></th>\n",
       "    </tr>\n",
       "  </thead>\n",
       "  <tbody>\n",
       "    <tr>\n",
       "      <th>dr5qgxx</th>\n",
       "      <td>40.603358</td>\n",
       "      <td>-74.015682</td>\n",
       "      <td>10</td>\n",
       "    </tr>\n",
       "    <tr>\n",
       "      <th>dr5qgxy</th>\n",
       "      <td>40.604832</td>\n",
       "      <td>-74.017029</td>\n",
       "      <td>10</td>\n",
       "    </tr>\n",
       "    <tr>\n",
       "      <th>dr5qgxz</th>\n",
       "      <td>40.604637</td>\n",
       "      <td>-74.015335</td>\n",
       "      <td>10</td>\n",
       "    </tr>\n",
       "    <tr>\n",
       "      <th>dr5qgz5</th>\n",
       "      <td>40.600984</td>\n",
       "      <td>-74.009745</td>\n",
       "      <td>10</td>\n",
       "    </tr>\n",
       "    <tr>\n",
       "      <th>dr5qgz7</th>\n",
       "      <td>40.602178</td>\n",
       "      <td>-74.010322</td>\n",
       "      <td>10</td>\n",
       "    </tr>\n",
       "  </tbody>\n",
       "</table>\n",
       "</div>"
      ],
      "text/plain": [
       "               lat        lon  taxi_zone\n",
       "geohash                                 \n",
       "dr5qgxx  40.603358 -74.015682         10\n",
       "dr5qgxy  40.604832 -74.017029         10\n",
       "dr5qgxz  40.604637 -74.015335         10\n",
       "dr5qgz5  40.600984 -74.009745         10\n",
       "dr5qgz7  40.602178 -74.010322         10"
      ]
     },
     "execution_count": 26,
     "metadata": {},
     "output_type": "execute_result"
    }
   ],
   "source": [
    "geohash_table['taxi_zone'] = assign_zone(geohash_table[['lat', 'lon']], nyc)\n",
    "geohash_table = geohash_table.dropna().set_index('geohash')\n",
    "geohash_table.head()"
   ]
  },
  {
   "cell_type": "code",
   "execution_count": 36,
   "metadata": {
    "collapsed": false
   },
   "outputs": [
    {
     "data": {
      "text/plain": [
       "226"
      ]
     },
     "execution_count": 36,
     "metadata": {},
     "output_type": "execute_result"
    }
   ],
   "source": [
    "len(geohash_table.taxi_zone.unique())"
   ]
  },
  {
   "cell_type": "markdown",
   "metadata": {},
   "source": [
    "## Tag XY coordinates"
   ]
  },
  {
   "cell_type": "code",
   "execution_count": 77,
   "metadata": {
    "collapsed": false
   },
   "outputs": [
    {
     "name": "stdout",
     "output_type": "stream",
     "text": [
      "31 31\n"
     ]
    }
   ],
   "source": [
    "import Geohash\n",
    "\n",
    "lat0 = geohash_table.lat.min()\n",
    "lon0 = geohash_table.lon.min()\n",
    "Nx = 219\n",
    "Ny = 219\n",
    "dx = 0.3/(Nx-1)\n",
    "dy = 0.3/(Ny-1)\n",
    "num_g = 7\n",
    "g2xy = {}\n",
    "for x in range(Nx):\n",
    "    for y in range(Ny):\n",
    "        g = Geohash.encode(lat0+y*dy, lon0+x*dx, 7)\n",
    "        g2xy[g] = (x/num_g, y/num_g)\n",
    "print x/num_g, y/num_g"
   ]
  },
  {
   "cell_type": "code",
   "execution_count": 78,
   "metadata": {
    "collapsed": false
   },
   "outputs": [
    {
     "name": "stdout",
     "output_type": "stream",
     "text": [
      "31\n",
      "32\n"
     ]
    }
   ],
   "source": [
    "geohash_table['x'] = 0\n",
    "geohash_table['y'] = 0\n",
    "geohash_table[['x', 'y']] = [g2xy[g] for g in geohash_table.index]\n",
    "print len(geohash_table.x.unique())\n",
    "print len(geohash_table.y.unique())"
   ]
  },
  {
   "cell_type": "markdown",
   "metadata": {},
   "source": [
    "## Compute road density"
   ]
  },
  {
   "cell_type": "code",
   "execution_count": 84,
   "metadata": {
    "collapsed": false
   },
   "outputs": [
    {
     "name": "stdout",
     "output_type": "stream",
     "text": [
      "# of nodes: 5092898\n",
      "# of highways: 57803\n"
     ]
    }
   ],
   "source": [
    "import json\n",
    "from analytics.osmloader import OsmLoader\n",
    "\n",
    "osm_path = 'data/osm/osm_nyc.json'\n",
    "osm = OsmLoader(osm_path)"
   ]
  },
  {
   "cell_type": "code",
   "execution_count": 90,
   "metadata": {
    "collapsed": true
   },
   "outputs": [],
   "source": [
    "from engine.mapper import geohelper as gh\n",
    "\n",
    "dense_G = osm.get_graph(drive=True, seg_max_length=10)\n",
    "dense_G = dense_G.subgraph(G.nodes())\n",
    "road_locs = [zip(d['lat'], d['lon']) for _, _, d in dense_G.edges_iter(data=True) if d.get('lat')]\n",
    "road_density = gh.road_density(road_locs)\n",
    "node_locs =[(d['lat'], d['lon']) for _, d in dense_G.nodes_iter(data=True) if d.get('lat')]\n",
    "intxn_density = gh.intxn_density(node_locs)"
   ]
  },
  {
   "cell_type": "code",
   "execution_count": 93,
   "metadata": {
    "collapsed": false
   },
   "outputs": [
    {
     "data": {
      "text/html": [
       "<div>\n",
       "<table border=\"1\" class=\"dataframe\">\n",
       "  <thead>\n",
       "    <tr style=\"text-align: right;\">\n",
       "      <th></th>\n",
       "      <th>lat</th>\n",
       "      <th>lon</th>\n",
       "      <th>taxi_zone</th>\n",
       "      <th>x</th>\n",
       "      <th>y</th>\n",
       "      <th>road_density</th>\n",
       "      <th>intxn_density</th>\n",
       "    </tr>\n",
       "    <tr>\n",
       "      <th>geohash</th>\n",
       "      <th></th>\n",
       "      <th></th>\n",
       "      <th></th>\n",
       "      <th></th>\n",
       "      <th></th>\n",
       "      <th></th>\n",
       "      <th></th>\n",
       "    </tr>\n",
       "  </thead>\n",
       "  <tbody>\n",
       "    <tr>\n",
       "      <th>dr5qgxx</th>\n",
       "      <td>40.603358</td>\n",
       "      <td>-74.015682</td>\n",
       "      <td>10</td>\n",
       "      <td>2</td>\n",
       "      <td>0</td>\n",
       "      <td>32</td>\n",
       "      <td>35</td>\n",
       "    </tr>\n",
       "    <tr>\n",
       "      <th>dr5qgxy</th>\n",
       "      <td>40.604832</td>\n",
       "      <td>-74.017029</td>\n",
       "      <td>10</td>\n",
       "      <td>2</td>\n",
       "      <td>0</td>\n",
       "      <td>34</td>\n",
       "      <td>8</td>\n",
       "    </tr>\n",
       "    <tr>\n",
       "      <th>dr5qgxz</th>\n",
       "      <td>40.604637</td>\n",
       "      <td>-74.015335</td>\n",
       "      <td>10</td>\n",
       "      <td>2</td>\n",
       "      <td>0</td>\n",
       "      <td>0</td>\n",
       "      <td>0</td>\n",
       "    </tr>\n",
       "    <tr>\n",
       "      <th>dr5qgz5</th>\n",
       "      <td>40.600984</td>\n",
       "      <td>-74.009745</td>\n",
       "      <td>10</td>\n",
       "      <td>3</td>\n",
       "      <td>0</td>\n",
       "      <td>13</td>\n",
       "      <td>5</td>\n",
       "    </tr>\n",
       "    <tr>\n",
       "      <th>dr5qgz7</th>\n",
       "      <td>40.602178</td>\n",
       "      <td>-74.010322</td>\n",
       "      <td>10</td>\n",
       "      <td>3</td>\n",
       "      <td>0</td>\n",
       "      <td>28</td>\n",
       "      <td>9</td>\n",
       "    </tr>\n",
       "  </tbody>\n",
       "</table>\n",
       "</div>"
      ],
      "text/plain": [
       "               lat        lon  taxi_zone  x  y  road_density  intxn_density\n",
       "geohash                                                                    \n",
       "dr5qgxx  40.603358 -74.015682         10  2  0            32             35\n",
       "dr5qgxy  40.604832 -74.017029         10  2  0            34              8\n",
       "dr5qgxz  40.604637 -74.015335         10  2  0             0              0\n",
       "dr5qgz5  40.600984 -74.009745         10  3  0            13              5\n",
       "dr5qgz7  40.602178 -74.010322         10  3  0            28              9"
      ]
     },
     "execution_count": 93,
     "metadata": {},
     "output_type": "execute_result"
    }
   ],
   "source": [
    "geohash_table['road_density'] = [road_density[g] for g in geohash_table.index]\n",
    "geohash_table['intxn_density'] = [intxn_density[g] for g in geohash_table.index]\n",
    "geohash_table.head()"
   ]
  },
  {
   "cell_type": "code",
   "execution_count": 94,
   "metadata": {
    "collapsed": true
   },
   "outputs": [],
   "source": [
    "geohash_table.to_csv(\"data/table/zones.csv\")"
   ]
  },
  {
   "cell_type": "code",
   "execution_count": null,
   "metadata": {
    "collapsed": true
   },
   "outputs": [],
   "source": []
  },
  {
   "cell_type": "code",
   "execution_count": 5,
   "metadata": {
    "collapsed": false
   },
   "outputs": [],
   "source": [
    "geohash_table = pd.read_csv(\"data/table/zones.csv\", index_col='geohash')"
   ]
  },
  {
   "cell_type": "code",
   "execution_count": 6,
   "metadata": {
    "collapsed": false
   },
   "outputs": [
    {
     "name": "stdout",
     "output_type": "stream",
     "text": [
      "(12869846, 15)\n"
     ]
    }
   ],
   "source": [
    "df = pd.read_csv(OUTPUT_PATH)\n",
    "print df.shape"
   ]
  },
  {
   "cell_type": "code",
   "execution_count": 7,
   "metadata": {
    "collapsed": false
   },
   "outputs": [
    {
     "data": {
      "text/plain": [
       "(12806249, 15)"
      ]
     },
     "execution_count": 7,
     "metadata": {},
     "output_type": "execute_result"
    }
   ],
   "source": [
    "from analytics.preprocess import map_matching\n",
    "\n",
    "df = map_matching(df, geohash_table)\n",
    "df.shape"
   ]
  },
  {
   "cell_type": "code",
   "execution_count": 8,
   "metadata": {
    "collapsed": true
   },
   "outputs": [],
   "source": [
    "df.to_csv('data/nyc_taxi/trips_2016-05.csv', index=False)"
   ]
  },
  {
   "cell_type": "code",
   "execution_count": 9,
   "metadata": {
    "collapsed": false
   },
   "outputs": [
    {
     "name": "stdout",
     "output_type": "stream",
     "text": [
      "16971\n",
      "21449\n"
     ]
    }
   ],
   "source": [
    "print len(df.phash.unique())\n",
    "print len(df.dhash.unique())"
   ]
  },
  {
   "cell_type": "markdown",
   "metadata": {
    "collapsed": true
   },
   "source": [
    "## Tag granular XY coordinates"
   ]
  },
  {
   "cell_type": "code",
   "execution_count": 4,
   "metadata": {
    "collapsed": false
   },
   "outputs": [],
   "source": [
    "geohash_table = pd.read_csv(\"data/table/zones.csv\", index_col='geohash')"
   ]
  },
  {
   "cell_type": "code",
   "execution_count": 5,
   "metadata": {
    "collapsed": false
   },
   "outputs": [
    {
     "name": "stdout",
     "output_type": "stream",
     "text": [
      "72 72\n"
     ]
    }
   ],
   "source": [
    "import Geohash\n",
    "\n",
    "lat0 = geohash_table.lat.min()\n",
    "lon0 = geohash_table.lon.min()\n",
    "Nx = 219\n",
    "Ny = 219\n",
    "dx = 0.3/(Nx-1)\n",
    "dy = 0.3/(Ny-1)\n",
    "num_g = 3\n",
    "g2xy = {}\n",
    "for x in range(Nx):\n",
    "    for y in range(Ny):\n",
    "        g = Geohash.encode(lat0+y*dy, lon0+x*dx, 7)\n",
    "        g2xy[g] = (x/num_g, y/num_g)\n",
    "print x/num_g, y/num_g"
   ]
  },
  {
   "cell_type": "code",
   "execution_count": 6,
   "metadata": {
    "collapsed": false
   },
   "outputs": [
    {
     "name": "stdout",
     "output_type": "stream",
     "text": [
      "71\n",
      "73\n"
     ]
    }
   ],
   "source": [
    "geohash_table['x'] = 0\n",
    "geohash_table['y'] = 0\n",
    "geohash_table[['x', 'y']] = [g2xy[g] for g in geohash_table.index]\n",
    "print len(geohash_table.x.unique())\n",
    "print len(geohash_table.y.unique())"
   ]
  },
  {
   "cell_type": "code",
   "execution_count": 12,
   "metadata": {
    "collapsed": false
   },
   "outputs": [],
   "source": [
    "geohash_table[['lat', 'lon', 'x', 'y']].to_csv(\"data/table/zones_granular.csv\")"
   ]
  },
  {
   "cell_type": "code",
   "execution_count": null,
   "metadata": {
    "collapsed": true
   },
   "outputs": [],
   "source": []
  }
 ],
 "metadata": {
  "kernelspec": {
   "display_name": "Python 2",
   "language": "python",
   "name": "python2"
  },
  "language_info": {
   "codemirror_mode": {
    "name": "ipython",
    "version": 2
   },
   "file_extension": ".py",
   "mimetype": "text/x-python",
   "name": "python",
   "nbconvert_exporter": "python",
   "pygments_lexer": "ipython2",
   "version": "2.7.9"
  }
 },
 "nbformat": 4,
 "nbformat_minor": 0
}
