{
 "cells": [
  {
   "cell_type": "code",
   "execution_count": 1,
   "metadata": {
    "collapsed": false
   },
   "outputs": [],
   "source": [
    "%load_ext autoreload\n",
    "%autoreload 2\n",
    "import numpy as np\n",
    "import pandas as pd\n",
    "import matplotlib\n",
    "%matplotlib inline\n",
    "import matplotlib.pyplot as plt\n",
    "import datetime\n",
    "import cPickle as pickle"
   ]
  },
  {
   "cell_type": "code",
   "execution_count": 8,
   "metadata": {
    "collapsed": false
   },
   "outputs": [],
   "source": [
    "import json\n",
    "from mapper.osmloader import OsmLoader\n",
    "\n",
    "# osm_path = 'data/osm/osm_nyc.json'\n",
    "# osm = OsmLoader(osm_path)"
   ]
  },
  {
   "cell_type": "code",
   "execution_count": 3,
   "metadata": {
    "collapsed": false
   },
   "outputs": [
    {
     "name": "stdout",
     "output_type": "stream",
     "text": [
      "22759 45474\n"
     ]
    }
   ],
   "source": [
    "G = osm.get_graph()\n",
    "print len(G.nodes()), len(G.edges())"
   ]
  },
  {
   "cell_type": "code",
   "execution_count": 4,
   "metadata": {
    "collapsed": false
   },
   "outputs": [
    {
     "name": "stdout",
     "output_type": "stream",
     "text": [
      "(42860546, {'lat': 40.7436274, 'lon': -73.9404517})\n",
      "(42860546, 42872051, {'bearing': [-3.0078, -3.0059, -2.5879, -2.4141], 'length': 162.0, 'lat': [40.743627400000001, 40.743009800000003, 40.742887099999997, 40.742666, 40.742330000000003], 'seg_length': [0.0, 69.312, 83.062, 112.0], 'lon': [-73.940451699999997, -73.940561099999996, -73.9405833, -73.940763500000003, -73.941158000000001], 'id': 1826})\n"
     ]
    }
   ],
   "source": [
    "print G.nodes(data=True)[0]\n",
    "print G.edges(data=True)[0]"
   ]
  },
  {
   "cell_type": "code",
   "execution_count": 56,
   "metadata": {
    "collapsed": false
   },
   "outputs": [
    {
     "name": "stdout",
     "output_type": "stream",
     "text": [
      "29359\n"
     ]
    }
   ],
   "source": [
    "nsegs = []\n",
    "n = 0\n",
    "for s, e, data in G.edges_iter(data=True):\n",
    "    if 'lat' in data:\n",
    "        nsegs.append(len(data['lat']))\n",
    "    else:\n",
    "        n += 1\n",
    "print n"
   ]
  },
  {
   "cell_type": "code",
   "execution_count": 55,
   "metadata": {
    "collapsed": false
   },
   "outputs": [
    {
     "data": {
      "image/png": "[encoded data removed]",
      "text/plain": [
       "<matplotlib.figure.Figure at 0x1931a68d0>"
      ]
     },
     "metadata": {},
     "output_type": "display_data"
    }
   ],
   "source": [
    "plt.hist(nsegs);"
   ]
  },
  {
   "cell_type": "code",
   "execution_count": 5,
   "metadata": {
    "collapsed": true
   },
   "outputs": [],
   "source": [
    "path = 'data/nyc_network_graph.pkl'\n",
    "with open(path, 'wb') as f:\n",
    "    pickle.dump(G, f)"
   ]
  },
  {
   "cell_type": "code",
   "execution_count": 2,
   "metadata": {
    "collapsed": true
   },
   "outputs": [],
   "source": [
    "path = 'data/nyc_network_graph.pkl'\n",
    "with open(path, 'r') as f:\n",
    "    G = pickle.load(f)"
   ]
  },
  {
   "cell_type": "code",
   "execution_count": 3,
   "metadata": {
    "collapsed": false
   },
   "outputs": [
    {
     "data": {
      "text/html": [
       "<div>\n",
       "<table border=\"1\" class=\"dataframe\">\n",
       "  <thead>\n",
       "    <tr style=\"text-align: right;\">\n",
       "      <th></th>\n",
       "      <th>request_id</th>\n",
       "      <th>date</th>\n",
       "      <th>dayofweek</th>\n",
       "      <th>dropoff_latitude</th>\n",
       "      <th>dropoff_longitude</th>\n",
       "      <th>hour</th>\n",
       "      <th>minute</th>\n",
       "      <th>pickup_latitude</th>\n",
       "      <th>pickup_longitude</th>\n",
       "      <th>second</th>\n",
       "      <th>trip_distance</th>\n",
       "      <th>trip_time</th>\n",
       "      <th>great_circle_distance</th>\n",
       "    </tr>\n",
       "  </thead>\n",
       "  <tbody>\n",
       "    <tr>\n",
       "      <th>0</th>\n",
       "      <td>0</td>\n",
       "      <td>1</td>\n",
       "      <td>6</td>\n",
       "      <td>40.702751</td>\n",
       "      <td>-73.921951</td>\n",
       "      <td>0</td>\n",
       "      <td>0</td>\n",
       "      <td>40.712791</td>\n",
       "      <td>-73.965874</td>\n",
       "      <td>0</td>\n",
       "      <td>2.93</td>\n",
       "      <td>15.216667</td>\n",
       "      <td>3866</td>\n",
       "    </tr>\n",
       "    <tr>\n",
       "      <th>1</th>\n",
       "      <td>1</td>\n",
       "      <td>1</td>\n",
       "      <td>6</td>\n",
       "      <td>40.767826</td>\n",
       "      <td>-73.980797</td>\n",
       "      <td>0</td>\n",
       "      <td>0</td>\n",
       "      <td>40.750507</td>\n",
       "      <td>-73.987198</td>\n",
       "      <td>0</td>\n",
       "      <td>1.48</td>\n",
       "      <td>6.516667</td>\n",
       "      <td>1999</td>\n",
       "    </tr>\n",
       "    <tr>\n",
       "      <th>2</th>\n",
       "      <td>2</td>\n",
       "      <td>1</td>\n",
       "      <td>6</td>\n",
       "      <td>40.855343</td>\n",
       "      <td>-73.937805</td>\n",
       "      <td>0</td>\n",
       "      <td>0</td>\n",
       "      <td>40.780739</td>\n",
       "      <td>-73.981544</td>\n",
       "      <td>0</td>\n",
       "      <td>6.68</td>\n",
       "      <td>15.716667</td>\n",
       "      <td>9075</td>\n",
       "    </tr>\n",
       "    <tr>\n",
       "      <th>3</th>\n",
       "      <td>3</td>\n",
       "      <td>1</td>\n",
       "      <td>6</td>\n",
       "      <td>40.737564</td>\n",
       "      <td>-73.997498</td>\n",
       "      <td>0</td>\n",
       "      <td>0</td>\n",
       "      <td>40.740192</td>\n",
       "      <td>-74.005280</td>\n",
       "      <td>0</td>\n",
       "      <td>0.56</td>\n",
       "      <td>6.650000</td>\n",
       "      <td>717</td>\n",
       "    </tr>\n",
       "    <tr>\n",
       "      <th>4</th>\n",
       "      <td>4</td>\n",
       "      <td>1</td>\n",
       "      <td>6</td>\n",
       "      <td>40.758469</td>\n",
       "      <td>-73.988014</td>\n",
       "      <td>0</td>\n",
       "      <td>0</td>\n",
       "      <td>40.755764</td>\n",
       "      <td>-73.979294</td>\n",
       "      <td>0</td>\n",
       "      <td>0.63</td>\n",
       "      <td>5.316667</td>\n",
       "      <td>793</td>\n",
       "    </tr>\n",
       "  </tbody>\n",
       "</table>\n",
       "</div>"
      ],
      "text/plain": [
       "   request_id  date  dayofweek  dropoff_latitude  dropoff_longitude  hour  \\\n",
       "0           0     1          6         40.702751         -73.921951     0   \n",
       "1           1     1          6         40.767826         -73.980797     0   \n",
       "2           2     1          6         40.855343         -73.937805     0   \n",
       "3           3     1          6         40.737564         -73.997498     0   \n",
       "4           4     1          6         40.758469         -73.988014     0   \n",
       "\n",
       "   minute  pickup_latitude  pickup_longitude  second  trip_distance  \\\n",
       "0       0        40.712791        -73.965874       0           2.93   \n",
       "1       0        40.750507        -73.987198       0           1.48   \n",
       "2       0        40.780739        -73.981544       0           6.68   \n",
       "3       0        40.740192        -74.005280       0           0.56   \n",
       "4       0        40.755764        -73.979294       0           0.63   \n",
       "\n",
       "   trip_time  great_circle_distance  \n",
       "0  15.216667                   3866  \n",
       "1   6.516667                   1999  \n",
       "2  15.716667                   9075  \n",
       "3   6.650000                    717  \n",
       "4   5.316667                    793  "
      ]
     },
     "execution_count": 3,
     "metadata": {},
     "output_type": "execute_result"
    }
   ],
   "source": [
    "df = pd.read_csv('temp/data/taxi_tripdata_2016-05.csv', nrows=100)\n",
    "df = df[df.trip_time>0][df.second<60*10]\n",
    "df.head()"
   ]
  },
  {
   "cell_type": "code",
   "execution_count": 72,
   "metadata": {
    "collapsed": false
   },
   "outputs": [],
   "source": [
    "from pathgenerator import PathGenerator\n",
    "\n",
    "path_generator = PathGenerator(G)"
   ]
  },
  {
   "cell_type": "code",
   "execution_count": 73,
   "metadata": {
    "collapsed": true
   },
   "outputs": [],
   "source": [
    "i = 10\n",
    "origin = df[['pickup_latitude', 'pickup_longitude']].values[i]\n",
    "destination = df[['dropoff_latitude', 'dropoff_longitude']].values[i]\n",
    "trip_time = df['trip_time'].values[i]"
   ]
  },
  {
   "cell_type": "code",
   "execution_count": 77,
   "metadata": {
    "collapsed": false
   },
   "outputs": [
    {
     "name": "stdout",
     "output_type": "stream",
     "text": [
      "CPU times: user 63 ms, sys: 7.68 ms, total: 70.6 ms\n",
      "Wall time: 69.2 ms\n"
     ]
    }
   ],
   "source": [
    "%%time\n",
    "path = path_generator.get_path(origin, destination, trip_time)"
   ]
  },
  {
   "cell_type": "code",
   "execution_count": 78,
   "metadata": {
    "collapsed": false
   },
   "outputs": [
    {
     "name": "stdout",
     "output_type": "stream",
     "text": [
      "file created!\n"
     ]
    }
   ],
   "source": [
    "from mapping_utils import visualize_trajectory\n",
    "visualize_trajectory(\n",
    "    center_lat_lon=origin,\n",
    "    blue_lat_lon=path,\n",
    "    blue_radius=[5]*len(path),\n",
    "    marker_locs=[origin, destination,]\n",
    ")"
   ]
  },
  {
   "cell_type": "code",
   "execution_count": null,
   "metadata": {
    "collapsed": true
   },
   "outputs": [],
   "source": []
  },
  {
   "cell_type": "code",
   "execution_count": 174,
   "metadata": {
    "collapsed": false
   },
   "outputs": [
    {
     "name": "stdout",
     "output_type": "stream",
     "text": [
      "4869\n",
      "982\n",
      "CPU times: user 2min 27s, sys: 1.06 s, total: 2min 28s\n",
      "Wall time: 2min 29s\n"
     ]
    }
   ],
   "source": [
    "%%time\n",
    "paths = {}\n",
    "ride_requests = zip(df.request_id.values, df.trip_time.values, df[['pickup_latitude', 'pickup_longitude']].values, df[['dropoff_latitude', 'dropoff_longitude']].values)\n",
    "print len(ride_requests)\n",
    "n = 0\n",
    "for rid, trip_time, origin, destination in ride_requests:\n",
    "    try:\n",
    "        path = path_generator.get_path(origin, destination, trip_time)\n",
    "        paths[rid] = path\n",
    "    except:\n",
    "        n += 1\n",
    "        continue\n",
    "print n"
   ]
  },
  {
   "cell_type": "code",
   "execution_count": 178,
   "metadata": {
    "collapsed": false
   },
   "outputs": [],
   "source": [
    "import json\n",
    "with open('data/path.json', 'wb') as f:\n",
    "    json.dump(paths, f)"
   ]
  },
  {
   "cell_type": "code",
   "execution_count": null,
   "metadata": {
    "collapsed": true
   },
   "outputs": [],
   "source": []
  }
 ],
 "metadata": {
  "kernelspec": {
   "display_name": "Python 2",
   "language": "python",
   "name": "python2"
  },
  "language_info": {
   "codemirror_mode": {
    "name": "ipython",
    "version": 2
   },
   "file_extension": ".py",
   "mimetype": "text/x-python",
   "name": "python",
   "nbconvert_exporter": "python",
   "pygments_lexer": "ipython2",
   "version": "2.7.9"
  }
 },
 "nbformat": 4,
 "nbformat_minor": 0
}
