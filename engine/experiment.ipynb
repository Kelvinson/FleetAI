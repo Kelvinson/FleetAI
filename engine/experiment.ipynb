{
 "cells": [
  {
   "cell_type": "code",
   "execution_count": 1,
   "metadata": {
    "collapsed": false
   },
   "outputs": [],
   "source": [
    "%load_ext autoreload\n",
    "%autoreload 2\n",
    "import numpy as np\n",
    "import pandas as pd\n",
    "import matplotlib\n",
    "%matplotlib inline\n",
    "import matplotlib.pyplot as plt\n",
    "import cPickle as pickle"
   ]
  },
  {
   "cell_type": "code",
   "execution_count": 2,
   "metadata": {
    "collapsed": false
   },
   "outputs": [],
   "source": [
    "path = 'data/nyc_network_graph.pkl'\n",
    "with open(path, 'r') as f:\n",
    "    G = pickle.load(f)"
   ]
  },
  {
   "cell_type": "code",
   "execution_count": 3,
   "metadata": {
    "collapsed": false
   },
   "outputs": [
    {
     "data": {
      "text/plain": [
       "42"
      ]
     },
     "execution_count": 3,
     "metadata": {},
     "output_type": "execute_result"
    }
   ],
   "source": [
    "zones = list(pd.read_csv(\"data/geohash.csv\").geohash.values)\n",
    "len(zones)"
   ]
  },
  {
   "cell_type": "code",
   "execution_count": 4,
   "metadata": {
    "collapsed": false
   },
   "outputs": [],
   "source": [
    "from simulator import FleetSimulator\n",
    "from agent import Agent\n",
    "\n",
    "simulator = FleetSimulator(G)\n",
    "simulator.load_requests('temp/data/taxi_tripdata_2016-05.csv', 100000)\n",
    "simulator.init_vehicles(10000)\n",
    "\n",
    "agent = Agent(zones)"
   ]
  },
  {
   "cell_type": "code",
   "execution_count": 5,
   "metadata": {
    "collapsed": false
   },
   "outputs": [],
   "source": [
    "vehicles, requests, reward = simulator.forward()"
   ]
  },
  {
   "cell_type": "code",
   "execution_count": 7,
   "metadata": {
    "collapsed": false
   },
   "outputs": [],
   "source": [
    "from mapping_utils import plot_overmap\n",
    "import geopandas as gpd\n",
    "\n",
    "nyc = gpd.read_file(\"temp/data/taxi_zones/taxi_zones.shp\").to_crs('+proj=latlon')"
   ]
  },
  {
   "cell_type": "code",
   "execution_count": 10,
   "metadata": {
    "collapsed": false
   },
   "outputs": [],
   "source": [
    "point_y = vehicles[vehicles.available==1].lat.values\n",
    "point_x = vehicles[vehicles.available==1].lon.values\n",
    "radius=0.001\n",
    "# plot_overmap(point_x, point_y, radius, nyc)"
   ]
  },
  {
   "cell_type": "code",
   "execution_count": 6,
   "metadata": {
    "collapsed": false
   },
   "outputs": [
    {
     "name": "stdout",
     "output_type": "stream",
     "text": [
      "CPU times: user 171 ms, sys: 153 ms, total: 324 ms\n",
      "Wall time: 410 ms\n"
     ]
    },
    {
     "name": "stderr",
     "output_type": "stream",
     "text": [
      "/Users/odatakuma/anaconda/lib/python2.7/site-packages/pandas/core/index.py:1160: VisibleDeprecationWarning: non integer (and non boolean) array-likes will not be accepted as indices in the future\n",
      "  result = getitem(key)\n"
     ]
    }
   ],
   "source": [
    "%%time\n",
    "assignments = agent.match(vehicles, requests)"
   ]
  },
  {
   "cell_type": "code",
   "execution_count": 7,
   "metadata": {
    "collapsed": false
   },
   "outputs": [
    {
     "name": "stderr",
     "output_type": "stream",
     "text": [
      "/Users/odatakuma/anaconda/lib/python2.7/site-packages/pandas/core/frame.py:1997: UserWarning: Boolean Series key will be reindexed to match DataFrame index.\n",
      "  \"DataFrame index.\", UserWarning)\n"
     ]
    },
    {
     "name": "stdout",
     "output_type": "stream",
     "text": [
      "0 0.0 447\n",
      "1 0.0 466\n",
      "2 0.0 484\n",
      "3 0.0 474\n",
      "4 0.0 496\n",
      "5 0.0 470\n",
      "6 0.0 486\n",
      "7 0.0 461\n",
      "8 0.0 494\n",
      "9 0.0 502\n",
      "10 0.0 496\n",
      "11 0.0 452\n",
      "12 0.0 477\n",
      "13 0.0 476\n",
      "14 0.0 514\n",
      "15 0.0 468\n",
      "16 0.0 504\n",
      "17 0.0 459\n",
      "18 0.0 450\n",
      "19 0.0 448\n",
      "20 0.0 448\n",
      "21 -251.317708082 470\n",
      "22 -135.946137052 480\n",
      "23 -405.598126835 467\n",
      "24 -973.572983305 483\n",
      "25 -813.576906884 514\n",
      "26 -170.222552594 459\n",
      "27 -244.606270901 482\n",
      "28 -458.761010708 441\n",
      "29 -724.924802086 458\n",
      "30 -2045.56010041 478\n",
      "31 -1266.7390322 462\n",
      "32 -579.88184022 438\n",
      "33 -1622.91192761 474\n",
      "34 -392.466014071 449\n",
      "35 -1120.8223514 496\n",
      "36 -1309.40947466 450\n",
      "37 -291.105906859 443\n",
      "38 -84.0847806594 456\n",
      "39 -555.09204331 495\n",
      "40 -927.814745638 418\n",
      "41 -1198.99542897 460\n",
      "42 -1090.75821104 435\n",
      "43 -558.589862642 459\n",
      "44 -630.280458871 453\n",
      "45 -1674.52561628 427\n",
      "46 -690.672200944 454\n",
      "47 -848.940178107 399\n",
      "48 -1691.61099221 430\n",
      "49 -510.506374175 462\n",
      "50 -595.053404584 440\n",
      "51 -712.210232609 381\n",
      "52 -253.847402444 474\n",
      "53 -822.395227229 415\n",
      "54 -633.703994162 417\n",
      "55 -808.221922322 436\n",
      "56 -862.193303118 430\n",
      "57 -859.063509538 439\n",
      "58 -1230.51891737 437\n",
      "59 -1126.13534595 425\n",
      "-1126.13534595\n",
      "CPU times: user 17.2 s, sys: 4.52 s, total: 21.8 s\n",
      "Wall time: 21.2 s\n"
     ]
    }
   ],
   "source": [
    "%%time\n",
    "N = 60\n",
    "total_cost = 0\n",
    "for i in range(N):\n",
    "    vehicles, requests, reward = simulator.forward(assignments)\n",
    "    total_cost += reward\n",
    "    assignments = agent.match(vehicles, requests)\n",
    "    print i, reward, len(assignments)\n",
    "print reward"
   ]
  },
  {
   "cell_type": "code",
   "execution_count": 14,
   "metadata": {
    "collapsed": false
   },
   "outputs": [],
   "source": [
    "point_y = vehicles[vehicles.available==1].lat.values\n",
    "point_x = vehicles[vehicles.available==1].lon.values\n",
    "# point_y = simulator.all_requests.pickup_latitude.values[:10000]\n",
    "# point_x = simulator.all_requests.pickup_longitude.values[:10000]\n",
    "radius=0.001\n",
    "# plot_overmap(point_x, point_y, radius, nyc)"
   ]
  },
  {
   "cell_type": "code",
   "execution_count": null,
   "metadata": {
    "collapsed": true
   },
   "outputs": [],
   "source": []
  }
 ],
 "metadata": {
  "kernelspec": {
   "display_name": "Python 2",
   "language": "python",
   "name": "python2"
  },
  "language_info": {
   "codemirror_mode": {
    "name": "ipython",
    "version": 2
   },
   "file_extension": ".py",
   "mimetype": "text/x-python",
   "name": "python",
   "nbconvert_exporter": "python",
   "pygments_lexer": "ipython2",
   "version": "2.7.9"
  }
 },
 "nbformat": 4,
 "nbformat_minor": 0
}
