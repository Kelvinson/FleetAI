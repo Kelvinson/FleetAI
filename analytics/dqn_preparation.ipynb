{
 "cells": [
  {
   "cell_type": "code",
   "execution_count": 6,
   "metadata": {
    "collapsed": false
   },
   "outputs": [
    {
     "name": "stdout",
     "output_type": "stream",
     "text": [
      "/Users/odatakuma/cmu/FleetAI\n"
     ]
    }
   ],
   "source": [
    "cd .."
   ]
  },
  {
   "cell_type": "code",
   "execution_count": 7,
   "metadata": {
    "collapsed": false
   },
   "outputs": [
    {
     "data": {
      "text/html": [
       "<div>\n",
       "<table border=\"1\" class=\"dataframe\">\n",
       "  <thead>\n",
       "    <tr style=\"text-align: right;\">\n",
       "      <th></th>\n",
       "      <th>lat</th>\n",
       "      <th>lon</th>\n",
       "      <th>taxi_zone</th>\n",
       "      <th>road_density</th>\n",
       "      <th>intxn_density</th>\n",
       "      <th>latest_demand</th>\n",
       "      <th>x</th>\n",
       "      <th>y</th>\n",
       "    </tr>\n",
       "    <tr>\n",
       "      <th>geohash</th>\n",
       "      <th></th>\n",
       "      <th></th>\n",
       "      <th></th>\n",
       "      <th></th>\n",
       "      <th></th>\n",
       "      <th></th>\n",
       "      <th></th>\n",
       "      <th></th>\n",
       "    </tr>\n",
       "  </thead>\n",
       "  <tbody>\n",
       "    <tr>\n",
       "      <th>dr5qgxx</th>\n",
       "      <td>40.603358</td>\n",
       "      <td>-74.015682</td>\n",
       "      <td>10</td>\n",
       "      <td>56</td>\n",
       "      <td>36</td>\n",
       "      <td>0</td>\n",
       "      <td>6</td>\n",
       "      <td>0</td>\n",
       "    </tr>\n",
       "    <tr>\n",
       "      <th>dr5qgxy</th>\n",
       "      <td>40.604832</td>\n",
       "      <td>-74.017029</td>\n",
       "      <td>10</td>\n",
       "      <td>43</td>\n",
       "      <td>8</td>\n",
       "      <td>0</td>\n",
       "      <td>6</td>\n",
       "      <td>1</td>\n",
       "    </tr>\n",
       "    <tr>\n",
       "      <th>dr5qgxz</th>\n",
       "      <td>40.604637</td>\n",
       "      <td>-74.015335</td>\n",
       "      <td>10</td>\n",
       "      <td>22</td>\n",
       "      <td>0</td>\n",
       "      <td>0</td>\n",
       "      <td>6</td>\n",
       "      <td>1</td>\n",
       "    </tr>\n",
       "    <tr>\n",
       "      <th>dr5qgz7</th>\n",
       "      <td>40.602178</td>\n",
       "      <td>-74.010322</td>\n",
       "      <td>10</td>\n",
       "      <td>28</td>\n",
       "      <td>9</td>\n",
       "      <td>0</td>\n",
       "      <td>7</td>\n",
       "      <td>0</td>\n",
       "    </tr>\n",
       "    <tr>\n",
       "      <th>dr5qgz8</th>\n",
       "      <td>40.603474</td>\n",
       "      <td>-74.014180</td>\n",
       "      <td>10</td>\n",
       "      <td>59</td>\n",
       "      <td>14</td>\n",
       "      <td>0</td>\n",
       "      <td>6</td>\n",
       "      <td>0</td>\n",
       "    </tr>\n",
       "  </tbody>\n",
       "</table>\n",
       "</div>"
      ],
      "text/plain": [
       "               lat        lon  taxi_zone  road_density  intxn_density  \\\n",
       "geohash                                                                 \n",
       "dr5qgxx  40.603358 -74.015682         10            56             36   \n",
       "dr5qgxy  40.604832 -74.017029         10            43              8   \n",
       "dr5qgxz  40.604637 -74.015335         10            22              0   \n",
       "dr5qgz7  40.602178 -74.010322         10            28              9   \n",
       "dr5qgz8  40.603474 -74.014180         10            59             14   \n",
       "\n",
       "         latest_demand  x  y  \n",
       "geohash                       \n",
       "dr5qgxx              0  6  0  \n",
       "dr5qgxy              0  6  1  \n",
       "dr5qgxz              0  6  1  \n",
       "dr5qgz7              0  7  0  \n",
       "dr5qgz8              0  6  0  "
      ]
     },
     "execution_count": 7,
     "metadata": {},
     "output_type": "execute_result"
    }
   ],
   "source": [
    "geohash_table = pd.read_csv('engine/data/zones.csv', index_col='geohash')\n",
    "geohash_table.head()"
   ]
  },
  {
   "cell_type": "code",
   "execution_count": 85,
   "metadata": {
    "collapsed": false
   },
   "outputs": [
    {
     "name": "stdout",
     "output_type": "stream",
     "text": [
      "40.6004334225 -74.0406693003\n"
     ]
    }
   ],
   "source": [
    "lat0 = geohash_table.lat.min()\n",
    "lon0 = geohash_table.lon.min()\n",
    "print lat0, lon0"
   ]
  },
  {
   "cell_type": "code",
   "execution_count": 109,
   "metadata": {
    "collapsed": false
   },
   "outputs": [
    {
     "name": "stdout",
     "output_type": "stream",
     "text": [
      "31 31\n"
     ]
    }
   ],
   "source": [
    "import Geohash\n",
    "\n",
    "lat0 = 40.6\n",
    "lon0 = -74.049\n",
    "Nx = 219\n",
    "Ny = 219\n",
    "dx = 0.3/(Nx-1)\n",
    "dy = 0.3/(Ny-1)\n",
    "# g = set([])\n",
    "num_g = 7\n",
    "g2xy = {}\n",
    "for x in range(Nx):\n",
    "    for y in range(Ny):\n",
    "        g = Geohash.encode(lat0+y*dy, lon0+x*dx, 7)\n",
    "        g2xy[g] = (x/num_g, y/num_g)\n",
    "#         g.add(Geohash.encode(lat0+y*dy, lon0+x*dx, 7))\n",
    "print x/num_g, y/num_g"
   ]
  },
  {
   "cell_type": "code",
   "execution_count": 110,
   "metadata": {
    "collapsed": false
   },
   "outputs": [],
   "source": [
    "geohash_table[['x', 'y']] = [g2xy[g] for g in geohash_table.index]"
   ]
  },
  {
   "cell_type": "code",
   "execution_count": 111,
   "metadata": {
    "collapsed": false
   },
   "outputs": [
    {
     "name": "stdout",
     "output_type": "stream",
     "text": [
      "32\n",
      "32\n"
     ]
    }
   ],
   "source": [
    "print len(geohash_table.x.unique())\n",
    "print len(geohash_table.y.unique())"
   ]
  },
  {
   "cell_type": "code",
   "execution_count": 112,
   "metadata": {
    "collapsed": true
   },
   "outputs": [],
   "source": [
    "geohash_table.to_csv('engine/data/zones.csv')"
   ]
  },
  {
   "cell_type": "code",
   "execution_count": 84,
   "metadata": {
    "collapsed": false
   },
   "outputs": [
    {
     "data": {
      "text/plain": [
       "28"
      ]
     },
     "execution_count": 84,
     "metadata": {},
     "output_type": "execute_result"
    }
   ],
   "source": [
    "max_move=3\n",
    "action_space = [(x, y) for x in range(-max_move, max_move+1) for y in range(-max_move, max_move+1)\n",
    "                             if x**2+y**2 <= max_move**2 and (x != 0 or y != 0)]\n",
    "len(action_space)"
   ]
  },
  {
   "cell_type": "code",
   "execution_count": null,
   "metadata": {
    "collapsed": true
   },
   "outputs": [],
   "source": []
  }
 ],
 "metadata": {
  "kernelspec": {
   "display_name": "Python 2",
   "language": "python",
   "name": "python2"
  },
  "language_info": {
   "codemirror_mode": {
    "name": "ipython",
    "version": 2
   },
   "file_extension": ".py",
   "mimetype": "text/x-python",
   "name": "python",
   "nbconvert_exporter": "python",
   "pygments_lexer": "ipython2",
   "version": "2.7.9"
  }
 },
 "nbformat": 4,
 "nbformat_minor": 0
}
