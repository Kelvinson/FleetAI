{
 "cells": [
  {
   "cell_type": "code",
   "execution_count": 1,
   "metadata": {
    "collapsed": true
   },
   "outputs": [],
   "source": [
    "%load_ext autoreload\n",
    "%autoreload 2\n",
    "import numpy as np\n",
    "import pandas as pd\n",
    "import matplotlib\n",
    "%matplotlib inline\n",
    "import matplotlib.pyplot as plt\n",
    "import cPickle as pickle\n",
    "\n",
    "plt.style.use('ggplot')"
   ]
  },
  {
   "cell_type": "code",
   "execution_count": 2,
   "metadata": {
    "collapsed": false
   },
   "outputs": [
    {
     "name": "stdout",
     "output_type": "stream",
     "text": [
      "/Users/odatakuma/cmu/FleetAI\n"
     ]
    }
   ],
   "source": [
    "cd .."
   ]
  },
  {
   "cell_type": "code",
   "execution_count": 3,
   "metadata": {
    "collapsed": true
   },
   "outputs": [],
   "source": [
    "data_path = 'analytics/data/taxi_trips/taxi_tripdata_2016-05.csv'"
   ]
  },
  {
   "cell_type": "code",
   "execution_count": 4,
   "metadata": {
    "collapsed": false
   },
   "outputs": [
    {
     "data": {
      "text/html": [
       "<div>\n",
       "<table border=\"1\" class=\"dataframe\">\n",
       "  <thead>\n",
       "    <tr style=\"text-align: right;\">\n",
       "      <th></th>\n",
       "      <th>dayofweek</th>\n",
       "      <th>dropoff_latitude</th>\n",
       "      <th>dropoff_longitude</th>\n",
       "      <th>hour</th>\n",
       "      <th>minute</th>\n",
       "      <th>pickup_latitude</th>\n",
       "      <th>pickup_longitude</th>\n",
       "      <th>trip_distance</th>\n",
       "      <th>trip_time</th>\n",
       "      <th>great_circle_distance</th>\n",
       "    </tr>\n",
       "  </thead>\n",
       "  <tbody>\n",
       "    <tr>\n",
       "      <th>0</th>\n",
       "      <td>6</td>\n",
       "      <td>40.730099</td>\n",
       "      <td>-73.983986</td>\n",
       "      <td>0</td>\n",
       "      <td>0</td>\n",
       "      <td>40.768040</td>\n",
       "      <td>-73.985901</td>\n",
       "      <td>3.60</td>\n",
       "      <td>17.516666</td>\n",
       "      <td>4221</td>\n",
       "    </tr>\n",
       "    <tr>\n",
       "      <th>1</th>\n",
       "      <td>6</td>\n",
       "      <td>40.744633</td>\n",
       "      <td>-73.980995</td>\n",
       "      <td>0</td>\n",
       "      <td>0</td>\n",
       "      <td>40.741573</td>\n",
       "      <td>-73.993073</td>\n",
       "      <td>1.09</td>\n",
       "      <td>7.016667</td>\n",
       "      <td>1072</td>\n",
       "    </tr>\n",
       "    <tr>\n",
       "      <th>2</th>\n",
       "      <td>6</td>\n",
       "      <td>40.733002</td>\n",
       "      <td>-74.002258</td>\n",
       "      <td>0</td>\n",
       "      <td>0</td>\n",
       "      <td>40.684601</td>\n",
       "      <td>-73.991943</td>\n",
       "      <td>4.21</td>\n",
       "      <td>19.783333</td>\n",
       "      <td>5451</td>\n",
       "    </tr>\n",
       "    <tr>\n",
       "      <th>3</th>\n",
       "      <td>6</td>\n",
       "      <td>40.765469</td>\n",
       "      <td>-73.975700</td>\n",
       "      <td>0</td>\n",
       "      <td>0</td>\n",
       "      <td>40.744751</td>\n",
       "      <td>-73.991577</td>\n",
       "      <td>1.68</td>\n",
       "      <td>7.516667</td>\n",
       "      <td>2663</td>\n",
       "    </tr>\n",
       "    <tr>\n",
       "      <th>4</th>\n",
       "      <td>6</td>\n",
       "      <td>40.737564</td>\n",
       "      <td>-73.997498</td>\n",
       "      <td>0</td>\n",
       "      <td>0</td>\n",
       "      <td>40.740192</td>\n",
       "      <td>-74.005280</td>\n",
       "      <td>0.56</td>\n",
       "      <td>6.650000</td>\n",
       "      <td>717</td>\n",
       "    </tr>\n",
       "  </tbody>\n",
       "</table>\n",
       "</div>"
      ],
      "text/plain": [
       "   dayofweek  dropoff_latitude  dropoff_longitude  hour  minute  \\\n",
       "0          6         40.730099         -73.983986     0       0   \n",
       "1          6         40.744633         -73.980995     0       0   \n",
       "2          6         40.733002         -74.002258     0       0   \n",
       "3          6         40.765469         -73.975700     0       0   \n",
       "4          6         40.737564         -73.997498     0       0   \n",
       "\n",
       "   pickup_latitude  pickup_longitude  trip_distance  trip_time  \\\n",
       "0        40.768040        -73.985901           3.60  17.516666   \n",
       "1        40.741573        -73.993073           1.09   7.016667   \n",
       "2        40.684601        -73.991943           4.21  19.783333   \n",
       "3        40.744751        -73.991577           1.68   7.516667   \n",
       "4        40.740192        -74.005280           0.56   6.650000   \n",
       "\n",
       "   great_circle_distance  \n",
       "0                   4221  \n",
       "1                   1072  \n",
       "2                   5451  \n",
       "3                   2663  \n",
       "4                    717  "
      ]
     },
     "execution_count": 4,
     "metadata": {},
     "output_type": "execute_result"
    }
   ],
   "source": [
    "cols = ['dayofweek', 'hour', 'minute', 'pickup_latitude', 'pickup_longitude',\n",
    "        'dropoff_latitude', 'dropoff_longitude', 'great_circle_distance', 'trip_distance', 'trip_time']\n",
    "df = pd.read_csv(data_path, usecols=cols, dtype={key : np.float32 for key in cols})\n",
    "df.head()"
   ]
  },
  {
   "cell_type": "code",
   "execution_count": 5,
   "metadata": {
    "collapsed": false
   },
   "outputs": [],
   "source": [
    "df['hour'] = df.hour + df.minute/60\n",
    "df = df.drop('minute', axis=1)\n",
    "df['trip_distance'] = df.trip_distance * 1.60934\n",
    "df['great_circle_distance'] = df.great_circle_distance / 1000\n",
    "df = df[df.trip_distance > df.great_circle_distance]\n",
    "df = df[df.trip_distance < df.great_circle_distance*5]"
   ]
  },
  {
   "cell_type": "code",
   "execution_count": 6,
   "metadata": {
    "collapsed": false
   },
   "outputs": [
    {
     "data": {
      "text/plain": [
       "(12275709, 9)"
      ]
     },
     "execution_count": 6,
     "metadata": {},
     "output_type": "execute_result"
    }
   ],
   "source": [
    "df.shape"
   ]
  },
  {
   "cell_type": "code",
   "execution_count": 7,
   "metadata": {
    "collapsed": false
   },
   "outputs": [
    {
     "name": "stderr",
     "output_type": "stream",
     "text": [
      "/Users/odatakuma/anaconda/lib/python2.7/site-packages/sklearn/cross_validation.py:44: DeprecationWarning: This module was deprecated in version 0.18 in favor of the model_selection module into which all the refactored classes and functions are moved. Also note that the interface of the new CV iterators are different from that of this module. This module will be removed in 0.20.\n",
      "  \"This module will be removed in 0.20.\", DeprecationWarning)\n"
     ]
    },
    {
     "name": "stdout",
     "output_type": "stream",
     "text": [
      "(12275709, 7)\n"
     ]
    }
   ],
   "source": [
    "from sklearn.cross_validation import train_test_split\n",
    "\n",
    "X = df[['dayofweek', 'hour', 'pickup_latitude', 'pickup_longitude',\n",
    "        'dropoff_latitude', 'dropoff_longitude', 'trip_distance']].values\n",
    "y = df['trip_time'].values\n",
    "X_train, X_test, y_train, y_test = train_test_split(X, y, test_size=0.3, random_state=0)\n",
    "print X.shape"
   ]
  },
  {
   "cell_type": "code",
   "execution_count": 8,
   "metadata": {
    "collapsed": false
   },
   "outputs": [
    {
     "name": "stdout",
     "output_type": "stream",
     "text": [
      "RMSE train/val: 5.3 / 5.3\n",
      "CPU times: user 6min 40s, sys: 9.05 s, total: 6min 49s\n",
      "Wall time: 6min 56s\n"
     ]
    }
   ],
   "source": [
    "%%time\n",
    "from sklearn.ensemble import GradientBoostingRegressor\n",
    "\n",
    "gbr = GradientBoostingRegressor(learning_rate=1.0, n_estimators=20, subsample=0.2, max_depth=4)\n",
    "gbr.fit(X_train, y_train)\n",
    "rmse_train = np.sqrt(((y_train - gbr.predict(X_train))**2).mean())\n",
    "rmse_test = np.sqrt(((y_test - gbr.predict(X_test))**2).mean())\n",
    "print \"RMSE train/val: %.1f / %.1f\" % (rmse_train, rmse_test)"
   ]
  },
  {
   "cell_type": "code",
   "execution_count": 13,
   "metadata": {
    "collapsed": false
   },
   "outputs": [
    {
     "name": "stdout",
     "output_type": "stream",
     "text": [
      "RMSE train/val: 4.3 / 4.6\n",
      "CPU times: user 27min 49s, sys: 6.93 s, total: 27min 56s\n",
      "Wall time: 8min 29s\n"
     ]
    }
   ],
   "source": [
    "%%time\n",
    "from sklearn.ensemble import RandomForestRegressor\n",
    "\n",
    "forest = RandomForestRegressor(n_estimators=10, min_samples_split=2e-5, n_jobs=-1)\n",
    "forest.fit(X_train, y_train)\n",
    "rmse_train = np.sqrt(((y_train - forest.predict(X_train))**2).mean())\n",
    "rmse_test = np.sqrt(((y_test - forest.predict(X_test))**2).mean())\n",
    "print \"RMSE train/val: %.1f / %.1f\" % (rmse_train, rmse_test)"
   ]
  },
  {
   "cell_type": "code",
   "execution_count": 17,
   "metadata": {
    "collapsed": false
   },
   "outputs": [],
   "source": [
    "from keras.models import Sequential\n",
    "from keras.layers.core import Dense\n",
    "\n",
    "def MLP(size, act='relu'):\n",
    "    model = Sequential()\n",
    "    model.add(Dense(size, input_dim=7, activation=act))\n",
    "    model.add(Dense(size, activation=act))\n",
    "    model.add(Dense(size, activation=act))\n",
    "    model.add(Dense(1, init='normal'))\n",
    "    model.compile(loss='mean_squared_error',  optimizer='adam')\n",
    "    return model"
   ]
  },
  {
   "cell_type": "code",
   "execution_count": 18,
   "metadata": {
    "collapsed": false
   },
   "outputs": [
    {
     "name": "stdout",
     "output_type": "stream",
     "text": [
      "RMSE train/val: 5.7 / 5.7\n",
      "CPU times: user 19min 26s, sys: 2min 24s, total: 21min 50s\n",
      "Wall time: 8min 43s\n"
     ]
    }
   ],
   "source": [
    "%%time\n",
    "mlp = MLP(64)\n",
    "mlp.fit(X_train, y_train, nb_epoch=10, batch_size=1000, verbose=0, validation_split=0.0)\n",
    "y_pred_train = mlp.predict(X_train, batch_size=10000, verbose=0)[:, 0]\n",
    "y_pred_test = mlp.predict(X_test, batch_size=10000, verbose=0)[:, 0]\n",
    "rmse_train = np.sqrt(((y_train - y_pred_train)**2).mean())\n",
    "rmse_test = np.sqrt(((y_test - y_pred_test)**2).mean())\n",
    "print \"RMSE train/val: %.1f / %.1f\" % (rmse_train, rmse_test)                         "
   ]
  },
  {
   "cell_type": "code",
   "execution_count": 19,
   "metadata": {
    "collapsed": false
   },
   "outputs": [
    {
     "name": "stdout",
     "output_type": "stream",
     "text": [
      "RMSE train/val: 4.6 / 4.7\n",
      "CPU times: user 26min 56s, sys: 12 s, total: 27min 8s\n",
      "Wall time: 8min 46s\n"
     ]
    }
   ],
   "source": [
    "%%time\n",
    "forest = RandomForestRegressor(n_estimators=10, min_samples_split=5e-5, n_jobs=-1)\n",
    "forest.fit(X_train, y_train)\n",
    "rmse_train = np.sqrt(((y_train - forest.predict(X_train))**2).mean())\n",
    "rmse_test = np.sqrt(((y_test - forest.predict(X_test))**2).mean())\n",
    "print \"RMSE train/val: %.1f / %.1f\" % (rmse_train, rmse_test)"
   ]
  },
  {
   "cell_type": "code",
   "execution_count": 20,
   "metadata": {
    "collapsed": true
   },
   "outputs": [],
   "source": [
    "path = 'engine/model/pickle/triptime_predictor.pkl'\n",
    "with open(path, 'wb') as f:\n",
    "    pickle.dump(forest, f)"
   ]
  },
  {
   "cell_type": "code",
   "execution_count": null,
   "metadata": {
    "collapsed": true
   },
   "outputs": [],
   "source": []
  }
 ],
 "metadata": {
  "kernelspec": {
   "display_name": "Python 2",
   "language": "python",
   "name": "python2"
  },
  "language_info": {
   "codemirror_mode": {
    "name": "ipython",
    "version": 2
   },
   "file_extension": ".py",
   "mimetype": "text/x-python",
   "name": "python",
   "nbconvert_exporter": "python",
   "pygments_lexer": "ipython2",
   "version": "2.7.9"
  }
 },
 "nbformat": 4,
 "nbformat_minor": 0
}
