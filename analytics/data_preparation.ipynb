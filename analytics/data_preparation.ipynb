{
 "cells": [
  {
   "cell_type": "code",
   "execution_count": 1,
   "metadata": {
    "collapsed": false
   },
   "outputs": [],
   "source": [
    "%load_ext autoreload\n",
    "%autoreload 2\n",
    "import numpy as np\n",
    "import pandas as pd\n",
    "import matplotlib\n",
    "%matplotlib inline\n",
    "import matplotlib.pyplot as plt\n",
    "plt.style.use('ggplot')"
   ]
  },
  {
   "cell_type": "code",
   "execution_count": 2,
   "metadata": {
    "collapsed": false
   },
   "outputs": [
    {
     "name": "stdout",
     "output_type": "stream",
     "text": [
      "/Users/odatakuma/cmu/FleetAI\n"
     ]
    }
   ],
   "source": [
    "cd .."
   ]
  },
  {
   "cell_type": "code",
   "execution_count": 3,
   "metadata": {
    "collapsed": true
   },
   "outputs": [],
   "source": [
    "data_path = 'analytics/data/taxi_trips/taxi_tripdata_2016-05.csv'"
   ]
  },
  {
   "cell_type": "markdown",
   "metadata": {},
   "source": [
    "## 1. Geohash all trip records\n",
    "\n",
    "Final preprocess steps"
   ]
  },
  {
   "cell_type": "code",
   "execution_count": 5,
   "metadata": {
    "collapsed": false
   },
   "outputs": [
    {
     "data": {
      "text/html": [
       "<div>\n",
       "<table border=\"1\" class=\"dataframe\">\n",
       "  <thead>\n",
       "    <tr style=\"text-align: right;\">\n",
       "      <th></th>\n",
       "      <th>date</th>\n",
       "      <th>dayofweek</th>\n",
       "      <th>dropoff_latitude</th>\n",
       "      <th>dropoff_longitude</th>\n",
       "      <th>hour</th>\n",
       "      <th>minute</th>\n",
       "      <th>pickup_latitude</th>\n",
       "      <th>pickup_longitude</th>\n",
       "      <th>second</th>\n",
       "      <th>trip_distance</th>\n",
       "      <th>trip_time</th>\n",
       "      <th>great_circle_distance</th>\n",
       "      <th>pickup_geohash</th>\n",
       "      <th>dropoff_geohash</th>\n",
       "      <th>pickup_zone</th>\n",
       "      <th>dropoff_zone</th>\n",
       "    </tr>\n",
       "    <tr>\n",
       "      <th>request_id</th>\n",
       "      <th></th>\n",
       "      <th></th>\n",
       "      <th></th>\n",
       "      <th></th>\n",
       "      <th></th>\n",
       "      <th></th>\n",
       "      <th></th>\n",
       "      <th></th>\n",
       "      <th></th>\n",
       "      <th></th>\n",
       "      <th></th>\n",
       "      <th></th>\n",
       "      <th></th>\n",
       "      <th></th>\n",
       "      <th></th>\n",
       "      <th></th>\n",
       "    </tr>\n",
       "  </thead>\n",
       "  <tbody>\n",
       "    <tr>\n",
       "      <th>0</th>\n",
       "      <td>1</td>\n",
       "      <td>6</td>\n",
       "      <td>40.730099</td>\n",
       "      <td>-73.983986</td>\n",
       "      <td>0</td>\n",
       "      <td>0</td>\n",
       "      <td>40.768040</td>\n",
       "      <td>-73.985901</td>\n",
       "      <td>0</td>\n",
       "      <td>3.60</td>\n",
       "      <td>17.516667</td>\n",
       "      <td>4221</td>\n",
       "      <td>dr5rumt</td>\n",
       "      <td>dr5rsqw</td>\n",
       "      <td>172</td>\n",
       "      <td>55</td>\n",
       "    </tr>\n",
       "    <tr>\n",
       "      <th>1</th>\n",
       "      <td>1</td>\n",
       "      <td>6</td>\n",
       "      <td>40.744633</td>\n",
       "      <td>-73.980995</td>\n",
       "      <td>0</td>\n",
       "      <td>0</td>\n",
       "      <td>40.741573</td>\n",
       "      <td>-73.993073</td>\n",
       "      <td>0</td>\n",
       "      <td>1.09</td>\n",
       "      <td>7.016667</td>\n",
       "      <td>1072</td>\n",
       "      <td>dr5ru0z</td>\n",
       "      <td>dr5ru92</td>\n",
       "      <td>255</td>\n",
       "      <td>79</td>\n",
       "    </tr>\n",
       "    <tr>\n",
       "      <th>2</th>\n",
       "      <td>1</td>\n",
       "      <td>6</td>\n",
       "      <td>40.733002</td>\n",
       "      <td>-74.002258</td>\n",
       "      <td>0</td>\n",
       "      <td>0</td>\n",
       "      <td>40.684601</td>\n",
       "      <td>-73.991943</td>\n",
       "      <td>0</td>\n",
       "      <td>4.21</td>\n",
       "      <td>19.783333</td>\n",
       "      <td>5451</td>\n",
       "      <td>dr5rkq2</td>\n",
       "      <td>dr5rsp1</td>\n",
       "      <td>74</td>\n",
       "      <td>111</td>\n",
       "    </tr>\n",
       "    <tr>\n",
       "      <th>3</th>\n",
       "      <td>1</td>\n",
       "      <td>6</td>\n",
       "      <td>40.765469</td>\n",
       "      <td>-73.975700</td>\n",
       "      <td>0</td>\n",
       "      <td>0</td>\n",
       "      <td>40.744751</td>\n",
       "      <td>-73.991577</td>\n",
       "      <td>0</td>\n",
       "      <td>1.68</td>\n",
       "      <td>7.516667</td>\n",
       "      <td>2663</td>\n",
       "      <td>dr5ru32</td>\n",
       "      <td>dr5ruth</td>\n",
       "      <td>172</td>\n",
       "      <td>197</td>\n",
       "    </tr>\n",
       "    <tr>\n",
       "      <th>4</th>\n",
       "      <td>1</td>\n",
       "      <td>6</td>\n",
       "      <td>40.737564</td>\n",
       "      <td>-73.997498</td>\n",
       "      <td>0</td>\n",
       "      <td>0</td>\n",
       "      <td>40.740192</td>\n",
       "      <td>-74.005280</td>\n",
       "      <td>0</td>\n",
       "      <td>0.56</td>\n",
       "      <td>6.650000</td>\n",
       "      <td>717</td>\n",
       "      <td>dr5rgbx</td>\n",
       "      <td>dr5ru0h</td>\n",
       "      <td>254</td>\n",
       "      <td>255</td>\n",
       "    </tr>\n",
       "  </tbody>\n",
       "</table>\n",
       "</div>"
      ],
      "text/plain": [
       "            date  dayofweek  dropoff_latitude  dropoff_longitude  hour  \\\n",
       "request_id                                                               \n",
       "0              1          6         40.730099         -73.983986     0   \n",
       "1              1          6         40.744633         -73.980995     0   \n",
       "2              1          6         40.733002         -74.002258     0   \n",
       "3              1          6         40.765469         -73.975700     0   \n",
       "4              1          6         40.737564         -73.997498     0   \n",
       "\n",
       "            minute  pickup_latitude  pickup_longitude  second  trip_distance  \\\n",
       "request_id                                                                     \n",
       "0                0        40.768040        -73.985901       0           3.60   \n",
       "1                0        40.741573        -73.993073       0           1.09   \n",
       "2                0        40.684601        -73.991943       0           4.21   \n",
       "3                0        40.744751        -73.991577       0           1.68   \n",
       "4                0        40.740192        -74.005280       0           0.56   \n",
       "\n",
       "            trip_time  great_circle_distance pickup_geohash dropoff_geohash  \\\n",
       "request_id                                                                    \n",
       "0           17.516667                   4221        dr5rumt         dr5rsqw   \n",
       "1            7.016667                   1072        dr5ru0z         dr5ru92   \n",
       "2           19.783333                   5451        dr5rkq2         dr5rsp1   \n",
       "3            7.516667                   2663        dr5ru32         dr5ruth   \n",
       "4            6.650000                    717        dr5rgbx         dr5ru0h   \n",
       "\n",
       "            pickup_zone  dropoff_zone  \n",
       "request_id                             \n",
       "0                   172            55  \n",
       "1                   255            79  \n",
       "2                    74           111  \n",
       "3                   172           197  \n",
       "4                   254           255  "
      ]
     },
     "execution_count": 5,
     "metadata": {},
     "output_type": "execute_result"
    }
   ],
   "source": [
    "df = pd.read_csv(data_path, index_col='request_id')\n",
    "\n",
    "from analytics.preprocess import geohashing\n",
    "df['pickup_geohash'] = geohashing(df[['pickup_latitude', 'pickup_longitude']])\n",
    "df['dropoff_geohash'] = geohashing(df[['dropoff_latitude', 'dropoff_longitude']])\n",
    "df.head()"
   ]
  },
  {
   "cell_type": "code",
   "execution_count": 6,
   "metadata": {
    "collapsed": true
   },
   "outputs": [],
   "source": [
    "df.to_csv(data_path)"
   ]
  },
  {
   "cell_type": "markdown",
   "metadata": {},
   "source": [
    "## Create geohash table"
   ]
  },
  {
   "cell_type": "code",
   "execution_count": 4,
   "metadata": {
    "collapsed": false
   },
   "outputs": [
    {
     "data": {
      "text/plain": [
       "pickup_geohash\n",
       "dr5qgxz    1\n",
       "dr5qgz2    1\n",
       "dr5qgz5    3\n",
       "dr5qgz7    1\n",
       "dr5qgz8    1\n",
       "Name: pickup_geohash, dtype: int64"
      ]
     },
     "execution_count": 4,
     "metadata": {},
     "output_type": "execute_result"
    }
   ],
   "source": [
    "df = pd.read_csv(data_path, usecols=['pickup_geohash'])\n",
    "pickup = df.groupby(['pickup_geohash']).pickup_geohash.count()\n",
    "pickup.head()"
   ]
  },
  {
   "cell_type": "code",
   "execution_count": 5,
   "metadata": {
    "collapsed": false
   },
   "outputs": [
    {
     "data": {
      "text/plain": [
       "dropoff_geohash\n",
       "dr5qgru    1\n",
       "dr5qgrv    2\n",
       "dr5qgry    1\n",
       "dr5qgxm    1\n",
       "dr5qgxs    2\n",
       "Name: dropoff_geohash, dtype: int64"
      ]
     },
     "execution_count": 5,
     "metadata": {},
     "output_type": "execute_result"
    }
   ],
   "source": [
    "df = pd.read_csv(data_path, usecols=['dropoff_geohash'])\n",
    "dropoff = df.groupby(['dropoff_geohash']).dropoff_geohash.count()\n",
    "dropoff.head()"
   ]
  },
  {
   "cell_type": "code",
   "execution_count": 6,
   "metadata": {
    "collapsed": false
   },
   "outputs": [
    {
     "data": {
      "text/html": [
       "<div>\n",
       "<table border=\"1\" class=\"dataframe\">\n",
       "  <thead>\n",
       "    <tr style=\"text-align: right;\">\n",
       "      <th></th>\n",
       "      <th>geohash</th>\n",
       "      <th>total_pickup</th>\n",
       "      <th>total_dropoff</th>\n",
       "      <th>lat</th>\n",
       "      <th>lon</th>\n",
       "    </tr>\n",
       "  </thead>\n",
       "  <tbody>\n",
       "    <tr>\n",
       "      <th>0</th>\n",
       "      <td>dr5qgru</td>\n",
       "      <td>0</td>\n",
       "      <td>1</td>\n",
       "      <td>40.604782</td>\n",
       "      <td>-74.030685</td>\n",
       "    </tr>\n",
       "    <tr>\n",
       "      <th>1</th>\n",
       "      <td>dr5qgrv</td>\n",
       "      <td>0</td>\n",
       "      <td>2</td>\n",
       "      <td>40.604782</td>\n",
       "      <td>-74.029312</td>\n",
       "    </tr>\n",
       "    <tr>\n",
       "      <th>2</th>\n",
       "      <td>dr5qgry</td>\n",
       "      <td>0</td>\n",
       "      <td>1</td>\n",
       "      <td>40.604782</td>\n",
       "      <td>-74.027939</td>\n",
       "    </tr>\n",
       "    <tr>\n",
       "      <th>3</th>\n",
       "      <td>dr5qgxm</td>\n",
       "      <td>0</td>\n",
       "      <td>1</td>\n",
       "      <td>40.602036</td>\n",
       "      <td>-74.018326</td>\n",
       "    </tr>\n",
       "    <tr>\n",
       "      <th>4</th>\n",
       "      <td>dr5qgxs</td>\n",
       "      <td>0</td>\n",
       "      <td>2</td>\n",
       "      <td>40.603409</td>\n",
       "      <td>-74.019699</td>\n",
       "    </tr>\n",
       "  </tbody>\n",
       "</table>\n",
       "</div>"
      ],
      "text/plain": [
       "   geohash  total_pickup  total_dropoff        lat        lon\n",
       "0  dr5qgru             0              1  40.604782 -74.030685\n",
       "1  dr5qgrv             0              2  40.604782 -74.029312\n",
       "2  dr5qgry             0              1  40.604782 -74.027939\n",
       "3  dr5qgxm             0              1  40.602036 -74.018326\n",
       "4  dr5qgxs             0              2  40.603409 -74.019699"
      ]
     },
     "execution_count": 6,
     "metadata": {},
     "output_type": "execute_result"
    }
   ],
   "source": [
    "import Geohash\n",
    "\n",
    "demand = pd.concat([pickup, dropoff], axis=1).fillna(0)\n",
    "demand = demand.rename(columns={\n",
    "    'pickup_geohash':'total_pickup',\n",
    "    'dropoff_geohash':'total_dropoff'\n",
    "})\n",
    "geolats = []\n",
    "geolons = []\n",
    "for s in demand.index:\n",
    "    lat, lon, _, _ = Geohash.decode_exactly(s)\n",
    "    geolats.append(float(lat))\n",
    "    geolons.append(float(lon))\n",
    "demand['lat'] = geolats\n",
    "demand['lon'] = geolons\n",
    "demand = demand.reset_index().rename(columns={'index':'geohash'})\n",
    "demand.head()"
   ]
  },
  {
   "cell_type": "code",
   "execution_count": 7,
   "metadata": {
    "collapsed": false
   },
   "outputs": [
    {
     "data": {
      "text/plain": [
       "(28734, 5)"
      ]
     },
     "execution_count": 7,
     "metadata": {},
     "output_type": "execute_result"
    }
   ],
   "source": [
    "demand.shape"
   ]
  },
  {
   "cell_type": "code",
   "execution_count": 8,
   "metadata": {
    "collapsed": false
   },
   "outputs": [
    {
     "data": {
      "text/plain": [
       "(21700, 5)"
      ]
     },
     "execution_count": 8,
     "metadata": {},
     "output_type": "execute_result"
    }
   ],
   "source": [
    "demand = demand[(demand.total_pickup>5)|(demand.total_dropoff>5)]\n",
    "demand.shape"
   ]
  },
  {
   "cell_type": "markdown",
   "metadata": {},
   "source": [
    "## 2. Analyze # of pickup/dropoff by zones"
   ]
  },
  {
   "cell_type": "code",
   "execution_count": 9,
   "metadata": {
    "collapsed": false
   },
   "outputs": [],
   "source": [
    "from engine.mapper.geohelper import plot_overmap\n",
    "import geopandas as gpd\n",
    "\n",
    "nyc = gpd.read_file(\"analytics/data/taxi_zones/taxi_zones.shp\").to_crs('+proj=latlon')\n",
    "nyc = nyc[(nyc.borough != 'EWR')&(nyc.borough != 'Staten Island')]"
   ]
  },
  {
   "cell_type": "code",
   "execution_count": 10,
   "metadata": {
    "collapsed": false
   },
   "outputs": [],
   "source": [
    "import shapely\n",
    "import rtree\n",
    "\n",
    "def assign_zone(loc, gdf):\n",
    "    df = gpd.GeoDataFrame(loc.copy(), crs=\"+proj=latlon\")\n",
    "    df[\"geometry\"] = [shapely.geometry.Point(lon, lat)for lat, lon in loc.values]\n",
    "    df = gpd.sjoin(df, gdf[[\"geometry\"]], how=\"inner\", op=\"within\")    \n",
    "    return df.index_right"
   ]
  },
  {
   "cell_type": "code",
   "execution_count": 11,
   "metadata": {
    "collapsed": false,
    "scrolled": true
   },
   "outputs": [
    {
     "data": {
      "text/html": [
       "<div>\n",
       "<table border=\"1\" class=\"dataframe\">\n",
       "  <thead>\n",
       "    <tr style=\"text-align: right;\">\n",
       "      <th></th>\n",
       "      <th>geohash</th>\n",
       "      <th>total_pickup</th>\n",
       "      <th>total_dropoff</th>\n",
       "      <th>lat</th>\n",
       "      <th>lon</th>\n",
       "      <th>taxi_zone</th>\n",
       "    </tr>\n",
       "  </thead>\n",
       "  <tbody>\n",
       "    <tr>\n",
       "      <th>7</th>\n",
       "      <td>dr5qgxx</td>\n",
       "      <td>0</td>\n",
       "      <td>8</td>\n",
       "      <td>40.603409</td>\n",
       "      <td>-74.015579</td>\n",
       "      <td>10</td>\n",
       "    </tr>\n",
       "    <tr>\n",
       "      <th>8</th>\n",
       "      <td>dr5qgxy</td>\n",
       "      <td>0</td>\n",
       "      <td>8</td>\n",
       "      <td>40.604782</td>\n",
       "      <td>-74.016953</td>\n",
       "      <td>10</td>\n",
       "    </tr>\n",
       "    <tr>\n",
       "      <th>9</th>\n",
       "      <td>dr5qgxz</td>\n",
       "      <td>1</td>\n",
       "      <td>9</td>\n",
       "      <td>40.604782</td>\n",
       "      <td>-74.015579</td>\n",
       "      <td>10</td>\n",
       "    </tr>\n",
       "    <tr>\n",
       "      <th>14</th>\n",
       "      <td>dr5qgz7</td>\n",
       "      <td>1</td>\n",
       "      <td>15</td>\n",
       "      <td>40.602036</td>\n",
       "      <td>-74.010086</td>\n",
       "      <td>10</td>\n",
       "    </tr>\n",
       "    <tr>\n",
       "      <th>15</th>\n",
       "      <td>dr5qgz8</td>\n",
       "      <td>1</td>\n",
       "      <td>7</td>\n",
       "      <td>40.603409</td>\n",
       "      <td>-74.014206</td>\n",
       "      <td>10</td>\n",
       "    </tr>\n",
       "  </tbody>\n",
       "</table>\n",
       "</div>"
      ],
      "text/plain": [
       "    geohash  total_pickup  total_dropoff        lat        lon  taxi_zone\n",
       "7   dr5qgxx             0              8  40.603409 -74.015579         10\n",
       "8   dr5qgxy             0              8  40.604782 -74.016953         10\n",
       "9   dr5qgxz             1              9  40.604782 -74.015579         10\n",
       "14  dr5qgz7             1             15  40.602036 -74.010086         10\n",
       "15  dr5qgz8             1              7  40.603409 -74.014206         10"
      ]
     },
     "execution_count": 11,
     "metadata": {},
     "output_type": "execute_result"
    }
   ],
   "source": [
    "demand['taxi_zone'] = assign_zone(demand[['lat', 'lon']], nyc)\n",
    "demand = demand.dropna()\n",
    "demand.head()"
   ]
  },
  {
   "cell_type": "markdown",
   "metadata": {},
   "source": [
    "## 3. Remove taxi zones with low pickup/dropoff"
   ]
  },
  {
   "cell_type": "code",
   "execution_count": 12,
   "metadata": {
    "collapsed": false
   },
   "outputs": [
    {
     "data": {
      "text/plain": [
       "(227, 2)"
      ]
     },
     "execution_count": 12,
     "metadata": {},
     "output_type": "execute_result"
    }
   ],
   "source": [
    "demand_by_zone = demand.groupby(['taxi_zone'])[['total_pickup', 'total_dropoff']].sum()\n",
    "demand_by_zone.shape"
   ]
  },
  {
   "cell_type": "code",
   "execution_count": 13,
   "metadata": {
    "collapsed": false
   },
   "outputs": [
    {
     "data": {
      "text/plain": [
       "(221, 2)"
      ]
     },
     "execution_count": 13,
     "metadata": {},
     "output_type": "execute_result"
    }
   ],
   "source": [
    "demand_by_zone = demand_by_zone[\n",
    "    (demand_by_zone.total_pickup>100)\n",
    "    | (demand_by_zone.total_dropoff>100)]\n",
    "demand_by_zone.shape"
   ]
  },
  {
   "cell_type": "code",
   "execution_count": 14,
   "metadata": {
    "collapsed": false
   },
   "outputs": [],
   "source": [
    "nyc['total_pickup'] = np.sqrt(demand_by_zone.total_pickup)\n",
    "nyc['total_dropoff'] = np.sqrt(demand_by_zone.total_dropoff)"
   ]
  },
  {
   "cell_type": "code",
   "execution_count": 32,
   "metadata": {
    "collapsed": false
   },
   "outputs": [
    {
     "data": {
      "text/plain": [
       "<matplotlib.figure.Figure at 0x111c21a90>"
      ]
     },
     "metadata": {},
     "output_type": "display_data"
    },
    {
     "data": {
      "image/png": "[encoded data removed]",
      "text/plain": [
       "<matplotlib.figure.Figure at 0x116fa4990>"
      ]
     },
     "metadata": {},
     "output_type": "display_data"
    }
   ],
   "source": [
    "plt.clf()\n",
    "fig = plt.figure(figsize=(10, 5), dpi=10)\n",
    "ax1 = fig.add_subplot(121, axisbg='w', frame_on=False)\n",
    "ax1.set_xticks([])\n",
    "ax1.set_yticks([])\n",
    "nyc.dropna().plot(column='total_pickup', cmap=\"Reds\", axes=ax1, linewidth=0.2)\n",
    "ax2 = fig.add_subplot(122, axisbg='w', frame_on=False)\n",
    "ax2.set_xticks([])\n",
    "ax2.set_yticks([])\n",
    "nyc.dropna().plot(column='total_dropoff', cmap=\"Reds\", axes=ax2, linewidth=0.2)\n",
    "plt.tight_layout();"
   ]
  },
  {
   "cell_type": "code",
   "execution_count": 15,
   "metadata": {
    "collapsed": true
   },
   "outputs": [],
   "source": [
    "taxi_zones = demand_by_zone.index\n",
    "demand = demand[[zone in taxi_zones for zone in demand.taxi_zone]]"
   ]
  },
  {
   "cell_type": "code",
   "execution_count": 16,
   "metadata": {
    "collapsed": false
   },
   "outputs": [],
   "source": [
    "demand.to_csv('analytics/data/geohash.csv', index=False)"
   ]
  },
  {
   "cell_type": "markdown",
   "metadata": {},
   "source": [
    "## 4. Tag taxi zone to all trip records"
   ]
  },
  {
   "cell_type": "code",
   "execution_count": 40,
   "metadata": {
    "collapsed": false
   },
   "outputs": [
    {
     "data": {
      "text/html": [
       "<div>\n",
       "<table border=\"1\" class=\"dataframe\">\n",
       "  <thead>\n",
       "    <tr style=\"text-align: right;\">\n",
       "      <th></th>\n",
       "      <th>geohash</th>\n",
       "      <th>total_pickup</th>\n",
       "      <th>total_dropoff</th>\n",
       "      <th>lat</th>\n",
       "      <th>lon</th>\n",
       "      <th>taxi_zone</th>\n",
       "    </tr>\n",
       "  </thead>\n",
       "  <tbody>\n",
       "    <tr>\n",
       "      <th>0</th>\n",
       "      <td>dr5qgxx</td>\n",
       "      <td>0</td>\n",
       "      <td>8</td>\n",
       "      <td>40.603409</td>\n",
       "      <td>-74.015579</td>\n",
       "      <td>10</td>\n",
       "    </tr>\n",
       "    <tr>\n",
       "      <th>1</th>\n",
       "      <td>dr5qgxy</td>\n",
       "      <td>0</td>\n",
       "      <td>8</td>\n",
       "      <td>40.604782</td>\n",
       "      <td>-74.016953</td>\n",
       "      <td>10</td>\n",
       "    </tr>\n",
       "    <tr>\n",
       "      <th>2</th>\n",
       "      <td>dr5qgxz</td>\n",
       "      <td>1</td>\n",
       "      <td>9</td>\n",
       "      <td>40.604782</td>\n",
       "      <td>-74.015579</td>\n",
       "      <td>10</td>\n",
       "    </tr>\n",
       "    <tr>\n",
       "      <th>3</th>\n",
       "      <td>dr5qgz7</td>\n",
       "      <td>1</td>\n",
       "      <td>15</td>\n",
       "      <td>40.602036</td>\n",
       "      <td>-74.010086</td>\n",
       "      <td>10</td>\n",
       "    </tr>\n",
       "    <tr>\n",
       "      <th>4</th>\n",
       "      <td>dr5qgz8</td>\n",
       "      <td>1</td>\n",
       "      <td>7</td>\n",
       "      <td>40.603409</td>\n",
       "      <td>-74.014206</td>\n",
       "      <td>10</td>\n",
       "    </tr>\n",
       "  </tbody>\n",
       "</table>\n",
       "</div>"
      ],
      "text/plain": [
       "   geohash  total_pickup  total_dropoff        lat        lon  taxi_zone\n",
       "0  dr5qgxx             0              8  40.603409 -74.015579         10\n",
       "1  dr5qgxy             0              8  40.604782 -74.016953         10\n",
       "2  dr5qgxz             1              9  40.604782 -74.015579         10\n",
       "3  dr5qgz7             1             15  40.602036 -74.010086         10\n",
       "4  dr5qgz8             1              7  40.603409 -74.014206         10"
      ]
     },
     "execution_count": 40,
     "metadata": {},
     "output_type": "execute_result"
    }
   ],
   "source": [
    "zones = pd.read_csv(\"analytics/data/geohash.csv\")\n",
    "hash2zone = zones.set_index('geohash').taxi_zone.astype(int).to_dict()"
   ]
  },
  {
   "cell_type": "code",
   "execution_count": 43,
   "metadata": {
    "collapsed": false
   },
   "outputs": [
    {
     "data": {
      "text/html": [
       "<div>\n",
       "<table border=\"1\" class=\"dataframe\">\n",
       "  <thead>\n",
       "    <tr style=\"text-align: right;\">\n",
       "      <th></th>\n",
       "      <th>pickup_geohash</th>\n",
       "      <th>dropoff_geohash</th>\n",
       "    </tr>\n",
       "  </thead>\n",
       "  <tbody>\n",
       "    <tr>\n",
       "      <th>0</th>\n",
       "      <td>dr5rumt</td>\n",
       "      <td>dr5rsqw</td>\n",
       "    </tr>\n",
       "    <tr>\n",
       "      <th>1</th>\n",
       "      <td>dr5ru0z</td>\n",
       "      <td>dr5ru92</td>\n",
       "    </tr>\n",
       "    <tr>\n",
       "      <th>2</th>\n",
       "      <td>dr5rkq2</td>\n",
       "      <td>dr5rsp1</td>\n",
       "    </tr>\n",
       "    <tr>\n",
       "      <th>3</th>\n",
       "      <td>dr5ru32</td>\n",
       "      <td>dr5ruth</td>\n",
       "    </tr>\n",
       "    <tr>\n",
       "      <th>4</th>\n",
       "      <td>dr5rgbx</td>\n",
       "      <td>dr5ru0h</td>\n",
       "    </tr>\n",
       "  </tbody>\n",
       "</table>\n",
       "</div>"
      ],
      "text/plain": [
       "  pickup_geohash dropoff_geohash\n",
       "0        dr5rumt         dr5rsqw\n",
       "1        dr5ru0z         dr5ru92\n",
       "2        dr5rkq2         dr5rsp1\n",
       "3        dr5ru32         dr5ruth\n",
       "4        dr5rgbx         dr5ru0h"
      ]
     },
     "execution_count": 43,
     "metadata": {},
     "output_type": "execute_result"
    }
   ],
   "source": [
    "df = pd.read_csv(data_path,\n",
    "                 usecols=[\n",
    "                     'pickup_geohash',\n",
    "                     'dropoff_geohash'\n",
    "                 ])\n",
    "df.head()"
   ]
  },
  {
   "cell_type": "code",
   "execution_count": 44,
   "metadata": {
    "collapsed": false
   },
   "outputs": [
    {
     "name": "stdout",
     "output_type": "stream",
     "text": [
      "CPU times: user 8.53 s, sys: 258 ms, total: 8.79 s\n",
      "Wall time: 9.02 s\n"
     ]
    }
   ],
   "source": [
    "%%time\n",
    "pickup_zone = df.pickup_geohash.map(lambda x: hash2zone.get(x, -1))"
   ]
  },
  {
   "cell_type": "code",
   "execution_count": 45,
   "metadata": {
    "collapsed": false
   },
   "outputs": [
    {
     "name": "stdout",
     "output_type": "stream",
     "text": [
      "CPU times: user 7.75 s, sys: 191 ms, total: 7.94 s\n",
      "Wall time: 8 s\n"
     ]
    }
   ],
   "source": [
    "%%time\n",
    "dropoff_zone = df.dropoff_geohash.map(lambda x: hash2zone.get(x, -1))"
   ]
  },
  {
   "cell_type": "code",
   "execution_count": 46,
   "metadata": {
    "collapsed": false
   },
   "outputs": [
    {
     "data": {
      "text/html": [
       "<div>\n",
       "<table border=\"1\" class=\"dataframe\">\n",
       "  <thead>\n",
       "    <tr style=\"text-align: right;\">\n",
       "      <th></th>\n",
       "      <th>request_id</th>\n",
       "      <th>date</th>\n",
       "      <th>dayofweek</th>\n",
       "      <th>dropoff_latitude</th>\n",
       "      <th>dropoff_longitude</th>\n",
       "      <th>hour</th>\n",
       "      <th>minute</th>\n",
       "      <th>pickup_latitude</th>\n",
       "      <th>pickup_longitude</th>\n",
       "      <th>second</th>\n",
       "      <th>trip_distance</th>\n",
       "      <th>trip_time</th>\n",
       "      <th>great_circle_distance</th>\n",
       "      <th>pickup_geohash</th>\n",
       "      <th>dropoff_geohash</th>\n",
       "      <th>pickup_zone</th>\n",
       "      <th>dropoff_zone</th>\n",
       "    </tr>\n",
       "  </thead>\n",
       "  <tbody>\n",
       "    <tr>\n",
       "      <th>0</th>\n",
       "      <td>0</td>\n",
       "      <td>1</td>\n",
       "      <td>6</td>\n",
       "      <td>40.730099</td>\n",
       "      <td>-73.983986</td>\n",
       "      <td>0</td>\n",
       "      <td>0</td>\n",
       "      <td>40.768040</td>\n",
       "      <td>-73.985901</td>\n",
       "      <td>0</td>\n",
       "      <td>3.60</td>\n",
       "      <td>17.516667</td>\n",
       "      <td>4221</td>\n",
       "      <td>dr5rumt</td>\n",
       "      <td>dr5rsqw</td>\n",
       "      <td>47</td>\n",
       "      <td>78</td>\n",
       "    </tr>\n",
       "    <tr>\n",
       "      <th>1</th>\n",
       "      <td>1</td>\n",
       "      <td>1</td>\n",
       "      <td>6</td>\n",
       "      <td>40.744633</td>\n",
       "      <td>-73.980995</td>\n",
       "      <td>0</td>\n",
       "      <td>0</td>\n",
       "      <td>40.741573</td>\n",
       "      <td>-73.993073</td>\n",
       "      <td>0</td>\n",
       "      <td>1.09</td>\n",
       "      <td>7.016667</td>\n",
       "      <td>1072</td>\n",
       "      <td>dr5ru0z</td>\n",
       "      <td>dr5ru92</td>\n",
       "      <td>89</td>\n",
       "      <td>169</td>\n",
       "    </tr>\n",
       "    <tr>\n",
       "      <th>2</th>\n",
       "      <td>2</td>\n",
       "      <td>1</td>\n",
       "      <td>6</td>\n",
       "      <td>40.733002</td>\n",
       "      <td>-74.002258</td>\n",
       "      <td>0</td>\n",
       "      <td>0</td>\n",
       "      <td>40.684601</td>\n",
       "      <td>-73.991943</td>\n",
       "      <td>0</td>\n",
       "      <td>4.21</td>\n",
       "      <td>19.783333</td>\n",
       "      <td>5451</td>\n",
       "      <td>dr5rkq2</td>\n",
       "      <td>dr5rsp1</td>\n",
       "      <td>24</td>\n",
       "      <td>248</td>\n",
       "    </tr>\n",
       "    <tr>\n",
       "      <th>3</th>\n",
       "      <td>3</td>\n",
       "      <td>1</td>\n",
       "      <td>6</td>\n",
       "      <td>40.765469</td>\n",
       "      <td>-73.975700</td>\n",
       "      <td>0</td>\n",
       "      <td>0</td>\n",
       "      <td>40.744751</td>\n",
       "      <td>-73.991577</td>\n",
       "      <td>0</td>\n",
       "      <td>1.68</td>\n",
       "      <td>7.516667</td>\n",
       "      <td>2663</td>\n",
       "      <td>dr5ru32</td>\n",
       "      <td>dr5ruth</td>\n",
       "      <td>89</td>\n",
       "      <td>162</td>\n",
       "    </tr>\n",
       "    <tr>\n",
       "      <th>4</th>\n",
       "      <td>4</td>\n",
       "      <td>1</td>\n",
       "      <td>6</td>\n",
       "      <td>40.737564</td>\n",
       "      <td>-73.997498</td>\n",
       "      <td>0</td>\n",
       "      <td>0</td>\n",
       "      <td>40.740192</td>\n",
       "      <td>-74.005280</td>\n",
       "      <td>0</td>\n",
       "      <td>0.56</td>\n",
       "      <td>6.650000</td>\n",
       "      <td>717</td>\n",
       "      <td>dr5rgbx</td>\n",
       "      <td>dr5ru0h</td>\n",
       "      <td>67</td>\n",
       "      <td>89</td>\n",
       "    </tr>\n",
       "  </tbody>\n",
       "</table>\n",
       "</div>"
      ],
      "text/plain": [
       "   request_id  date  dayofweek  dropoff_latitude  dropoff_longitude  hour  \\\n",
       "0           0     1          6         40.730099         -73.983986     0   \n",
       "1           1     1          6         40.744633         -73.980995     0   \n",
       "2           2     1          6         40.733002         -74.002258     0   \n",
       "3           3     1          6         40.765469         -73.975700     0   \n",
       "4           4     1          6         40.737564         -73.997498     0   \n",
       "\n",
       "   minute  pickup_latitude  pickup_longitude  second  trip_distance  \\\n",
       "0       0        40.768040        -73.985901       0           3.60   \n",
       "1       0        40.741573        -73.993073       0           1.09   \n",
       "2       0        40.684601        -73.991943       0           4.21   \n",
       "3       0        40.744751        -73.991577       0           1.68   \n",
       "4       0        40.740192        -74.005280       0           0.56   \n",
       "\n",
       "   trip_time  great_circle_distance pickup_geohash dropoff_geohash  \\\n",
       "0  17.516667                   4221        dr5rumt         dr5rsqw   \n",
       "1   7.016667                   1072        dr5ru0z         dr5ru92   \n",
       "2  19.783333                   5451        dr5rkq2         dr5rsp1   \n",
       "3   7.516667                   2663        dr5ru32         dr5ruth   \n",
       "4   6.650000                    717        dr5rgbx         dr5ru0h   \n",
       "\n",
       "   pickup_zone  dropoff_zone  \n",
       "0           47            78  \n",
       "1           89           169  \n",
       "2           24           248  \n",
       "3           89           162  \n",
       "4           67            89  "
      ]
     },
     "execution_count": 46,
     "metadata": {},
     "output_type": "execute_result"
    }
   ],
   "source": [
    "df = pd.read_csv(data_path)\n",
    "df['pickup_zone'] = pickup_zone\n",
    "df['dropoff_zone'] = dropoff_zone\n",
    "df.head()"
   ]
  },
  {
   "cell_type": "code",
   "execution_count": 47,
   "metadata": {
    "collapsed": false
   },
   "outputs": [],
   "source": [
    "df.to_csv(data_path, index=False)"
   ]
  },
  {
   "cell_type": "markdown",
   "metadata": {},
   "source": [
    "## 4. Apply map-matching and aggregation"
   ]
  },
  {
   "cell_type": "code",
   "execution_count": 18,
   "metadata": {
    "collapsed": false
   },
   "outputs": [],
   "source": [
    "import cPickle as pickle\n",
    "path = 'engine/data/nyc_network_graph.pkl'\n",
    "with open(path, 'r') as f:\n",
    "    G = pickle.load(f)"
   ]
  },
  {
   "cell_type": "code",
   "execution_count": 19,
   "metadata": {
    "collapsed": true
   },
   "outputs": [],
   "source": [
    "import engine.mapper.geohelper as gh\n",
    "from engine.mapper.pathgenerator import PathGenerator\n",
    "path_generator = PathGenerator(G)"
   ]
  },
  {
   "cell_type": "code",
   "execution_count": 20,
   "metadata": {
    "collapsed": false
   },
   "outputs": [
    {
     "data": {
      "text/html": [
       "<div>\n",
       "<table border=\"1\" class=\"dataframe\">\n",
       "  <thead>\n",
       "    <tr style=\"text-align: right;\">\n",
       "      <th></th>\n",
       "      <th>geohash</th>\n",
       "      <th>total_pickup</th>\n",
       "      <th>total_dropoff</th>\n",
       "      <th>lat</th>\n",
       "      <th>lon</th>\n",
       "      <th>taxi_zone</th>\n",
       "      <th>mlat</th>\n",
       "      <th>mlon</th>\n",
       "      <th>mgeohash</th>\n",
       "    </tr>\n",
       "  </thead>\n",
       "  <tbody>\n",
       "    <tr>\n",
       "      <th>0</th>\n",
       "      <td>dr5qgxx</td>\n",
       "      <td>0</td>\n",
       "      <td>8</td>\n",
       "      <td>40.603409</td>\n",
       "      <td>-74.015579</td>\n",
       "      <td>10</td>\n",
       "      <td>40.603358</td>\n",
       "      <td>-74.015682</td>\n",
       "      <td>dr5qgxx</td>\n",
       "    </tr>\n",
       "    <tr>\n",
       "      <th>1</th>\n",
       "      <td>dr5qgxy</td>\n",
       "      <td>0</td>\n",
       "      <td>8</td>\n",
       "      <td>40.604782</td>\n",
       "      <td>-74.016953</td>\n",
       "      <td>10</td>\n",
       "      <td>40.604832</td>\n",
       "      <td>-74.017029</td>\n",
       "      <td>dr5qgxy</td>\n",
       "    </tr>\n",
       "    <tr>\n",
       "      <th>2</th>\n",
       "      <td>dr5qgxz</td>\n",
       "      <td>1</td>\n",
       "      <td>9</td>\n",
       "      <td>40.604782</td>\n",
       "      <td>-74.015579</td>\n",
       "      <td>10</td>\n",
       "      <td>40.604637</td>\n",
       "      <td>-74.015335</td>\n",
       "      <td>dr5qgxz</td>\n",
       "    </tr>\n",
       "    <tr>\n",
       "      <th>3</th>\n",
       "      <td>dr5qgz7</td>\n",
       "      <td>1</td>\n",
       "      <td>15</td>\n",
       "      <td>40.602036</td>\n",
       "      <td>-74.010086</td>\n",
       "      <td>10</td>\n",
       "      <td>40.602178</td>\n",
       "      <td>-74.010322</td>\n",
       "      <td>dr5qgz7</td>\n",
       "    </tr>\n",
       "    <tr>\n",
       "      <th>4</th>\n",
       "      <td>dr5qgz8</td>\n",
       "      <td>1</td>\n",
       "      <td>7</td>\n",
       "      <td>40.603409</td>\n",
       "      <td>-74.014206</td>\n",
       "      <td>10</td>\n",
       "      <td>40.603474</td>\n",
       "      <td>-74.014180</td>\n",
       "      <td>dr5qgz8</td>\n",
       "    </tr>\n",
       "  </tbody>\n",
       "</table>\n",
       "</div>"
      ],
      "text/plain": [
       "   geohash  total_pickup  total_dropoff        lat        lon  taxi_zone  \\\n",
       "0  dr5qgxx             0              8  40.603409 -74.015579         10   \n",
       "1  dr5qgxy             0              8  40.604782 -74.016953         10   \n",
       "2  dr5qgxz             1              9  40.604782 -74.015579         10   \n",
       "3  dr5qgz7             1             15  40.602036 -74.010086         10   \n",
       "4  dr5qgz8             1              7  40.603409 -74.014206         10   \n",
       "\n",
       "        mlat       mlon mgeohash  \n",
       "0  40.603358 -74.015682  dr5qgxx  \n",
       "1  40.604832 -74.017029  dr5qgxy  \n",
       "2  40.604637 -74.015335  dr5qgxz  \n",
       "3  40.602178 -74.010322  dr5qgz7  \n",
       "4  40.603474 -74.014180  dr5qgz8  "
      ]
     },
     "execution_count": 20,
     "metadata": {},
     "output_type": "execute_result"
    }
   ],
   "source": [
    "import Geohash\n",
    "\n",
    "zones['mlat'] = 0\n",
    "zones['mlon'] = 0\n",
    "zones['mgeohash'] = zones.geohash\n",
    "for i, (lat, lon) in zones[['lat', 'lon']].iterrows():\n",
    "    ntry = 0\n",
    "    r = 0.0015\n",
    "    while 1:\n",
    "        try:\n",
    "            mlat, mlon = path_generator.mm_convert((lat, lon), georange=r)\n",
    "            break\n",
    "        except:\n",
    "            if ntry == 2:\n",
    "                raise\n",
    "            r *= 2\n",
    "            ntry += 1\n",
    "    zones.loc[i, ['mlat', 'mlon']] = mlat, mlon\n",
    "    zones.loc[i, 'mgeohash'] = Geohash.encode(mlat, mlon, 7)\n",
    "zones.head()"
   ]
  },
  {
   "cell_type": "code",
   "execution_count": 21,
   "metadata": {
    "collapsed": true
   },
   "outputs": [],
   "source": [
    "zones.to_csv(\"analytics/data/geohash.csv\", index=False)\n",
    "g2mm = zones.set_index('geohash')[['mlat', 'mlon', 'mgeohash']].to_dict()"
   ]
  },
  {
   "cell_type": "code",
   "execution_count": 26,
   "metadata": {
    "collapsed": true
   },
   "outputs": [],
   "source": [
    "df = pd.read_csv(data_path,\n",
    "                 usecols=[\n",
    "                     'pickup_geohash',\n",
    "                     'pickup_zone',\n",
    "                     'dropoff_geohash',\n",
    "                     'dropoff_zone'\n",
    "                 ])\n",
    "\n",
    "df = df[df.pickup_zone>=0][df.dropoff_zone>=0]"
   ]
  },
  {
   "cell_type": "code",
   "execution_count": 33,
   "metadata": {
    "collapsed": false
   },
   "outputs": [
    {
     "name": "stdout",
     "output_type": "stream",
     "text": [
      "CPU times: user 19.8 s, sys: 560 ms, total: 20.3 s\n",
      "Wall time: 20.6 s\n"
     ]
    }
   ],
   "source": [
    "%%time\n",
    "df['plat'] = df.pickup_geohash.map(lambda x: g2mm['mlat'].get(x, 0))\n",
    "df['plon'] = df.pickup_geohash.map(lambda x: g2mm['mlon'].get(x, 0))\n",
    "df['phash'] = df.pickup_geohash.map(lambda x: g2mm['mgeohash'].get(x, 0))"
   ]
  },
  {
   "cell_type": "code",
   "execution_count": 34,
   "metadata": {
    "collapsed": false
   },
   "outputs": [
    {
     "name": "stdout",
     "output_type": "stream",
     "text": [
      "CPU times: user 20.1 s, sys: 620 ms, total: 20.7 s\n",
      "Wall time: 21 s\n"
     ]
    }
   ],
   "source": [
    "%%time\n",
    "df['dlat'] = df.dropoff_geohash.map(lambda x: g2mm['mlat'].get(x, 0))\n",
    "df['dlon'] = df.dropoff_geohash.map(lambda x: g2mm['mlon'].get(x, 0))\n",
    "df['dhash'] = df.dropoff_geohash.map(lambda x: g2mm['mgeohash'].get(x, 0))"
   ]
  },
  {
   "cell_type": "code",
   "execution_count": 35,
   "metadata": {
    "collapsed": false
   },
   "outputs": [
    {
     "data": {
      "text/html": [
       "<div>\n",
       "<table border=\"1\" class=\"dataframe\">\n",
       "  <thead>\n",
       "    <tr style=\"text-align: right;\">\n",
       "      <th></th>\n",
       "      <th>pickup_geohash</th>\n",
       "      <th>dropoff_geohash</th>\n",
       "      <th>pickup_zone</th>\n",
       "      <th>dropoff_zone</th>\n",
       "      <th>plat</th>\n",
       "      <th>plon</th>\n",
       "      <th>phash</th>\n",
       "      <th>dlat</th>\n",
       "      <th>dlon</th>\n",
       "      <th>dhash</th>\n",
       "    </tr>\n",
       "  </thead>\n",
       "  <tbody>\n",
       "    <tr>\n",
       "      <th>0</th>\n",
       "      <td>dr5rumt</td>\n",
       "      <td>dr5rsqw</td>\n",
       "      <td>47</td>\n",
       "      <td>78</td>\n",
       "      <td>40.768249</td>\n",
       "      <td>-73.985475</td>\n",
       "      <td>dr5rumt</td>\n",
       "      <td>40.729667</td>\n",
       "      <td>-73.983788</td>\n",
       "      <td>dr5rsqw</td>\n",
       "    </tr>\n",
       "    <tr>\n",
       "      <th>1</th>\n",
       "      <td>dr5ru0z</td>\n",
       "      <td>dr5ru92</td>\n",
       "      <td>89</td>\n",
       "      <td>169</td>\n",
       "      <td>40.742039</td>\n",
       "      <td>-73.993433</td>\n",
       "      <td>dr5ru0z</td>\n",
       "      <td>40.744732</td>\n",
       "      <td>-73.980941</td>\n",
       "      <td>dr5ru92</td>\n",
       "    </tr>\n",
       "    <tr>\n",
       "      <th>2</th>\n",
       "      <td>dr5rkq2</td>\n",
       "      <td>dr5rsp1</td>\n",
       "      <td>24</td>\n",
       "      <td>248</td>\n",
       "      <td>40.684367</td>\n",
       "      <td>-73.992064</td>\n",
       "      <td>dr5rkq2</td>\n",
       "      <td>40.732507</td>\n",
       "      <td>-74.001829</td>\n",
       "      <td>dr5rsp1</td>\n",
       "    </tr>\n",
       "    <tr>\n",
       "      <th>3</th>\n",
       "      <td>dr5ru32</td>\n",
       "      <td>dr5ruth</td>\n",
       "      <td>89</td>\n",
       "      <td>162</td>\n",
       "      <td>40.745078</td>\n",
       "      <td>-73.992071</td>\n",
       "      <td>dr5ru32</td>\n",
       "      <td>40.765470</td>\n",
       "      <td>-73.975744</td>\n",
       "      <td>dr5ruth</td>\n",
       "    </tr>\n",
       "    <tr>\n",
       "      <th>4</th>\n",
       "      <td>dr5rgbx</td>\n",
       "      <td>dr5ru0h</td>\n",
       "      <td>67</td>\n",
       "      <td>89</td>\n",
       "      <td>40.740652</td>\n",
       "      <td>-74.004656</td>\n",
       "      <td>dr5rgbx</td>\n",
       "      <td>40.737793</td>\n",
       "      <td>-73.997871</td>\n",
       "      <td>dr5ru0h</td>\n",
       "    </tr>\n",
       "  </tbody>\n",
       "</table>\n",
       "</div>"
      ],
      "text/plain": [
       "  pickup_geohash dropoff_geohash  pickup_zone  dropoff_zone       plat  \\\n",
       "0        dr5rumt         dr5rsqw           47            78  40.768249   \n",
       "1        dr5ru0z         dr5ru92           89           169  40.742039   \n",
       "2        dr5rkq2         dr5rsp1           24           248  40.684367   \n",
       "3        dr5ru32         dr5ruth           89           162  40.745078   \n",
       "4        dr5rgbx         dr5ru0h           67            89  40.740652   \n",
       "\n",
       "        plon    phash       dlat       dlon    dhash  \n",
       "0 -73.985475  dr5rumt  40.729667 -73.983788  dr5rsqw  \n",
       "1 -73.993433  dr5ru0z  40.744732 -73.980941  dr5ru92  \n",
       "2 -73.992064  dr5rkq2  40.732507 -74.001829  dr5rsp1  \n",
       "3 -73.992071  dr5ru32  40.765470 -73.975744  dr5ruth  \n",
       "4 -74.004656  dr5rgbx  40.737793 -73.997871  dr5ru0h  "
      ]
     },
     "execution_count": 35,
     "metadata": {},
     "output_type": "execute_result"
    }
   ],
   "source": [
    "df.head()"
   ]
  },
  {
   "cell_type": "code",
   "execution_count": 63,
   "metadata": {
    "collapsed": false
   },
   "outputs": [
    {
     "data": {
      "text/html": [
       "<div>\n",
       "<table border=\"1\" class=\"dataframe\">\n",
       "  <thead>\n",
       "    <tr style=\"text-align: right;\">\n",
       "      <th></th>\n",
       "      <th>pickup_geohash</th>\n",
       "      <th>dropoff_geohash</th>\n",
       "      <th>pickup_zone</th>\n",
       "      <th>dropoff_zone</th>\n",
       "      <th>plat</th>\n",
       "      <th>plon</th>\n",
       "      <th>phash</th>\n",
       "      <th>dlat</th>\n",
       "      <th>dlon</th>\n",
       "      <th>dhash</th>\n",
       "      <th>pzone</th>\n",
       "      <th>dzone</th>\n",
       "    </tr>\n",
       "  </thead>\n",
       "  <tbody>\n",
       "    <tr>\n",
       "      <th>0</th>\n",
       "      <td>dr5rumt</td>\n",
       "      <td>dr5rsqw</td>\n",
       "      <td>47</td>\n",
       "      <td>78</td>\n",
       "      <td>40.768249</td>\n",
       "      <td>-73.985475</td>\n",
       "      <td>dr5rumt</td>\n",
       "      <td>40.729667</td>\n",
       "      <td>-73.983788</td>\n",
       "      <td>dr5rsqw</td>\n",
       "      <td>47</td>\n",
       "      <td>78</td>\n",
       "    </tr>\n",
       "    <tr>\n",
       "      <th>1</th>\n",
       "      <td>dr5ru0z</td>\n",
       "      <td>dr5ru92</td>\n",
       "      <td>89</td>\n",
       "      <td>169</td>\n",
       "      <td>40.742039</td>\n",
       "      <td>-73.993433</td>\n",
       "      <td>dr5ru0z</td>\n",
       "      <td>40.744732</td>\n",
       "      <td>-73.980941</td>\n",
       "      <td>dr5ru92</td>\n",
       "      <td>89</td>\n",
       "      <td>169</td>\n",
       "    </tr>\n",
       "    <tr>\n",
       "      <th>2</th>\n",
       "      <td>dr5rkq2</td>\n",
       "      <td>dr5rsp1</td>\n",
       "      <td>24</td>\n",
       "      <td>248</td>\n",
       "      <td>40.684367</td>\n",
       "      <td>-73.992064</td>\n",
       "      <td>dr5rkq2</td>\n",
       "      <td>40.732507</td>\n",
       "      <td>-74.001829</td>\n",
       "      <td>dr5rsp1</td>\n",
       "      <td>24</td>\n",
       "      <td>248</td>\n",
       "    </tr>\n",
       "    <tr>\n",
       "      <th>3</th>\n",
       "      <td>dr5ru32</td>\n",
       "      <td>dr5ruth</td>\n",
       "      <td>89</td>\n",
       "      <td>162</td>\n",
       "      <td>40.745078</td>\n",
       "      <td>-73.992071</td>\n",
       "      <td>dr5ru32</td>\n",
       "      <td>40.765470</td>\n",
       "      <td>-73.975744</td>\n",
       "      <td>dr5ruth</td>\n",
       "      <td>89</td>\n",
       "      <td>162</td>\n",
       "    </tr>\n",
       "    <tr>\n",
       "      <th>4</th>\n",
       "      <td>dr5rgbx</td>\n",
       "      <td>dr5ru0h</td>\n",
       "      <td>67</td>\n",
       "      <td>89</td>\n",
       "      <td>40.740652</td>\n",
       "      <td>-74.004656</td>\n",
       "      <td>dr5rgbx</td>\n",
       "      <td>40.737793</td>\n",
       "      <td>-73.997871</td>\n",
       "      <td>dr5ru0h</td>\n",
       "      <td>67</td>\n",
       "      <td>89</td>\n",
       "    </tr>\n",
       "  </tbody>\n",
       "</table>\n",
       "</div>"
      ],
      "text/plain": [
       "  pickup_geohash dropoff_geohash  pickup_zone  dropoff_zone       plat  \\\n",
       "0        dr5rumt         dr5rsqw           47            78  40.768249   \n",
       "1        dr5ru0z         dr5ru92           89           169  40.742039   \n",
       "2        dr5rkq2         dr5rsp1           24           248  40.684367   \n",
       "3        dr5ru32         dr5ruth           89           162  40.745078   \n",
       "4        dr5rgbx         dr5ru0h           67            89  40.740652   \n",
       "\n",
       "        plon    phash       dlat       dlon    dhash  pzone  dzone  \n",
       "0 -73.985475  dr5rumt  40.729667 -73.983788  dr5rsqw     47     78  \n",
       "1 -73.993433  dr5ru0z  40.744732 -73.980941  dr5ru92     89    169  \n",
       "2 -73.992064  dr5rkq2  40.732507 -74.001829  dr5rsp1     24    248  \n",
       "3 -73.992071  dr5ru32  40.765470 -73.975744  dr5ruth     89    162  \n",
       "4 -74.004656  dr5rgbx  40.737793 -73.997871  dr5ru0h     67     89  "
      ]
     },
     "execution_count": 63,
     "metadata": {},
     "output_type": "execute_result"
    }
   ],
   "source": [
    "zones = zones[zones.geohash==zones.mgeohash]\n",
    "hash2zone = zones.set_index('geohash').taxi_zone.astype(int).to_dict()\n",
    "df['pzone'] = df.phash.map(lambda x: hash2zone.get(x, -1))\n",
    "df['dzone'] = df.dhash.map(lambda x: hash2zone.get(x, -1))\n",
    "df.head()"
   ]
  },
  {
   "cell_type": "code",
   "execution_count": 73,
   "metadata": {
    "collapsed": false
   },
   "outputs": [],
   "source": [
    "df_ = pd.read_csv(data_path, usecols=[\n",
    "    'date', 'dayofweek', 'hour', 'minute', 'second',\n",
    "    'trip_distance', 'trip_time', 'pickup_zone', 'dropoff_zone'])\n",
    "df_ = df_[df_.dropoff_zone>=0][df_.pickup_zone>=0]"
   ]
  },
  {
   "cell_type": "code",
   "execution_count": 76,
   "metadata": {
    "collapsed": false
   },
   "outputs": [
    {
     "data": {
      "text/html": [
       "<div>\n",
       "<table border=\"1\" class=\"dataframe\">\n",
       "  <thead>\n",
       "    <tr style=\"text-align: right;\">\n",
       "      <th></th>\n",
       "      <th>date</th>\n",
       "      <th>dayofweek</th>\n",
       "      <th>hour</th>\n",
       "      <th>minute</th>\n",
       "      <th>second</th>\n",
       "      <th>trip_distance</th>\n",
       "      <th>trip_time</th>\n",
       "      <th>pickup_zone</th>\n",
       "      <th>dropoff_zone</th>\n",
       "      <th>plat</th>\n",
       "      <th>plon</th>\n",
       "      <th>phash</th>\n",
       "      <th>dlat</th>\n",
       "      <th>dlon</th>\n",
       "      <th>dhash</th>\n",
       "      <th>pzone</th>\n",
       "      <th>dzone</th>\n",
       "    </tr>\n",
       "  </thead>\n",
       "  <tbody>\n",
       "    <tr>\n",
       "      <th>0</th>\n",
       "      <td>1</td>\n",
       "      <td>6</td>\n",
       "      <td>0</td>\n",
       "      <td>0</td>\n",
       "      <td>0</td>\n",
       "      <td>3.60</td>\n",
       "      <td>17.516667</td>\n",
       "      <td>47</td>\n",
       "      <td>78</td>\n",
       "      <td>40.768249</td>\n",
       "      <td>-73.985475</td>\n",
       "      <td>dr5rumt</td>\n",
       "      <td>40.729667</td>\n",
       "      <td>-73.983788</td>\n",
       "      <td>dr5rsqw</td>\n",
       "      <td>47</td>\n",
       "      <td>78</td>\n",
       "    </tr>\n",
       "    <tr>\n",
       "      <th>1</th>\n",
       "      <td>1</td>\n",
       "      <td>6</td>\n",
       "      <td>0</td>\n",
       "      <td>0</td>\n",
       "      <td>0</td>\n",
       "      <td>1.09</td>\n",
       "      <td>7.016667</td>\n",
       "      <td>89</td>\n",
       "      <td>169</td>\n",
       "      <td>40.742039</td>\n",
       "      <td>-73.993433</td>\n",
       "      <td>dr5ru0z</td>\n",
       "      <td>40.744732</td>\n",
       "      <td>-73.980941</td>\n",
       "      <td>dr5ru92</td>\n",
       "      <td>89</td>\n",
       "      <td>169</td>\n",
       "    </tr>\n",
       "    <tr>\n",
       "      <th>2</th>\n",
       "      <td>1</td>\n",
       "      <td>6</td>\n",
       "      <td>0</td>\n",
       "      <td>0</td>\n",
       "      <td>0</td>\n",
       "      <td>4.21</td>\n",
       "      <td>19.783333</td>\n",
       "      <td>24</td>\n",
       "      <td>248</td>\n",
       "      <td>40.684367</td>\n",
       "      <td>-73.992064</td>\n",
       "      <td>dr5rkq2</td>\n",
       "      <td>40.732507</td>\n",
       "      <td>-74.001829</td>\n",
       "      <td>dr5rsp1</td>\n",
       "      <td>24</td>\n",
       "      <td>248</td>\n",
       "    </tr>\n",
       "    <tr>\n",
       "      <th>3</th>\n",
       "      <td>1</td>\n",
       "      <td>6</td>\n",
       "      <td>0</td>\n",
       "      <td>0</td>\n",
       "      <td>0</td>\n",
       "      <td>1.68</td>\n",
       "      <td>7.516667</td>\n",
       "      <td>89</td>\n",
       "      <td>162</td>\n",
       "      <td>40.745078</td>\n",
       "      <td>-73.992071</td>\n",
       "      <td>dr5ru32</td>\n",
       "      <td>40.765470</td>\n",
       "      <td>-73.975744</td>\n",
       "      <td>dr5ruth</td>\n",
       "      <td>89</td>\n",
       "      <td>162</td>\n",
       "    </tr>\n",
       "    <tr>\n",
       "      <th>4</th>\n",
       "      <td>1</td>\n",
       "      <td>6</td>\n",
       "      <td>0</td>\n",
       "      <td>0</td>\n",
       "      <td>0</td>\n",
       "      <td>0.56</td>\n",
       "      <td>6.650000</td>\n",
       "      <td>67</td>\n",
       "      <td>89</td>\n",
       "      <td>40.740652</td>\n",
       "      <td>-74.004656</td>\n",
       "      <td>dr5rgbx</td>\n",
       "      <td>40.737793</td>\n",
       "      <td>-73.997871</td>\n",
       "      <td>dr5ru0h</td>\n",
       "      <td>67</td>\n",
       "      <td>89</td>\n",
       "    </tr>\n",
       "  </tbody>\n",
       "</table>\n",
       "</div>"
      ],
      "text/plain": [
       "   date  dayofweek  hour  minute  second  trip_distance  trip_time  \\\n",
       "0     1          6     0       0       0           3.60  17.516667   \n",
       "1     1          6     0       0       0           1.09   7.016667   \n",
       "2     1          6     0       0       0           4.21  19.783333   \n",
       "3     1          6     0       0       0           1.68   7.516667   \n",
       "4     1          6     0       0       0           0.56   6.650000   \n",
       "\n",
       "   pickup_zone  dropoff_zone       plat       plon    phash       dlat  \\\n",
       "0           47            78  40.768249 -73.985475  dr5rumt  40.729667   \n",
       "1           89           169  40.742039 -73.993433  dr5ru0z  40.744732   \n",
       "2           24           248  40.684367 -73.992064  dr5rkq2  40.732507   \n",
       "3           89           162  40.745078 -73.992071  dr5ru32  40.765470   \n",
       "4           67            89  40.740652 -74.004656  dr5rgbx  40.737793   \n",
       "\n",
       "        dlon    dhash  pzone  dzone  \n",
       "0 -73.983788  dr5rsqw     47     78  \n",
       "1 -73.980941  dr5ru92     89    169  \n",
       "2 -74.001829  dr5rsp1     24    248  \n",
       "3 -73.975744  dr5ruth     89    162  \n",
       "4 -73.997871  dr5ru0h     67     89  "
      ]
     },
     "execution_count": 76,
     "metadata": {},
     "output_type": "execute_result"
    }
   ],
   "source": [
    "df = df.drop(['pickup_zone', 'dropoff_zone', 'pickup_geohash', 'dropoff_geohash'], axis=1)\n",
    "df_ = pd.concat([df_, df], axis=1, join='inner')\n",
    "df_.head()"
   ]
  },
  {
   "cell_type": "code",
   "execution_count": 79,
   "metadata": {
    "collapsed": false
   },
   "outputs": [
    {
     "data": {
      "text/plain": [
       "21020"
      ]
     },
     "execution_count": 79,
     "metadata": {},
     "output_type": "execute_result"
    }
   ],
   "source": [
    "len(zones)"
   ]
  },
  {
   "cell_type": "code",
   "execution_count": 81,
   "metadata": {
    "collapsed": false
   },
   "outputs": [
    {
     "data": {
      "text/plain": [
       "21020"
      ]
     },
     "execution_count": 81,
     "metadata": {},
     "output_type": "execute_result"
    }
   ],
   "source": [
    "df_ = df_.drop(['pickup_zone', 'dropoff_zone'], axis=1)\n",
    "df_ = df_[df_.pzone>=0][df_.dzone>=0]\n",
    "len(df_.dhash.append(df_.phash).unique())"
   ]
  },
  {
   "cell_type": "code",
   "execution_count": 83,
   "metadata": {
    "collapsed": false
   },
   "outputs": [
    {
     "data": {
      "text/html": [
       "<div>\n",
       "<table border=\"1\" class=\"dataframe\">\n",
       "  <thead>\n",
       "    <tr style=\"text-align: right;\">\n",
       "      <th></th>\n",
       "      <th>date</th>\n",
       "      <th>dayofweek</th>\n",
       "      <th>hour</th>\n",
       "      <th>minute</th>\n",
       "      <th>second</th>\n",
       "      <th>trip_distance</th>\n",
       "      <th>trip_time</th>\n",
       "      <th>plat</th>\n",
       "      <th>plon</th>\n",
       "      <th>phash</th>\n",
       "      <th>dlat</th>\n",
       "      <th>dlon</th>\n",
       "      <th>dhash</th>\n",
       "      <th>pzone</th>\n",
       "      <th>dzone</th>\n",
       "    </tr>\n",
       "  </thead>\n",
       "  <tbody>\n",
       "    <tr>\n",
       "      <th>0</th>\n",
       "      <td>1</td>\n",
       "      <td>6</td>\n",
       "      <td>0</td>\n",
       "      <td>0</td>\n",
       "      <td>0</td>\n",
       "      <td>3.60</td>\n",
       "      <td>17.516667</td>\n",
       "      <td>40.768249</td>\n",
       "      <td>-73.985475</td>\n",
       "      <td>dr5rumt</td>\n",
       "      <td>40.729667</td>\n",
       "      <td>-73.983788</td>\n",
       "      <td>dr5rsqw</td>\n",
       "      <td>47</td>\n",
       "      <td>78</td>\n",
       "    </tr>\n",
       "    <tr>\n",
       "      <th>1</th>\n",
       "      <td>1</td>\n",
       "      <td>6</td>\n",
       "      <td>0</td>\n",
       "      <td>0</td>\n",
       "      <td>0</td>\n",
       "      <td>1.09</td>\n",
       "      <td>7.016667</td>\n",
       "      <td>40.742039</td>\n",
       "      <td>-73.993433</td>\n",
       "      <td>dr5ru0z</td>\n",
       "      <td>40.744732</td>\n",
       "      <td>-73.980941</td>\n",
       "      <td>dr5ru92</td>\n",
       "      <td>89</td>\n",
       "      <td>169</td>\n",
       "    </tr>\n",
       "    <tr>\n",
       "      <th>2</th>\n",
       "      <td>1</td>\n",
       "      <td>6</td>\n",
       "      <td>0</td>\n",
       "      <td>0</td>\n",
       "      <td>0</td>\n",
       "      <td>4.21</td>\n",
       "      <td>19.783333</td>\n",
       "      <td>40.684367</td>\n",
       "      <td>-73.992064</td>\n",
       "      <td>dr5rkq2</td>\n",
       "      <td>40.732507</td>\n",
       "      <td>-74.001829</td>\n",
       "      <td>dr5rsp1</td>\n",
       "      <td>24</td>\n",
       "      <td>248</td>\n",
       "    </tr>\n",
       "    <tr>\n",
       "      <th>3</th>\n",
       "      <td>1</td>\n",
       "      <td>6</td>\n",
       "      <td>0</td>\n",
       "      <td>0</td>\n",
       "      <td>0</td>\n",
       "      <td>1.68</td>\n",
       "      <td>7.516667</td>\n",
       "      <td>40.745078</td>\n",
       "      <td>-73.992071</td>\n",
       "      <td>dr5ru32</td>\n",
       "      <td>40.765470</td>\n",
       "      <td>-73.975744</td>\n",
       "      <td>dr5ruth</td>\n",
       "      <td>89</td>\n",
       "      <td>162</td>\n",
       "    </tr>\n",
       "    <tr>\n",
       "      <th>4</th>\n",
       "      <td>1</td>\n",
       "      <td>6</td>\n",
       "      <td>0</td>\n",
       "      <td>0</td>\n",
       "      <td>0</td>\n",
       "      <td>0.56</td>\n",
       "      <td>6.650000</td>\n",
       "      <td>40.740652</td>\n",
       "      <td>-74.004656</td>\n",
       "      <td>dr5rgbx</td>\n",
       "      <td>40.737793</td>\n",
       "      <td>-73.997871</td>\n",
       "      <td>dr5ru0h</td>\n",
       "      <td>67</td>\n",
       "      <td>89</td>\n",
       "    </tr>\n",
       "  </tbody>\n",
       "</table>\n",
       "</div>"
      ],
      "text/plain": [
       "   date  dayofweek  hour  minute  second  trip_distance  trip_time       plat  \\\n",
       "0     1          6     0       0       0           3.60  17.516667  40.768249   \n",
       "1     1          6     0       0       0           1.09   7.016667  40.742039   \n",
       "2     1          6     0       0       0           4.21  19.783333  40.684367   \n",
       "3     1          6     0       0       0           1.68   7.516667  40.745078   \n",
       "4     1          6     0       0       0           0.56   6.650000  40.740652   \n",
       "\n",
       "        plon    phash       dlat       dlon    dhash  pzone  dzone  \n",
       "0 -73.985475  dr5rumt  40.729667 -73.983788  dr5rsqw     47     78  \n",
       "1 -73.993433  dr5ru0z  40.744732 -73.980941  dr5ru92     89    169  \n",
       "2 -73.992064  dr5rkq2  40.732507 -74.001829  dr5rsp1     24    248  \n",
       "3 -73.992071  dr5ru32  40.765470 -73.975744  dr5ruth     89    162  \n",
       "4 -74.004656  dr5rgbx  40.737793 -73.997871  dr5ru0h     67     89  "
      ]
     },
     "execution_count": 83,
     "metadata": {},
     "output_type": "execute_result"
    }
   ],
   "source": [
    "df_.head()"
   ]
  },
  {
   "cell_type": "code",
   "execution_count": 84,
   "metadata": {
    "collapsed": false
   },
   "outputs": [],
   "source": [
    "mmdata_path = 'analytics/data/taxi_trips/mmdata_2016-05.csv'\n",
    "df_.to_csv(mmdata_path, index=False)"
   ]
  },
  {
   "cell_type": "markdown",
   "metadata": {},
   "source": [
    "## Compute road density"
   ]
  },
  {
   "cell_type": "code",
   "execution_count": 4,
   "metadata": {
    "collapsed": false
   },
   "outputs": [
    {
     "name": "stdout",
     "output_type": "stream",
     "text": [
      "# of nodes: 5092898\n",
      "# of highways: 57803\n"
     ]
    }
   ],
   "source": [
    "import json\n",
    "from engine.mapper.osmloader import OsmLoader\n",
    "\n",
    "osm_path = 'analytics/data/osm/osm_nyc.json'\n",
    "osm = OsmLoader(osm_path)"
   ]
  },
  {
   "cell_type": "code",
   "execution_count": 5,
   "metadata": {
    "collapsed": true
   },
   "outputs": [],
   "source": [
    "from engine.mapper import geohelper as gh\n",
    "\n",
    "G = osm.get_graph(drive=True, road_max_length=100000, seg_max_length=10)\n",
    "road_locs = [zip(d['lat'], d['lon']) for _, _, d in G.edges_iter(data=True) if d.get('lat')]\n",
    "road_density = gh.road_density(road_locs)\n",
    "node_locs =[(d['lat'], d['lon']) for _, d in G.nodes_iter(data=True) if d.get('lat')]\n",
    "intxn_density = gh.intxn_density(node_locs)"
   ]
  },
  {
   "cell_type": "code",
   "execution_count": 6,
   "metadata": {
    "collapsed": false
   },
   "outputs": [
    {
     "data": {
      "text/html": [
       "<div>\n",
       "<table border=\"1\" class=\"dataframe\">\n",
       "  <thead>\n",
       "    <tr style=\"text-align: right;\">\n",
       "      <th></th>\n",
       "      <th>geohash</th>\n",
       "      <th>total_pickup</th>\n",
       "      <th>total_dropoff</th>\n",
       "      <th>lat</th>\n",
       "      <th>lon</th>\n",
       "      <th>taxi_zone</th>\n",
       "      <th>mlat</th>\n",
       "      <th>mlon</th>\n",
       "      <th>mgeohash</th>\n",
       "      <th>road_density</th>\n",
       "      <th>intxn_density</th>\n",
       "    </tr>\n",
       "  </thead>\n",
       "  <tbody>\n",
       "    <tr>\n",
       "      <th>0</th>\n",
       "      <td>dr5qgxx</td>\n",
       "      <td>0</td>\n",
       "      <td>8</td>\n",
       "      <td>40.603409</td>\n",
       "      <td>-74.015579</td>\n",
       "      <td>10</td>\n",
       "      <td>40.603358</td>\n",
       "      <td>-74.015682</td>\n",
       "      <td>dr5qgxx</td>\n",
       "      <td>56</td>\n",
       "      <td>36</td>\n",
       "    </tr>\n",
       "    <tr>\n",
       "      <th>1</th>\n",
       "      <td>dr5qgxy</td>\n",
       "      <td>0</td>\n",
       "      <td>8</td>\n",
       "      <td>40.604782</td>\n",
       "      <td>-74.016953</td>\n",
       "      <td>10</td>\n",
       "      <td>40.604832</td>\n",
       "      <td>-74.017029</td>\n",
       "      <td>dr5qgxy</td>\n",
       "      <td>43</td>\n",
       "      <td>8</td>\n",
       "    </tr>\n",
       "    <tr>\n",
       "      <th>2</th>\n",
       "      <td>dr5qgxz</td>\n",
       "      <td>1</td>\n",
       "      <td>9</td>\n",
       "      <td>40.604782</td>\n",
       "      <td>-74.015579</td>\n",
       "      <td>10</td>\n",
       "      <td>40.604637</td>\n",
       "      <td>-74.015335</td>\n",
       "      <td>dr5qgxz</td>\n",
       "      <td>22</td>\n",
       "      <td>0</td>\n",
       "    </tr>\n",
       "    <tr>\n",
       "      <th>3</th>\n",
       "      <td>dr5qgz7</td>\n",
       "      <td>1</td>\n",
       "      <td>15</td>\n",
       "      <td>40.602036</td>\n",
       "      <td>-74.010086</td>\n",
       "      <td>10</td>\n",
       "      <td>40.602178</td>\n",
       "      <td>-74.010322</td>\n",
       "      <td>dr5qgz7</td>\n",
       "      <td>28</td>\n",
       "      <td>9</td>\n",
       "    </tr>\n",
       "    <tr>\n",
       "      <th>4</th>\n",
       "      <td>dr5qgz8</td>\n",
       "      <td>1</td>\n",
       "      <td>7</td>\n",
       "      <td>40.603409</td>\n",
       "      <td>-74.014206</td>\n",
       "      <td>10</td>\n",
       "      <td>40.603474</td>\n",
       "      <td>-74.014180</td>\n",
       "      <td>dr5qgz8</td>\n",
       "      <td>59</td>\n",
       "      <td>14</td>\n",
       "    </tr>\n",
       "  </tbody>\n",
       "</table>\n",
       "</div>"
      ],
      "text/plain": [
       "   geohash  total_pickup  total_dropoff        lat        lon  taxi_zone  \\\n",
       "0  dr5qgxx             0              8  40.603409 -74.015579         10   \n",
       "1  dr5qgxy             0              8  40.604782 -74.016953         10   \n",
       "2  dr5qgxz             1              9  40.604782 -74.015579         10   \n",
       "3  dr5qgz7             1             15  40.602036 -74.010086         10   \n",
       "4  dr5qgz8             1              7  40.603409 -74.014206         10   \n",
       "\n",
       "        mlat       mlon mgeohash  road_density  intxn_density  \n",
       "0  40.603358 -74.015682  dr5qgxx            56             36  \n",
       "1  40.604832 -74.017029  dr5qgxy            43              8  \n",
       "2  40.604637 -74.015335  dr5qgxz            22              0  \n",
       "3  40.602178 -74.010322  dr5qgz7            28              9  \n",
       "4  40.603474 -74.014180  dr5qgz8            59             14  "
      ]
     },
     "execution_count": 6,
     "metadata": {},
     "output_type": "execute_result"
    }
   ],
   "source": [
    "zones = pd.read_csv(\"analytics/data/geohash.csv\")\n",
    "\n",
    "zones['road_density'] = [road_density[g] for g in zones.geohash]\n",
    "zones['intxn_density'] = [intxn_density[g] for g in zones.geohash]\n",
    "zones.head()"
   ]
  },
  {
   "cell_type": "code",
   "execution_count": 8,
   "metadata": {
    "collapsed": false
   },
   "outputs": [
    {
     "data": {
      "image/png": "[encoded data removed]",
      "text/plain": [
       "<matplotlib.figure.Figure at 0x3de94a8d0>"
      ]
     },
     "metadata": {},
     "output_type": "display_data"
    }
   ],
   "source": [
    "plt.figure(figsize=[10, 4])\n",
    "plt.subplot(121)\n",
    "plt.scatter(zones.road_density, zones.total_pickup, alpha=0.1)\n",
    "plt.subplot(122)\n",
    "plt.scatter(zones.intxn_density, zones.total_pickup, alpha=0.1);"
   ]
  },
  {
   "cell_type": "code",
   "execution_count": 9,
   "metadata": {
    "collapsed": true
   },
   "outputs": [],
   "source": [
    "zones.to_csv(\"analytics/data/geohash.csv\", index=False)"
   ]
  },
  {
   "cell_type": "markdown",
   "metadata": {},
   "source": [
    "## Create Dataset for demand prediction"
   ]
  },
  {
   "cell_type": "code",
   "execution_count": 10,
   "metadata": {
    "collapsed": true
   },
   "outputs": [],
   "source": [
    "mmdata_path = 'analytics/data/taxi_trips/mmdata_2016-05.csv'"
   ]
  },
  {
   "cell_type": "code",
   "execution_count": 11,
   "metadata": {
    "collapsed": false
   },
   "outputs": [
    {
     "name": "stdout",
     "output_type": "stream",
     "text": [
      "<class 'pandas.core.frame.DataFrame'>\n",
      "Int64Index: 12864484 entries, 0 to 12864483\n",
      "Data columns (total 6 columns):\n",
      "date         int16\n",
      "dayofweek    int16\n",
      "hour         int16\n",
      "phash        object\n",
      "pzone        int16\n",
      "dzone        int16\n",
      "dtypes: int16(5), object(1)\n",
      "memory usage: 319.0+ MB\n"
     ]
    }
   ],
   "source": [
    "df = pd.read_csv(mmdata_path,\n",
    "                 usecols=[\n",
    "                     'pzone',\n",
    "                     'dzone',\n",
    "                     'phash',\n",
    "                     'hour',\n",
    "                     'dayofweek',\n",
    "                     'date'\n",
    "                 ], dtype={\n",
    "                     'pzone':np.int16,\n",
    "                     'dzone':np.int16,\n",
    "                     'hour':np.int16,\n",
    "                     'dayofweek':np.int16,\n",
    "                     'date':np.int16\n",
    "                 }\n",
    "                )\n",
    "df.info()"
   ]
  },
  {
   "cell_type": "code",
   "execution_count": 12,
   "metadata": {
    "collapsed": false
   },
   "outputs": [
    {
     "data": {
      "text/html": [
       "<div>\n",
       "<table border=\"1\" class=\"dataframe\">\n",
       "  <thead>\n",
       "    <tr style=\"text-align: right;\">\n",
       "      <th></th>\n",
       "      <th>date</th>\n",
       "      <th>dayofweek</th>\n",
       "      <th>hour</th>\n",
       "      <th>phash</th>\n",
       "      <th>count</th>\n",
       "      <th>datehour</th>\n",
       "    </tr>\n",
       "  </thead>\n",
       "  <tbody>\n",
       "    <tr>\n",
       "      <th>0</th>\n",
       "      <td>1</td>\n",
       "      <td>6</td>\n",
       "      <td>0</td>\n",
       "      <td>dr5qupn</td>\n",
       "      <td>1</td>\n",
       "      <td>0</td>\n",
       "    </tr>\n",
       "    <tr>\n",
       "      <th>1</th>\n",
       "      <td>1</td>\n",
       "      <td>6</td>\n",
       "      <td>0</td>\n",
       "      <td>dr5r56q</td>\n",
       "      <td>1</td>\n",
       "      <td>0</td>\n",
       "    </tr>\n",
       "    <tr>\n",
       "      <th>2</th>\n",
       "      <td>1</td>\n",
       "      <td>6</td>\n",
       "      <td>0</td>\n",
       "      <td>dr5r57n</td>\n",
       "      <td>1</td>\n",
       "      <td>0</td>\n",
       "    </tr>\n",
       "    <tr>\n",
       "      <th>3</th>\n",
       "      <td>1</td>\n",
       "      <td>6</td>\n",
       "      <td>0</td>\n",
       "      <td>dr5r5mr</td>\n",
       "      <td>1</td>\n",
       "      <td>0</td>\n",
       "    </tr>\n",
       "    <tr>\n",
       "      <th>4</th>\n",
       "      <td>1</td>\n",
       "      <td>6</td>\n",
       "      <td>0</td>\n",
       "      <td>dr5r5my</td>\n",
       "      <td>1</td>\n",
       "      <td>0</td>\n",
       "    </tr>\n",
       "  </tbody>\n",
       "</table>\n",
       "</div>"
      ],
      "text/plain": [
       "   date  dayofweek  hour    phash  count  datehour\n",
       "0     1          6     0  dr5qupn      1         0\n",
       "1     1          6     0  dr5r56q      1         0\n",
       "2     1          6     0  dr5r57n      1         0\n",
       "3     1          6     0  dr5r5mr      1         0\n",
       "4     1          6     0  dr5r5my      1         0"
      ]
     },
     "execution_count": 12,
     "metadata": {},
     "output_type": "execute_result"
    }
   ],
   "source": [
    "demand = df.reset_index().groupby(['date', 'dayofweek', 'hour', 'phash']).agg({\n",
    "    'index':'count'\n",
    "}).rename(columns={'index':'count'}).reset_index()\n",
    "demand['datehour'] = (demand.date-1)*24+demand.hour\n",
    "demand.head()"
   ]
  },
  {
   "cell_type": "code",
   "execution_count": 13,
   "metadata": {
    "collapsed": false
   },
   "outputs": [
    {
     "data": {
      "text/html": [
       "<div>\n",
       "<table border=\"1\" class=\"dataframe\">\n",
       "  <thead>\n",
       "    <tr style=\"text-align: right;\">\n",
       "      <th>phash</th>\n",
       "      <th>dr5qgz7</th>\n",
       "      <th>dr5qgz8</th>\n",
       "      <th>dr5qgzc</th>\n",
       "      <th>dr5qgze</th>\n",
       "      <th>dr5qgzr</th>\n",
       "      <th>dr5qgzu</th>\n",
       "      <th>dr5qgzw</th>\n",
       "      <th>dr5qup0</th>\n",
       "      <th>dr5qup2</th>\n",
       "      <th>dr5qup3</th>\n",
       "      <th>...</th>\n",
       "      <th>dr7880c</th>\n",
       "      <th>dr78818</th>\n",
       "      <th>dr7881c</th>\n",
       "      <th>dr7881d</th>\n",
       "      <th>dr7881f</th>\n",
       "      <th>dr7881g</th>\n",
       "      <th>dr7882y</th>\n",
       "      <th>dr78842</th>\n",
       "      <th>dr78843</th>\n",
       "      <th>dr78848</th>\n",
       "    </tr>\n",
       "    <tr>\n",
       "      <th>datehour</th>\n",
       "      <th></th>\n",
       "      <th></th>\n",
       "      <th></th>\n",
       "      <th></th>\n",
       "      <th></th>\n",
       "      <th></th>\n",
       "      <th></th>\n",
       "      <th></th>\n",
       "      <th></th>\n",
       "      <th></th>\n",
       "      <th></th>\n",
       "      <th></th>\n",
       "      <th></th>\n",
       "      <th></th>\n",
       "      <th></th>\n",
       "      <th></th>\n",
       "      <th></th>\n",
       "      <th></th>\n",
       "      <th></th>\n",
       "      <th></th>\n",
       "      <th></th>\n",
       "    </tr>\n",
       "  </thead>\n",
       "  <tbody>\n",
       "    <tr>\n",
       "      <th>0</th>\n",
       "      <td>0</td>\n",
       "      <td>0</td>\n",
       "      <td>0</td>\n",
       "      <td>0</td>\n",
       "      <td>0</td>\n",
       "      <td>0</td>\n",
       "      <td>0</td>\n",
       "      <td>0</td>\n",
       "      <td>0</td>\n",
       "      <td>0</td>\n",
       "      <td>...</td>\n",
       "      <td>0</td>\n",
       "      <td>0</td>\n",
       "      <td>0</td>\n",
       "      <td>0</td>\n",
       "      <td>0</td>\n",
       "      <td>0</td>\n",
       "      <td>0</td>\n",
       "      <td>0</td>\n",
       "      <td>0</td>\n",
       "      <td>0</td>\n",
       "    </tr>\n",
       "    <tr>\n",
       "      <th>1</th>\n",
       "      <td>0</td>\n",
       "      <td>0</td>\n",
       "      <td>0</td>\n",
       "      <td>0</td>\n",
       "      <td>0</td>\n",
       "      <td>0</td>\n",
       "      <td>0</td>\n",
       "      <td>0</td>\n",
       "      <td>0</td>\n",
       "      <td>0</td>\n",
       "      <td>...</td>\n",
       "      <td>0</td>\n",
       "      <td>0</td>\n",
       "      <td>0</td>\n",
       "      <td>0</td>\n",
       "      <td>0</td>\n",
       "      <td>0</td>\n",
       "      <td>0</td>\n",
       "      <td>0</td>\n",
       "      <td>0</td>\n",
       "      <td>0</td>\n",
       "    </tr>\n",
       "    <tr>\n",
       "      <th>2</th>\n",
       "      <td>0</td>\n",
       "      <td>0</td>\n",
       "      <td>0</td>\n",
       "      <td>0</td>\n",
       "      <td>0</td>\n",
       "      <td>0</td>\n",
       "      <td>0</td>\n",
       "      <td>0</td>\n",
       "      <td>0</td>\n",
       "      <td>0</td>\n",
       "      <td>...</td>\n",
       "      <td>0</td>\n",
       "      <td>0</td>\n",
       "      <td>0</td>\n",
       "      <td>0</td>\n",
       "      <td>0</td>\n",
       "      <td>0</td>\n",
       "      <td>0</td>\n",
       "      <td>0</td>\n",
       "      <td>0</td>\n",
       "      <td>0</td>\n",
       "    </tr>\n",
       "    <tr>\n",
       "      <th>3</th>\n",
       "      <td>0</td>\n",
       "      <td>0</td>\n",
       "      <td>0</td>\n",
       "      <td>0</td>\n",
       "      <td>0</td>\n",
       "      <td>0</td>\n",
       "      <td>0</td>\n",
       "      <td>0</td>\n",
       "      <td>0</td>\n",
       "      <td>0</td>\n",
       "      <td>...</td>\n",
       "      <td>0</td>\n",
       "      <td>0</td>\n",
       "      <td>0</td>\n",
       "      <td>0</td>\n",
       "      <td>0</td>\n",
       "      <td>0</td>\n",
       "      <td>0</td>\n",
       "      <td>0</td>\n",
       "      <td>0</td>\n",
       "      <td>0</td>\n",
       "    </tr>\n",
       "    <tr>\n",
       "      <th>4</th>\n",
       "      <td>0</td>\n",
       "      <td>0</td>\n",
       "      <td>0</td>\n",
       "      <td>0</td>\n",
       "      <td>0</td>\n",
       "      <td>0</td>\n",
       "      <td>0</td>\n",
       "      <td>0</td>\n",
       "      <td>0</td>\n",
       "      <td>0</td>\n",
       "      <td>...</td>\n",
       "      <td>0</td>\n",
       "      <td>0</td>\n",
       "      <td>0</td>\n",
       "      <td>0</td>\n",
       "      <td>0</td>\n",
       "      <td>0</td>\n",
       "      <td>0</td>\n",
       "      <td>0</td>\n",
       "      <td>0</td>\n",
       "      <td>0</td>\n",
       "    </tr>\n",
       "  </tbody>\n",
       "</table>\n",
       "<p>5 rows × 16586 columns</p>\n",
       "</div>"
      ],
      "text/plain": [
       "phash     dr5qgz7  dr5qgz8  dr5qgzc  dr5qgze  dr5qgzr  dr5qgzu  dr5qgzw  \\\n",
       "datehour                                                                  \n",
       "0               0        0        0        0        0        0        0   \n",
       "1               0        0        0        0        0        0        0   \n",
       "2               0        0        0        0        0        0        0   \n",
       "3               0        0        0        0        0        0        0   \n",
       "4               0        0        0        0        0        0        0   \n",
       "\n",
       "phash     dr5qup0  dr5qup2  dr5qup3   ...     dr7880c  dr78818  dr7881c  \\\n",
       "datehour                              ...                                 \n",
       "0               0        0        0   ...           0        0        0   \n",
       "1               0        0        0   ...           0        0        0   \n",
       "2               0        0        0   ...           0        0        0   \n",
       "3               0        0        0   ...           0        0        0   \n",
       "4               0        0        0   ...           0        0        0   \n",
       "\n",
       "phash     dr7881d  dr7881f  dr7881g  dr7882y  dr78842  dr78843  dr78848  \n",
       "datehour                                                                 \n",
       "0               0        0        0        0        0        0        0  \n",
       "1               0        0        0        0        0        0        0  \n",
       "2               0        0        0        0        0        0        0  \n",
       "3               0        0        0        0        0        0        0  \n",
       "4               0        0        0        0        0        0        0  \n",
       "\n",
       "[5 rows x 16586 columns]"
      ]
     },
     "execution_count": 13,
     "metadata": {},
     "output_type": "execute_result"
    }
   ],
   "source": [
    "demand_pivot = demand.pivot(index='datehour', columns='phash', values='count')\n",
    "demand_pivot = demand_pivot.fillna(0)\n",
    "demand_pivot.head()"
   ]
  },
  {
   "cell_type": "code",
   "execution_count": 14,
   "metadata": {
    "collapsed": true
   },
   "outputs": [],
   "source": [
    "del df"
   ]
  },
  {
   "cell_type": "code",
   "execution_count": 15,
   "metadata": {
    "collapsed": false
   },
   "outputs": [
    {
     "data": {
      "text/html": [
       "<div>\n",
       "<table border=\"1\" class=\"dataframe\">\n",
       "  <thead>\n",
       "    <tr style=\"text-align: right;\">\n",
       "      <th></th>\n",
       "      <th>date</th>\n",
       "      <th>dayofweek</th>\n",
       "      <th>hour</th>\n",
       "      <th>geohash</th>\n",
       "      <th>demand</th>\n",
       "    </tr>\n",
       "  </thead>\n",
       "  <tbody>\n",
       "    <tr>\n",
       "      <th>0</th>\n",
       "      <td>1</td>\n",
       "      <td>6</td>\n",
       "      <td>0</td>\n",
       "      <td>dr5qgz7</td>\n",
       "      <td>0</td>\n",
       "    </tr>\n",
       "    <tr>\n",
       "      <th>1</th>\n",
       "      <td>1</td>\n",
       "      <td>6</td>\n",
       "      <td>1</td>\n",
       "      <td>dr5qgz7</td>\n",
       "      <td>0</td>\n",
       "    </tr>\n",
       "    <tr>\n",
       "      <th>2</th>\n",
       "      <td>1</td>\n",
       "      <td>6</td>\n",
       "      <td>2</td>\n",
       "      <td>dr5qgz7</td>\n",
       "      <td>0</td>\n",
       "    </tr>\n",
       "    <tr>\n",
       "      <th>3</th>\n",
       "      <td>1</td>\n",
       "      <td>6</td>\n",
       "      <td>3</td>\n",
       "      <td>dr5qgz7</td>\n",
       "      <td>0</td>\n",
       "    </tr>\n",
       "    <tr>\n",
       "      <th>4</th>\n",
       "      <td>1</td>\n",
       "      <td>6</td>\n",
       "      <td>4</td>\n",
       "      <td>dr5qgz7</td>\n",
       "      <td>0</td>\n",
       "    </tr>\n",
       "  </tbody>\n",
       "</table>\n",
       "</div>"
      ],
      "text/plain": [
       "   date  dayofweek  hour  geohash  demand\n",
       "0     1          6     0  dr5qgz7       0\n",
       "1     1          6     1  dr5qgz7       0\n",
       "2     1          6     2  dr5qgz7       0\n",
       "3     1          6     3  dr5qgz7       0\n",
       "4     1          6     4  dr5qgz7       0"
      ]
     },
     "execution_count": 15,
     "metadata": {},
     "output_type": "execute_result"
    }
   ],
   "source": [
    "demand_pivot['date'] = demand_pivot.index.values/24 + 1\n",
    "demand_pivot['dayofweek'] = (demand_pivot.date+5)%7\n",
    "demand_pivot['hour'] = demand_pivot.index.values%24\n",
    "demand = pd.melt(demand_pivot, id_vars=['date', 'dayofweek', 'hour'])\n",
    "demand = demand.rename(columns={'phash':'geohash', 'value':'demand'})\n",
    "demand.head()"
   ]
  },
  {
   "cell_type": "code",
   "execution_count": 16,
   "metadata": {
    "collapsed": false
   },
   "outputs": [
    {
     "data": {
      "text/html": [
       "<div>\n",
       "<table border=\"1\" class=\"dataframe\">\n",
       "  <thead>\n",
       "    <tr style=\"text-align: right;\">\n",
       "      <th></th>\n",
       "      <th>geohash</th>\n",
       "      <th>lat</th>\n",
       "      <th>lon</th>\n",
       "      <th>road_density</th>\n",
       "      <th>intxn_density</th>\n",
       "    </tr>\n",
       "  </thead>\n",
       "  <tbody>\n",
       "    <tr>\n",
       "      <th>0</th>\n",
       "      <td>dr5qgxx</td>\n",
       "      <td>40.603409</td>\n",
       "      <td>-74.015579</td>\n",
       "      <td>56</td>\n",
       "      <td>36</td>\n",
       "    </tr>\n",
       "    <tr>\n",
       "      <th>1</th>\n",
       "      <td>dr5qgxy</td>\n",
       "      <td>40.604782</td>\n",
       "      <td>-74.016953</td>\n",
       "      <td>43</td>\n",
       "      <td>8</td>\n",
       "    </tr>\n",
       "    <tr>\n",
       "      <th>2</th>\n",
       "      <td>dr5qgxz</td>\n",
       "      <td>40.604782</td>\n",
       "      <td>-74.015579</td>\n",
       "      <td>22</td>\n",
       "      <td>0</td>\n",
       "    </tr>\n",
       "    <tr>\n",
       "      <th>3</th>\n",
       "      <td>dr5qgz7</td>\n",
       "      <td>40.602036</td>\n",
       "      <td>-74.010086</td>\n",
       "      <td>28</td>\n",
       "      <td>9</td>\n",
       "    </tr>\n",
       "    <tr>\n",
       "      <th>4</th>\n",
       "      <td>dr5qgz8</td>\n",
       "      <td>40.603409</td>\n",
       "      <td>-74.014206</td>\n",
       "      <td>59</td>\n",
       "      <td>14</td>\n",
       "    </tr>\n",
       "  </tbody>\n",
       "</table>\n",
       "</div>"
      ],
      "text/plain": [
       "   geohash        lat        lon  road_density  intxn_density\n",
       "0  dr5qgxx  40.603409 -74.015579            56             36\n",
       "1  dr5qgxy  40.604782 -74.016953            43              8\n",
       "2  dr5qgxz  40.604782 -74.015579            22              0\n",
       "3  dr5qgz7  40.602036 -74.010086            28              9\n",
       "4  dr5qgz8  40.603409 -74.014206            59             14"
      ]
     },
     "execution_count": 16,
     "metadata": {},
     "output_type": "execute_result"
    }
   ],
   "source": [
    "zones = pd.read_csv(\"analytics/data/geohash.csv\",\n",
    "                    usecols=['geohash', 'lat', 'lon', 'road_density', 'intxn_density'])\n",
    "zones.head()"
   ]
  },
  {
   "cell_type": "code",
   "execution_count": 17,
   "metadata": {
    "collapsed": false
   },
   "outputs": [
    {
     "data": {
      "text/html": [
       "<div>\n",
       "<table border=\"1\" class=\"dataframe\">\n",
       "  <thead>\n",
       "    <tr style=\"text-align: right;\">\n",
       "      <th></th>\n",
       "      <th>date</th>\n",
       "      <th>dayofweek</th>\n",
       "      <th>hour</th>\n",
       "      <th>geohash</th>\n",
       "      <th>demand</th>\n",
       "      <th>lat</th>\n",
       "      <th>lon</th>\n",
       "      <th>road_density</th>\n",
       "      <th>intxn_density</th>\n",
       "    </tr>\n",
       "  </thead>\n",
       "  <tbody>\n",
       "    <tr>\n",
       "      <th>0</th>\n",
       "      <td>1</td>\n",
       "      <td>6</td>\n",
       "      <td>0</td>\n",
       "      <td>dr5qgz7</td>\n",
       "      <td>0</td>\n",
       "      <td>40.602036</td>\n",
       "      <td>-74.010086</td>\n",
       "      <td>28</td>\n",
       "      <td>9</td>\n",
       "    </tr>\n",
       "    <tr>\n",
       "      <th>1</th>\n",
       "      <td>1</td>\n",
       "      <td>6</td>\n",
       "      <td>0</td>\n",
       "      <td>dr5qgz8</td>\n",
       "      <td>0</td>\n",
       "      <td>40.603409</td>\n",
       "      <td>-74.014206</td>\n",
       "      <td>59</td>\n",
       "      <td>14</td>\n",
       "    </tr>\n",
       "    <tr>\n",
       "      <th>2</th>\n",
       "      <td>1</td>\n",
       "      <td>6</td>\n",
       "      <td>0</td>\n",
       "      <td>dr5qgzc</td>\n",
       "      <td>0</td>\n",
       "      <td>40.604782</td>\n",
       "      <td>-74.012833</td>\n",
       "      <td>48</td>\n",
       "      <td>2</td>\n",
       "    </tr>\n",
       "    <tr>\n",
       "      <th>3</th>\n",
       "      <td>1</td>\n",
       "      <td>6</td>\n",
       "      <td>0</td>\n",
       "      <td>dr5qgze</td>\n",
       "      <td>0</td>\n",
       "      <td>40.603409</td>\n",
       "      <td>-74.010086</td>\n",
       "      <td>40</td>\n",
       "      <td>3</td>\n",
       "    </tr>\n",
       "    <tr>\n",
       "      <th>4</th>\n",
       "      <td>1</td>\n",
       "      <td>6</td>\n",
       "      <td>0</td>\n",
       "      <td>dr5qgzr</td>\n",
       "      <td>0</td>\n",
       "      <td>40.602036</td>\n",
       "      <td>-74.004593</td>\n",
       "      <td>26</td>\n",
       "      <td>1</td>\n",
       "    </tr>\n",
       "  </tbody>\n",
       "</table>\n",
       "</div>"
      ],
      "text/plain": [
       "   date  dayofweek  hour  geohash  demand        lat        lon  road_density  \\\n",
       "0     1          6     0  dr5qgz7       0  40.602036 -74.010086            28   \n",
       "1     1          6     0  dr5qgz8       0  40.603409 -74.014206            59   \n",
       "2     1          6     0  dr5qgzc       0  40.604782 -74.012833            48   \n",
       "3     1          6     0  dr5qgze       0  40.603409 -74.010086            40   \n",
       "4     1          6     0  dr5qgzr       0  40.602036 -74.004593            26   \n",
       "\n",
       "   intxn_density  \n",
       "0              9  \n",
       "1             14  \n",
       "2              2  \n",
       "3              3  \n",
       "4              1  "
      ]
     },
     "execution_count": 17,
     "metadata": {},
     "output_type": "execute_result"
    }
   ],
   "source": [
    "demand = demand.sort_values(by=['date', 'hour'])\n",
    "demand = demand.merge(zones, how='left', on='geohash')\n",
    "demand.head()"
   ]
  },
  {
   "cell_type": "code",
   "execution_count": 18,
   "metadata": {
    "collapsed": true
   },
   "outputs": [],
   "source": [
    "demand.to_csv('analytics/data/demand_dataset.csv', index=False)"
   ]
  },
  {
   "cell_type": "code",
   "execution_count": 19,
   "metadata": {
    "collapsed": true
   },
   "outputs": [],
   "source": [
    "del demand"
   ]
  },
  {
   "cell_type": "markdown",
   "metadata": {
    "collapsed": true
   },
   "source": [
    "## Create state management table"
   ]
  },
  {
   "cell_type": "code",
   "execution_count": 25,
   "metadata": {
    "collapsed": false
   },
   "outputs": [
    {
     "data": {
      "text/html": [
       "<div>\n",
       "<table border=\"1\" class=\"dataframe\">\n",
       "  <thead>\n",
       "    <tr style=\"text-align: right;\">\n",
       "      <th></th>\n",
       "      <th>lat</th>\n",
       "      <th>lon</th>\n",
       "      <th>taxi_zone</th>\n",
       "      <th>road_density</th>\n",
       "      <th>intxn_density</th>\n",
       "    </tr>\n",
       "    <tr>\n",
       "      <th>geohash</th>\n",
       "      <th></th>\n",
       "      <th></th>\n",
       "      <th></th>\n",
       "      <th></th>\n",
       "      <th></th>\n",
       "    </tr>\n",
       "  </thead>\n",
       "  <tbody>\n",
       "    <tr>\n",
       "      <th>dr5qgxx</th>\n",
       "      <td>40.603358</td>\n",
       "      <td>-74.015682</td>\n",
       "      <td>10</td>\n",
       "      <td>56</td>\n",
       "      <td>36</td>\n",
       "    </tr>\n",
       "    <tr>\n",
       "      <th>dr5qgxy</th>\n",
       "      <td>40.604832</td>\n",
       "      <td>-74.017029</td>\n",
       "      <td>10</td>\n",
       "      <td>43</td>\n",
       "      <td>8</td>\n",
       "    </tr>\n",
       "    <tr>\n",
       "      <th>dr5qgxz</th>\n",
       "      <td>40.604637</td>\n",
       "      <td>-74.015335</td>\n",
       "      <td>10</td>\n",
       "      <td>22</td>\n",
       "      <td>0</td>\n",
       "    </tr>\n",
       "    <tr>\n",
       "      <th>dr5qgz7</th>\n",
       "      <td>40.602178</td>\n",
       "      <td>-74.010322</td>\n",
       "      <td>10</td>\n",
       "      <td>28</td>\n",
       "      <td>9</td>\n",
       "    </tr>\n",
       "    <tr>\n",
       "      <th>dr5qgz8</th>\n",
       "      <td>40.603474</td>\n",
       "      <td>-74.014180</td>\n",
       "      <td>10</td>\n",
       "      <td>59</td>\n",
       "      <td>14</td>\n",
       "    </tr>\n",
       "  </tbody>\n",
       "</table>\n",
       "</div>"
      ],
      "text/plain": [
       "               lat        lon  taxi_zone  road_density  intxn_density\n",
       "geohash                                                              \n",
       "dr5qgxx  40.603358 -74.015682         10            56             36\n",
       "dr5qgxy  40.604832 -74.017029         10            43              8\n",
       "dr5qgxz  40.604637 -74.015335         10            22              0\n",
       "dr5qgz7  40.602178 -74.010322         10            28              9\n",
       "dr5qgz8  40.603474 -74.014180         10            59             14"
      ]
     },
     "execution_count": 25,
     "metadata": {},
     "output_type": "execute_result"
    }
   ],
   "source": [
    "zones = pd.read_csv(\"analytics/data/geohash.csv\")\n",
    "zones = zones[zones.geohash==zones.mgeohash]\n",
    "zones['lat'] = zones.mlat\n",
    "zones['lon'] = zones.mlon\n",
    "zones = zones.drop(['mlat', 'mlon', 'mgeohash', 'total_pickup', 'total_dropoff'], axis=1)\n",
    "zones = zones.set_index('geohash')\n",
    "zones.head()"
   ]
  },
  {
   "cell_type": "code",
   "execution_count": 20,
   "metadata": {
    "collapsed": false
   },
   "outputs": [
    {
     "name": "stdout",
     "output_type": "stream",
     "text": [
      "<class 'pandas.core.frame.DataFrame'>\n",
      "Int64Index: 12864484 entries, 0 to 12864483\n",
      "Data columns (total 3 columns):\n",
      "date     int64\n",
      "hour     int64\n",
      "phash    object\n",
      "dtypes: int64(2), object(1)\n",
      "memory usage: 392.6+ MB\n"
     ]
    }
   ],
   "source": [
    "df = pd.read_csv(mmdata_path,\n",
    "                 usecols=[\n",
    "                     'phash',\n",
    "                     'hour',\n",
    "                     'date'\n",
    "                 ])\n",
    "df.info()"
   ]
  },
  {
   "cell_type": "code",
   "execution_count": 21,
   "metadata": {
    "collapsed": false
   },
   "outputs": [
    {
     "data": {
      "text/plain": [
       "phash\n",
       "dr5qup2    0.032258\n",
       "dr5qupd    0.032258\n",
       "dr5qur1    0.032258\n",
       "dr5quxv    0.032258\n",
       "dr5quxz    0.032258\n",
       "Name: hour, dtype: float64"
      ]
     },
     "execution_count": 21,
     "metadata": {},
     "output_type": "execute_result"
    }
   ],
   "source": [
    "n = df.date.max()\n",
    "df = df[df.hour==23].groupby('phash')['hour'].count()\n",
    "df = df/float(n)\n",
    "df.head()"
   ]
  },
  {
   "cell_type": "code",
   "execution_count": 26,
   "metadata": {
    "collapsed": false
   },
   "outputs": [
    {
     "data": {
      "text/html": [
       "<div>\n",
       "<table border=\"1\" class=\"dataframe\">\n",
       "  <thead>\n",
       "    <tr style=\"text-align: right;\">\n",
       "      <th></th>\n",
       "      <th>lat</th>\n",
       "      <th>lon</th>\n",
       "      <th>taxi_zone</th>\n",
       "      <th>road_density</th>\n",
       "      <th>intxn_density</th>\n",
       "      <th>latest_demand</th>\n",
       "    </tr>\n",
       "    <tr>\n",
       "      <th>geohash</th>\n",
       "      <th></th>\n",
       "      <th></th>\n",
       "      <th></th>\n",
       "      <th></th>\n",
       "      <th></th>\n",
       "      <th></th>\n",
       "    </tr>\n",
       "  </thead>\n",
       "  <tbody>\n",
       "    <tr>\n",
       "      <th>dr5qgxx</th>\n",
       "      <td>40.603358</td>\n",
       "      <td>-74.015682</td>\n",
       "      <td>10</td>\n",
       "      <td>56</td>\n",
       "      <td>36</td>\n",
       "      <td>0</td>\n",
       "    </tr>\n",
       "    <tr>\n",
       "      <th>dr5qgxy</th>\n",
       "      <td>40.604832</td>\n",
       "      <td>-74.017029</td>\n",
       "      <td>10</td>\n",
       "      <td>43</td>\n",
       "      <td>8</td>\n",
       "      <td>0</td>\n",
       "    </tr>\n",
       "    <tr>\n",
       "      <th>dr5qgxz</th>\n",
       "      <td>40.604637</td>\n",
       "      <td>-74.015335</td>\n",
       "      <td>10</td>\n",
       "      <td>22</td>\n",
       "      <td>0</td>\n",
       "      <td>0</td>\n",
       "    </tr>\n",
       "    <tr>\n",
       "      <th>dr5qgz7</th>\n",
       "      <td>40.602178</td>\n",
       "      <td>-74.010322</td>\n",
       "      <td>10</td>\n",
       "      <td>28</td>\n",
       "      <td>9</td>\n",
       "      <td>0</td>\n",
       "    </tr>\n",
       "    <tr>\n",
       "      <th>dr5qgz8</th>\n",
       "      <td>40.603474</td>\n",
       "      <td>-74.014180</td>\n",
       "      <td>10</td>\n",
       "      <td>59</td>\n",
       "      <td>14</td>\n",
       "      <td>0</td>\n",
       "    </tr>\n",
       "  </tbody>\n",
       "</table>\n",
       "</div>"
      ],
      "text/plain": [
       "               lat        lon  taxi_zone  road_density  intxn_density  \\\n",
       "geohash                                                                 \n",
       "dr5qgxx  40.603358 -74.015682         10            56             36   \n",
       "dr5qgxy  40.604832 -74.017029         10            43              8   \n",
       "dr5qgxz  40.604637 -74.015335         10            22              0   \n",
       "dr5qgz7  40.602178 -74.010322         10            28              9   \n",
       "dr5qgz8  40.603474 -74.014180         10            59             14   \n",
       "\n",
       "         latest_demand  \n",
       "geohash                 \n",
       "dr5qgxx              0  \n",
       "dr5qgxy              0  \n",
       "dr5qgxz              0  \n",
       "dr5qgz7              0  \n",
       "dr5qgz8              0  "
      ]
     },
     "execution_count": 26,
     "metadata": {},
     "output_type": "execute_result"
    }
   ],
   "source": [
    "zones['latest_demand'] = df\n",
    "zones = zones.fillna(0)\n",
    "zones.head()"
   ]
  },
  {
   "cell_type": "code",
   "execution_count": 28,
   "metadata": {
    "collapsed": true
   },
   "outputs": [],
   "source": [
    "zones.to_csv('engine/data/zones.csv')"
   ]
  },
  {
   "cell_type": "code",
   "execution_count": null,
   "metadata": {
    "collapsed": true
   },
   "outputs": [],
   "source": []
  },
  {
   "cell_type": "markdown",
   "metadata": {
    "collapsed": true
   },
   "source": [
    "## Create a OD distance table"
   ]
  },
  {
   "cell_type": "code",
   "execution_count": 36,
   "metadata": {
    "collapsed": false
   },
   "outputs": [
    {
     "data": {
      "text/html": [
       "<div>\n",
       "<table border=\"1\" class=\"dataframe\">\n",
       "  <thead>\n",
       "    <tr style=\"text-align: right;\">\n",
       "      <th></th>\n",
       "      <th>lat</th>\n",
       "      <th>lon</th>\n",
       "      <th>taxi_zone</th>\n",
       "    </tr>\n",
       "  </thead>\n",
       "  <tbody>\n",
       "    <tr>\n",
       "      <th>0</th>\n",
       "      <td>40.603358</td>\n",
       "      <td>-74.015682</td>\n",
       "      <td>10</td>\n",
       "    </tr>\n",
       "    <tr>\n",
       "      <th>1</th>\n",
       "      <td>40.604832</td>\n",
       "      <td>-74.017029</td>\n",
       "      <td>10</td>\n",
       "    </tr>\n",
       "    <tr>\n",
       "      <th>2</th>\n",
       "      <td>40.604637</td>\n",
       "      <td>-74.015335</td>\n",
       "      <td>10</td>\n",
       "    </tr>\n",
       "    <tr>\n",
       "      <th>3</th>\n",
       "      <td>40.602178</td>\n",
       "      <td>-74.010322</td>\n",
       "      <td>10</td>\n",
       "    </tr>\n",
       "    <tr>\n",
       "      <th>4</th>\n",
       "      <td>40.603474</td>\n",
       "      <td>-74.014180</td>\n",
       "      <td>10</td>\n",
       "    </tr>\n",
       "  </tbody>\n",
       "</table>\n",
       "</div>"
      ],
      "text/plain": [
       "         lat        lon  taxi_zone\n",
       "0  40.603358 -74.015682         10\n",
       "1  40.604832 -74.017029         10\n",
       "2  40.604637 -74.015335         10\n",
       "3  40.602178 -74.010322         10\n",
       "4  40.603474 -74.014180         10"
      ]
     },
     "execution_count": 36,
     "metadata": {},
     "output_type": "execute_result"
    }
   ],
   "source": [
    "zones = pd.read_csv('engine/data/zones.csv', usecols=['lat', 'lon', 'taxi_zone'])\n",
    "zones.head()"
   ]
  },
  {
   "cell_type": "code",
   "execution_count": 37,
   "metadata": {
    "collapsed": false
   },
   "outputs": [
    {
     "data": {
      "text/html": [
       "<div>\n",
       "<table border=\"1\" class=\"dataframe\">\n",
       "  <thead>\n",
       "    <tr style=\"text-align: right;\">\n",
       "      <th></th>\n",
       "      <th>lat</th>\n",
       "      <th>lon</th>\n",
       "    </tr>\n",
       "    <tr>\n",
       "      <th>taxi_zone</th>\n",
       "      <th></th>\n",
       "      <th></th>\n",
       "    </tr>\n",
       "  </thead>\n",
       "  <tbody>\n",
       "    <tr>\n",
       "      <th>2</th>\n",
       "      <td>40.865465</td>\n",
       "      <td>-73.849574</td>\n",
       "    </tr>\n",
       "    <tr>\n",
       "      <th>3</th>\n",
       "      <td>40.724116</td>\n",
       "      <td>-73.977340</td>\n",
       "    </tr>\n",
       "    <tr>\n",
       "      <th>6</th>\n",
       "      <td>40.761576</td>\n",
       "      <td>-73.919734</td>\n",
       "    </tr>\n",
       "    <tr>\n",
       "      <th>7</th>\n",
       "      <td>40.778363</td>\n",
       "      <td>-73.922796</td>\n",
       "    </tr>\n",
       "    <tr>\n",
       "      <th>8</th>\n",
       "      <td>40.753302</td>\n",
       "      <td>-73.788666</td>\n",
       "    </tr>\n",
       "  </tbody>\n",
       "</table>\n",
       "</div>"
      ],
      "text/plain": [
       "                 lat        lon\n",
       "taxi_zone                      \n",
       "2          40.865465 -73.849574\n",
       "3          40.724116 -73.977340\n",
       "6          40.761576 -73.919734\n",
       "7          40.778363 -73.922796\n",
       "8          40.753302 -73.788666"
      ]
     },
     "execution_count": 37,
     "metadata": {},
     "output_type": "execute_result"
    }
   ],
   "source": [
    "zones = zones.groupby('taxi_zone').mean()\n",
    "zones.head()"
   ]
  },
  {
   "cell_type": "code",
   "execution_count": 38,
   "metadata": {
    "collapsed": false
   },
   "outputs": [],
   "source": [
    "import cPickle as pickle\n",
    "path = 'engine/data/nyc_network_graph.pkl'\n",
    "with open(path, 'r') as f:\n",
    "    G = pickle.load(f)"
   ]
  },
  {
   "cell_type": "code",
   "execution_count": 39,
   "metadata": {
    "collapsed": true
   },
   "outputs": [],
   "source": [
    "from engine.mapper.pathgenerator import PathGenerator\n",
    "\n",
    "path_generator = PathGenerator(G)"
   ]
  },
  {
   "cell_type": "code",
   "execution_count": 40,
   "metadata": {
    "collapsed": false
   },
   "outputs": [
    {
     "name": "stdout",
     "output_type": "stream",
     "text": [
      "2\n",
      "3\n",
      "6\n",
      "7\n",
      "8\n",
      "9\n",
      "10\n",
      "11\n",
      "12\n",
      "13\n",
      "14\n",
      "15\n",
      "16\n",
      "17\n",
      "19\n",
      "20\n",
      "21\n",
      "23\n",
      "24\n",
      "25\n",
      "27\n",
      "30\n",
      "31\n",
      "32\n",
      "33\n",
      "34\n",
      "35\n",
      "36\n",
      "38\n",
      "39\n",
      "40\n",
      "41\n",
      "42\n",
      "44\n",
      "45\n",
      "46\n",
      "47\n",
      "48\n",
      "49\n",
      "50\n",
      "51\n",
      "52\n",
      "53\n",
      "55\n",
      "56\n",
      "57\n",
      "58\n",
      "59\n",
      "60\n",
      "61\n",
      "62\n",
      "64\n",
      "65\n",
      "66\n",
      "67\n",
      "68\n",
      "69\n",
      "70\n",
      "71\n",
      "72\n",
      "73\n",
      "74\n",
      "75\n",
      "76\n",
      "77\n",
      "78\n",
      "79\n",
      "80\n",
      "81\n",
      "82\n",
      "84\n",
      "86\n",
      "87\n",
      "88\n",
      "89\n",
      "90\n",
      "91\n",
      "92\n",
      "93\n",
      "94\n",
      "95\n",
      "96\n",
      "97\n",
      "99\n",
      "101\n",
      "105\n",
      "106\n",
      "110\n",
      "111\n",
      "112\n",
      "113\n",
      "115\n",
      "118\n",
      "119\n",
      "120\n",
      "121\n",
      "122\n",
      "123\n",
      "124\n",
      "125\n",
      "126\n",
      "127\n",
      "128\n",
      "129\n",
      "130\n",
      "131\n",
      "132\n",
      "133\n",
      "134\n",
      "135\n",
      "136\n",
      "137\n",
      "138\n",
      "139\n",
      "140\n",
      "141\n",
      "142\n",
      "143\n",
      "144\n",
      "145\n",
      "146\n",
      "147\n",
      "148\n",
      "150\n",
      "151\n",
      "152\n",
      "154\n",
      "156\n",
      "157\n",
      "158\n",
      "159\n",
      "160\n",
      "161\n",
      "162\n",
      "163\n",
      "164\n",
      "165\n",
      "166\n",
      "167\n",
      "168\n",
      "169\n",
      "170\n",
      "172\n",
      "173\n",
      "174\n",
      "176\n",
      "177\n",
      "178\n",
      "179\n",
      "180\n",
      "181\n",
      "182\n",
      "183\n",
      "184\n",
      "185\n",
      "187\n",
      "188\n",
      "189\n",
      "190\n",
      "191\n",
      "192\n",
      "193\n",
      "194\n",
      "195\n",
      "196\n",
      "197\n",
      "199\n",
      "201\n",
      "204\n",
      "206\n",
      "207\n",
      "208\n",
      "210\n",
      "211\n",
      "212\n",
      "214\n",
      "215\n",
      "216\n",
      "217\n",
      "218\n",
      "219\n",
      "221\n",
      "222\n",
      "223\n",
      "224\n",
      "225\n",
      "226\n",
      "227\n",
      "228\n",
      "229\n",
      "230\n",
      "231\n",
      "232\n",
      "233\n",
      "234\n",
      "235\n",
      "236\n",
      "237\n",
      "238\n",
      "239\n",
      "240\n",
      "241\n",
      "242\n",
      "243\n",
      "245\n",
      "246\n",
      "247\n",
      "248\n",
      "249\n",
      "251\n",
      "252\n",
      "253\n",
      "254\n",
      "255\n",
      "256\n",
      "257\n",
      "258\n",
      "259\n",
      "260\n",
      "261\n",
      "262\n",
      "CPU times: user 51min 56s, sys: 38.7 s, total: 52min 34s\n",
      "Wall time: 52min 38s\n"
     ]
    }
   ],
   "source": [
    "%%time\n",
    "OD = zones.copy()\n",
    "zone_index = map(int, zones.index)\n",
    "for j in zone_index:\n",
    "    print j\n",
    "    OD[j] = 0\n",
    "    for i in zone_index:\n",
    "        if i < j:\n",
    "            OD.loc[i, j] = OD.loc[j, i]\n",
    "        else:\n",
    "            try:\n",
    "                su, sv, sd = path_generator.map_match(zones.loc[i], geo_range=0.0025)\n",
    "                tu, tv, td = path_generator.map_match(zones.loc[j], geo_range=0.0025)\n",
    "                _, distance = path_generator.shortest_path(su, tu)\n",
    "                OD.loc[i, j] = distance\n",
    "            except:\n",
    "                print 'ERROR: (%d, %d)' %(i, j)\n",
    "                OD.loc[i, j] = -1\n",
    "                continue"
   ]
  },
  {
   "cell_type": "code",
   "execution_count": 41,
   "metadata": {
    "collapsed": false
   },
   "outputs": [
    {
     "data": {
      "text/html": [
       "<div>\n",
       "<table border=\"1\" class=\"dataframe\">\n",
       "  <thead>\n",
       "    <tr style=\"text-align: right;\">\n",
       "      <th></th>\n",
       "      <th>lat</th>\n",
       "      <th>lon</th>\n",
       "      <th>2</th>\n",
       "      <th>3</th>\n",
       "      <th>6</th>\n",
       "      <th>7</th>\n",
       "      <th>8</th>\n",
       "      <th>9</th>\n",
       "      <th>10</th>\n",
       "      <th>11</th>\n",
       "      <th>...</th>\n",
       "      <th>253</th>\n",
       "      <th>254</th>\n",
       "      <th>255</th>\n",
       "      <th>256</th>\n",
       "      <th>257</th>\n",
       "      <th>258</th>\n",
       "      <th>259</th>\n",
       "      <th>260</th>\n",
       "      <th>261</th>\n",
       "      <th>262</th>\n",
       "    </tr>\n",
       "    <tr>\n",
       "      <th>taxi_zone</th>\n",
       "      <th></th>\n",
       "      <th></th>\n",
       "      <th></th>\n",
       "      <th></th>\n",
       "      <th></th>\n",
       "      <th></th>\n",
       "      <th></th>\n",
       "      <th></th>\n",
       "      <th></th>\n",
       "      <th></th>\n",
       "      <th></th>\n",
       "      <th></th>\n",
       "      <th></th>\n",
       "      <th></th>\n",
       "      <th></th>\n",
       "      <th></th>\n",
       "      <th></th>\n",
       "      <th></th>\n",
       "      <th></th>\n",
       "      <th></th>\n",
       "      <th></th>\n",
       "    </tr>\n",
       "  </thead>\n",
       "  <tbody>\n",
       "    <tr>\n",
       "      <th>2</th>\n",
       "      <td>40.865465</td>\n",
       "      <td>-73.849574</td>\n",
       "      <td>0.000000</td>\n",
       "      <td>20799.128906</td>\n",
       "      <td>15446.339844</td>\n",
       "      <td>15167.070312</td>\n",
       "      <td>15117.468750</td>\n",
       "      <td>23334.265625</td>\n",
       "      <td>36059.571289</td>\n",
       "      <td>24689.609375</td>\n",
       "      <td>...</td>\n",
       "      <td>2610.078125</td>\n",
       "      <td>21771.582031</td>\n",
       "      <td>22743.519531</td>\n",
       "      <td>31399.468750</td>\n",
       "      <td>23335.391602</td>\n",
       "      <td>4111.015625</td>\n",
       "      <td>18241.441406</td>\n",
       "      <td>24225.933594</td>\n",
       "      <td>14346.156250</td>\n",
       "      <td>14337.835938</td>\n",
       "    </tr>\n",
       "    <tr>\n",
       "      <th>3</th>\n",
       "      <td>40.724116</td>\n",
       "      <td>-73.977340</td>\n",
       "      <td>20799.128906</td>\n",
       "      <td>0.000000</td>\n",
       "      <td>9414.384766</td>\n",
       "      <td>10495.150391</td>\n",
       "      <td>19848.027344</td>\n",
       "      <td>19729.890625</td>\n",
       "      <td>16415.262695</td>\n",
       "      <td>4855.984375</td>\n",
       "      <td>...</td>\n",
       "      <td>22364.121094</td>\n",
       "      <td>5130.453125</td>\n",
       "      <td>3809.984375</td>\n",
       "      <td>11755.160156</td>\n",
       "      <td>14106.474609</td>\n",
       "      <td>23465.496094</td>\n",
       "      <td>9851.583984</td>\n",
       "      <td>4392.308594</td>\n",
       "      <td>6749.441406</td>\n",
       "      <td>7089.560547</td>\n",
       "    </tr>\n",
       "    <tr>\n",
       "      <th>6</th>\n",
       "      <td>40.761576</td>\n",
       "      <td>-73.919734</td>\n",
       "      <td>15446.339844</td>\n",
       "      <td>9414.384766</td>\n",
       "      <td>0.000000</td>\n",
       "      <td>2289.507812</td>\n",
       "      <td>12145.718750</td>\n",
       "      <td>14986.389648</td>\n",
       "      <td>21298.937500</td>\n",
       "      <td>12766.773438</td>\n",
       "      <td>...</td>\n",
       "      <td>16444.347656</td>\n",
       "      <td>6792.914062</td>\n",
       "      <td>7749.289062</td>\n",
       "      <td>16351.380859</td>\n",
       "      <td>11360.564453</td>\n",
       "      <td>17945.285156</td>\n",
       "      <td>2840.789062</td>\n",
       "      <td>12303.097656</td>\n",
       "      <td>7572.578125</td>\n",
       "      <td>7159.765625</td>\n",
       "    </tr>\n",
       "    <tr>\n",
       "      <th>7</th>\n",
       "      <td>40.778363</td>\n",
       "      <td>-73.922796</td>\n",
       "      <td>15167.070312</td>\n",
       "      <td>10495.150391</td>\n",
       "      <td>2289.507812</td>\n",
       "      <td>0.000000</td>\n",
       "      <td>12723.703125</td>\n",
       "      <td>16591.932617</td>\n",
       "      <td>22651.191406</td>\n",
       "      <td>13809.660156</td>\n",
       "      <td>...</td>\n",
       "      <td>16378.355469</td>\n",
       "      <td>7914.136719</td>\n",
       "      <td>8886.074219</td>\n",
       "      <td>17703.634766</td>\n",
       "      <td>12966.107422</td>\n",
       "      <td>17879.292969</td>\n",
       "      <td>4973.554688</td>\n",
       "      <td>13345.984375</td>\n",
       "      <td>8995.222656</td>\n",
       "      <td>8459.695312</td>\n",
       "    </tr>\n",
       "    <tr>\n",
       "      <th>8</th>\n",
       "      <td>40.753302</td>\n",
       "      <td>-73.788666</td>\n",
       "      <td>15117.468750</td>\n",
       "      <td>19848.027344</td>\n",
       "      <td>12145.718750</td>\n",
       "      <td>12723.703125</td>\n",
       "      <td>0.000000</td>\n",
       "      <td>9516.761719</td>\n",
       "      <td>28464.097656</td>\n",
       "      <td>22629.976562</td>\n",
       "      <td>...</td>\n",
       "      <td>17266.940804</td>\n",
       "      <td>16300.207031</td>\n",
       "      <td>16801.687500</td>\n",
       "      <td>23527.978516</td>\n",
       "      <td>11182.792969</td>\n",
       "      <td>18533.253304</td>\n",
       "      <td>10573.660156</td>\n",
       "      <td>22166.300781</td>\n",
       "      <td>18599.222656</td>\n",
       "      <td>18230.886719</td>\n",
       "    </tr>\n",
       "  </tbody>\n",
       "</table>\n",
       "<p>5 rows × 223 columns</p>\n",
       "</div>"
      ],
      "text/plain": [
       "                 lat        lon             2             3             6  \\\n",
       "taxi_zone                                                                   \n",
       "2          40.865465 -73.849574      0.000000  20799.128906  15446.339844   \n",
       "3          40.724116 -73.977340  20799.128906      0.000000   9414.384766   \n",
       "6          40.761576 -73.919734  15446.339844   9414.384766      0.000000   \n",
       "7          40.778363 -73.922796  15167.070312  10495.150391   2289.507812   \n",
       "8          40.753302 -73.788666  15117.468750  19848.027344  12145.718750   \n",
       "\n",
       "                      7             8             9            10  \\\n",
       "taxi_zone                                                           \n",
       "2          15167.070312  15117.468750  23334.265625  36059.571289   \n",
       "3          10495.150391  19848.027344  19729.890625  16415.262695   \n",
       "6           2289.507812  12145.718750  14986.389648  21298.937500   \n",
       "7              0.000000  12723.703125  16591.932617  22651.191406   \n",
       "8          12723.703125      0.000000   9516.761719  28464.097656   \n",
       "\n",
       "                     11      ...                253           254  \\\n",
       "taxi_zone                    ...                                    \n",
       "2          24689.609375      ...        2610.078125  21771.582031   \n",
       "3           4855.984375      ...       22364.121094   5130.453125   \n",
       "6          12766.773438      ...       16444.347656   6792.914062   \n",
       "7          13809.660156      ...       16378.355469   7914.136719   \n",
       "8          22629.976562      ...       17266.940804  16300.207031   \n",
       "\n",
       "                    255           256           257           258  \\\n",
       "taxi_zone                                                           \n",
       "2          22743.519531  31399.468750  23335.391602   4111.015625   \n",
       "3           3809.984375  11755.160156  14106.474609  23465.496094   \n",
       "6           7749.289062  16351.380859  11360.564453  17945.285156   \n",
       "7           8886.074219  17703.634766  12966.107422  17879.292969   \n",
       "8          16801.687500  23527.978516  11182.792969  18533.253304   \n",
       "\n",
       "                    259           260           261           262  \n",
       "taxi_zone                                                          \n",
       "2          18241.441406  24225.933594  14346.156250  14337.835938  \n",
       "3           9851.583984   4392.308594   6749.441406   7089.560547  \n",
       "6           2840.789062  12303.097656   7572.578125   7159.765625  \n",
       "7           4973.554688  13345.984375   8995.222656   8459.695312  \n",
       "8          10573.660156  22166.300781  18599.222656  18230.886719  \n",
       "\n",
       "[5 rows x 223 columns]"
      ]
     },
     "execution_count": 41,
     "metadata": {},
     "output_type": "execute_result"
    }
   ],
   "source": [
    "OD.head()"
   ]
  },
  {
   "cell_type": "code",
   "execution_count": 42,
   "metadata": {
    "collapsed": true
   },
   "outputs": [],
   "source": [
    "OD.to_csv('engine/data/OD_distance.csv')"
   ]
  },
  {
   "cell_type": "code",
   "execution_count": null,
   "metadata": {
    "collapsed": true
   },
   "outputs": [],
   "source": []
  }
 ],
 "metadata": {
  "kernelspec": {
   "display_name": "Python 2",
   "language": "python",
   "name": "python2"
  },
  "language_info": {
   "codemirror_mode": {
    "name": "ipython",
    "version": 2
   },
   "file_extension": ".py",
   "mimetype": "text/x-python",
   "name": "python",
   "nbconvert_exporter": "python",
   "pygments_lexer": "ipython2",
   "version": "2.7.9"
  }
 },
 "nbformat": 4,
 "nbformat_minor": 0
}
