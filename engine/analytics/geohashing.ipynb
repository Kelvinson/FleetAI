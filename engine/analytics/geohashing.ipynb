{
 "cells": [
  {
   "cell_type": "code",
   "execution_count": 1,
   "metadata": {
    "collapsed": false
   },
   "outputs": [],
   "source": [
    "%load_ext autoreload\n",
    "%autoreload 2\n",
    "import numpy as np\n",
    "import pandas as pd\n",
    "import matplotlib\n",
    "%matplotlib inline\n",
    "import matplotlib.pyplot as plt\n",
    "import cPickle as pickle\n",
    "plt.style.use('ggplot')"
   ]
  },
  {
   "cell_type": "code",
   "execution_count": 2,
   "metadata": {
    "collapsed": false
   },
   "outputs": [
    {
     "name": "stdout",
     "output_type": "stream",
     "text": [
      "<class 'pandas.core.frame.DataFrame'>\n",
      "Int64Index: 12985767 entries, 0 to 12985766\n",
      "Data columns (total 2 columns):\n",
      "pickup_latitude     float64\n",
      "pickup_longitude    float64\n",
      "dtypes: float64(2)\n",
      "memory usage: 297.2 MB\n"
     ]
    }
   ],
   "source": [
    "df = pd.read_csv('temp/data/taxi_tripdata_2016-05.csv',\n",
    "                 usecols=[\n",
    "                     'pickup_latitude',\n",
    "                     'pickup_longitude']\n",
    "                )\n",
    "df.info()"
   ]
  },
  {
   "cell_type": "code",
   "execution_count": 4,
   "metadata": {
    "collapsed": false
   },
   "outputs": [
    {
     "data": {
      "text/plain": [
       "'ezs42'"
      ]
     },
     "execution_count": 4,
     "metadata": {},
     "output_type": "execute_result"
    }
   ],
   "source": [
    "import Geohash\n",
    "\n",
    "Geohash.encode(42.6, -5.6, precision=5)"
   ]
  },
  {
   "cell_type": "code",
   "execution_count": 98,
   "metadata": {
    "collapsed": false
   },
   "outputs": [
    {
     "name": "stdout",
     "output_type": "stream",
     "text": [
      "['dr5rsge', 'dr5ru6k', 'dr5ruxb', 'dr5rgbx', 'dr5rue3']\n",
      "CPU times: user 4min 43s, sys: 790 ms, total: 4min 44s\n",
      "Wall time: 4min 44s\n"
     ]
    }
   ],
   "source": [
    "%%time\n",
    "geostrings = [Geohash.encode(lat, lon, precision=7) for lat, lon in df.values]\n",
    "print geostrings[:5]"
   ]
  },
  {
   "cell_type": "code",
   "execution_count": 99,
   "metadata": {
    "collapsed": false
   },
   "outputs": [
    {
     "data": {
      "text/plain": [
       "20917"
      ]
     },
     "execution_count": 99,
     "metadata": {},
     "output_type": "execute_result"
    }
   ],
   "source": [
    "len(set(geostrings))"
   ]
  },
  {
   "cell_type": "code",
   "execution_count": 107,
   "metadata": {
    "collapsed": false
   },
   "outputs": [
    {
     "data": {
      "text/plain": [
       "1738"
      ]
     },
     "execution_count": 107,
     "metadata": {},
     "output_type": "execute_result"
    }
   ],
   "source": [
    "l = 6\n",
    "len(set(s[:l] for s in geostrings))"
   ]
  },
  {
   "cell_type": "code",
   "execution_count": 5,
   "metadata": {
    "collapsed": false
   },
   "outputs": [
    {
     "name": "stdout",
     "output_type": "stream",
     "text": [
      "<class 'pandas.core.frame.DataFrame'>\n",
      "Int64Index: 12985767 entries, 0 to 12985766\n",
      "Data columns (total 2 columns):\n",
      "dropoff_latitude     float64\n",
      "dropoff_longitude    float64\n",
      "dtypes: float64(2)\n",
      "memory usage: 297.2 MB\n"
     ]
    }
   ],
   "source": [
    "df = pd.read_csv('temp/data/taxi_tripdata_2016-05.csv',\n",
    "                 usecols=[\n",
    "                     'dropoff_latitude',\n",
    "                     'dropoff_longitude']\n",
    "                )\n",
    "df.info()"
   ]
  },
  {
   "cell_type": "code",
   "execution_count": 6,
   "metadata": {
    "collapsed": false
   },
   "outputs": [
    {
     "name": "stdout",
     "output_type": "stream",
     "text": [
      "['dr5rtce', 'dr5rut8', 'dr72mt2', 'dr5ru0h', 'dr5ru7g']\n",
      "CPU times: user 4min 59s, sys: 2.58 s, total: 5min 2s\n",
      "Wall time: 5min 7s\n"
     ]
    }
   ],
   "source": [
    "%%time\n",
    "geostrings = [Geohash.encode(lat, lon, precision=7) for lat, lon in df.values]\n",
    "print geostrings[:5]"
   ]
  },
  {
   "cell_type": "code",
   "execution_count": 2,
   "metadata": {
    "collapsed": false
   },
   "outputs": [
    {
     "name": "stdout",
     "output_type": "stream",
     "text": [
      "<class 'pandas.core.frame.DataFrame'>\n",
      "Int64Index: 12933070 entries, 0 to 12933069\n",
      "Data columns (total 16 columns):\n",
      "Unnamed: 0               int64\n",
      "request_id               int64\n",
      "date                     int16\n",
      "dayofweek                int16\n",
      "dropoff_latitude         float64\n",
      "dropoff_longitude        float64\n",
      "hour                     int16\n",
      "minute                   int16\n",
      "pickup_latitude          float64\n",
      "pickup_longitude         float64\n",
      "second                   float64\n",
      "trip_distance            float64\n",
      "trip_time                float64\n",
      "great_circle_distance    int64\n",
      "pickup_geohash           object\n",
      "dropoff_geohash          object\n",
      "dtypes: float64(7), int16(4), int64(3), object(2)\n",
      "memory usage: 1.3+ GB\n"
     ]
    }
   ],
   "source": [
    "df = pd.read_csv('temp/data/taxi_tripdata_2016-05.csv',\n",
    "                 dtype={\n",
    "                     'date': np.int16,\n",
    "                     'dayofweek':np.int16,\n",
    "                     'hour': np.int16,\n",
    "                     'minute': np.int16\n",
    "                 })\n",
    "df.info()"
   ]
  },
  {
   "cell_type": "code",
   "execution_count": 4,
   "metadata": {
    "collapsed": false
   },
   "outputs": [
    {
     "data": {
      "text/html": [
       "<div>\n",
       "<table border=\"1\" class=\"dataframe\">\n",
       "  <thead>\n",
       "    <tr style=\"text-align: right;\">\n",
       "      <th></th>\n",
       "      <th>request_id</th>\n",
       "      <th>date</th>\n",
       "      <th>dayofweek</th>\n",
       "      <th>dropoff_latitude</th>\n",
       "      <th>dropoff_longitude</th>\n",
       "      <th>hour</th>\n",
       "      <th>minute</th>\n",
       "      <th>pickup_latitude</th>\n",
       "      <th>pickup_longitude</th>\n",
       "      <th>second</th>\n",
       "      <th>trip_distance</th>\n",
       "      <th>trip_time</th>\n",
       "      <th>great_circle_distance</th>\n",
       "      <th>pickup_zone</th>\n",
       "      <th>dropoff_zone</th>\n",
       "    </tr>\n",
       "  </thead>\n",
       "  <tbody>\n",
       "    <tr>\n",
       "      <th>0</th>\n",
       "      <td>0</td>\n",
       "      <td>1</td>\n",
       "      <td>6</td>\n",
       "      <td>40.702751</td>\n",
       "      <td>-73.921951</td>\n",
       "      <td>0</td>\n",
       "      <td>0</td>\n",
       "      <td>40.712791</td>\n",
       "      <td>-73.965874</td>\n",
       "      <td>0</td>\n",
       "      <td>2.93</td>\n",
       "      <td>15.216667</td>\n",
       "      <td>3866</td>\n",
       "      <td>dr5rsge</td>\n",
       "      <td>dr5rtce</td>\n",
       "    </tr>\n",
       "    <tr>\n",
       "      <th>1</th>\n",
       "      <td>1</td>\n",
       "      <td>1</td>\n",
       "      <td>6</td>\n",
       "      <td>40.767826</td>\n",
       "      <td>-73.980797</td>\n",
       "      <td>0</td>\n",
       "      <td>0</td>\n",
       "      <td>40.750507</td>\n",
       "      <td>-73.987198</td>\n",
       "      <td>0</td>\n",
       "      <td>1.48</td>\n",
       "      <td>6.516667</td>\n",
       "      <td>1999</td>\n",
       "      <td>dr5ru6k</td>\n",
       "      <td>dr5rut8</td>\n",
       "    </tr>\n",
       "    <tr>\n",
       "      <th>2</th>\n",
       "      <td>2</td>\n",
       "      <td>1</td>\n",
       "      <td>6</td>\n",
       "      <td>40.855343</td>\n",
       "      <td>-73.937805</td>\n",
       "      <td>0</td>\n",
       "      <td>0</td>\n",
       "      <td>40.780739</td>\n",
       "      <td>-73.981544</td>\n",
       "      <td>0</td>\n",
       "      <td>6.68</td>\n",
       "      <td>15.716667</td>\n",
       "      <td>9075</td>\n",
       "      <td>dr5ruxb</td>\n",
       "      <td>dr72mt2</td>\n",
       "    </tr>\n",
       "    <tr>\n",
       "      <th>3</th>\n",
       "      <td>3</td>\n",
       "      <td>1</td>\n",
       "      <td>6</td>\n",
       "      <td>40.737564</td>\n",
       "      <td>-73.997498</td>\n",
       "      <td>0</td>\n",
       "      <td>0</td>\n",
       "      <td>40.740192</td>\n",
       "      <td>-74.005280</td>\n",
       "      <td>0</td>\n",
       "      <td>0.56</td>\n",
       "      <td>6.650000</td>\n",
       "      <td>717</td>\n",
       "      <td>dr5rgbx</td>\n",
       "      <td>dr5ru0h</td>\n",
       "    </tr>\n",
       "    <tr>\n",
       "      <th>4</th>\n",
       "      <td>4</td>\n",
       "      <td>1</td>\n",
       "      <td>6</td>\n",
       "      <td>40.758469</td>\n",
       "      <td>-73.988014</td>\n",
       "      <td>0</td>\n",
       "      <td>0</td>\n",
       "      <td>40.755764</td>\n",
       "      <td>-73.979294</td>\n",
       "      <td>0</td>\n",
       "      <td>0.63</td>\n",
       "      <td>5.316667</td>\n",
       "      <td>793</td>\n",
       "      <td>dr5rue3</td>\n",
       "      <td>dr5ru7g</td>\n",
       "    </tr>\n",
       "  </tbody>\n",
       "</table>\n",
       "</div>"
      ],
      "text/plain": [
       "   request_id  date  dayofweek  dropoff_latitude  dropoff_longitude  hour  \\\n",
       "0           0     1          6         40.702751         -73.921951     0   \n",
       "1           1     1          6         40.767826         -73.980797     0   \n",
       "2           2     1          6         40.855343         -73.937805     0   \n",
       "3           3     1          6         40.737564         -73.997498     0   \n",
       "4           4     1          6         40.758469         -73.988014     0   \n",
       "\n",
       "   minute  pickup_latitude  pickup_longitude  second  trip_distance  \\\n",
       "0       0        40.712791        -73.965874       0           2.93   \n",
       "1       0        40.750507        -73.987198       0           1.48   \n",
       "2       0        40.780739        -73.981544       0           6.68   \n",
       "3       0        40.740192        -74.005280       0           0.56   \n",
       "4       0        40.755764        -73.979294       0           0.63   \n",
       "\n",
       "   trip_time  great_circle_distance pickup_zone dropoff_zone  \n",
       "0  15.216667                   3866     dr5rsge      dr5rtce  \n",
       "1   6.516667                   1999     dr5ru6k      dr5rut8  \n",
       "2  15.716667                   9075     dr5ruxb      dr72mt2  \n",
       "3   6.650000                    717     dr5rgbx      dr5ru0h  \n",
       "4   5.316667                    793     dr5rue3      dr5ru7g  "
      ]
     },
     "execution_count": 4,
     "metadata": {},
     "output_type": "execute_result"
    }
   ],
   "source": [
    "df['pickup_zone'] = pd.Series(geostrings)\n",
    "df['dropoff_zone'] = pd.Series(geostrings)\n",
    "df.head()"
   ]
  },
  {
   "cell_type": "code",
   "execution_count": 5,
   "metadata": {
    "collapsed": true
   },
   "outputs": [],
   "source": [
    "df.to_csv('temp/data/taxi_tripdata_2016-05.csv', index=False)"
   ]
  },
  {
   "cell_type": "code",
   "execution_count": 6,
   "metadata": {
    "collapsed": true
   },
   "outputs": [],
   "source": [
    "del df"
   ]
  },
  {
   "cell_type": "markdown",
   "metadata": {
    "collapsed": true
   },
   "source": [
    "## Visualization with bokeh"
   ]
  },
  {
   "cell_type": "code",
   "execution_count": 87,
   "metadata": {
    "collapsed": false
   },
   "outputs": [
    {
     "data": {
      "text/plain": [
       "2401"
      ]
     },
     "execution_count": 87,
     "metadata": {},
     "output_type": "execute_result"
    }
   ],
   "source": [
    "geolats = []\n",
    "geolons = []\n",
    "l = 7\n",
    "for s in geostrings:\n",
    "    lat, lon, _, _ = Geohash.decode_exactly(s[:l])\n",
    "    geolats.append(float(lat))\n",
    "    geolons.append(float(lon))\n",
    "len(set(zip(geolats, geolons)))"
   ]
  },
  {
   "cell_type": "code",
   "execution_count": 66,
   "metadata": {
    "collapsed": false
   },
   "outputs": [
    {
     "name": "stdout",
     "output_type": "stream",
     "text": [
      "<class 'pandas.core.frame.DataFrame'>\n",
      "Int64Index: 12985767 entries, 0 to 12985766\n",
      "Data columns (total 8 columns):\n",
      "dayofweek            int16\n",
      "dropoff_latitude     float64\n",
      "dropoff_longitude    float64\n",
      "hour                 int16\n",
      "pickup_latitude      float64\n",
      "pickup_longitude     float64\n",
      "pickup_geohash       object\n",
      "dropoff_geohash      object\n",
      "dtypes: float64(4), int16(2), object(2)\n",
      "memory usage: 743.1+ MB\n"
     ]
    }
   ],
   "source": [
    "df = pd.read_csv('temp/data/taxi_tripdata_2016-05.csv',\n",
    "                 usecols=[\n",
    "                     'dayofweek',\n",
    "                     'hour',\n",
    "                     'pickup_latitude',\n",
    "                     'pickup_longitude', \n",
    "                     'pickup_geohash',\n",
    "                     'dropoff_latitude',\n",
    "                     'dropoff_longitude', \n",
    "                     'dropoff_geohash'\n",
    "                 ],\n",
    "                 dtype={\n",
    "                     'dayofweek':np.int16,\n",
    "                     'hour': np.int16\n",
    "                 }\n",
    "                )\n",
    "df.info()"
   ]
  },
  {
   "cell_type": "code",
   "execution_count": 67,
   "metadata": {
    "collapsed": true
   },
   "outputs": [],
   "source": [
    "df['pickup_geohash'] = df.pickup_geohash.str[:-2]\n",
    "df['dropoff_geohash'] = df.dropoff_geohash.str[:-2]"
   ]
  },
  {
   "cell_type": "code",
   "execution_count": 69,
   "metadata": {
    "collapsed": false
   },
   "outputs": [
    {
     "data": {
      "text/plain": [
       "12985767"
      ]
     },
     "execution_count": 69,
     "metadata": {},
     "output_type": "execute_result"
    }
   ],
   "source": [
    "len(df)"
   ]
  },
  {
   "cell_type": "code",
   "execution_count": 71,
   "metadata": {
    "collapsed": false
   },
   "outputs": [
    {
     "data": {
      "text/plain": [
       "12912556"
      ]
     },
     "execution_count": 71,
     "metadata": {},
     "output_type": "execute_result"
    }
   ],
   "source": [
    "left, right = -74.05, -73.75\n",
    "top, bottom = 40.9, 40.6\n",
    "df = df[(df.pickup_latitude>bottom)&\n",
    "               (df.pickup_latitude<top)&\n",
    "               (df.pickup_longitude>left)&\n",
    "               (df.pickup_longitude<right)]\n",
    "df = df[(df.dropoff_latitude>bottom)&\n",
    "               (df.dropoff_latitude<top)&\n",
    "               (df.dropoff_longitude>left)&\n",
    "               (df.dropoff_longitude<right)]\n",
    "len(df)"
   ]
  },
  {
   "cell_type": "code",
   "execution_count": 72,
   "metadata": {
    "collapsed": false
   },
   "outputs": [
    {
     "data": {
      "text/html": [
       "<div>\n",
       "<table border=\"1\" class=\"dataframe\">\n",
       "  <thead>\n",
       "    <tr style=\"text-align: right;\">\n",
       "      <th></th>\n",
       "      <th>pickup_geohash</th>\n",
       "      <th>pickup_latitude</th>\n",
       "      <th>pickup_longitude</th>\n",
       "    </tr>\n",
       "    <tr>\n",
       "      <th>pickup_geohash</th>\n",
       "      <th></th>\n",
       "      <th></th>\n",
       "      <th></th>\n",
       "    </tr>\n",
       "  </thead>\n",
       "  <tbody>\n",
       "    <tr>\n",
       "      <th>dr5qg</th>\n",
       "      <td>13</td>\n",
       "      <td>40.602865</td>\n",
       "      <td>-74.009984</td>\n",
       "    </tr>\n",
       "    <tr>\n",
       "      <th>dr5qu</th>\n",
       "      <td>135</td>\n",
       "      <td>40.602840</td>\n",
       "      <td>-73.980888</td>\n",
       "    </tr>\n",
       "    <tr>\n",
       "      <th>dr5qv</th>\n",
       "      <td>45</td>\n",
       "      <td>40.602540</td>\n",
       "      <td>-73.947815</td>\n",
       "    </tr>\n",
       "    <tr>\n",
       "      <th>dr5qy</th>\n",
       "      <td>9</td>\n",
       "      <td>40.601988</td>\n",
       "      <td>-73.911591</td>\n",
       "    </tr>\n",
       "    <tr>\n",
       "      <th>dr5r4</th>\n",
       "      <td>1</td>\n",
       "      <td>40.635216</td>\n",
       "      <td>-74.048225</td>\n",
       "    </tr>\n",
       "  </tbody>\n",
       "</table>\n",
       "</div>"
      ],
      "text/plain": [
       "                pickup_geohash  pickup_latitude  pickup_longitude\n",
       "pickup_geohash                                                   \n",
       "dr5qg                       13        40.602865        -74.009984\n",
       "dr5qu                      135        40.602840        -73.980888\n",
       "dr5qv                       45        40.602540        -73.947815\n",
       "dr5qy                        9        40.601988        -73.911591\n",
       "dr5r4                        1        40.635216        -74.048225"
      ]
     },
     "execution_count": 72,
     "metadata": {},
     "output_type": "execute_result"
    }
   ],
   "source": [
    "pickup = df.groupby(['pickup_geohash']).agg({\n",
    "    'pickup_latitude' : 'mean',\n",
    "    'pickup_longitude' : 'mean',\n",
    "    'pickup_geohash': 'count'})\n",
    "pickup.head()"
   ]
  },
  {
   "cell_type": "code",
   "execution_count": 98,
   "metadata": {
    "collapsed": false
   },
   "outputs": [
    {
     "data": {
      "text/html": [
       "<div>\n",
       "<table border=\"1\" class=\"dataframe\">\n",
       "  <thead>\n",
       "    <tr style=\"text-align: right;\">\n",
       "      <th></th>\n",
       "      <th>dropoff_longitude</th>\n",
       "      <th>dropoff_latitude</th>\n",
       "      <th>dropoff_geohash</th>\n",
       "    </tr>\n",
       "    <tr>\n",
       "      <th>dropoff_geohash</th>\n",
       "      <th></th>\n",
       "      <th></th>\n",
       "      <th></th>\n",
       "    </tr>\n",
       "  </thead>\n",
       "  <tbody>\n",
       "    <tr>\n",
       "      <th>dr5qg</th>\n",
       "      <td>-74.009876</td>\n",
       "      <td>40.603477</td>\n",
       "      <td>274</td>\n",
       "    </tr>\n",
       "    <tr>\n",
       "      <th>dr5qu</th>\n",
       "      <td>-73.981022</td>\n",
       "      <td>40.602833</td>\n",
       "      <td>1717</td>\n",
       "    </tr>\n",
       "    <tr>\n",
       "      <th>dr5qv</th>\n",
       "      <td>-73.947011</td>\n",
       "      <td>40.602813</td>\n",
       "      <td>751</td>\n",
       "    </tr>\n",
       "    <tr>\n",
       "      <th>dr5qy</th>\n",
       "      <td>-73.912054</td>\n",
       "      <td>40.602832</td>\n",
       "      <td>59</td>\n",
       "    </tr>\n",
       "    <tr>\n",
       "      <th>dr5r5</th>\n",
       "      <td>-74.022134</td>\n",
       "      <td>40.630564</td>\n",
       "      <td>25320</td>\n",
       "    </tr>\n",
       "  </tbody>\n",
       "</table>\n",
       "</div>"
      ],
      "text/plain": [
       "                 dropoff_longitude  dropoff_latitude  dropoff_geohash\n",
       "dropoff_geohash                                                      \n",
       "dr5qg                   -74.009876         40.603477              274\n",
       "dr5qu                   -73.981022         40.602833             1717\n",
       "dr5qv                   -73.947011         40.602813              751\n",
       "dr5qy                   -73.912054         40.602832               59\n",
       "dr5r5                   -74.022134         40.630564            25320"
      ]
     },
     "execution_count": 98,
     "metadata": {},
     "output_type": "execute_result"
    }
   ],
   "source": [
    "dropoff = df.groupby(['dropoff_geohash']).agg({\n",
    "    'dropoff_latitude' : 'mean',\n",
    "    'dropoff_longitude' : 'mean',\n",
    "    'dropoff_geohash': 'count'})\n",
    "dropoff.head()"
   ]
  },
  {
   "cell_type": "code",
   "execution_count": 99,
   "metadata": {
    "collapsed": false
   },
   "outputs": [],
   "source": [
    "import geopandas as gpd\n",
    "\n",
    "nyc = gpd.read_file(\"temp/data/taxi_zones/taxi_zones.shp\").to_crs('+proj=latlon')"
   ]
  },
  {
   "cell_type": "code",
   "execution_count": 121,
   "metadata": {
    "collapsed": false
   },
   "outputs": [],
   "source": [
    "import shapely\n",
    "from bokeh.models import Range1d\n",
    "from bokeh import plotting\n",
    "\n",
    "def plot_overmap(gdf):\n",
    "    world_xs = []\n",
    "    world_ys = []\n",
    "\n",
    "    for i, row in gdf.iterrows():\n",
    "        polygons = row['geometry']\n",
    "        if isinstance(polygons, shapely.geometry.multipolygon.MultiPolygon):\n",
    "            polygons = [x for x in polygons]\n",
    "        elif isinstance(polygons, shapely.geometry.polygon.Polygon):\n",
    "            polygons = [polygons]\n",
    "        else:\n",
    "            raise ValueError\n",
    "\n",
    "        for p in polygons: \n",
    "            lons, lats = zip(*list(p.exterior.coords))\n",
    "            world_xs.append(lons)\n",
    "            world_ys.append(lats)\n",
    "\n",
    "    plotting.output_notebook()\n",
    "    p = plotting.figure(toolbar_location=\"left\", plot_width=600, plot_height=500)\n",
    "    p.patches(world_xs, world_ys, fill_color='white',\n",
    "              line_color=\"black\", line_width=0.2)    \n",
    "    left, right = -74.05, -73.75\n",
    "    top, bottom = 40.9, 40.6\n",
    "    p.set(x_range=Range1d(left, right), y_range=Range1d(bottom, top))\n",
    "#     plotting.show(p)\n",
    "    return p"
   ]
  },
  {
   "cell_type": "code",
   "execution_count": 114,
   "metadata": {
    "collapsed": false
   },
   "outputs": [
    {
     "data": {
      "text/html": [
       "<div>\n",
       "<table border=\"1\" class=\"dataframe\">\n",
       "  <thead>\n",
       "    <tr style=\"text-align: right;\">\n",
       "      <th></th>\n",
       "      <th>total_pickup</th>\n",
       "      <th>pickup_latitude</th>\n",
       "      <th>pickup_longitude</th>\n",
       "      <th>dropoff_longitude</th>\n",
       "      <th>dropoff_latitude</th>\n",
       "      <th>total_dropoff</th>\n",
       "      <th>decoded_latitude</th>\n",
       "      <th>decoded_longitude</th>\n",
       "    </tr>\n",
       "    <tr>\n",
       "      <th>geohash</th>\n",
       "      <th></th>\n",
       "      <th></th>\n",
       "      <th></th>\n",
       "      <th></th>\n",
       "      <th></th>\n",
       "      <th></th>\n",
       "      <th></th>\n",
       "      <th></th>\n",
       "    </tr>\n",
       "  </thead>\n",
       "  <tbody>\n",
       "    <tr>\n",
       "      <th>dr5qg</th>\n",
       "      <td>13</td>\n",
       "      <td>40.602865</td>\n",
       "      <td>-74.009984</td>\n",
       "      <td>-74.009876</td>\n",
       "      <td>40.603477</td>\n",
       "      <td>274</td>\n",
       "      <td>40.583496</td>\n",
       "      <td>-74.025879</td>\n",
       "    </tr>\n",
       "    <tr>\n",
       "      <th>dr5qu</th>\n",
       "      <td>135</td>\n",
       "      <td>40.602840</td>\n",
       "      <td>-73.980888</td>\n",
       "      <td>-73.981022</td>\n",
       "      <td>40.602833</td>\n",
       "      <td>1717</td>\n",
       "      <td>40.583496</td>\n",
       "      <td>-73.981934</td>\n",
       "    </tr>\n",
       "    <tr>\n",
       "      <th>dr5qv</th>\n",
       "      <td>45</td>\n",
       "      <td>40.602540</td>\n",
       "      <td>-73.947815</td>\n",
       "      <td>-73.947011</td>\n",
       "      <td>40.602813</td>\n",
       "      <td>751</td>\n",
       "      <td>40.583496</td>\n",
       "      <td>-73.937988</td>\n",
       "    </tr>\n",
       "    <tr>\n",
       "      <th>dr5r5</th>\n",
       "      <td>2992</td>\n",
       "      <td>40.632575</td>\n",
       "      <td>-74.021492</td>\n",
       "      <td>-74.022134</td>\n",
       "      <td>40.630564</td>\n",
       "      <td>25320</td>\n",
       "      <td>40.627441</td>\n",
       "      <td>-74.025879</td>\n",
       "    </tr>\n",
       "    <tr>\n",
       "      <th>dr5r7</th>\n",
       "      <td>7906</td>\n",
       "      <td>40.670743</td>\n",
       "      <td>-74.009770</td>\n",
       "      <td>-74.009931</td>\n",
       "      <td>40.671404</td>\n",
       "      <td>18610</td>\n",
       "      <td>40.671387</td>\n",
       "      <td>-74.025879</td>\n",
       "    </tr>\n",
       "  </tbody>\n",
       "</table>\n",
       "</div>"
      ],
      "text/plain": [
       "         total_pickup  pickup_latitude  pickup_longitude  dropoff_longitude  \\\n",
       "geohash                                                                       \n",
       "dr5qg              13        40.602865        -74.009984         -74.009876   \n",
       "dr5qu             135        40.602840        -73.980888         -73.981022   \n",
       "dr5qv              45        40.602540        -73.947815         -73.947011   \n",
       "dr5r5            2992        40.632575        -74.021492         -74.022134   \n",
       "dr5r7            7906        40.670743        -74.009770         -74.009931   \n",
       "\n",
       "         dropoff_latitude  total_dropoff  decoded_latitude  decoded_longitude  \n",
       "geohash                                                                        \n",
       "dr5qg           40.603477            274         40.583496         -74.025879  \n",
       "dr5qu           40.602833           1717         40.583496         -73.981934  \n",
       "dr5qv           40.602813            751         40.583496         -73.937988  \n",
       "dr5r5           40.630564          25320         40.627441         -74.025879  \n",
       "dr5r7           40.671404          18610         40.671387         -74.025879  "
      ]
     },
     "execution_count": 114,
     "metadata": {},
     "output_type": "execute_result"
    }
   ],
   "source": [
    "demand = pd.concat([pickup, dropoff], axis=1)\n",
    "demand.index.names = ['zone']\n",
    "demand = demand.rename(index=str, columns={\n",
    "    'pickup_geohash':'total_pickup',\n",
    "    'dropoff_geohash':'total_dropoff'\n",
    "})\n",
    "demand = demand[demand.total_pickup>30]\n",
    "geolats = []\n",
    "geolons = []\n",
    "l = 5\n",
    "for s in demand.index:\n",
    "    lat, lon, _, _ = Geohash.decode_exactly(s[:l])\n",
    "    geolats.append(float(lat))\n",
    "    geolons.append(float(lon))\n",
    "demand['decoded_latitude'] = geolats\n",
    "demand['decoded_longitude'] = geolons\n",
    "demand.head()"
   ]
  },
  {
   "cell_type": "code",
   "execution_count": 8,
   "metadata": {
    "collapsed": true
   },
   "outputs": [],
   "source": [
    "demand.to_csv('data/geohash.csv')"
   ]
  },
  {
   "cell_type": "code",
   "execution_count": 1,
   "metadata": {
    "collapsed": true
   },
   "outputs": [],
   "source": [
    "demand = pd.read_csv('data/geohash.csv')"
   ]
  },
  {
   "cell_type": "code",
   "execution_count": 144,
   "metadata": {
    "collapsed": false
   },
   "outputs": [],
   "source": [
    "# demand = demand[demand.total_pickup>30]\n",
    "# p = plot_overmap(nyc)\n",
    "# p.scatter(\n",
    "#     demand.pickup_longitude,\n",
    "#     demand.pickup_latitude,\n",
    "#     radius=np.sqrt(demand.total_pickup)/100000,\n",
    "#     fill_alpha=0.2, color='red'\n",
    "# )\n",
    "# p.scatter(\n",
    "#     demand.dropoff_longitude,\n",
    "#     demand.dropoff_latitude,\n",
    "#     radius=np.sqrt(demand.total_dropoff)/100000,\n",
    "#     fill_alpha=0.2, color='blue')\n",
    "# plotting.show(p)"
   ]
  },
  {
   "cell_type": "code",
   "execution_count": 203,
   "metadata": {
    "collapsed": false
   },
   "outputs": [
    {
     "data": {
      "text/plain": [
       "'dr(?:5qu|5qv|5r5|5r7|5re|5rg|5rh|5rj|5rk|5rm|5rn|5rq|5rr|5rs|5rt|5ru|5rv|5rw|5rx|5ry|5rz|5x0|5x1|5x2|5x3|5x8|5x9|5xb|5xc|72h|72j|72m|72n|72p|72q|72r|72t|72w|72x|780|782|788)'"
      ]
     },
     "execution_count": 203,
     "metadata": {},
     "output_type": "execute_result"
    }
   ],
   "source": [
    "pattern = '|'.join([s[2:] for s in demand.geohash])\n",
    "pattern = 'dr(?:' + pattern + ')'\n",
    "pattern"
   ]
  },
  {
   "cell_type": "code",
   "execution_count": 166,
   "metadata": {
    "collapsed": false
   },
   "outputs": [
    {
     "data": {
      "text/plain": [
       "12912556"
      ]
     },
     "execution_count": 166,
     "metadata": {},
     "output_type": "execute_result"
    }
   ],
   "source": [
    "len(df)"
   ]
  },
  {
   "cell_type": "code",
   "execution_count": 219,
   "metadata": {
    "collapsed": false
   },
   "outputs": [
    {
     "data": {
      "text/plain": [
       "42"
      ]
     },
     "execution_count": 219,
     "metadata": {},
     "output_type": "execute_result"
    }
   ],
   "source": [
    "df = df[df.pickup_geohash.str.match(pattern)]\n",
    "len(df.pickup_geohash.unique())"
   ]
  },
  {
   "cell_type": "code",
   "execution_count": 209,
   "metadata": {
    "collapsed": false
   },
   "outputs": [
    {
     "data": {
      "text/plain": [
       "12909602"
      ]
     },
     "execution_count": 209,
     "metadata": {},
     "output_type": "execute_result"
    }
   ],
   "source": [
    "df = df[df.dropoff_geohash.str.match(pattern)]\n",
    "len(df)"
   ]
  },
  {
   "cell_type": "code",
   "execution_count": 210,
   "metadata": {
    "collapsed": false
   },
   "outputs": [
    {
     "data": {
      "text/plain": [
       "42"
      ]
     },
     "execution_count": 210,
     "metadata": {},
     "output_type": "execute_result"
    }
   ],
   "source": [
    "len(df.dropoff_geohash.unique())"
   ]
  }
 ],
 "metadata": {
  "kernelspec": {
   "display_name": "Python 2",
   "language": "python",
   "name": "python2"
  },
  "language_info": {
   "codemirror_mode": {
    "name": "ipython",
    "version": 2
   },
   "file_extension": ".py",
   "mimetype": "text/x-python",
   "name": "python",
   "nbconvert_exporter": "python",
   "pygments_lexer": "ipython2",
   "version": "2.7.9"
  }
 },
 "nbformat": 4,
 "nbformat_minor": 0
}
