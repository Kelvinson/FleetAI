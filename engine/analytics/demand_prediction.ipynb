{
 "cells": [
  {
   "cell_type": "code",
   "execution_count": 1,
   "metadata": {
    "collapsed": false
   },
   "outputs": [],
   "source": [
    "%load_ext autoreload\n",
    "%autoreload 2\n",
    "import numpy as np\n",
    "import pandas as pd\n",
    "import matplotlib\n",
    "%matplotlib inline\n",
    "import matplotlib.pyplot as plt\n",
    "plt.style.use('ggplot')"
   ]
  },
  {
   "cell_type": "markdown",
   "metadata": {},
   "source": [
    "## Baseline: Mean Estimator"
   ]
  },
  {
   "cell_type": "code",
   "execution_count": 2,
   "metadata": {
    "collapsed": false,
    "scrolled": true
   },
   "outputs": [
    {
     "data": {
      "text/html": [
       "<div>\n",
       "<table border=\"1\" class=\"dataframe\">\n",
       "  <thead>\n",
       "    <tr style=\"text-align: right;\">\n",
       "      <th></th>\n",
       "      <th>dayofweek</th>\n",
       "      <th>hour</th>\n",
       "      <th>geohash</th>\n",
       "      <th>prediction</th>\n",
       "    </tr>\n",
       "  </thead>\n",
       "  <tbody>\n",
       "    <tr>\n",
       "      <th>0</th>\n",
       "      <td>0</td>\n",
       "      <td>0</td>\n",
       "      <td>dr5qgz7</td>\n",
       "      <td>0</td>\n",
       "    </tr>\n",
       "    <tr>\n",
       "      <th>1</th>\n",
       "      <td>0</td>\n",
       "      <td>0</td>\n",
       "      <td>dr5qgz8</td>\n",
       "      <td>0</td>\n",
       "    </tr>\n",
       "    <tr>\n",
       "      <th>2</th>\n",
       "      <td>0</td>\n",
       "      <td>0</td>\n",
       "      <td>dr5qgzc</td>\n",
       "      <td>0</td>\n",
       "    </tr>\n",
       "    <tr>\n",
       "      <th>3</th>\n",
       "      <td>0</td>\n",
       "      <td>0</td>\n",
       "      <td>dr5qgze</td>\n",
       "      <td>0</td>\n",
       "    </tr>\n",
       "    <tr>\n",
       "      <th>4</th>\n",
       "      <td>0</td>\n",
       "      <td>0</td>\n",
       "      <td>dr5qgzr</td>\n",
       "      <td>0</td>\n",
       "    </tr>\n",
       "  </tbody>\n",
       "</table>\n",
       "</div>"
      ],
      "text/plain": [
       "   dayofweek  hour  geohash  prediction\n",
       "0          0     0  dr5qgz7           0\n",
       "1          0     0  dr5qgz8           0\n",
       "2          0     0  dr5qgzc           0\n",
       "3          0     0  dr5qgze           0\n",
       "4          0     0  dr5qgzr           0"
      ]
     },
     "execution_count": 2,
     "metadata": {},
     "output_type": "execute_result"
    }
   ],
   "source": [
    "df = pd.read_csv('temp/data/demand_dataset.csv')\n",
    "N = int(len(df)*0.7)\n",
    "mean_estimator = df.iloc[:N].groupby(['dayofweek', 'hour', 'geohash'])['demand'].mean()\n",
    "mean_estimator = mean_estimator.reset_index().rename(columns={'demand':'prediction'})\n",
    "mean_estimator.head()"
   ]
  },
  {
   "cell_type": "code",
   "execution_count": 3,
   "metadata": {
    "collapsed": false
   },
   "outputs": [
    {
     "data": {
      "text/html": [
       "<div>\n",
       "<table border=\"1\" class=\"dataframe\">\n",
       "  <thead>\n",
       "    <tr style=\"text-align: right;\">\n",
       "      <th></th>\n",
       "      <th>date</th>\n",
       "      <th>dayofweek</th>\n",
       "      <th>hour</th>\n",
       "      <th>geohash</th>\n",
       "      <th>demand</th>\n",
       "      <th>lat</th>\n",
       "      <th>lon</th>\n",
       "      <th>prediction</th>\n",
       "    </tr>\n",
       "  </thead>\n",
       "  <tbody>\n",
       "    <tr>\n",
       "      <th>0</th>\n",
       "      <td>1</td>\n",
       "      <td>6</td>\n",
       "      <td>0</td>\n",
       "      <td>dr5qgz7</td>\n",
       "      <td>0</td>\n",
       "      <td>40.602036</td>\n",
       "      <td>-74.010086</td>\n",
       "      <td>0.00</td>\n",
       "    </tr>\n",
       "    <tr>\n",
       "      <th>1</th>\n",
       "      <td>1</td>\n",
       "      <td>6</td>\n",
       "      <td>0</td>\n",
       "      <td>dr5qgz8</td>\n",
       "      <td>1</td>\n",
       "      <td>40.603409</td>\n",
       "      <td>-74.014206</td>\n",
       "      <td>0.25</td>\n",
       "    </tr>\n",
       "    <tr>\n",
       "      <th>2</th>\n",
       "      <td>1</td>\n",
       "      <td>6</td>\n",
       "      <td>0</td>\n",
       "      <td>dr5qgzc</td>\n",
       "      <td>0</td>\n",
       "      <td>40.604782</td>\n",
       "      <td>-74.012833</td>\n",
       "      <td>0.00</td>\n",
       "    </tr>\n",
       "    <tr>\n",
       "      <th>3</th>\n",
       "      <td>1</td>\n",
       "      <td>6</td>\n",
       "      <td>0</td>\n",
       "      <td>dr5qgze</td>\n",
       "      <td>0</td>\n",
       "      <td>40.603409</td>\n",
       "      <td>-74.010086</td>\n",
       "      <td>0.00</td>\n",
       "    </tr>\n",
       "    <tr>\n",
       "      <th>4</th>\n",
       "      <td>1</td>\n",
       "      <td>6</td>\n",
       "      <td>0</td>\n",
       "      <td>dr5qgzr</td>\n",
       "      <td>0</td>\n",
       "      <td>40.602036</td>\n",
       "      <td>-74.004593</td>\n",
       "      <td>0.00</td>\n",
       "    </tr>\n",
       "  </tbody>\n",
       "</table>\n",
       "</div>"
      ],
      "text/plain": [
       "   date  dayofweek  hour  geohash  demand        lat        lon  prediction\n",
       "0     1          6     0  dr5qgz7       0  40.602036 -74.010086        0.00\n",
       "1     1          6     0  dr5qgz8       1  40.603409 -74.014206        0.25\n",
       "2     1          6     0  dr5qgzc       0  40.604782 -74.012833        0.00\n",
       "3     1          6     0  dr5qgze       0  40.603409 -74.010086        0.00\n",
       "4     1          6     0  dr5qgzr       0  40.602036 -74.004593        0.00"
      ]
     },
     "execution_count": 3,
     "metadata": {},
     "output_type": "execute_result"
    }
   ],
   "source": [
    "df = df.merge(mean_estimator, how='left', on=['dayofweek', 'hour', 'geohash'])\n",
    "df.head()"
   ]
  },
  {
   "cell_type": "code",
   "execution_count": 5,
   "metadata": {
    "collapsed": false
   },
   "outputs": [
    {
     "name": "stdout",
     "output_type": "stream",
     "text": [
      "9.69594487744\n",
      "11.278034274\n"
     ]
    }
   ],
   "source": [
    "print ((df.iloc[:N].demand - df.iloc[:N].prediction)**2).mean()\n",
    "print ((df.iloc[N:].demand - df.iloc[N:].prediction)**2).mean()"
   ]
  },
  {
   "cell_type": "code",
   "execution_count": null,
   "metadata": {
    "collapsed": true
   },
   "outputs": [],
   "source": []
  },
  {
   "cell_type": "markdown",
   "metadata": {},
   "source": [
    "## Preprocessing"
   ]
  },
  {
   "cell_type": "code",
   "execution_count": 27,
   "metadata": {
    "collapsed": false
   },
   "outputs": [
    {
     "data": {
      "text/html": [
       "<div>\n",
       "<table border=\"1\" class=\"dataframe\">\n",
       "  <thead>\n",
       "    <tr style=\"text-align: right;\">\n",
       "      <th></th>\n",
       "      <th>date</th>\n",
       "      <th>dayofweek</th>\n",
       "      <th>hour</th>\n",
       "      <th>geohash</th>\n",
       "      <th>demand</th>\n",
       "      <th>lat</th>\n",
       "      <th>lon</th>\n",
       "    </tr>\n",
       "  </thead>\n",
       "  <tbody>\n",
       "    <tr>\n",
       "      <th>0</th>\n",
       "      <td>1</td>\n",
       "      <td>6</td>\n",
       "      <td>0</td>\n",
       "      <td>dr5qgz7</td>\n",
       "      <td>0</td>\n",
       "      <td>40.602036</td>\n",
       "      <td>-74.010086</td>\n",
       "    </tr>\n",
       "    <tr>\n",
       "      <th>1</th>\n",
       "      <td>1</td>\n",
       "      <td>6</td>\n",
       "      <td>0</td>\n",
       "      <td>dr5qgz8</td>\n",
       "      <td>1</td>\n",
       "      <td>40.603409</td>\n",
       "      <td>-74.014206</td>\n",
       "    </tr>\n",
       "    <tr>\n",
       "      <th>2</th>\n",
       "      <td>1</td>\n",
       "      <td>6</td>\n",
       "      <td>0</td>\n",
       "      <td>dr5qgzc</td>\n",
       "      <td>0</td>\n",
       "      <td>40.604782</td>\n",
       "      <td>-74.012833</td>\n",
       "    </tr>\n",
       "    <tr>\n",
       "      <th>3</th>\n",
       "      <td>1</td>\n",
       "      <td>6</td>\n",
       "      <td>0</td>\n",
       "      <td>dr5qgze</td>\n",
       "      <td>0</td>\n",
       "      <td>40.603409</td>\n",
       "      <td>-74.010086</td>\n",
       "    </tr>\n",
       "    <tr>\n",
       "      <th>4</th>\n",
       "      <td>1</td>\n",
       "      <td>6</td>\n",
       "      <td>0</td>\n",
       "      <td>dr5qgzr</td>\n",
       "      <td>0</td>\n",
       "      <td>40.602036</td>\n",
       "      <td>-74.004593</td>\n",
       "    </tr>\n",
       "  </tbody>\n",
       "</table>\n",
       "</div>"
      ],
      "text/plain": [
       "   date  dayofweek  hour  geohash  demand        lat        lon\n",
       "0     1          6     0  dr5qgz7       0  40.602036 -74.010086\n",
       "1     1          6     0  dr5qgz8       1  40.603409 -74.014206\n",
       "2     1          6     0  dr5qgzc       0  40.604782 -74.012833\n",
       "3     1          6     0  dr5qgze       0  40.603409 -74.010086\n",
       "4     1          6     0  dr5qgzr       0  40.602036 -74.004593"
      ]
     },
     "execution_count": 27,
     "metadata": {},
     "output_type": "execute_result"
    }
   ],
   "source": [
    "df = pd.read_csv('temp/data/demand_dataset.csv')\n",
    "df.head()"
   ]
  },
  {
   "cell_type": "code",
   "execution_count": 28,
   "metadata": {
    "collapsed": false
   },
   "outputs": [
    {
     "data": {
      "text/html": [
       "<div>\n",
       "<table border=\"1\" class=\"dataframe\">\n",
       "  <thead>\n",
       "    <tr style=\"text-align: right;\">\n",
       "      <th></th>\n",
       "      <th>date</th>\n",
       "      <th>dayofweek</th>\n",
       "      <th>hour</th>\n",
       "      <th>geohash</th>\n",
       "      <th>demand</th>\n",
       "      <th>lat</th>\n",
       "      <th>lon</th>\n",
       "      <th>isActive</th>\n",
       "    </tr>\n",
       "  </thead>\n",
       "  <tbody>\n",
       "    <tr>\n",
       "      <th>0</th>\n",
       "      <td>1</td>\n",
       "      <td>6</td>\n",
       "      <td>0</td>\n",
       "      <td>dr5qgz7</td>\n",
       "      <td>0</td>\n",
       "      <td>40.602036</td>\n",
       "      <td>-74.010086</td>\n",
       "      <td>False</td>\n",
       "    </tr>\n",
       "    <tr>\n",
       "      <th>1</th>\n",
       "      <td>1</td>\n",
       "      <td>6</td>\n",
       "      <td>0</td>\n",
       "      <td>dr5qgz8</td>\n",
       "      <td>1</td>\n",
       "      <td>40.603409</td>\n",
       "      <td>-74.014206</td>\n",
       "      <td>False</td>\n",
       "    </tr>\n",
       "    <tr>\n",
       "      <th>2</th>\n",
       "      <td>1</td>\n",
       "      <td>6</td>\n",
       "      <td>0</td>\n",
       "      <td>dr5qgzc</td>\n",
       "      <td>0</td>\n",
       "      <td>40.604782</td>\n",
       "      <td>-74.012833</td>\n",
       "      <td>False</td>\n",
       "    </tr>\n",
       "    <tr>\n",
       "      <th>3</th>\n",
       "      <td>1</td>\n",
       "      <td>6</td>\n",
       "      <td>0</td>\n",
       "      <td>dr5qgze</td>\n",
       "      <td>0</td>\n",
       "      <td>40.603409</td>\n",
       "      <td>-74.010086</td>\n",
       "      <td>False</td>\n",
       "    </tr>\n",
       "    <tr>\n",
       "      <th>4</th>\n",
       "      <td>1</td>\n",
       "      <td>6</td>\n",
       "      <td>0</td>\n",
       "      <td>dr5qgzr</td>\n",
       "      <td>0</td>\n",
       "      <td>40.602036</td>\n",
       "      <td>-74.004593</td>\n",
       "      <td>False</td>\n",
       "    </tr>\n",
       "  </tbody>\n",
       "</table>\n",
       "</div>"
      ],
      "text/plain": [
       "   date  dayofweek  hour  geohash  demand        lat        lon isActive\n",
       "0     1          6     0  dr5qgz7       0  40.602036 -74.010086    False\n",
       "1     1          6     0  dr5qgz8       1  40.603409 -74.014206    False\n",
       "2     1          6     0  dr5qgzc       0  40.604782 -74.012833    False\n",
       "3     1          6     0  dr5qgze       0  40.603409 -74.010086    False\n",
       "4     1          6     0  dr5qgzr       0  40.602036 -74.004593    False"
      ]
     },
     "execution_count": 28,
     "metadata": {},
     "output_type": "execute_result"
    }
   ],
   "source": [
    "mean_geohash = df.groupby('geohash')['demand'].sum()\n",
    "mean_geohash.name = 'isActive'\n",
    "df = df.merge((mean_geohash>10).reset_index(), how='left', on='geohash')\n",
    "df.head()"
   ]
  },
  {
   "cell_type": "code",
   "execution_count": 29,
   "metadata": {
    "collapsed": false
   },
   "outputs": [
    {
     "data": {
      "text/html": [
       "<div>\n",
       "<table border=\"1\" class=\"dataframe\">\n",
       "  <thead>\n",
       "    <tr style=\"text-align: right;\">\n",
       "      <th></th>\n",
       "      <th>date</th>\n",
       "      <th>dayofweek</th>\n",
       "      <th>hour</th>\n",
       "      <th>demand</th>\n",
       "      <th>lat</th>\n",
       "      <th>lon</th>\n",
       "    </tr>\n",
       "  </thead>\n",
       "  <tbody>\n",
       "    <tr>\n",
       "      <th>19</th>\n",
       "      <td>1</td>\n",
       "      <td>6</td>\n",
       "      <td>0</td>\n",
       "      <td>1</td>\n",
       "      <td>40.602036</td>\n",
       "      <td>-73.993607</td>\n",
       "    </tr>\n",
       "    <tr>\n",
       "      <th>45</th>\n",
       "      <td>1</td>\n",
       "      <td>6</td>\n",
       "      <td>0</td>\n",
       "      <td>0</td>\n",
       "      <td>40.604782</td>\n",
       "      <td>-73.971634</td>\n",
       "    </tr>\n",
       "    <tr>\n",
       "      <th>54</th>\n",
       "      <td>1</td>\n",
       "      <td>6</td>\n",
       "      <td>0</td>\n",
       "      <td>0</td>\n",
       "      <td>40.600662</td>\n",
       "      <td>-73.960648</td>\n",
       "    </tr>\n",
       "    <tr>\n",
       "      <th>71</th>\n",
       "      <td>1</td>\n",
       "      <td>6</td>\n",
       "      <td>0</td>\n",
       "      <td>0</td>\n",
       "      <td>40.600662</td>\n",
       "      <td>-73.941422</td>\n",
       "    </tr>\n",
       "    <tr>\n",
       "      <th>82</th>\n",
       "      <td>1</td>\n",
       "      <td>6</td>\n",
       "      <td>0</td>\n",
       "      <td>0</td>\n",
       "      <td>40.613022</td>\n",
       "      <td>-74.033432</td>\n",
       "    </tr>\n",
       "  </tbody>\n",
       "</table>\n",
       "</div>"
      ],
      "text/plain": [
       "    date  dayofweek  hour  demand        lat        lon\n",
       "19     1          6     0       1  40.602036 -73.993607\n",
       "45     1          6     0       0  40.604782 -73.971634\n",
       "54     1          6     0       0  40.600662 -73.960648\n",
       "71     1          6     0       0  40.600662 -73.941422\n",
       "82     1          6     0       0  40.613022 -74.033432"
      ]
     },
     "execution_count": 29,
     "metadata": {},
     "output_type": "execute_result"
    }
   ],
   "source": [
    "df = df[df.isActive].drop(['isActive', 'geohash'], axis=1)\n",
    "df.head()"
   ]
  },
  {
   "cell_type": "code",
   "execution_count": 30,
   "metadata": {
    "collapsed": false
   },
   "outputs": [
    {
     "data": {
      "text/html": [
       "<div>\n",
       "<table border=\"1\" class=\"dataframe\">\n",
       "  <thead>\n",
       "    <tr style=\"text-align: right;\">\n",
       "      <th></th>\n",
       "      <th>demand</th>\n",
       "      <th>lat</th>\n",
       "      <th>lon</th>\n",
       "      <th>weekend</th>\n",
       "      <th>dayofweek_sin</th>\n",
       "      <th>dayofweek_cos</th>\n",
       "      <th>hour_sin</th>\n",
       "      <th>hour_cos</th>\n",
       "    </tr>\n",
       "  </thead>\n",
       "  <tbody>\n",
       "    <tr>\n",
       "      <th>19</th>\n",
       "      <td>1</td>\n",
       "      <td>40.602036</td>\n",
       "      <td>-73.993607</td>\n",
       "      <td>True</td>\n",
       "      <td>0.755975</td>\n",
       "      <td>0.6546</td>\n",
       "      <td>0</td>\n",
       "      <td>1</td>\n",
       "    </tr>\n",
       "    <tr>\n",
       "      <th>45</th>\n",
       "      <td>0</td>\n",
       "      <td>40.604782</td>\n",
       "      <td>-73.971634</td>\n",
       "      <td>True</td>\n",
       "      <td>0.755975</td>\n",
       "      <td>0.6546</td>\n",
       "      <td>0</td>\n",
       "      <td>1</td>\n",
       "    </tr>\n",
       "    <tr>\n",
       "      <th>54</th>\n",
       "      <td>0</td>\n",
       "      <td>40.600662</td>\n",
       "      <td>-73.960648</td>\n",
       "      <td>True</td>\n",
       "      <td>0.755975</td>\n",
       "      <td>0.6546</td>\n",
       "      <td>0</td>\n",
       "      <td>1</td>\n",
       "    </tr>\n",
       "    <tr>\n",
       "      <th>71</th>\n",
       "      <td>0</td>\n",
       "      <td>40.600662</td>\n",
       "      <td>-73.941422</td>\n",
       "      <td>True</td>\n",
       "      <td>0.755975</td>\n",
       "      <td>0.6546</td>\n",
       "      <td>0</td>\n",
       "      <td>1</td>\n",
       "    </tr>\n",
       "    <tr>\n",
       "      <th>82</th>\n",
       "      <td>0</td>\n",
       "      <td>40.613022</td>\n",
       "      <td>-74.033432</td>\n",
       "      <td>True</td>\n",
       "      <td>0.755975</td>\n",
       "      <td>0.6546</td>\n",
       "      <td>0</td>\n",
       "      <td>1</td>\n",
       "    </tr>\n",
       "  </tbody>\n",
       "</table>\n",
       "</div>"
      ],
      "text/plain": [
       "    demand        lat        lon weekend  dayofweek_sin  dayofweek_cos  \\\n",
       "19       1  40.602036 -73.993607    True       0.755975         0.6546   \n",
       "45       0  40.604782 -73.971634    True       0.755975         0.6546   \n",
       "54       0  40.600662 -73.960648    True       0.755975         0.6546   \n",
       "71       0  40.600662 -73.941422    True       0.755975         0.6546   \n",
       "82       0  40.613022 -74.033432    True       0.755975         0.6546   \n",
       "\n",
       "    hour_sin  hour_cos  \n",
       "19         0         1  \n",
       "45         0         1  \n",
       "54         0         1  \n",
       "71         0         1  \n",
       "82         0         1  "
      ]
     },
     "execution_count": 30,
     "metadata": {},
     "output_type": "execute_result"
    }
   ],
   "source": [
    "def create_features(df):\n",
    "    df['weekend'] = (df.dayofweek > 4)\n",
    "    df['dayofweek_sin'] = np.sin(df.dayofweek/7.0)\n",
    "    df['dayofweek_cos'] = np.cos(df.dayofweek/7.0)\n",
    "    df['hour_sin'] = np.sin(df.hour/24.0)\n",
    "    df['hour_cos'] = np.cos(df.hour/24.0)\n",
    "#     df['hour_sin2'] = df.hour_sin**2\n",
    "#     df['hour_cos2'] = df.hour_cos**2\n",
    "    df = df.drop(['date', 'dayofweek', 'hour'], axis=1)\n",
    "#     df['prev_demand'] = 0\n",
    "#     df['prev_demand'].iloc[1:] = df['count'].values[:-1]\n",
    "#     df = df.loc[2:]\n",
    "    return df\n",
    "\n",
    "df = create_features(df)\n",
    "# df = df.iloc[:2000000]\n",
    "df.head()"
   ]
  },
  {
   "cell_type": "code",
   "execution_count": 31,
   "metadata": {
    "collapsed": false
   },
   "outputs": [
    {
     "name": "stdout",
     "output_type": "stream",
     "text": [
      "5417882\n",
      "2321950\n"
     ]
    }
   ],
   "source": [
    "X = df.drop(['demand'], axis=1).values\n",
    "y = df['demand'].values\n",
    "N = int(len(y)*0.7)\n",
    "X_train, X_test, y_train, y_test = X[:N], X[N:], y[:N], y[N:]\n",
    "print len(X_train)\n",
    "print len(X_test)"
   ]
  },
  {
   "cell_type": "code",
   "execution_count": 32,
   "metadata": {
    "collapsed": false
   },
   "outputs": [
    {
     "name": "stderr",
     "output_type": "stream",
     "text": [
      "/Users/odatakuma/anaconda/lib/python2.7/site-packages/sklearn/utils/validation.py:429: DataConversionWarning: Data with input dtype object was converted to float64 by StandardScaler.\n",
      "  warnings.warn(msg, _DataConversionWarning)\n"
     ]
    }
   ],
   "source": [
    "from sklearn.preprocessing import StandardScaler\n",
    "\n",
    "scl = StandardScaler()\n",
    "X_train = scl.fit_transform(X_train)\n",
    "X_test = scl.transform(X_test)"
   ]
  },
  {
   "cell_type": "code",
   "execution_count": 33,
   "metadata": {
    "collapsed": false
   },
   "outputs": [
    {
     "name": "stdout",
     "output_type": "stream",
     "text": [
      "0.265453732658\n",
      "0.236592519219\n",
      "50.5026333169\n",
      "35.9411145804\n"
     ]
    }
   ],
   "source": [
    "print y_train[y_train>0].size/float(y_train.size)\n",
    "print y_test[y_test>0].size/float(y_test.size)\n",
    "print (y_train**2).mean()\n",
    "print (y_test**2).mean()"
   ]
  },
  {
   "cell_type": "markdown",
   "metadata": {},
   "source": [
    "## Linear Regression"
   ]
  },
  {
   "cell_type": "code",
   "execution_count": 34,
   "metadata": {
    "collapsed": false
   },
   "outputs": [
    {
     "name": "stdout",
     "output_type": "stream",
     "text": [
      "Rsquare train/val: 0.039 / 0.055\n",
      "MSE train/val: 45.7 / 31.8\n"
     ]
    }
   ],
   "source": [
    "from sklearn.linear_model import LinearRegression\n",
    "\n",
    "slr = LinearRegression()\n",
    "slr.fit(X_train, y_train)\n",
    "print \"Rsquare train/val: %.3f / %.3f\" % (slr.score(X_train, y_train), slr.score(X_test, y_test))                           \n",
    "print \"MSE train/val: %.1f / %.1f\" % (((y_train - slr.predict(X_train))**2).mean(), ((y_test - slr.predict(X_test))**2).mean())"
   ]
  },
  {
   "cell_type": "markdown",
   "metadata": {},
   "source": [
    "## Gradient Boosting"
   ]
  },
  {
   "cell_type": "code",
   "execution_count": 35,
   "metadata": {
    "collapsed": true
   },
   "outputs": [],
   "source": [
    "from sklearn.ensemble import GradientBoostingRegressor"
   ]
  },
  {
   "cell_type": "code",
   "execution_count": 36,
   "metadata": {
    "collapsed": false
   },
   "outputs": [
    {
     "name": "stdout",
     "output_type": "stream",
     "text": [
      "d=4, n=10, s=0, MSE train/val: 36.1 / 22.4\n",
      "d=4, n=10, s=0, MSE train/val: 37.5 / 23.5\n",
      "d=4, n=20, s=0, MSE train/val: 35.2 / 21.6\n",
      "d=4, n=20, s=0, MSE train/val: 34.9 / 21.4\n",
      "d=8, n=10, s=0, MSE train/val: 28.2 / 20.5\n",
      "d=8, n=10, s=0, MSE train/val: 28.1 / 19.3\n",
      "d=8, n=20, s=0, MSE train/val: 27.0 / 19.4\n",
      "d=8, n=20, s=0, MSE train/val: 25.2 / 18.0\n",
      "CPU times: user 25min 53s, sys: 24.8 s, total: 26min 18s\n",
      "Wall time: 26min 18s\n"
     ]
    }
   ],
   "source": [
    "%%time\n",
    "lr = 1.0\n",
    "for d in [4, 8]:\n",
    "    for n in [10, 20]:\n",
    "        for s in [0.2, 0.5]:\n",
    "            gbr = GradientBoostingRegressor(learning_rate=lr, n_estimators=n, subsample=s, max_depth=d)\n",
    "            gbr.fit(X_train, y_train)\n",
    "            print \"d=%d, n=%d, s=%.1f, MSE train/val: %.1f / %.1f\" % (d, n, s, ((y_train - gbr.predict(X_train))**2).mean(), ((y_test - gbr.predict(X_test))**2).mean())"
   ]
  },
  {
   "cell_type": "code",
   "execution_count": 37,
   "metadata": {
    "collapsed": false
   },
   "outputs": [
    {
     "name": "stdout",
     "output_type": "stream",
     "text": [
      "d=10, n=20, s=1.0, MSE train/val: 20.9 / 16.7\n",
      "CPU times: user 25min 12s, sys: 6.22 s, total: 25min 18s\n",
      "Wall time: 25min 29s\n"
     ]
    }
   ],
   "source": [
    "%%time\n",
    "lr = 1.0\n",
    "s = 1.0\n",
    "d = 10\n",
    "n = 20\n",
    "gbr = GradientBoostingRegressor(learning_rate=lr, n_estimators=n, subsample=s, max_depth=d)\n",
    "gbr.fit(X_train, y_train)\n",
    "print \"d=%d, n=%d, s=%.1f, MSE train/val: %.1f / %.1f\" % (d, n, s, ((y_train - gbr.predict(X_train))**2).mean(), ((y_test - gbr.predict(X_test))**2).mean())"
   ]
  },
  {
   "cell_type": "markdown",
   "metadata": {},
   "source": [
    "## Random Forest"
   ]
  },
  {
   "cell_type": "code",
   "execution_count": null,
   "metadata": {
    "collapsed": false
   },
   "outputs": [],
   "source": [
    "%%time\n",
    "from sklearn.ensemble import RandomForestRegressor\n",
    "\n",
    "forest = RandomForestRegressor(n_estimators=100,\n",
    "#                                max_depth=10,\n",
    "                               min_samples_split=100,\n",
    "                               n_jobs=-1)\n",
    "forest.fit(X_train, y_train)\n",
    "print \"Rsquare train/val: %.3f / %.3f\" % (forest.score(X_train, y_train), forest.score(X_test, y_test))                           \n",
    "print \"MSE train/val: %.1f / %.1f\" % (((y_train - forest.predict(X_train))**2).mean(), ((y_test - forest.predict(X_test))**2).mean())"
   ]
  },
  {
   "cell_type": "markdown",
   "metadata": {},
   "source": [
    "## Neural Network"
   ]
  },
  {
   "cell_type": "code",
   "execution_count": 39,
   "metadata": {
    "collapsed": false
   },
   "outputs": [
    {
     "name": "stderr",
     "output_type": "stream",
     "text": [
      "Using TensorFlow backend.\n"
     ]
    }
   ],
   "source": [
    "from keras.models import Sequential\n",
    "from keras.layers.core import Dense\n",
    "\n",
    "def MLP(size, act='relu'):\n",
    "    model = Sequential()\n",
    "    model.add(Dense(size, input_dim=7, activation=act))\n",
    "    model.add(Dense(size, activation=act))\n",
    "    model.add(Dense(size, activation=act))\n",
    "    model.add(Dense(1, init='normal'))\n",
    "    model.compile(loss='mean_squared_error',  optimizer='adam')\n",
    "    return model"
   ]
  },
  {
   "cell_type": "code",
   "execution_count": 40,
   "metadata": {
    "collapsed": false
   },
   "outputs": [
    {
     "name": "stdout",
     "output_type": "stream",
     "text": [
      "Epoch 1/10\n",
      "31s - loss: 38.4921\n",
      "Epoch 2/10\n",
      "31s - loss: 37.3146\n",
      "Epoch 3/10\n",
      "30s - loss: 36.8824\n",
      "Epoch 4/10\n",
      "30s - loss: 36.4521\n",
      "Epoch 5/10\n",
      "33s - loss: 36.1121\n",
      "Epoch 6/10\n",
      "33s - loss: 35.8661\n",
      "Epoch 7/10\n",
      "31s - loss: 35.6682\n",
      "Epoch 8/10\n",
      "36s - loss: 35.4801\n",
      "Epoch 9/10\n",
      "31s - loss: 35.3002\n",
      "Epoch 10/10\n",
      "33s - loss: 35.1522\n",
      "CPU times: user 11min 54s, sys: 1min 33s, total: 13min 27s\n",
      "Wall time: 5min 25s\n"
     ]
    }
   ],
   "source": [
    "%%time\n",
    "mlp = MLP(64)\n",
    "mlp.fit(X_train, y_train, nb_epoch=10, batch_size=1000, verbose=2, validation_split=0.0)"
   ]
  },
  {
   "cell_type": "code",
   "execution_count": 41,
   "metadata": {
    "collapsed": false
   },
   "outputs": [
    {
     "name": "stdout",
     "output_type": "stream",
     "text": [
      "MSE train/val: 35.0 / 23.2\n"
     ]
    }
   ],
   "source": [
    "y_pred_train = mlp.predict(X_train, batch_size=10000, verbose=0)[:, 0]\n",
    "y_pred_test = mlp.predict(X_test, batch_size=10000, verbose=0)[:, 0]\n",
    "                         \n",
    "print \"MSE train/val: %.1f / %.1f\" % (((y_train - y_pred_train)**2).mean(), ((y_test - y_pred_test)**2).mean())"
   ]
  },
  {
   "cell_type": "code",
   "execution_count": null,
   "metadata": {
    "collapsed": true
   },
   "outputs": [],
   "source": []
  }
 ],
 "metadata": {
  "kernelspec": {
   "display_name": "Python 2",
   "language": "python",
   "name": "python2"
  },
  "language_info": {
   "codemirror_mode": {
    "name": "ipython",
    "version": 2
   },
   "file_extension": ".py",
   "mimetype": "text/x-python",
   "name": "python",
   "nbconvert_exporter": "python",
   "pygments_lexer": "ipython2",
   "version": "2.7.9"
  }
 },
 "nbformat": 4,
 "nbformat_minor": 0
}
