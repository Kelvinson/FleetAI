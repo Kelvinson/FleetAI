{
 "cells": [
  {
   "cell_type": "code",
   "execution_count": 2,
   "metadata": {
    "collapsed": false
   },
   "outputs": [
    {
     "name": "stdout",
     "output_type": "stream",
     "text": [
      "/Users/odatakuma/cmu/FleetAI\n"
     ]
    }
   ],
   "source": [
    "cd .."
   ]
  },
  {
   "cell_type": "code",
   "execution_count": 3,
   "metadata": {
    "collapsed": true
   },
   "outputs": [],
   "source": [
    "%load_ext autoreload\n",
    "%autoreload 2\n",
    "import numpy as np\n",
    "import pandas as pd\n",
    "import cPickle as pickle\n",
    "import time\n",
    "import matplotlib\n",
    "%matplotlib inline\n",
    "import matplotlib.pyplot as plt\n",
    "plt.style.use('ggplot')\n",
    "from experiment import describe"
   ]
  },
  {
   "cell_type": "code",
   "execution_count": 25,
   "metadata": {
    "collapsed": false
   },
   "outputs": [
    {
     "data": {
      "text/html": [
       "<div>\n",
       "<table border=\"1\" class=\"dataframe\">\n",
       "  <thead>\n",
       "    <tr style=\"text-align: right;\">\n",
       "      <th></th>\n",
       "      <th>date</th>\n",
       "      <th>dayofweek</th>\n",
       "      <th>dlat</th>\n",
       "      <th>dlon</th>\n",
       "      <th>hour</th>\n",
       "      <th>minute</th>\n",
       "      <th>plat</th>\n",
       "      <th>plon</th>\n",
       "      <th>second</th>\n",
       "      <th>trip_distance</th>\n",
       "      <th>trip_time</th>\n",
       "      <th>great_circle_distance</th>\n",
       "      <th>great_circle_speed</th>\n",
       "      <th>phash</th>\n",
       "      <th>dhash</th>\n",
       "    </tr>\n",
       "  </thead>\n",
       "  <tbody>\n",
       "    <tr>\n",
       "      <th>0</th>\n",
       "      <td>1</td>\n",
       "      <td>6</td>\n",
       "      <td>40.730099</td>\n",
       "      <td>-73.983986</td>\n",
       "      <td>0</td>\n",
       "      <td>0</td>\n",
       "      <td>40.768040</td>\n",
       "      <td>-73.985901</td>\n",
       "      <td>0</td>\n",
       "      <td>3.60</td>\n",
       "      <td>17.516667</td>\n",
       "      <td>4221</td>\n",
       "      <td>14.458230</td>\n",
       "      <td>dr5rumt</td>\n",
       "      <td>dr5rsqw</td>\n",
       "    </tr>\n",
       "    <tr>\n",
       "      <th>1</th>\n",
       "      <td>1</td>\n",
       "      <td>6</td>\n",
       "      <td>40.744633</td>\n",
       "      <td>-73.980995</td>\n",
       "      <td>0</td>\n",
       "      <td>0</td>\n",
       "      <td>40.741573</td>\n",
       "      <td>-73.993073</td>\n",
       "      <td>0</td>\n",
       "      <td>1.09</td>\n",
       "      <td>7.016667</td>\n",
       "      <td>1072</td>\n",
       "      <td>9.166746</td>\n",
       "      <td>dr5ru0z</td>\n",
       "      <td>dr5ru92</td>\n",
       "    </tr>\n",
       "    <tr>\n",
       "      <th>2</th>\n",
       "      <td>1</td>\n",
       "      <td>6</td>\n",
       "      <td>40.733002</td>\n",
       "      <td>-74.002258</td>\n",
       "      <td>0</td>\n",
       "      <td>0</td>\n",
       "      <td>40.684601</td>\n",
       "      <td>-73.991943</td>\n",
       "      <td>0</td>\n",
       "      <td>4.21</td>\n",
       "      <td>19.783333</td>\n",
       "      <td>5451</td>\n",
       "      <td>16.532098</td>\n",
       "      <td>dr5rkq2</td>\n",
       "      <td>dr5rsp1</td>\n",
       "    </tr>\n",
       "    <tr>\n",
       "      <th>3</th>\n",
       "      <td>1</td>\n",
       "      <td>6</td>\n",
       "      <td>40.737564</td>\n",
       "      <td>-73.997498</td>\n",
       "      <td>0</td>\n",
       "      <td>0</td>\n",
       "      <td>40.740192</td>\n",
       "      <td>-74.005280</td>\n",
       "      <td>0</td>\n",
       "      <td>0.56</td>\n",
       "      <td>6.650000</td>\n",
       "      <td>717</td>\n",
       "      <td>6.469173</td>\n",
       "      <td>dr5rgbw</td>\n",
       "      <td>dr5ru0h</td>\n",
       "    </tr>\n",
       "    <tr>\n",
       "      <th>4</th>\n",
       "      <td>1</td>\n",
       "      <td>6</td>\n",
       "      <td>40.758469</td>\n",
       "      <td>-73.988014</td>\n",
       "      <td>0</td>\n",
       "      <td>0</td>\n",
       "      <td>40.755764</td>\n",
       "      <td>-73.979294</td>\n",
       "      <td>0</td>\n",
       "      <td>0.63</td>\n",
       "      <td>5.316667</td>\n",
       "      <td>793</td>\n",
       "      <td>8.949216</td>\n",
       "      <td>dr5rue3</td>\n",
       "      <td>dr5ru7g</td>\n",
       "    </tr>\n",
       "  </tbody>\n",
       "</table>\n",
       "</div>"
      ],
      "text/plain": [
       "   date  dayofweek       dlat       dlon  hour  minute       plat       plon  \\\n",
       "0     1          6  40.730099 -73.983986     0       0  40.768040 -73.985901   \n",
       "1     1          6  40.744633 -73.980995     0       0  40.741573 -73.993073   \n",
       "2     1          6  40.733002 -74.002258     0       0  40.684601 -73.991943   \n",
       "3     1          6  40.737564 -73.997498     0       0  40.740192 -74.005280   \n",
       "4     1          6  40.758469 -73.988014     0       0  40.755764 -73.979294   \n",
       "\n",
       "   second  trip_distance  trip_time  great_circle_distance  \\\n",
       "0       0           3.60  17.516667                   4221   \n",
       "1       0           1.09   7.016667                   1072   \n",
       "2       0           4.21  19.783333                   5451   \n",
       "3       0           0.56   6.650000                    717   \n",
       "4       0           0.63   5.316667                    793   \n",
       "\n",
       "   great_circle_speed    phash    dhash  \n",
       "0           14.458230  dr5rumt  dr5rsqw  \n",
       "1            9.166746  dr5ru0z  dr5ru92  \n",
       "2           16.532098  dr5rkq2  dr5rsp1  \n",
       "3            6.469173  dr5rgbw  dr5ru0h  \n",
       "4            8.949216  dr5rue3  dr5ru7g  "
      ]
     },
     "execution_count": 25,
     "metadata": {},
     "output_type": "execute_result"
    }
   ],
   "source": [
    "OUTPUT_PATH = 'data/nyc_taxi/trips/tripdata_2016-05.csv'\n",
    "df = pd.read_csv(OUTPUT_PATH)\n",
    "df.head()"
   ]
  },
  {
   "cell_type": "code",
   "execution_count": 32,
   "metadata": {
    "collapsed": false
   },
   "outputs": [
    {
     "data": {
      "text/plain": [
       "count    9444474.000000\n",
       "mean          15.761552\n",
       "std            6.385509\n",
       "min            0.078581\n",
       "25%           11.232936\n",
       "50%           14.988848\n",
       "75%           19.280335\n",
       "max           49.997970\n",
       "dtype: float64"
      ]
     },
     "execution_count": 32,
     "metadata": {},
     "output_type": "execute_result"
    }
   ],
   "source": [
    "df = df[df.trip_distance < 5.0/1.6]\n",
    "speed = df.trip_distance / df.trip_time * 60 * 1.6\n",
    "speed = speed[speed< 50]\n",
    "speed.describe()"
   ]
  },
  {
   "cell_type": "code",
   "execution_count": 33,
   "metadata": {
    "collapsed": false
   },
   "outputs": [
    {
     "data": {
      "text/plain": [
       "<matplotlib.axes._subplots.AxesSubplot at 0x110c74bd0>"
      ]
     },
     "execution_count": 33,
     "metadata": {},
     "output_type": "execute_result"
    },
    {
     "data": {
      "image/png": "[encoded data removed]",
      "text/plain": [
       "<matplotlib.figure.Figure at 0x110b96850>"
      ]
     },
     "metadata": {},
     "output_type": "display_data"
    }
   ],
   "source": [
    "speed.hist(bins=20)"
   ]
  },
  {
   "cell_type": "code",
   "execution_count": null,
   "metadata": {
    "collapsed": true
   },
   "outputs": [],
   "source": []
  }
 ],
 "metadata": {
  "kernelspec": {
   "display_name": "Python 2",
   "language": "python",
   "name": "python2"
  },
  "language_info": {
   "codemirror_mode": {
    "name": "ipython",
    "version": 2
   },
   "file_extension": ".py",
   "mimetype": "text/x-python",
   "name": "python",
   "nbconvert_exporter": "python",
   "pygments_lexer": "ipython2",
   "version": "2.7.9"
  }
 },
 "nbformat": 4,
 "nbformat_minor": 0
}
