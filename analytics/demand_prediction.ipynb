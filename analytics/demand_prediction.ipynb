{
 "cells": [
  {
   "cell_type": "code",
   "execution_count": 1,
   "metadata": {
    "collapsed": false
   },
   "outputs": [],
   "source": [
    "%load_ext autoreload\n",
    "%autoreload 2\n",
    "import numpy as np\n",
    "import pandas as pd\n",
    "import matplotlib\n",
    "%matplotlib inline\n",
    "import matplotlib.pyplot as plt\n",
    "import cPickle as pickle\n",
    "\n",
    "plt.style.use('ggplot')"
   ]
  },
  {
   "cell_type": "code",
   "execution_count": 2,
   "metadata": {
    "collapsed": false
   },
   "outputs": [
    {
     "name": "stdout",
     "output_type": "stream",
     "text": [
      "/Users/odatakuma/cmu/FleetAI\n"
     ]
    }
   ],
   "source": [
    "cd .."
   ]
  },
  {
   "cell_type": "markdown",
   "metadata": {},
   "source": [
    "## Preprocessing"
   ]
  },
  {
   "cell_type": "code",
   "execution_count": 3,
   "metadata": {
    "collapsed": false
   },
   "outputs": [
    {
     "name": "stdout",
     "output_type": "stream",
     "text": [
      "<class 'pandas.core.frame.DataFrame'>\n",
      "Int64Index: 12806249 entries, 0 to 12806248\n",
      "Data columns (total 5 columns):\n",
      "date         int16\n",
      "dayofweek    int16\n",
      "hour         float32\n",
      "minute       int16\n",
      "phash        object\n",
      "dtypes: float32(1), int16(3), object(1)\n",
      "memory usage: 317.5+ MB\n"
     ]
    }
   ],
   "source": [
    "df = pd.read_csv('data/nyc_taxi/trips_2016-05.csv',\n",
    "                 usecols=[\n",
    "                     'phash',\n",
    "                     'hour',\n",
    "                     'minute',\n",
    "                     'dayofweek',\n",
    "                     'date'\n",
    "                 ], dtype={\n",
    "                     'hour':np.float32,\n",
    "                     'minute':np.int16,\n",
    "                     'dayofweek':np.int16,\n",
    "                     'date':np.int16\n",
    "                 }\n",
    "                )\n",
    "df.info()"
   ]
  },
  {
   "cell_type": "code",
   "execution_count": 4,
   "metadata": {
    "collapsed": false
   },
   "outputs": [
    {
     "data": {
      "text/plain": [
       "array([  0. ,   0.5,   1. ,   1.5,   2. ,   2.5,   3. ,   3.5,   4. ,\n",
       "         4.5,   5. ,   5.5,   6. ,   6.5,   7. ,   7.5,   8. ,   8.5,\n",
       "         9. ,   9.5,  10. ,  10.5,  11. ,  11.5,  12. ,  12.5,  13. ,\n",
       "        13.5,  14. ,  14.5,  15. ,  15.5,  16. ,  16.5,  17. ,  17.5,\n",
       "        18. ,  18.5,  19. ,  19.5,  20. ,  20.5,  21. ,  21.5,  22. ,\n",
       "        22.5,  23. ,  23.5])"
      ]
     },
     "execution_count": 4,
     "metadata": {},
     "output_type": "execute_result"
    }
   ],
   "source": [
    "df['hour'] += 0.5 * (df.minute / 30).astype(int)\n",
    "df.hour.unique()"
   ]
  },
  {
   "cell_type": "code",
   "execution_count": 5,
   "metadata": {
    "collapsed": false
   },
   "outputs": [
    {
     "data": {
      "text/html": [
       "<div>\n",
       "<table border=\"1\" class=\"dataframe\">\n",
       "  <thead>\n",
       "    <tr style=\"text-align: right;\">\n",
       "      <th></th>\n",
       "      <th></th>\n",
       "      <th></th>\n",
       "      <th></th>\n",
       "      <th>count</th>\n",
       "    </tr>\n",
       "    <tr>\n",
       "      <th>date</th>\n",
       "      <th>dayofweek</th>\n",
       "      <th>hour</th>\n",
       "      <th>phash</th>\n",
       "      <th></th>\n",
       "    </tr>\n",
       "  </thead>\n",
       "  <tbody>\n",
       "    <tr>\n",
       "      <th rowspan=\"5\" valign=\"top\">1</th>\n",
       "      <th rowspan=\"5\" valign=\"top\">6</th>\n",
       "      <th rowspan=\"5\" valign=\"top\">0</th>\n",
       "      <th>dr5qupn</th>\n",
       "      <td>1</td>\n",
       "    </tr>\n",
       "    <tr>\n",
       "      <th>dr5r56q</th>\n",
       "      <td>1</td>\n",
       "    </tr>\n",
       "    <tr>\n",
       "      <th>dr5r5wk</th>\n",
       "      <td>1</td>\n",
       "    </tr>\n",
       "    <tr>\n",
       "      <th>dr5r5ww</th>\n",
       "      <td>1</td>\n",
       "    </tr>\n",
       "    <tr>\n",
       "      <th>dr5r5zg</th>\n",
       "      <td>1</td>\n",
       "    </tr>\n",
       "  </tbody>\n",
       "</table>\n",
       "</div>"
      ],
      "text/plain": [
       "                             count\n",
       "date dayofweek hour phash         \n",
       "1    6         0    dr5qupn      1\n",
       "                    dr5r56q      1\n",
       "                    dr5r5wk      1\n",
       "                    dr5r5ww      1\n",
       "                    dr5r5zg      1"
      ]
     },
     "execution_count": 5,
     "metadata": {},
     "output_type": "execute_result"
    }
   ],
   "source": [
    "demand = df.groupby(['date', 'dayofweek', 'hour', 'phash'])[['minute']].count().rename(columns={'minute':'count'})\n",
    "demand.head()"
   ]
  },
  {
   "cell_type": "code",
   "execution_count": 6,
   "metadata": {
    "collapsed": false
   },
   "outputs": [
    {
     "data": {
      "text/html": [
       "<div>\n",
       "<table border=\"1\" class=\"dataframe\">\n",
       "  <thead>\n",
       "    <tr style=\"text-align: right;\">\n",
       "      <th></th>\n",
       "      <th>date</th>\n",
       "      <th>dayofweek</th>\n",
       "      <th>hour</th>\n",
       "      <th>phash</th>\n",
       "      <th>count</th>\n",
       "      <th>date_dayofweek_hour</th>\n",
       "    </tr>\n",
       "  </thead>\n",
       "  <tbody>\n",
       "    <tr>\n",
       "      <th>0</th>\n",
       "      <td>1</td>\n",
       "      <td>6</td>\n",
       "      <td>0</td>\n",
       "      <td>dr5qupn</td>\n",
       "      <td>1</td>\n",
       "      <td>(1, 6, 0.0)</td>\n",
       "    </tr>\n",
       "    <tr>\n",
       "      <th>1</th>\n",
       "      <td>1</td>\n",
       "      <td>6</td>\n",
       "      <td>0</td>\n",
       "      <td>dr5r56q</td>\n",
       "      <td>1</td>\n",
       "      <td>(1, 6, 0.0)</td>\n",
       "    </tr>\n",
       "    <tr>\n",
       "      <th>2</th>\n",
       "      <td>1</td>\n",
       "      <td>6</td>\n",
       "      <td>0</td>\n",
       "      <td>dr5r5wk</td>\n",
       "      <td>1</td>\n",
       "      <td>(1, 6, 0.0)</td>\n",
       "    </tr>\n",
       "    <tr>\n",
       "      <th>3</th>\n",
       "      <td>1</td>\n",
       "      <td>6</td>\n",
       "      <td>0</td>\n",
       "      <td>dr5r5ww</td>\n",
       "      <td>1</td>\n",
       "      <td>(1, 6, 0.0)</td>\n",
       "    </tr>\n",
       "    <tr>\n",
       "      <th>4</th>\n",
       "      <td>1</td>\n",
       "      <td>6</td>\n",
       "      <td>0</td>\n",
       "      <td>dr5r5zg</td>\n",
       "      <td>1</td>\n",
       "      <td>(1, 6, 0.0)</td>\n",
       "    </tr>\n",
       "  </tbody>\n",
       "</table>\n",
       "</div>"
      ],
      "text/plain": [
       "   date  dayofweek  hour    phash  count date_dayofweek_hour\n",
       "0     1          6     0  dr5qupn      1         (1, 6, 0.0)\n",
       "1     1          6     0  dr5r56q      1         (1, 6, 0.0)\n",
       "2     1          6     0  dr5r5wk      1         (1, 6, 0.0)\n",
       "3     1          6     0  dr5r5ww      1         (1, 6, 0.0)\n",
       "4     1          6     0  dr5r5zg      1         (1, 6, 0.0)"
      ]
     },
     "execution_count": 6,
     "metadata": {},
     "output_type": "execute_result"
    }
   ],
   "source": [
    "demand = demand.reset_index()\n",
    "demand['date_dayofweek_hour'] = zip(demand.date, demand.dayofweek, demand.hour)\n",
    "demand.head()"
   ]
  },
  {
   "cell_type": "code",
   "execution_count": 7,
   "metadata": {
    "collapsed": false
   },
   "outputs": [
    {
     "data": {
      "text/html": [
       "<div>\n",
       "<table border=\"1\" class=\"dataframe\">\n",
       "  <thead>\n",
       "    <tr style=\"text-align: right;\">\n",
       "      <th>phash</th>\n",
       "      <th>dr5qgxz</th>\n",
       "      <th>dr5qgz5</th>\n",
       "      <th>dr5qgz7</th>\n",
       "      <th>dr5qgz8</th>\n",
       "      <th>dr5qgzc</th>\n",
       "      <th>dr5qgze</th>\n",
       "      <th>dr5qgzr</th>\n",
       "      <th>dr5qgzu</th>\n",
       "      <th>dr5qgzw</th>\n",
       "      <th>dr5qup0</th>\n",
       "      <th>...</th>\n",
       "      <th>dr78818</th>\n",
       "      <th>dr7881c</th>\n",
       "      <th>dr7881d</th>\n",
       "      <th>dr7881f</th>\n",
       "      <th>dr7881g</th>\n",
       "      <th>dr7882y</th>\n",
       "      <th>dr78842</th>\n",
       "      <th>dr78843</th>\n",
       "      <th>dr78848</th>\n",
       "      <th>dr78849</th>\n",
       "    </tr>\n",
       "    <tr>\n",
       "      <th>date_dayofweek_hour</th>\n",
       "      <th></th>\n",
       "      <th></th>\n",
       "      <th></th>\n",
       "      <th></th>\n",
       "      <th></th>\n",
       "      <th></th>\n",
       "      <th></th>\n",
       "      <th></th>\n",
       "      <th></th>\n",
       "      <th></th>\n",
       "      <th></th>\n",
       "      <th></th>\n",
       "      <th></th>\n",
       "      <th></th>\n",
       "      <th></th>\n",
       "      <th></th>\n",
       "      <th></th>\n",
       "      <th></th>\n",
       "      <th></th>\n",
       "      <th></th>\n",
       "      <th></th>\n",
       "    </tr>\n",
       "  </thead>\n",
       "  <tbody>\n",
       "    <tr>\n",
       "      <th>(1, 6, 0.0)</th>\n",
       "      <td>0</td>\n",
       "      <td>0</td>\n",
       "      <td>0</td>\n",
       "      <td>0</td>\n",
       "      <td>0</td>\n",
       "      <td>0</td>\n",
       "      <td>0</td>\n",
       "      <td>0</td>\n",
       "      <td>0</td>\n",
       "      <td>0</td>\n",
       "      <td>...</td>\n",
       "      <td>0</td>\n",
       "      <td>0</td>\n",
       "      <td>0</td>\n",
       "      <td>0</td>\n",
       "      <td>0</td>\n",
       "      <td>0</td>\n",
       "      <td>0</td>\n",
       "      <td>0</td>\n",
       "      <td>0</td>\n",
       "      <td>0</td>\n",
       "    </tr>\n",
       "    <tr>\n",
       "      <th>(1, 6, 0.5)</th>\n",
       "      <td>0</td>\n",
       "      <td>0</td>\n",
       "      <td>0</td>\n",
       "      <td>0</td>\n",
       "      <td>0</td>\n",
       "      <td>0</td>\n",
       "      <td>0</td>\n",
       "      <td>0</td>\n",
       "      <td>0</td>\n",
       "      <td>0</td>\n",
       "      <td>...</td>\n",
       "      <td>0</td>\n",
       "      <td>0</td>\n",
       "      <td>0</td>\n",
       "      <td>0</td>\n",
       "      <td>0</td>\n",
       "      <td>0</td>\n",
       "      <td>0</td>\n",
       "      <td>0</td>\n",
       "      <td>0</td>\n",
       "      <td>0</td>\n",
       "    </tr>\n",
       "    <tr>\n",
       "      <th>(1, 6, 1.0)</th>\n",
       "      <td>0</td>\n",
       "      <td>0</td>\n",
       "      <td>0</td>\n",
       "      <td>0</td>\n",
       "      <td>0</td>\n",
       "      <td>0</td>\n",
       "      <td>0</td>\n",
       "      <td>0</td>\n",
       "      <td>0</td>\n",
       "      <td>0</td>\n",
       "      <td>...</td>\n",
       "      <td>0</td>\n",
       "      <td>0</td>\n",
       "      <td>0</td>\n",
       "      <td>0</td>\n",
       "      <td>0</td>\n",
       "      <td>0</td>\n",
       "      <td>0</td>\n",
       "      <td>0</td>\n",
       "      <td>0</td>\n",
       "      <td>0</td>\n",
       "    </tr>\n",
       "    <tr>\n",
       "      <th>(1, 6, 1.5)</th>\n",
       "      <td>0</td>\n",
       "      <td>0</td>\n",
       "      <td>0</td>\n",
       "      <td>0</td>\n",
       "      <td>0</td>\n",
       "      <td>0</td>\n",
       "      <td>0</td>\n",
       "      <td>0</td>\n",
       "      <td>0</td>\n",
       "      <td>0</td>\n",
       "      <td>...</td>\n",
       "      <td>0</td>\n",
       "      <td>0</td>\n",
       "      <td>0</td>\n",
       "      <td>0</td>\n",
       "      <td>0</td>\n",
       "      <td>0</td>\n",
       "      <td>0</td>\n",
       "      <td>0</td>\n",
       "      <td>0</td>\n",
       "      <td>0</td>\n",
       "    </tr>\n",
       "    <tr>\n",
       "      <th>(1, 6, 2.0)</th>\n",
       "      <td>0</td>\n",
       "      <td>0</td>\n",
       "      <td>0</td>\n",
       "      <td>0</td>\n",
       "      <td>0</td>\n",
       "      <td>0</td>\n",
       "      <td>0</td>\n",
       "      <td>0</td>\n",
       "      <td>0</td>\n",
       "      <td>0</td>\n",
       "      <td>...</td>\n",
       "      <td>0</td>\n",
       "      <td>0</td>\n",
       "      <td>0</td>\n",
       "      <td>0</td>\n",
       "      <td>0</td>\n",
       "      <td>0</td>\n",
       "      <td>0</td>\n",
       "      <td>0</td>\n",
       "      <td>0</td>\n",
       "      <td>0</td>\n",
       "    </tr>\n",
       "  </tbody>\n",
       "</table>\n",
       "<p>5 rows × 16971 columns</p>\n",
       "</div>"
      ],
      "text/plain": [
       "phash                dr5qgxz  dr5qgz5  dr5qgz7  dr5qgz8  dr5qgzc  dr5qgze  \\\n",
       "date_dayofweek_hour                                                         \n",
       "(1, 6, 0.0)                0        0        0        0        0        0   \n",
       "(1, 6, 0.5)                0        0        0        0        0        0   \n",
       "(1, 6, 1.0)                0        0        0        0        0        0   \n",
       "(1, 6, 1.5)                0        0        0        0        0        0   \n",
       "(1, 6, 2.0)                0        0        0        0        0        0   \n",
       "\n",
       "phash                dr5qgzr  dr5qgzu  dr5qgzw  dr5qup0   ...     dr78818  \\\n",
       "date_dayofweek_hour                                       ...               \n",
       "(1, 6, 0.0)                0        0        0        0   ...           0   \n",
       "(1, 6, 0.5)                0        0        0        0   ...           0   \n",
       "(1, 6, 1.0)                0        0        0        0   ...           0   \n",
       "(1, 6, 1.5)                0        0        0        0   ...           0   \n",
       "(1, 6, 2.0)                0        0        0        0   ...           0   \n",
       "\n",
       "phash                dr7881c  dr7881d  dr7881f  dr7881g  dr7882y  dr78842  \\\n",
       "date_dayofweek_hour                                                         \n",
       "(1, 6, 0.0)                0        0        0        0        0        0   \n",
       "(1, 6, 0.5)                0        0        0        0        0        0   \n",
       "(1, 6, 1.0)                0        0        0        0        0        0   \n",
       "(1, 6, 1.5)                0        0        0        0        0        0   \n",
       "(1, 6, 2.0)                0        0        0        0        0        0   \n",
       "\n",
       "phash                dr78843  dr78848  dr78849  \n",
       "date_dayofweek_hour                             \n",
       "(1, 6, 0.0)                0        0        0  \n",
       "(1, 6, 0.5)                0        0        0  \n",
       "(1, 6, 1.0)                0        0        0  \n",
       "(1, 6, 1.5)                0        0        0  \n",
       "(1, 6, 2.0)                0        0        0  \n",
       "\n",
       "[5 rows x 16971 columns]"
      ]
     },
     "execution_count": 7,
     "metadata": {},
     "output_type": "execute_result"
    }
   ],
   "source": [
    "demand_pivot = demand.pivot(index='date_dayofweek_hour', columns='phash', values='count')\n",
    "demand_pivot = demand_pivot.fillna(0)\n",
    "demand_pivot.head()"
   ]
  },
  {
   "cell_type": "code",
   "execution_count": 8,
   "metadata": {
    "collapsed": true
   },
   "outputs": [],
   "source": [
    "del df"
   ]
  },
  {
   "cell_type": "code",
   "execution_count": 9,
   "metadata": {
    "collapsed": false
   },
   "outputs": [
    {
     "data": {
      "text/html": [
       "<div>\n",
       "<table border=\"1\" class=\"dataframe\">\n",
       "  <thead>\n",
       "    <tr style=\"text-align: right;\">\n",
       "      <th></th>\n",
       "      <th>date</th>\n",
       "      <th>dayofweek</th>\n",
       "      <th>hour</th>\n",
       "      <th>geohash</th>\n",
       "      <th>demand</th>\n",
       "    </tr>\n",
       "  </thead>\n",
       "  <tbody>\n",
       "    <tr>\n",
       "      <th>0</th>\n",
       "      <td>1</td>\n",
       "      <td>6</td>\n",
       "      <td>0.0</td>\n",
       "      <td>dr5qgxz</td>\n",
       "      <td>0</td>\n",
       "    </tr>\n",
       "    <tr>\n",
       "      <th>1</th>\n",
       "      <td>1</td>\n",
       "      <td>6</td>\n",
       "      <td>0.5</td>\n",
       "      <td>dr5qgxz</td>\n",
       "      <td>0</td>\n",
       "    </tr>\n",
       "    <tr>\n",
       "      <th>2</th>\n",
       "      <td>1</td>\n",
       "      <td>6</td>\n",
       "      <td>1.0</td>\n",
       "      <td>dr5qgxz</td>\n",
       "      <td>0</td>\n",
       "    </tr>\n",
       "    <tr>\n",
       "      <th>3</th>\n",
       "      <td>1</td>\n",
       "      <td>6</td>\n",
       "      <td>1.5</td>\n",
       "      <td>dr5qgxz</td>\n",
       "      <td>0</td>\n",
       "    </tr>\n",
       "    <tr>\n",
       "      <th>4</th>\n",
       "      <td>1</td>\n",
       "      <td>6</td>\n",
       "      <td>2.0</td>\n",
       "      <td>dr5qgxz</td>\n",
       "      <td>0</td>\n",
       "    </tr>\n",
       "  </tbody>\n",
       "</table>\n",
       "</div>"
      ],
      "text/plain": [
       "   date  dayofweek  hour  geohash  demand\n",
       "0     1          6   0.0  dr5qgxz       0\n",
       "1     1          6   0.5  dr5qgxz       0\n",
       "2     1          6   1.0  dr5qgxz       0\n",
       "3     1          6   1.5  dr5qgxz       0\n",
       "4     1          6   2.0  dr5qgxz       0"
      ]
     },
     "execution_count": 9,
     "metadata": {},
     "output_type": "execute_result"
    }
   ],
   "source": [
    "demand_pivot['date'] = 0\n",
    "demand_pivot['dayofweek'] = 0\n",
    "demand_pivot['hour'] = 0\n",
    "demand_pivot[['date', 'dayofweek', 'hour']] = list(demand_pivot.index.values)\n",
    "demand = pd.melt(demand_pivot, id_vars=['date', 'dayofweek', 'hour'])\n",
    "demand = demand.rename(columns={'phash':'geohash', 'value':'demand'})\n",
    "demand.head()"
   ]
  },
  {
   "cell_type": "code",
   "execution_count": 10,
   "metadata": {
    "collapsed": false
   },
   "outputs": [
    {
     "data": {
      "text/html": [
       "<div>\n",
       "<table border=\"1\" class=\"dataframe\">\n",
       "  <thead>\n",
       "    <tr style=\"text-align: right;\">\n",
       "      <th></th>\n",
       "      <th>geohash</th>\n",
       "      <th>lat</th>\n",
       "      <th>lon</th>\n",
       "      <th>road_density</th>\n",
       "      <th>intxn_density</th>\n",
       "    </tr>\n",
       "  </thead>\n",
       "  <tbody>\n",
       "    <tr>\n",
       "      <th>0</th>\n",
       "      <td>dr5qgxx</td>\n",
       "      <td>40.603358</td>\n",
       "      <td>-74.015682</td>\n",
       "      <td>32</td>\n",
       "      <td>35</td>\n",
       "    </tr>\n",
       "    <tr>\n",
       "      <th>1</th>\n",
       "      <td>dr5qgxy</td>\n",
       "      <td>40.604832</td>\n",
       "      <td>-74.017029</td>\n",
       "      <td>34</td>\n",
       "      <td>8</td>\n",
       "    </tr>\n",
       "    <tr>\n",
       "      <th>2</th>\n",
       "      <td>dr5qgxz</td>\n",
       "      <td>40.604637</td>\n",
       "      <td>-74.015335</td>\n",
       "      <td>0</td>\n",
       "      <td>0</td>\n",
       "    </tr>\n",
       "    <tr>\n",
       "      <th>3</th>\n",
       "      <td>dr5qgz5</td>\n",
       "      <td>40.600984</td>\n",
       "      <td>-74.009745</td>\n",
       "      <td>13</td>\n",
       "      <td>5</td>\n",
       "    </tr>\n",
       "    <tr>\n",
       "      <th>4</th>\n",
       "      <td>dr5qgz7</td>\n",
       "      <td>40.602178</td>\n",
       "      <td>-74.010322</td>\n",
       "      <td>28</td>\n",
       "      <td>9</td>\n",
       "    </tr>\n",
       "  </tbody>\n",
       "</table>\n",
       "</div>"
      ],
      "text/plain": [
       "   geohash        lat        lon  road_density  intxn_density\n",
       "0  dr5qgxx  40.603358 -74.015682            32             35\n",
       "1  dr5qgxy  40.604832 -74.017029            34              8\n",
       "2  dr5qgxz  40.604637 -74.015335             0              0\n",
       "3  dr5qgz5  40.600984 -74.009745            13              5\n",
       "4  dr5qgz7  40.602178 -74.010322            28              9"
      ]
     },
     "execution_count": 10,
     "metadata": {},
     "output_type": "execute_result"
    }
   ],
   "source": [
    "zones = pd.read_csv(\"data/table/zones.csv\",\n",
    "                    usecols=['geohash', 'lat', 'lon', 'road_density', 'intxn_density'])\n",
    "zones.head()"
   ]
  },
  {
   "cell_type": "code",
   "execution_count": 11,
   "metadata": {
    "collapsed": false
   },
   "outputs": [
    {
     "data": {
      "text/html": [
       "<div>\n",
       "<table border=\"1\" class=\"dataframe\">\n",
       "  <thead>\n",
       "    <tr style=\"text-align: right;\">\n",
       "      <th></th>\n",
       "      <th>date</th>\n",
       "      <th>dayofweek</th>\n",
       "      <th>hour</th>\n",
       "      <th>geohash</th>\n",
       "      <th>demand</th>\n",
       "      <th>lat</th>\n",
       "      <th>lon</th>\n",
       "      <th>road_density</th>\n",
       "      <th>intxn_density</th>\n",
       "    </tr>\n",
       "  </thead>\n",
       "  <tbody>\n",
       "    <tr>\n",
       "      <th>0</th>\n",
       "      <td>1</td>\n",
       "      <td>6</td>\n",
       "      <td>0</td>\n",
       "      <td>dr5qgxz</td>\n",
       "      <td>0</td>\n",
       "      <td>40.604637</td>\n",
       "      <td>-74.015335</td>\n",
       "      <td>0</td>\n",
       "      <td>0</td>\n",
       "    </tr>\n",
       "    <tr>\n",
       "      <th>1</th>\n",
       "      <td>1</td>\n",
       "      <td>6</td>\n",
       "      <td>0</td>\n",
       "      <td>dr5qgz5</td>\n",
       "      <td>0</td>\n",
       "      <td>40.600984</td>\n",
       "      <td>-74.009745</td>\n",
       "      <td>13</td>\n",
       "      <td>5</td>\n",
       "    </tr>\n",
       "    <tr>\n",
       "      <th>2</th>\n",
       "      <td>1</td>\n",
       "      <td>6</td>\n",
       "      <td>0</td>\n",
       "      <td>dr5qgz7</td>\n",
       "      <td>0</td>\n",
       "      <td>40.602178</td>\n",
       "      <td>-74.010322</td>\n",
       "      <td>28</td>\n",
       "      <td>9</td>\n",
       "    </tr>\n",
       "    <tr>\n",
       "      <th>3</th>\n",
       "      <td>1</td>\n",
       "      <td>6</td>\n",
       "      <td>0</td>\n",
       "      <td>dr5qgz8</td>\n",
       "      <td>0</td>\n",
       "      <td>40.603474</td>\n",
       "      <td>-74.014180</td>\n",
       "      <td>49</td>\n",
       "      <td>14</td>\n",
       "    </tr>\n",
       "    <tr>\n",
       "      <th>4</th>\n",
       "      <td>1</td>\n",
       "      <td>6</td>\n",
       "      <td>0</td>\n",
       "      <td>dr5qgzc</td>\n",
       "      <td>0</td>\n",
       "      <td>40.604756</td>\n",
       "      <td>-74.012782</td>\n",
       "      <td>6</td>\n",
       "      <td>2</td>\n",
       "    </tr>\n",
       "  </tbody>\n",
       "</table>\n",
       "</div>"
      ],
      "text/plain": [
       "   date  dayofweek  hour  geohash  demand        lat        lon  road_density  \\\n",
       "0     1          6     0  dr5qgxz       0  40.604637 -74.015335             0   \n",
       "1     1          6     0  dr5qgz5       0  40.600984 -74.009745            13   \n",
       "2     1          6     0  dr5qgz7       0  40.602178 -74.010322            28   \n",
       "3     1          6     0  dr5qgz8       0  40.603474 -74.014180            49   \n",
       "4     1          6     0  dr5qgzc       0  40.604756 -74.012782             6   \n",
       "\n",
       "   intxn_density  \n",
       "0              0  \n",
       "1              5  \n",
       "2              9  \n",
       "3             14  \n",
       "4              2  "
      ]
     },
     "execution_count": 11,
     "metadata": {},
     "output_type": "execute_result"
    }
   ],
   "source": [
    "demand = demand.sort_values(by=['date', 'hour'])\n",
    "demand = demand.merge(zones, how='left', on='geohash')\n",
    "demand.head()"
   ]
  },
  {
   "cell_type": "code",
   "execution_count": 14,
   "metadata": {
    "collapsed": false
   },
   "outputs": [],
   "source": [
    "demand = demand.drop('geohash', axis=1)\n",
    "demand.to_csv('data/nyc_taxi/trips/demand_2016_05.csv', index=False)"
   ]
  },
  {
   "cell_type": "code",
   "execution_count": 15,
   "metadata": {
    "collapsed": true
   },
   "outputs": [],
   "source": [
    "del demand"
   ]
  },
  {
   "cell_type": "code",
   "execution_count": 22,
   "metadata": {
    "collapsed": false
   },
   "outputs": [
    {
     "name": "stdout",
     "output_type": "stream",
     "text": [
      "<class 'pandas.core.frame.DataFrame'>\n",
      "Int64Index: 25252848 entries, 0 to 25252847\n",
      "Data columns (total 7 columns):\n",
      "date            int32\n",
      "dayofweek       int32\n",
      "hour            float32\n",
      "demand          int32\n",
      "lat             float32\n",
      "lon             float32\n",
      "road_density    int32\n",
      "dtypes: float32(3), int32(4)\n",
      "memory usage: 867.0 MB\n"
     ]
    }
   ],
   "source": [
    "df = pd.read_csv('data/nyc_taxi/trips/demand_2016_05.csv',\n",
    "                dtype={\n",
    "                    'date':np.int32,\n",
    "                    'dayofweek':np.int32,\n",
    "                    'hour':np.float32,\n",
    "                    'demand':np.int32,\n",
    "                    'lat':np.float32,\n",
    "                    'lon':np.float32,\n",
    "                    'road_density':np.int32\n",
    "                }).drop('intxn_density', axis=1)\n",
    "df.info()"
   ]
  },
  {
   "cell_type": "code",
   "execution_count": 23,
   "metadata": {
    "collapsed": false
   },
   "outputs": [
    {
     "name": "stdout",
     "output_type": "stream",
     "text": [
      "<class 'pandas.core.frame.DataFrame'>\n",
      "Int64Index: 25201935 entries, 50942 to 25252684\n",
      "Data columns (total 14 columns):\n",
      "date             int32\n",
      "dayofweek        int32\n",
      "hour             float32\n",
      "demand           int32\n",
      "lat              float32\n",
      "lon              float32\n",
      "road_density     int32\n",
      "weekend          int32\n",
      "dayofweek_sin    float32\n",
      "dayofweek_cos    float32\n",
      "hour_sin         float32\n",
      "hour_cos         float32\n",
      "prev_demand1     int32\n",
      "prev_demand2     int32\n",
      "dtypes: float32(7), int32(7)\n",
      "memory usage: 1.5 GB\n"
     ]
    }
   ],
   "source": [
    "def create_features(df):\n",
    "    df['weekend'] = (df.dayofweek > 4).astype(np.int32)\n",
    "    df['dayofweek_sin'] = np.sin(df.dayofweek/7.0).astype(np.float32)\n",
    "    df['dayofweek_cos'] = np.cos(df.dayofweek/7.0).astype(np.float32)\n",
    "    df['hour_sin'] = np.sin(df.hour/24.0).astype(np.float32)\n",
    "    df['hour_cos'] = np.cos(df.hour/24.0).astype(np.float32)\n",
    "    df = df.sort_values(by=['lat', 'lon'])\n",
    "    df['prev_demand1'] = np.int32(0)\n",
    "    df['prev_demand1'].iloc[1:] = df['demand'].values[:-1]\n",
    "    df['prev_demand2'] = np.int32(0)\n",
    "    df['prev_demand2'].iloc[1:] = df['prev_demand1'].values[:-1]\n",
    "    df = df[(df.date>1)|(df.hour>1)]\n",
    "    df = df.sort_values(by=['date', 'hour'])\n",
    "    return df\n",
    "\n",
    "df = create_features(df)\n",
    "df.info()"
   ]
  },
  {
   "cell_type": "code",
   "execution_count": 36,
   "metadata": {
    "collapsed": false
   },
   "outputs": [
    {
     "name": "stdout",
     "output_type": "stream",
     "text": [
      "17641354\n",
      "7560581\n"
     ]
    }
   ],
   "source": [
    "X = df.drop(['demand', 'date'], axis=1).values\n",
    "y = df['demand'].values\n",
    "N = int(len(y)*0.7)\n",
    "X_train, X_test, y_train, y_test = X[:N], X[N:], y[:N], y[N:]\n",
    "print len(X_train)\n",
    "print len(X_test)"
   ]
  },
  {
   "cell_type": "code",
   "execution_count": 37,
   "metadata": {
    "collapsed": false
   },
   "outputs": [],
   "source": [
    "from sklearn.preprocessing import StandardScaler\n",
    "\n",
    "scl = StandardScaler()\n",
    "X_train = scl.fit_transform(X_train)\n",
    "X_test = scl.transform(X_test)"
   ]
  },
  {
   "cell_type": "code",
   "execution_count": 38,
   "metadata": {
    "collapsed": false
   },
   "outputs": [
    {
     "name": "stdout",
     "output_type": "stream",
     "text": [
      "0.116865576191\n",
      "0.111542353689\n",
      "7.41265165928\n",
      "6.08425767808\n"
     ]
    }
   ],
   "source": [
    "print y_train[y_train>0].size/float(y_train.size)\n",
    "print y_test[y_test>0].size/float(y_test.size)\n",
    "print (y_train**2).mean()\n",
    "print (y_test**2).mean()"
   ]
  },
  {
   "cell_type": "markdown",
   "metadata": {},
   "source": [
    "## Benchmark"
   ]
  },
  {
   "cell_type": "code",
   "execution_count": 39,
   "metadata": {
    "collapsed": false
   },
   "outputs": [
    {
     "name": "stdout",
     "output_type": "stream",
     "text": [
      "RMSE train/val: 1.19 / 1.11\n"
     ]
    }
   ],
   "source": [
    "from sklearn.linear_model import LinearRegression\n",
    "\n",
    "slr = LinearRegression()\n",
    "slr.fit(X_train, y_train)\n",
    "rmse_train = np.sqrt(((y_train - slr.predict(X_train))**2).mean())\n",
    "rmse_test = np.sqrt(((y_test - slr.predict(X_test))**2).mean())\n",
    "print \"RMSE train/val: %.2f / %.2f\" % (rmse_train, rmse_test)"
   ]
  },
  {
   "cell_type": "markdown",
   "metadata": {},
   "source": [
    "## Ensemble Methods"
   ]
  },
  {
   "cell_type": "code",
   "execution_count": 50,
   "metadata": {
    "collapsed": false
   },
   "outputs": [],
   "source": [
    "use_cols = [u'dayofweek', u'hour', u'lat', u'lon', u'road_density', u'prev_demand1', u'prev_demand2']\n",
    "X = df[use_cols].values\n",
    "y = df['demand'].values\n",
    "N = int(len(y)*0.7)\n",
    "X_train, X_test, y_train, y_test = X[:N], X[N:], y[:N], y[N:]"
   ]
  },
  {
   "cell_type": "code",
   "execution_count": 34,
   "metadata": {
    "collapsed": false
   },
   "outputs": [
    {
     "name": "stdout",
     "output_type": "stream",
     "text": [
      "d=2, n=10, RMSE train/val: 1.22 / 1.14\n",
      "d=2, n=20, RMSE train/val: 1.20 / 1.13\n",
      "d=4, n=10, RMSE train/val: 1.20 / 1.13\n",
      "d=4, n=20, RMSE train/val: 1.24 / 1.21\n",
      "CPU times: user 12min 17s, sys: 1min 3s, total: 13min 20s\n",
      "Wall time: 13min 27s\n"
     ]
    }
   ],
   "source": [
    "%%time\n",
    "from sklearn.ensemble import GradientBoostingRegressor\n",
    "\n",
    "lr = 1.0\n",
    "s = 0.2\n",
    "for d in [2, 4]:\n",
    "    for n in [10, 20]:\n",
    "        gbr = GradientBoostingRegressor(learning_rate=lr, n_estimators=n, subsample=s, max_depth=d)\n",
    "        gbr.fit(X_train, y_train)\n",
    "        rmse_train = np.sqrt(((y_train - gbr.predict(X_train))**2).mean())\n",
    "        rmse_test = np.sqrt(((y_test - gbr.predict(X_test))**2).mean())\n",
    "        print \"d=%d, n=%d, RMSE train/val: %.2f / %.2f\" % (d, n, rmse_train, rmse_test)"
   ]
  },
  {
   "cell_type": "code",
   "execution_count": 35,
   "metadata": {
    "collapsed": false
   },
   "outputs": [
    {
     "name": "stdout",
     "output_type": "stream",
     "text": [
      "s=0.000050, n=10, RMSE train/val: 1.14 / 1.08\n",
      "s=0.000050, n=20, RMSE train/val: 1.13 / 1.08\n",
      "s=0.000020, n=10, RMSE train/val: 1.10 / 1.06\n",
      "s=0.000020, n=20, RMSE train/val: 1.10 / 1.06\n",
      "CPU times: user 3h 37min 6s, sys: 1min 23s, total: 3h 38min 30s\n",
      "Wall time: 59min 5s\n"
     ]
    }
   ],
   "source": [
    "%%time\n",
    "from sklearn.ensemble import RandomForestRegressor\n",
    "\n",
    "for s in [5e-5, 2e-5]:\n",
    "    for n in [10, 20]:\n",
    "        forest = RandomForestRegressor(n_estimators=n,\n",
    "                                       min_samples_split=s,\n",
    "                                       n_jobs=-1)\n",
    "        forest.fit(X_train, y_train)\n",
    "        rmse_train = np.sqrt(((y_train - forest.predict(X_train))**2).mean())\n",
    "        rmse_test = np.sqrt(((y_test - forest.predict(X_test))**2).mean())\n",
    "        print \"s=%f, n=%d, RMSE train/val: %.2f / %.2f\" % (s, n, rmse_train, rmse_test)"
   ]
  },
  {
   "cell_type": "code",
   "execution_count": 51,
   "metadata": {
    "collapsed": false
   },
   "outputs": [
    {
     "name": "stdout",
     "output_type": "stream",
     "text": [
      "RMSE train/val: 1.10 / 1.06\n"
     ]
    }
   ],
   "source": [
    "forest = RandomForestRegressor(n_estimators=10,\n",
    "                               min_samples_split=2e-5,\n",
    "                               n_jobs=-1)\n",
    "forest.fit(X_train, y_train)\n",
    "rmse_train = np.sqrt(((y_train - forest.predict(X_train))**2).mean())\n",
    "rmse_test = np.sqrt(((y_test - forest.predict(X_test))**2).mean())\n",
    "print \"RMSE train/val: %.2f / %.2f\" % (rmse_train, rmse_test)"
   ]
  },
  {
   "cell_type": "code",
   "execution_count": 52,
   "metadata": {
    "collapsed": false
   },
   "outputs": [
    {
     "name": "stdout",
     "output_type": "stream",
     "text": [
      " 1) prev_demand1 0.9315\n",
      " 2) prev_demand2 0.0414\n",
      " 3) hour 0.0102\n",
      " 4) lat 0.0062\n",
      " 5) lon 0.0061\n",
      " 6) road_density 0.0035\n",
      " 7) dayofweek 0.0011\n"
     ]
    }
   ],
   "source": [
    "importances = forest.feature_importances_\n",
    "indices = np.argsort(importances)[::-1]\n",
    "for f in range(X_train.shape[1]):\n",
    "    print (\"%2d) %s %.4f\" %(f+1, use_cols[indices[f]], importances[indices[f]]) )"
   ]
  },
  {
   "cell_type": "code",
   "execution_count": 53,
   "metadata": {
    "collapsed": true
   },
   "outputs": [],
   "source": [
    "path = 'data/pickle/demand_predictor.pkl'\n",
    "with open(path, 'wb') as f:\n",
    "    pickle.dump(forest, f)"
   ]
  },
  {
   "cell_type": "code",
   "execution_count": null,
   "metadata": {
    "collapsed": true
   },
   "outputs": [],
   "source": []
  },
  {
   "cell_type": "markdown",
   "metadata": {},
   "source": [
    "## Linear Regression"
   ]
  },
  {
   "cell_type": "code",
   "execution_count": 8,
   "metadata": {
    "collapsed": false
   },
   "outputs": [
    {
     "name": "stdout",
     "output_type": "stream",
     "text": [
      "RMSE train/val: 2.3 / 2.1\n"
     ]
    }
   ],
   "source": [
    "# from sklearn.linear_model import LinearRegression\n",
    "\n",
    "# slr = LinearRegression()\n",
    "# slr.fit(X_train, y_train)\n",
    "# rmse_train = np.sqrt(((y_train - slr.predict(X_train))**2).mean())\n",
    "# rmse_test = np.sqrt(((y_test - slr.predict(X_test))**2).mean())\n",
    "# print \"RMSE train/val: %.1f / %.1f\" % (rmse_train, rmse_test)"
   ]
  },
  {
   "cell_type": "markdown",
   "metadata": {},
   "source": [
    "## Gradient Boosting"
   ]
  },
  {
   "cell_type": "code",
   "execution_count": 9,
   "metadata": {
    "collapsed": false
   },
   "outputs": [
    {
     "name": "stdout",
     "output_type": "stream",
     "text": [
      "d=2, n=10, RMSE train/val: 2.3 / 2.1\n",
      "d=2, n=20, RMSE train/val: 2.3 / 2.1\n",
      "d=4, n=10, RMSE train/val: 2.3 / 2.1\n",
      "d=4, n=20, RMSE train/val: 2.3 / 2.4\n",
      "CPU times: user 6min 56s, sys: 26.5 s, total: 7min 22s\n",
      "Wall time: 7min 32s\n"
     ]
    }
   ],
   "source": [
    "%%time\n",
    "from sklearn.ensemble import GradientBoostingRegressor\n",
    "\n",
    "lr = 1.0\n",
    "s = 0.2\n",
    "for d in [2, 4]:\n",
    "    for n in [10, 20]:\n",
    "        gbr = GradientBoostingRegressor(learning_rate=lr, n_estimators=n, subsample=s, max_depth=d)\n",
    "        gbr.fit(X_train, y_train)\n",
    "        rmse_train = np.sqrt(((y_train - gbr.predict(X_train))**2).mean())\n",
    "        rmse_test = np.sqrt(((y_test - gbr.predict(X_test))**2).mean())\n",
    "        print \"d=%d, n=%d, RMSE train/val: %.1f / %.1f\" % (d, n, rmse_train, rmse_test)"
   ]
  },
  {
   "cell_type": "markdown",
   "metadata": {},
   "source": [
    "## Random Forest"
   ]
  },
  {
   "cell_type": "code",
   "execution_count": 10,
   "metadata": {
    "collapsed": false
   },
   "outputs": [
    {
     "name": "stdout",
     "output_type": "stream",
     "text": [
      "s=0.000050, n=10, RMSE train/val: 2.0 / 1.9\n",
      "s=0.000050, n=20, RMSE train/val: 2.0 / 1.9\n",
      "s=0.000020, n=10, RMSE train/val: 1.9 / 1.8\n",
      "s=0.000020, n=20, RMSE train/val: 1.9 / 1.8\n",
      "CPU times: user 1h 51min 33s, sys: 25.8 s, total: 1h 51min 59s\n",
      "Wall time: 30min 23s\n"
     ]
    }
   ],
   "source": [
    "%%time\n",
    "from sklearn.ensemble import RandomForestRegressor\n",
    "\n",
    "for s in [5e-5, 2e-5]:\n",
    "    for n in [10, 20]:\n",
    "        forest = RandomForestRegressor(n_estimators=n,\n",
    "                                       min_samples_split=s,\n",
    "                                       n_jobs=-1)\n",
    "        forest.fit(X_train, y_train)\n",
    "        rmse_train = np.sqrt(((y_train - forest.predict(X_train))**2).mean())\n",
    "        rmse_test = np.sqrt(((y_test - forest.predict(X_test))**2).mean())\n",
    "        print \"s=%f, n=%d, RMSE train/val: %.1f / %.1f\" % (s, n, rmse_train, rmse_test)"
   ]
  },
  {
   "cell_type": "markdown",
   "metadata": {},
   "source": [
    "## Neural Network"
   ]
  },
  {
   "cell_type": "code",
   "execution_count": 8,
   "metadata": {
    "collapsed": false
   },
   "outputs": [
    {
     "name": "stderr",
     "output_type": "stream",
     "text": [
      "Using TensorFlow backend.\n"
     ]
    }
   ],
   "source": [
    "from keras.models import Sequential\n",
    "from keras.layers.core import Dense\n",
    "\n",
    "def MLP(size, act='relu'):\n",
    "    model = Sequential()\n",
    "    model.add(Dense(size, input_dim=12, activation=act))\n",
    "    model.add(Dense(size, activation=act))\n",
    "    model.add(Dense(size, activation=act))\n",
    "    model.add(Dense(1, init='normal'))\n",
    "    model.compile(loss='mean_squared_error',  optimizer='adam')\n",
    "    return model"
   ]
  },
  {
   "cell_type": "code",
   "execution_count": 14,
   "metadata": {
    "collapsed": false
   },
   "outputs": [
    {
     "name": "stdout",
     "output_type": "stream",
     "text": [
      "Epoch 1/10\n",
      "57s - loss: 5.1477\n",
      "Epoch 2/10\n",
      "51s - loss: 4.7087\n",
      "Epoch 3/10\n",
      "52s - loss: 4.5752\n",
      "Epoch 4/10\n",
      "51s - loss: 4.5060\n",
      "Epoch 5/10\n",
      "51s - loss: 4.3990\n",
      "Epoch 6/10\n",
      "51s - loss: 4.3521\n",
      "Epoch 7/10\n",
      "51s - loss: 4.2953\n",
      "Epoch 8/10\n",
      "52s - loss: 4.2569\n",
      "Epoch 9/10\n",
      "51s - loss: 4.2260\n",
      "Epoch 10/10\n",
      "51s - loss: 4.1669\n",
      "CPU times: user 19min 24s, sys: 2min 31s, total: 21min 55s\n",
      "Wall time: 8min 43s\n"
     ]
    }
   ],
   "source": [
    "%%time\n",
    "mlp = MLP(64)\n",
    "mlp.fit(X_train, y_train, nb_epoch=10, batch_size=1000, verbose=2, validation_split=0.0)"
   ]
  },
  {
   "cell_type": "code",
   "execution_count": 15,
   "metadata": {
    "collapsed": false
   },
   "outputs": [
    {
     "name": "stdout",
     "output_type": "stream",
     "text": [
      "RMSE train/val: 2.0 / 1.9\n"
     ]
    }
   ],
   "source": [
    "y_pred_train = mlp.predict(X_train, batch_size=10000, verbose=0)[:, 0]\n",
    "y_pred_test = mlp.predict(X_test, batch_size=10000, verbose=0)[:, 0]\n",
    "rmse_train = np.sqrt(((y_train - y_pred_train)**2).mean())\n",
    "rmse_test = np.sqrt(((y_test - y_pred_test)**2).mean())\n",
    "print \"RMSE train/val: %.1f / %.1f\" % (rmse_train, rmse_test)                         "
   ]
  },
  {
   "cell_type": "code",
   "execution_count": 9,
   "metadata": {
    "collapsed": false
   },
   "outputs": [
    {
     "name": "stdout",
     "output_type": "stream",
     "text": [
      "Epoch 1/20\n",
      "89s - loss: 5.7608\n",
      "Epoch 2/20\n",
      "89s - loss: 4.8760\n",
      "Epoch 3/20\n",
      "89s - loss: 4.6997\n",
      "Epoch 4/20\n",
      "89s - loss: 4.5678\n",
      "Epoch 5/20\n",
      "92s - loss: 4.4722\n",
      "Epoch 6/20\n",
      "88s - loss: 4.3998\n",
      "Epoch 7/20\n",
      "89s - loss: 4.3588\n",
      "Epoch 8/20\n",
      "89s - loss: 4.3110\n",
      "Epoch 9/20\n",
      "89s - loss: 4.2772\n",
      "Epoch 10/20\n",
      "90s - loss: 4.2159\n",
      "Epoch 11/20\n",
      "89s - loss: 4.1671\n",
      "Epoch 12/20\n",
      "90s - loss: 4.1319\n",
      "Epoch 13/20\n",
      "89s - loss: 4.1032\n",
      "Epoch 14/20\n",
      "89s - loss: 4.0613\n",
      "Epoch 15/20\n",
      "94s - loss: 4.0283\n",
      "Epoch 16/20\n",
      "89s - loss: 4.0000\n",
      "Epoch 17/20\n",
      "89s - loss: 3.9800\n",
      "Epoch 18/20\n",
      "89s - loss: 3.9418\n",
      "Epoch 19/20\n",
      "89s - loss: 3.9122\n",
      "Epoch 20/20\n",
      "89s - loss: 3.8967\n",
      "CPU times: user 1h 31min 4s, sys: 4min 2s, total: 1h 35min 6s\n",
      "Wall time: 29min 57s\n"
     ]
    }
   ],
   "source": [
    "%%time\n",
    "mlp = MLP(128)\n",
    "mlp.fit(X_train, y_train, nb_epoch=20, batch_size=10000, verbose=2, validation_split=0.0)"
   ]
  },
  {
   "cell_type": "code",
   "execution_count": 10,
   "metadata": {
    "collapsed": false
   },
   "outputs": [
    {
     "name": "stdout",
     "output_type": "stream",
     "text": [
      "RMSE train/val: 1.9 / 1.8\n"
     ]
    }
   ],
   "source": [
    "y_pred_train = mlp.predict(X_train, batch_size=10000, verbose=0)[:, 0]\n",
    "y_pred_test = mlp.predict(X_test, batch_size=10000, verbose=0)[:, 0]\n",
    "rmse_train = np.sqrt(((y_train - y_pred_train)**2).mean())\n",
    "rmse_test = np.sqrt(((y_test - y_pred_test)**2).mean())\n",
    "print \"RMSE train/val: %.1f / %.1f\" % (rmse_train, rmse_test)                         "
   ]
  },
  {
   "cell_type": "markdown",
   "metadata": {},
   "source": [
    "## Tuning for RF"
   ]
  },
  {
   "cell_type": "code",
   "execution_count": 3,
   "metadata": {
    "collapsed": false
   },
   "outputs": [
    {
     "data": {
      "text/html": [
       "<div>\n",
       "<table border=\"1\" class=\"dataframe\">\n",
       "  <thead>\n",
       "    <tr style=\"text-align: right;\">\n",
       "      <th></th>\n",
       "      <th>date</th>\n",
       "      <th>dayofweek</th>\n",
       "      <th>hour</th>\n",
       "      <th>geohash</th>\n",
       "      <th>demand</th>\n",
       "      <th>lat</th>\n",
       "      <th>lon</th>\n",
       "      <th>road_density</th>\n",
       "      <th>intxn_density</th>\n",
       "    </tr>\n",
       "  </thead>\n",
       "  <tbody>\n",
       "    <tr>\n",
       "      <th>0</th>\n",
       "      <td>1</td>\n",
       "      <td>6</td>\n",
       "      <td>0</td>\n",
       "      <td>dr5qgz7</td>\n",
       "      <td>0</td>\n",
       "      <td>40.602036</td>\n",
       "      <td>-74.010086</td>\n",
       "      <td>28</td>\n",
       "      <td>9</td>\n",
       "    </tr>\n",
       "    <tr>\n",
       "      <th>1</th>\n",
       "      <td>1</td>\n",
       "      <td>6</td>\n",
       "      <td>0</td>\n",
       "      <td>dr5qgz8</td>\n",
       "      <td>0</td>\n",
       "      <td>40.603409</td>\n",
       "      <td>-74.014206</td>\n",
       "      <td>59</td>\n",
       "      <td>14</td>\n",
       "    </tr>\n",
       "    <tr>\n",
       "      <th>2</th>\n",
       "      <td>1</td>\n",
       "      <td>6</td>\n",
       "      <td>0</td>\n",
       "      <td>dr5qgzc</td>\n",
       "      <td>0</td>\n",
       "      <td>40.604782</td>\n",
       "      <td>-74.012833</td>\n",
       "      <td>48</td>\n",
       "      <td>2</td>\n",
       "    </tr>\n",
       "    <tr>\n",
       "      <th>3</th>\n",
       "      <td>1</td>\n",
       "      <td>6</td>\n",
       "      <td>0</td>\n",
       "      <td>dr5qgze</td>\n",
       "      <td>0</td>\n",
       "      <td>40.603409</td>\n",
       "      <td>-74.010086</td>\n",
       "      <td>40</td>\n",
       "      <td>3</td>\n",
       "    </tr>\n",
       "    <tr>\n",
       "      <th>4</th>\n",
       "      <td>1</td>\n",
       "      <td>6</td>\n",
       "      <td>0</td>\n",
       "      <td>dr5qgzr</td>\n",
       "      <td>0</td>\n",
       "      <td>40.602036</td>\n",
       "      <td>-74.004593</td>\n",
       "      <td>26</td>\n",
       "      <td>1</td>\n",
       "    </tr>\n",
       "  </tbody>\n",
       "</table>\n",
       "</div>"
      ],
      "text/plain": [
       "   date  dayofweek  hour  geohash  demand        lat        lon  road_density  \\\n",
       "0     1          6     0  dr5qgz7       0  40.602036 -74.010086            28   \n",
       "1     1          6     0  dr5qgz8       0  40.603409 -74.014206            59   \n",
       "2     1          6     0  dr5qgzc       0  40.604782 -74.012833            48   \n",
       "3     1          6     0  dr5qgze       0  40.603409 -74.010086            40   \n",
       "4     1          6     0  dr5qgzr       0  40.602036 -74.004593            26   \n",
       "\n",
       "   intxn_density  \n",
       "0              9  \n",
       "1             14  \n",
       "2              2  \n",
       "3              3  \n",
       "4              1  "
      ]
     },
     "execution_count": 3,
     "metadata": {},
     "output_type": "execute_result"
    }
   ],
   "source": [
    "df = pd.read_csv('analytics/data/demand_dataset.csv',\n",
    "                dtype={\n",
    "                    'date':np.int32,\n",
    "                    'dayofweek':np.int32,\n",
    "                    'hour':np.int32,\n",
    "                    'demand':np.int32,\n",
    "                    'lat':np.float32,\n",
    "                    'lon':np.float32,\n",
    "                    'road_density':np.int32,\n",
    "                    'intxn_density':np.int32\n",
    "                })\n",
    "df.head()"
   ]
  },
  {
   "cell_type": "code",
   "execution_count": 4,
   "metadata": {
    "collapsed": false
   },
   "outputs": [
    {
     "name": "stderr",
     "output_type": "stream",
     "text": [
      "/Users/odatakuma/anaconda/lib/python2.7/site-packages/pandas/core/indexing.py:117: SettingWithCopyWarning: \n",
      "A value is trying to be set on a copy of a slice from a DataFrame\n",
      "\n",
      "See the caveats in the documentation: http://pandas.pydata.org/pandas-docs/stable/indexing.html#indexing-view-versus-copy\n",
      "  self._setitem_with_indexer(indexer, value)\n"
     ]
    }
   ],
   "source": [
    "df = df.sort_values(by=['lat', 'lon'])\n",
    "df['prev_demand'] = 0\n",
    "df['prev_demand'].iloc[1:] = df['demand'].values[:-1]\n",
    "df = df[(df.date>1)|(df.hour>0)]\n",
    "df = df.sort_values(by=['date', 'hour'])\n",
    "X = df.drop(['demand', 'geohash', 'date'], axis=1).values\n",
    "y = df['demand'].values\n",
    "N = int(len(y)*0.7)\n",
    "X_train, X_test, y_train, y_test = X[:N], X[N:], y[:N], y[N:]"
   ]
  },
  {
   "cell_type": "code",
   "execution_count": 24,
   "metadata": {
    "collapsed": false
   },
   "outputs": [
    {
     "name": "stdout",
     "output_type": "stream",
     "text": [
      "RMSE train/val: 1.9 / 1.8\n"
     ]
    }
   ],
   "source": [
    "forest = RandomForestRegressor(n_estimators=10,\n",
    "                               min_samples_split=2e-5,\n",
    "                               n_jobs=-1)\n",
    "forest.fit(X_train, y_train)\n",
    "rmse_train = np.sqrt(((y_train - forest.predict(X_train))**2).mean())\n",
    "rmse_test = np.sqrt(((y_test - forest.predict(X_test))**2).mean())\n",
    "print \"RMSE train/val: %.1f / %.1f\" % (rmse_train, rmse_test)"
   ]
  },
  {
   "cell_type": "code",
   "execution_count": 25,
   "metadata": {
    "collapsed": false
   },
   "outputs": [
    {
     "name": "stdout",
     "output_type": "stream",
     "text": [
      " 1) prev_demand 0.9395\n",
      " 2) hour 0.0262\n",
      " 3) lat 0.0103\n",
      " 4) lon 0.0096\n",
      " 5) road_density 0.0074\n",
      " 6) dayofweek 0.0039\n",
      " 7) intxn_density 0.0030\n"
     ]
    }
   ],
   "source": [
    "feat_labels = df.drop('demand', axis=1).columns\n",
    "importances = forest.feature_importances_\n",
    "indices = np.argsort(importances)[::-1]\n",
    "for f in range(X_train.shape[1]):\n",
    "    print (\"%2d) %s %.4f\" %(f+1, feat_labels[indices[f]], importances[indices[f]]) )"
   ]
  },
  {
   "cell_type": "code",
   "execution_count": 26,
   "metadata": {
    "collapsed": false
   },
   "outputs": [],
   "source": [
    "path = 'engine/model/pickle/demand_predictor.pkl'\n",
    "with open(path, 'wb') as f:\n",
    "    pickle.dump(forest, f)"
   ]
  },
  {
   "cell_type": "markdown",
   "metadata": {
    "collapsed": true
   },
   "source": [
    "## Evaluation"
   ]
  },
  {
   "cell_type": "code",
   "execution_count": 5,
   "metadata": {
    "collapsed": false
   },
   "outputs": [],
   "source": [
    "with open('engine/model/pickle/demand_predictor.pkl', 'r') as f:\n",
    "    model = pickle.load(f)"
   ]
  },
  {
   "cell_type": "code",
   "execution_count": 6,
   "metadata": {
    "collapsed": false
   },
   "outputs": [
    {
     "name": "stdout",
     "output_type": "stream",
     "text": [
      "CPU times: user 28.9 s, sys: 2.05 s, total: 30.9 s\n",
      "Wall time: 11.7 s\n"
     ]
    }
   ],
   "source": [
    "%%time\n",
    "df['prediction'] = model.predict(X)"
   ]
  },
  {
   "cell_type": "code",
   "execution_count": null,
   "metadata": {
    "collapsed": false
   },
   "outputs": [],
   "source": [
    "zones = pd.read_csv('engine/data/zones.csv', index_col='geohash')\n",
    "zones.head()"
   ]
  },
  {
   "cell_type": "code",
   "execution_count": 8,
   "metadata": {
    "collapsed": false
   },
   "outputs": [
    {
     "data": {
      "text/html": [
       "<div>\n",
       "<table border=\"1\" class=\"dataframe\">\n",
       "  <thead>\n",
       "    <tr style=\"text-align: right;\">\n",
       "      <th></th>\n",
       "      <th>date</th>\n",
       "      <th>dayofweek</th>\n",
       "      <th>hour</th>\n",
       "      <th>taxi_zone</th>\n",
       "      <th>demand</th>\n",
       "      <th>prediction</th>\n",
       "    </tr>\n",
       "  </thead>\n",
       "  <tbody>\n",
       "    <tr>\n",
       "      <th>0</th>\n",
       "      <td>1</td>\n",
       "      <td>6</td>\n",
       "      <td>1</td>\n",
       "      <td>2</td>\n",
       "      <td>0</td>\n",
       "      <td>0.330035</td>\n",
       "    </tr>\n",
       "    <tr>\n",
       "      <th>1</th>\n",
       "      <td>1</td>\n",
       "      <td>6</td>\n",
       "      <td>1</td>\n",
       "      <td>3</td>\n",
       "      <td>242</td>\n",
       "      <td>205.673845</td>\n",
       "    </tr>\n",
       "    <tr>\n",
       "      <th>2</th>\n",
       "      <td>1</td>\n",
       "      <td>6</td>\n",
       "      <td>1</td>\n",
       "      <td>6</td>\n",
       "      <td>279</td>\n",
       "      <td>237.223552</td>\n",
       "    </tr>\n",
       "    <tr>\n",
       "      <th>3</th>\n",
       "      <td>1</td>\n",
       "      <td>6</td>\n",
       "      <td>1</td>\n",
       "      <td>7</td>\n",
       "      <td>1</td>\n",
       "      <td>0.469204</td>\n",
       "    </tr>\n",
       "    <tr>\n",
       "      <th>4</th>\n",
       "      <td>1</td>\n",
       "      <td>6</td>\n",
       "      <td>1</td>\n",
       "      <td>8</td>\n",
       "      <td>0</td>\n",
       "      <td>0.165799</td>\n",
       "    </tr>\n",
       "  </tbody>\n",
       "</table>\n",
       "</div>"
      ],
      "text/plain": [
       "   date  dayofweek  hour  taxi_zone  demand  prediction\n",
       "0     1          6     1          2       0    0.330035\n",
       "1     1          6     1          3     242  205.673845\n",
       "2     1          6     1          6     279  237.223552\n",
       "3     1          6     1          7       1    0.469204\n",
       "4     1          6     1          8       0    0.165799"
      ]
     },
     "execution_count": 8,
     "metadata": {},
     "output_type": "execute_result"
    }
   ],
   "source": [
    "df = df.merge(zones.reset_index()[['geohash', 'taxi_zone']], how='left', on='geohash')\n",
    "df_zone = df.groupby(['date', 'dayofweek', 'hour', 'taxi_zone'])[['demand', 'prediction']].sum()\n",
    "df_zone = df_zone.reset_index()\n",
    "df_zone.head()"
   ]
  },
  {
   "cell_type": "code",
   "execution_count": 9,
   "metadata": {
    "collapsed": false
   },
   "outputs": [
    {
     "data": {
      "text/plain": [
       "25.214787235976431"
      ]
     },
     "execution_count": 9,
     "metadata": {},
     "output_type": "execute_result"
    }
   ],
   "source": [
    "rmse = np.sqrt(((df_zone.demand-df_zone.prediction)**2).mean())\n",
    "rmse"
   ]
  },
  {
   "cell_type": "code",
   "execution_count": 7,
   "metadata": {
    "collapsed": false
   },
   "outputs": [
    {
     "data": {
      "text/html": [
       "<div>\n",
       "<table border=\"1\" class=\"dataframe\">\n",
       "  <thead>\n",
       "    <tr style=\"text-align: right;\">\n",
       "      <th></th>\n",
       "      <th></th>\n",
       "      <th></th>\n",
       "      <th>demand</th>\n",
       "      <th>prediction</th>\n",
       "    </tr>\n",
       "    <tr>\n",
       "      <th>date</th>\n",
       "      <th>dayofweek</th>\n",
       "      <th>hour</th>\n",
       "      <th></th>\n",
       "      <th></th>\n",
       "    </tr>\n",
       "  </thead>\n",
       "  <tbody>\n",
       "    <tr>\n",
       "      <th rowspan=\"5\" valign=\"top\">1</th>\n",
       "      <th rowspan=\"5\" valign=\"top\">6</th>\n",
       "      <th>1</th>\n",
       "      <td>23757</td>\n",
       "      <td>23070.819566</td>\n",
       "    </tr>\n",
       "    <tr>\n",
       "      <th>2</th>\n",
       "      <td>20137</td>\n",
       "      <td>19259.198850</td>\n",
       "    </tr>\n",
       "    <tr>\n",
       "      <th>3</th>\n",
       "      <td>15306</td>\n",
       "      <td>15491.150404</td>\n",
       "    </tr>\n",
       "    <tr>\n",
       "      <th>4</th>\n",
       "      <td>9692</td>\n",
       "      <td>10384.212675</td>\n",
       "    </tr>\n",
       "    <tr>\n",
       "      <th>5</th>\n",
       "      <td>4205</td>\n",
       "      <td>5508.800870</td>\n",
       "    </tr>\n",
       "  </tbody>\n",
       "</table>\n",
       "</div>"
      ],
      "text/plain": [
       "                     demand    prediction\n",
       "date dayofweek hour                      \n",
       "1    6         1      23757  23070.819566\n",
       "               2      20137  19259.198850\n",
       "               3      15306  15491.150404\n",
       "               4       9692  10384.212675\n",
       "               5       4205   5508.800870"
      ]
     },
     "execution_count": 7,
     "metadata": {},
     "output_type": "execute_result"
    }
   ],
   "source": [
    "df_total = df.groupby(['date', 'dayofweek', 'hour'])[['demand', 'prediction']].sum()\n",
    "df_total.head()"
   ]
  },
  {
   "cell_type": "code",
   "execution_count": 10,
   "metadata": {
    "collapsed": false
   },
   "outputs": [
    {
     "data": {
      "image/png": "[encoded data removed]",
      "text/plain": [
       "<matplotlib.figure.Figure at 0x10d3f2dd0>"
      ]
     },
     "metadata": {},
     "output_type": "display_data"
    }
   ],
   "source": [
    "plt.plot(range(24*1), df_total.demand.iloc[:24*1], c='blue')\n",
    "plt.plot(range(24*1), df_total.prediction.iloc[:24*1]);"
   ]
  },
  {
   "cell_type": "code",
   "execution_count": 25,
   "metadata": {
    "collapsed": false
   },
   "outputs": [
    {
     "name": "stdout",
     "output_type": "stream",
     "text": [
      "CPU times: user 2min 29s, sys: 10.8 s, total: 2min 40s\n",
      "Wall time: 57.9 s\n"
     ]
    }
   ],
   "source": [
    "%%time\n",
    "df['mlp_prediction'] = mlp.predict(X, batch_size=10000, verbose=0)[:, 0]"
   ]
  },
  {
   "cell_type": "code",
   "execution_count": 26,
   "metadata": {
    "collapsed": false
   },
   "outputs": [
    {
     "data": {
      "text/html": [
       "<div>\n",
       "<table border=\"1\" class=\"dataframe\">\n",
       "  <thead>\n",
       "    <tr style=\"text-align: right;\">\n",
       "      <th></th>\n",
       "      <th>date</th>\n",
       "      <th>dayofweek</th>\n",
       "      <th>hour</th>\n",
       "      <th>geohash</th>\n",
       "      <th>demand</th>\n",
       "      <th>lat</th>\n",
       "      <th>lon</th>\n",
       "      <th>road_density</th>\n",
       "      <th>intxn_density</th>\n",
       "      <th>weekend</th>\n",
       "      <th>dayofweek_sin</th>\n",
       "      <th>dayofweek_cos</th>\n",
       "      <th>hour_sin</th>\n",
       "      <th>hour_cos</th>\n",
       "      <th>prev_demand</th>\n",
       "      <th>mlp_prediction</th>\n",
       "    </tr>\n",
       "  </thead>\n",
       "  <tbody>\n",
       "    <tr>\n",
       "      <th>16593</th>\n",
       "      <td>1</td>\n",
       "      <td>6</td>\n",
       "      <td>1</td>\n",
       "      <td>dr5qup0</td>\n",
       "      <td>0</td>\n",
       "      <td>40.600662</td>\n",
       "      <td>-74.003220</td>\n",
       "      <td>37</td>\n",
       "      <td>2</td>\n",
       "      <td>1</td>\n",
       "      <td>0.755975</td>\n",
       "      <td>0.6546</td>\n",
       "      <td>0.041655</td>\n",
       "      <td>0.999132</td>\n",
       "      <td>0</td>\n",
       "      <td>0</td>\n",
       "    </tr>\n",
       "    <tr>\n",
       "      <th>16596</th>\n",
       "      <td>1</td>\n",
       "      <td>6</td>\n",
       "      <td>1</td>\n",
       "      <td>dr5qup4</td>\n",
       "      <td>0</td>\n",
       "      <td>40.600662</td>\n",
       "      <td>-74.000473</td>\n",
       "      <td>36</td>\n",
       "      <td>2</td>\n",
       "      <td>1</td>\n",
       "      <td>0.755975</td>\n",
       "      <td>0.6546</td>\n",
       "      <td>0.041655</td>\n",
       "      <td>0.999132</td>\n",
       "      <td>0</td>\n",
       "      <td>0</td>\n",
       "    </tr>\n",
       "    <tr>\n",
       "      <th>16597</th>\n",
       "      <td>1</td>\n",
       "      <td>6</td>\n",
       "      <td>1</td>\n",
       "      <td>dr5qup5</td>\n",
       "      <td>0</td>\n",
       "      <td>40.600662</td>\n",
       "      <td>-73.999100</td>\n",
       "      <td>25</td>\n",
       "      <td>1</td>\n",
       "      <td>1</td>\n",
       "      <td>0.755975</td>\n",
       "      <td>0.6546</td>\n",
       "      <td>0.041655</td>\n",
       "      <td>0.999132</td>\n",
       "      <td>0</td>\n",
       "      <td>0</td>\n",
       "    </tr>\n",
       "    <tr>\n",
       "      <th>16604</th>\n",
       "      <td>1</td>\n",
       "      <td>6</td>\n",
       "      <td>1</td>\n",
       "      <td>dr5qupn</td>\n",
       "      <td>0</td>\n",
       "      <td>40.600662</td>\n",
       "      <td>-73.994980</td>\n",
       "      <td>26</td>\n",
       "      <td>1</td>\n",
       "      <td>1</td>\n",
       "      <td>0.755975</td>\n",
       "      <td>0.6546</td>\n",
       "      <td>0.041655</td>\n",
       "      <td>0.999132</td>\n",
       "      <td>1</td>\n",
       "      <td>0</td>\n",
       "    </tr>\n",
       "    <tr>\n",
       "      <th>16605</th>\n",
       "      <td>1</td>\n",
       "      <td>6</td>\n",
       "      <td>1</td>\n",
       "      <td>dr5qupp</td>\n",
       "      <td>0</td>\n",
       "      <td>40.600662</td>\n",
       "      <td>-73.993607</td>\n",
       "      <td>22</td>\n",
       "      <td>0</td>\n",
       "      <td>1</td>\n",
       "      <td>0.755975</td>\n",
       "      <td>0.6546</td>\n",
       "      <td>0.041655</td>\n",
       "      <td>0.999132</td>\n",
       "      <td>0</td>\n",
       "      <td>0</td>\n",
       "    </tr>\n",
       "  </tbody>\n",
       "</table>\n",
       "</div>"
      ],
      "text/plain": [
       "       date  dayofweek  hour  geohash  demand        lat        lon  \\\n",
       "16593     1          6     1  dr5qup0       0  40.600662 -74.003220   \n",
       "16596     1          6     1  dr5qup4       0  40.600662 -74.000473   \n",
       "16597     1          6     1  dr5qup5       0  40.600662 -73.999100   \n",
       "16604     1          6     1  dr5qupn       0  40.600662 -73.994980   \n",
       "16605     1          6     1  dr5qupp       0  40.600662 -73.993607   \n",
       "\n",
       "       road_density  intxn_density  weekend  dayofweek_sin  dayofweek_cos  \\\n",
       "16593            37              2        1       0.755975         0.6546   \n",
       "16596            36              2        1       0.755975         0.6546   \n",
       "16597            25              1        1       0.755975         0.6546   \n",
       "16604            26              1        1       0.755975         0.6546   \n",
       "16605            22              0        1       0.755975         0.6546   \n",
       "\n",
       "       hour_sin  hour_cos  prev_demand  mlp_prediction  \n",
       "16593  0.041655  0.999132            0               0  \n",
       "16596  0.041655  0.999132            0               0  \n",
       "16597  0.041655  0.999132            0               0  \n",
       "16604  0.041655  0.999132            1               0  \n",
       "16605  0.041655  0.999132            0               0  "
      ]
     },
     "execution_count": 26,
     "metadata": {},
     "output_type": "execute_result"
    }
   ],
   "source": [
    "df['mlp_prediction'] = np.maximum(df['mlp_prediction'], 0)\n",
    "df.head()"
   ]
  },
  {
   "cell_type": "code",
   "execution_count": 27,
   "metadata": {
    "collapsed": false
   },
   "outputs": [
    {
     "data": {
      "text/html": [
       "<div>\n",
       "<table border=\"1\" class=\"dataframe\">\n",
       "  <thead>\n",
       "    <tr style=\"text-align: right;\">\n",
       "      <th></th>\n",
       "      <th>date</th>\n",
       "      <th>dayofweek</th>\n",
       "      <th>hour</th>\n",
       "      <th>taxi_zone</th>\n",
       "      <th>demand</th>\n",
       "      <th>mlp_prediction</th>\n",
       "    </tr>\n",
       "  </thead>\n",
       "  <tbody>\n",
       "    <tr>\n",
       "      <th>0</th>\n",
       "      <td>1</td>\n",
       "      <td>6</td>\n",
       "      <td>1</td>\n",
       "      <td>2</td>\n",
       "      <td>0</td>\n",
       "      <td>0.000000</td>\n",
       "    </tr>\n",
       "    <tr>\n",
       "      <th>1</th>\n",
       "      <td>1</td>\n",
       "      <td>6</td>\n",
       "      <td>1</td>\n",
       "      <td>3</td>\n",
       "      <td>242</td>\n",
       "      <td>230.671158</td>\n",
       "    </tr>\n",
       "    <tr>\n",
       "      <th>2</th>\n",
       "      <td>1</td>\n",
       "      <td>6</td>\n",
       "      <td>1</td>\n",
       "      <td>6</td>\n",
       "      <td>279</td>\n",
       "      <td>170.156097</td>\n",
       "    </tr>\n",
       "    <tr>\n",
       "      <th>3</th>\n",
       "      <td>1</td>\n",
       "      <td>6</td>\n",
       "      <td>1</td>\n",
       "      <td>7</td>\n",
       "      <td>1</td>\n",
       "      <td>0.000000</td>\n",
       "    </tr>\n",
       "    <tr>\n",
       "      <th>4</th>\n",
       "      <td>1</td>\n",
       "      <td>6</td>\n",
       "      <td>1</td>\n",
       "      <td>8</td>\n",
       "      <td>0</td>\n",
       "      <td>0.000000</td>\n",
       "    </tr>\n",
       "  </tbody>\n",
       "</table>\n",
       "</div>"
      ],
      "text/plain": [
       "   date  dayofweek  hour  taxi_zone  demand  mlp_prediction\n",
       "0     1          6     1          2       0        0.000000\n",
       "1     1          6     1          3     242      230.671158\n",
       "2     1          6     1          6     279      170.156097\n",
       "3     1          6     1          7       1        0.000000\n",
       "4     1          6     1          8       0        0.000000"
      ]
     },
     "execution_count": 27,
     "metadata": {},
     "output_type": "execute_result"
    }
   ],
   "source": [
    "zones = pd.read_csv('engine/data/zones.csv', index_col='geohash')\n",
    "df = df.merge(zones.reset_index()[['geohash', 'taxi_zone']], how='left', on='geohash')\n",
    "df_zone = df.groupby(['date', 'dayofweek', 'hour', 'taxi_zone'])[['demand', 'mlp_prediction']].sum()\n",
    "df_zone = df_zone.reset_index()\n",
    "df_zone.head()"
   ]
  },
  {
   "cell_type": "code",
   "execution_count": 29,
   "metadata": {
    "collapsed": false
   },
   "outputs": [
    {
     "data": {
      "text/plain": [
       "182.00123411326089"
      ]
     },
     "execution_count": 29,
     "metadata": {},
     "output_type": "execute_result"
    }
   ],
   "source": [
    "rmse = np.sqrt(((df_zone.demand-df_zone.mlp_prediction)**2).mean())\n",
    "rmse"
   ]
  },
  {
   "cell_type": "code",
   "execution_count": null,
   "metadata": {
    "collapsed": true
   },
   "outputs": [],
   "source": []
  }
 ],
 "metadata": {
  "kernelspec": {
   "display_name": "Python 2",
   "language": "python",
   "name": "python2"
  },
  "language_info": {
   "codemirror_mode": {
    "name": "ipython",
    "version": 2
   },
   "file_extension": ".py",
   "mimetype": "text/x-python",
   "name": "python",
   "nbconvert_exporter": "python",
   "pygments_lexer": "ipython2",
   "version": "2.7.9"
  }
 },
 "nbformat": 4,
 "nbformat_minor": 0
}
