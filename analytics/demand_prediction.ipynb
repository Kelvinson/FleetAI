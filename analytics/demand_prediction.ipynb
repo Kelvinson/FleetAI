{
 "cells": [
  {
   "cell_type": "code",
   "execution_count": 1,
   "metadata": {
    "collapsed": false
   },
   "outputs": [],
   "source": [
    "%load_ext autoreload\n",
    "%autoreload 2\n",
    "import numpy as np\n",
    "import pandas as pd\n",
    "import matplotlib\n",
    "%matplotlib inline\n",
    "import matplotlib.pyplot as plt\n",
    "import cPickle as pickle\n",
    "\n",
    "plt.style.use('ggplot')"
   ]
  },
  {
   "cell_type": "code",
   "execution_count": 2,
   "metadata": {
    "collapsed": false
   },
   "outputs": [
    {
     "name": "stdout",
     "output_type": "stream",
     "text": [
      "/Users/odatakuma/cmu/FleetAI\n"
     ]
    }
   ],
   "source": [
    "cd .."
   ]
  },
  {
   "cell_type": "markdown",
   "metadata": {},
   "source": [
    "## Preprocessing"
   ]
  },
  {
   "cell_type": "code",
   "execution_count": 3,
   "metadata": {
    "collapsed": false
   },
   "outputs": [
    {
     "name": "stdout",
     "output_type": "stream",
     "text": [
      "<class 'pandas.core.frame.DataFrame'>\n",
      "Int64Index: 12806249 entries, 0 to 12806248\n",
      "Data columns (total 5 columns):\n",
      "date         int16\n",
      "dayofweek    int16\n",
      "hour         float32\n",
      "minute       int16\n",
      "phash        object\n",
      "dtypes: float32(1), int16(3), object(1)\n",
      "memory usage: 317.5+ MB\n"
     ]
    }
   ],
   "source": [
    "df = pd.read_csv('data/nyc_taxi/trips_2016-05.csv',\n",
    "                 usecols=[\n",
    "                     'phash',\n",
    "                     'hour',\n",
    "                     'minute',\n",
    "                     'dayofweek',\n",
    "                     'date'\n",
    "                 ], dtype={\n",
    "                     'hour':np.float32,\n",
    "                     'minute':np.int16,\n",
    "                     'dayofweek':np.int16,\n",
    "                     'date':np.int16\n",
    "                 }\n",
    "                )\n",
    "df.info()"
   ]
  },
  {
   "cell_type": "code",
   "execution_count": 4,
   "metadata": {
    "collapsed": false
   },
   "outputs": [
    {
     "data": {
      "text/plain": [
       "array([  0. ,   0.5,   1. ,   1.5,   2. ,   2.5,   3. ,   3.5,   4. ,\n",
       "         4.5,   5. ,   5.5,   6. ,   6.5,   7. ,   7.5,   8. ,   8.5,\n",
       "         9. ,   9.5,  10. ,  10.5,  11. ,  11.5,  12. ,  12.5,  13. ,\n",
       "        13.5,  14. ,  14.5,  15. ,  15.5,  16. ,  16.5,  17. ,  17.5,\n",
       "        18. ,  18.5,  19. ,  19.5,  20. ,  20.5,  21. ,  21.5,  22. ,\n",
       "        22.5,  23. ,  23.5])"
      ]
     },
     "execution_count": 4,
     "metadata": {},
     "output_type": "execute_result"
    }
   ],
   "source": [
    "df['hour'] += 0.5 * (df.minute / 30).astype(int)\n",
    "df.hour.unique()"
   ]
  },
  {
   "cell_type": "code",
   "execution_count": 5,
   "metadata": {
    "collapsed": false
   },
   "outputs": [
    {
     "data": {
      "text/html": [
       "<div>\n",
       "<table border=\"1\" class=\"dataframe\">\n",
       "  <thead>\n",
       "    <tr style=\"text-align: right;\">\n",
       "      <th></th>\n",
       "      <th></th>\n",
       "      <th></th>\n",
       "      <th></th>\n",
       "      <th>count</th>\n",
       "    </tr>\n",
       "    <tr>\n",
       "      <th>date</th>\n",
       "      <th>dayofweek</th>\n",
       "      <th>hour</th>\n",
       "      <th>phash</th>\n",
       "      <th></th>\n",
       "    </tr>\n",
       "  </thead>\n",
       "  <tbody>\n",
       "    <tr>\n",
       "      <th rowspan=\"5\" valign=\"top\">1</th>\n",
       "      <th rowspan=\"5\" valign=\"top\">6</th>\n",
       "      <th rowspan=\"5\" valign=\"top\">0</th>\n",
       "      <th>dr5qupn</th>\n",
       "      <td>1</td>\n",
       "    </tr>\n",
       "    <tr>\n",
       "      <th>dr5r56q</th>\n",
       "      <td>1</td>\n",
       "    </tr>\n",
       "    <tr>\n",
       "      <th>dr5r5wk</th>\n",
       "      <td>1</td>\n",
       "    </tr>\n",
       "    <tr>\n",
       "      <th>dr5r5ww</th>\n",
       "      <td>1</td>\n",
       "    </tr>\n",
       "    <tr>\n",
       "      <th>dr5r5zg</th>\n",
       "      <td>1</td>\n",
       "    </tr>\n",
       "  </tbody>\n",
       "</table>\n",
       "</div>"
      ],
      "text/plain": [
       "                             count\n",
       "date dayofweek hour phash         \n",
       "1    6         0    dr5qupn      1\n",
       "                    dr5r56q      1\n",
       "                    dr5r5wk      1\n",
       "                    dr5r5ww      1\n",
       "                    dr5r5zg      1"
      ]
     },
     "execution_count": 5,
     "metadata": {},
     "output_type": "execute_result"
    }
   ],
   "source": [
    "demand = df.groupby(['date', 'dayofweek', 'hour', 'phash'])[['minute']].count().rename(columns={'minute':'count'})\n",
    "demand.head()"
   ]
  },
  {
   "cell_type": "code",
   "execution_count": 6,
   "metadata": {
    "collapsed": false
   },
   "outputs": [
    {
     "data": {
      "text/html": [
       "<div>\n",
       "<table border=\"1\" class=\"dataframe\">\n",
       "  <thead>\n",
       "    <tr style=\"text-align: right;\">\n",
       "      <th></th>\n",
       "      <th>date</th>\n",
       "      <th>dayofweek</th>\n",
       "      <th>hour</th>\n",
       "      <th>phash</th>\n",
       "      <th>count</th>\n",
       "      <th>date_dayofweek_hour</th>\n",
       "    </tr>\n",
       "  </thead>\n",
       "  <tbody>\n",
       "    <tr>\n",
       "      <th>0</th>\n",
       "      <td>1</td>\n",
       "      <td>6</td>\n",
       "      <td>0</td>\n",
       "      <td>dr5qupn</td>\n",
       "      <td>1</td>\n",
       "      <td>(1, 6, 0.0)</td>\n",
       "    </tr>\n",
       "    <tr>\n",
       "      <th>1</th>\n",
       "      <td>1</td>\n",
       "      <td>6</td>\n",
       "      <td>0</td>\n",
       "      <td>dr5r56q</td>\n",
       "      <td>1</td>\n",
       "      <td>(1, 6, 0.0)</td>\n",
       "    </tr>\n",
       "    <tr>\n",
       "      <th>2</th>\n",
       "      <td>1</td>\n",
       "      <td>6</td>\n",
       "      <td>0</td>\n",
       "      <td>dr5r5wk</td>\n",
       "      <td>1</td>\n",
       "      <td>(1, 6, 0.0)</td>\n",
       "    </tr>\n",
       "    <tr>\n",
       "      <th>3</th>\n",
       "      <td>1</td>\n",
       "      <td>6</td>\n",
       "      <td>0</td>\n",
       "      <td>dr5r5ww</td>\n",
       "      <td>1</td>\n",
       "      <td>(1, 6, 0.0)</td>\n",
       "    </tr>\n",
       "    <tr>\n",
       "      <th>4</th>\n",
       "      <td>1</td>\n",
       "      <td>6</td>\n",
       "      <td>0</td>\n",
       "      <td>dr5r5zg</td>\n",
       "      <td>1</td>\n",
       "      <td>(1, 6, 0.0)</td>\n",
       "    </tr>\n",
       "  </tbody>\n",
       "</table>\n",
       "</div>"
      ],
      "text/plain": [
       "   date  dayofweek  hour    phash  count date_dayofweek_hour\n",
       "0     1          6     0  dr5qupn      1         (1, 6, 0.0)\n",
       "1     1          6     0  dr5r56q      1         (1, 6, 0.0)\n",
       "2     1          6     0  dr5r5wk      1         (1, 6, 0.0)\n",
       "3     1          6     0  dr5r5ww      1         (1, 6, 0.0)\n",
       "4     1          6     0  dr5r5zg      1         (1, 6, 0.0)"
      ]
     },
     "execution_count": 6,
     "metadata": {},
     "output_type": "execute_result"
    }
   ],
   "source": [
    "demand = demand.reset_index()\n",
    "demand['date_dayofweek_hour'] = zip(demand.date, demand.dayofweek, demand.hour)\n",
    "demand.head()"
   ]
  },
  {
   "cell_type": "code",
   "execution_count": 7,
   "metadata": {
    "collapsed": false
   },
   "outputs": [
    {
     "data": {
      "text/html": [
       "<div>\n",
       "<table border=\"1\" class=\"dataframe\">\n",
       "  <thead>\n",
       "    <tr style=\"text-align: right;\">\n",
       "      <th>phash</th>\n",
       "      <th>dr5qgxz</th>\n",
       "      <th>dr5qgz5</th>\n",
       "      <th>dr5qgz7</th>\n",
       "      <th>dr5qgz8</th>\n",
       "      <th>dr5qgzc</th>\n",
       "      <th>dr5qgze</th>\n",
       "      <th>dr5qgzr</th>\n",
       "      <th>dr5qgzu</th>\n",
       "      <th>dr5qgzw</th>\n",
       "      <th>dr5qup0</th>\n",
       "      <th>...</th>\n",
       "      <th>dr78818</th>\n",
       "      <th>dr7881c</th>\n",
       "      <th>dr7881d</th>\n",
       "      <th>dr7881f</th>\n",
       "      <th>dr7881g</th>\n",
       "      <th>dr7882y</th>\n",
       "      <th>dr78842</th>\n",
       "      <th>dr78843</th>\n",
       "      <th>dr78848</th>\n",
       "      <th>dr78849</th>\n",
       "    </tr>\n",
       "    <tr>\n",
       "      <th>date_dayofweek_hour</th>\n",
       "      <th></th>\n",
       "      <th></th>\n",
       "      <th></th>\n",
       "      <th></th>\n",
       "      <th></th>\n",
       "      <th></th>\n",
       "      <th></th>\n",
       "      <th></th>\n",
       "      <th></th>\n",
       "      <th></th>\n",
       "      <th></th>\n",
       "      <th></th>\n",
       "      <th></th>\n",
       "      <th></th>\n",
       "      <th></th>\n",
       "      <th></th>\n",
       "      <th></th>\n",
       "      <th></th>\n",
       "      <th></th>\n",
       "      <th></th>\n",
       "      <th></th>\n",
       "    </tr>\n",
       "  </thead>\n",
       "  <tbody>\n",
       "    <tr>\n",
       "      <th>(1, 6, 0.0)</th>\n",
       "      <td>0</td>\n",
       "      <td>0</td>\n",
       "      <td>0</td>\n",
       "      <td>0</td>\n",
       "      <td>0</td>\n",
       "      <td>0</td>\n",
       "      <td>0</td>\n",
       "      <td>0</td>\n",
       "      <td>0</td>\n",
       "      <td>0</td>\n",
       "      <td>...</td>\n",
       "      <td>0</td>\n",
       "      <td>0</td>\n",
       "      <td>0</td>\n",
       "      <td>0</td>\n",
       "      <td>0</td>\n",
       "      <td>0</td>\n",
       "      <td>0</td>\n",
       "      <td>0</td>\n",
       "      <td>0</td>\n",
       "      <td>0</td>\n",
       "    </tr>\n",
       "    <tr>\n",
       "      <th>(1, 6, 0.5)</th>\n",
       "      <td>0</td>\n",
       "      <td>0</td>\n",
       "      <td>0</td>\n",
       "      <td>0</td>\n",
       "      <td>0</td>\n",
       "      <td>0</td>\n",
       "      <td>0</td>\n",
       "      <td>0</td>\n",
       "      <td>0</td>\n",
       "      <td>0</td>\n",
       "      <td>...</td>\n",
       "      <td>0</td>\n",
       "      <td>0</td>\n",
       "      <td>0</td>\n",
       "      <td>0</td>\n",
       "      <td>0</td>\n",
       "      <td>0</td>\n",
       "      <td>0</td>\n",
       "      <td>0</td>\n",
       "      <td>0</td>\n",
       "      <td>0</td>\n",
       "    </tr>\n",
       "    <tr>\n",
       "      <th>(1, 6, 1.0)</th>\n",
       "      <td>0</td>\n",
       "      <td>0</td>\n",
       "      <td>0</td>\n",
       "      <td>0</td>\n",
       "      <td>0</td>\n",
       "      <td>0</td>\n",
       "      <td>0</td>\n",
       "      <td>0</td>\n",
       "      <td>0</td>\n",
       "      <td>0</td>\n",
       "      <td>...</td>\n",
       "      <td>0</td>\n",
       "      <td>0</td>\n",
       "      <td>0</td>\n",
       "      <td>0</td>\n",
       "      <td>0</td>\n",
       "      <td>0</td>\n",
       "      <td>0</td>\n",
       "      <td>0</td>\n",
       "      <td>0</td>\n",
       "      <td>0</td>\n",
       "    </tr>\n",
       "    <tr>\n",
       "      <th>(1, 6, 1.5)</th>\n",
       "      <td>0</td>\n",
       "      <td>0</td>\n",
       "      <td>0</td>\n",
       "      <td>0</td>\n",
       "      <td>0</td>\n",
       "      <td>0</td>\n",
       "      <td>0</td>\n",
       "      <td>0</td>\n",
       "      <td>0</td>\n",
       "      <td>0</td>\n",
       "      <td>...</td>\n",
       "      <td>0</td>\n",
       "      <td>0</td>\n",
       "      <td>0</td>\n",
       "      <td>0</td>\n",
       "      <td>0</td>\n",
       "      <td>0</td>\n",
       "      <td>0</td>\n",
       "      <td>0</td>\n",
       "      <td>0</td>\n",
       "      <td>0</td>\n",
       "    </tr>\n",
       "    <tr>\n",
       "      <th>(1, 6, 2.0)</th>\n",
       "      <td>0</td>\n",
       "      <td>0</td>\n",
       "      <td>0</td>\n",
       "      <td>0</td>\n",
       "      <td>0</td>\n",
       "      <td>0</td>\n",
       "      <td>0</td>\n",
       "      <td>0</td>\n",
       "      <td>0</td>\n",
       "      <td>0</td>\n",
       "      <td>...</td>\n",
       "      <td>0</td>\n",
       "      <td>0</td>\n",
       "      <td>0</td>\n",
       "      <td>0</td>\n",
       "      <td>0</td>\n",
       "      <td>0</td>\n",
       "      <td>0</td>\n",
       "      <td>0</td>\n",
       "      <td>0</td>\n",
       "      <td>0</td>\n",
       "    </tr>\n",
       "  </tbody>\n",
       "</table>\n",
       "<p>5 rows × 16971 columns</p>\n",
       "</div>"
      ],
      "text/plain": [
       "phash                dr5qgxz  dr5qgz5  dr5qgz7  dr5qgz8  dr5qgzc  dr5qgze  \\\n",
       "date_dayofweek_hour                                                         \n",
       "(1, 6, 0.0)                0        0        0        0        0        0   \n",
       "(1, 6, 0.5)                0        0        0        0        0        0   \n",
       "(1, 6, 1.0)                0        0        0        0        0        0   \n",
       "(1, 6, 1.5)                0        0        0        0        0        0   \n",
       "(1, 6, 2.0)                0        0        0        0        0        0   \n",
       "\n",
       "phash                dr5qgzr  dr5qgzu  dr5qgzw  dr5qup0   ...     dr78818  \\\n",
       "date_dayofweek_hour                                       ...               \n",
       "(1, 6, 0.0)                0        0        0        0   ...           0   \n",
       "(1, 6, 0.5)                0        0        0        0   ...           0   \n",
       "(1, 6, 1.0)                0        0        0        0   ...           0   \n",
       "(1, 6, 1.5)                0        0        0        0   ...           0   \n",
       "(1, 6, 2.0)                0        0        0        0   ...           0   \n",
       "\n",
       "phash                dr7881c  dr7881d  dr7881f  dr7881g  dr7882y  dr78842  \\\n",
       "date_dayofweek_hour                                                         \n",
       "(1, 6, 0.0)                0        0        0        0        0        0   \n",
       "(1, 6, 0.5)                0        0        0        0        0        0   \n",
       "(1, 6, 1.0)                0        0        0        0        0        0   \n",
       "(1, 6, 1.5)                0        0        0        0        0        0   \n",
       "(1, 6, 2.0)                0        0        0        0        0        0   \n",
       "\n",
       "phash                dr78843  dr78848  dr78849  \n",
       "date_dayofweek_hour                             \n",
       "(1, 6, 0.0)                0        0        0  \n",
       "(1, 6, 0.5)                0        0        0  \n",
       "(1, 6, 1.0)                0        0        0  \n",
       "(1, 6, 1.5)                0        0        0  \n",
       "(1, 6, 2.0)                0        0        0  \n",
       "\n",
       "[5 rows x 16971 columns]"
      ]
     },
     "execution_count": 7,
     "metadata": {},
     "output_type": "execute_result"
    }
   ],
   "source": [
    "demand_pivot = demand.pivot(index='date_dayofweek_hour', columns='phash', values='count')\n",
    "demand_pivot = demand_pivot.fillna(0)\n",
    "demand_pivot.head()"
   ]
  },
  {
   "cell_type": "code",
   "execution_count": 8,
   "metadata": {
    "collapsed": true
   },
   "outputs": [],
   "source": [
    "del df"
   ]
  },
  {
   "cell_type": "code",
   "execution_count": 9,
   "metadata": {
    "collapsed": false
   },
   "outputs": [
    {
     "data": {
      "text/html": [
       "<div>\n",
       "<table border=\"1\" class=\"dataframe\">\n",
       "  <thead>\n",
       "    <tr style=\"text-align: right;\">\n",
       "      <th></th>\n",
       "      <th>date</th>\n",
       "      <th>dayofweek</th>\n",
       "      <th>hour</th>\n",
       "      <th>geohash</th>\n",
       "      <th>demand</th>\n",
       "    </tr>\n",
       "  </thead>\n",
       "  <tbody>\n",
       "    <tr>\n",
       "      <th>0</th>\n",
       "      <td>1</td>\n",
       "      <td>6</td>\n",
       "      <td>0.0</td>\n",
       "      <td>dr5qgxz</td>\n",
       "      <td>0</td>\n",
       "    </tr>\n",
       "    <tr>\n",
       "      <th>1</th>\n",
       "      <td>1</td>\n",
       "      <td>6</td>\n",
       "      <td>0.5</td>\n",
       "      <td>dr5qgxz</td>\n",
       "      <td>0</td>\n",
       "    </tr>\n",
       "    <tr>\n",
       "      <th>2</th>\n",
       "      <td>1</td>\n",
       "      <td>6</td>\n",
       "      <td>1.0</td>\n",
       "      <td>dr5qgxz</td>\n",
       "      <td>0</td>\n",
       "    </tr>\n",
       "    <tr>\n",
       "      <th>3</th>\n",
       "      <td>1</td>\n",
       "      <td>6</td>\n",
       "      <td>1.5</td>\n",
       "      <td>dr5qgxz</td>\n",
       "      <td>0</td>\n",
       "    </tr>\n",
       "    <tr>\n",
       "      <th>4</th>\n",
       "      <td>1</td>\n",
       "      <td>6</td>\n",
       "      <td>2.0</td>\n",
       "      <td>dr5qgxz</td>\n",
       "      <td>0</td>\n",
       "    </tr>\n",
       "  </tbody>\n",
       "</table>\n",
       "</div>"
      ],
      "text/plain": [
       "   date  dayofweek  hour  geohash  demand\n",
       "0     1          6   0.0  dr5qgxz       0\n",
       "1     1          6   0.5  dr5qgxz       0\n",
       "2     1          6   1.0  dr5qgxz       0\n",
       "3     1          6   1.5  dr5qgxz       0\n",
       "4     1          6   2.0  dr5qgxz       0"
      ]
     },
     "execution_count": 9,
     "metadata": {},
     "output_type": "execute_result"
    }
   ],
   "source": [
    "demand_pivot['date'] = 0\n",
    "demand_pivot['dayofweek'] = 0\n",
    "demand_pivot['hour'] = 0\n",
    "demand_pivot[['date', 'dayofweek', 'hour']] = list(demand_pivot.index.values)\n",
    "demand = pd.melt(demand_pivot, id_vars=['date', 'dayofweek', 'hour'])\n",
    "demand = demand.rename(columns={'phash':'geohash', 'value':'demand'})\n",
    "demand.head()"
   ]
  },
  {
   "cell_type": "code",
   "execution_count": 10,
   "metadata": {
    "collapsed": false
   },
   "outputs": [
    {
     "data": {
      "text/html": [
       "<div>\n",
       "<table border=\"1\" class=\"dataframe\">\n",
       "  <thead>\n",
       "    <tr style=\"text-align: right;\">\n",
       "      <th></th>\n",
       "      <th>geohash</th>\n",
       "      <th>lat</th>\n",
       "      <th>lon</th>\n",
       "      <th>road_density</th>\n",
       "      <th>intxn_density</th>\n",
       "    </tr>\n",
       "  </thead>\n",
       "  <tbody>\n",
       "    <tr>\n",
       "      <th>0</th>\n",
       "      <td>dr5qgxx</td>\n",
       "      <td>40.603358</td>\n",
       "      <td>-74.015682</td>\n",
       "      <td>32</td>\n",
       "      <td>35</td>\n",
       "    </tr>\n",
       "    <tr>\n",
       "      <th>1</th>\n",
       "      <td>dr5qgxy</td>\n",
       "      <td>40.604832</td>\n",
       "      <td>-74.017029</td>\n",
       "      <td>34</td>\n",
       "      <td>8</td>\n",
       "    </tr>\n",
       "    <tr>\n",
       "      <th>2</th>\n",
       "      <td>dr5qgxz</td>\n",
       "      <td>40.604637</td>\n",
       "      <td>-74.015335</td>\n",
       "      <td>0</td>\n",
       "      <td>0</td>\n",
       "    </tr>\n",
       "    <tr>\n",
       "      <th>3</th>\n",
       "      <td>dr5qgz5</td>\n",
       "      <td>40.600984</td>\n",
       "      <td>-74.009745</td>\n",
       "      <td>13</td>\n",
       "      <td>5</td>\n",
       "    </tr>\n",
       "    <tr>\n",
       "      <th>4</th>\n",
       "      <td>dr5qgz7</td>\n",
       "      <td>40.602178</td>\n",
       "      <td>-74.010322</td>\n",
       "      <td>28</td>\n",
       "      <td>9</td>\n",
       "    </tr>\n",
       "  </tbody>\n",
       "</table>\n",
       "</div>"
      ],
      "text/plain": [
       "   geohash        lat        lon  road_density  intxn_density\n",
       "0  dr5qgxx  40.603358 -74.015682            32             35\n",
       "1  dr5qgxy  40.604832 -74.017029            34              8\n",
       "2  dr5qgxz  40.604637 -74.015335             0              0\n",
       "3  dr5qgz5  40.600984 -74.009745            13              5\n",
       "4  dr5qgz7  40.602178 -74.010322            28              9"
      ]
     },
     "execution_count": 10,
     "metadata": {},
     "output_type": "execute_result"
    }
   ],
   "source": [
    "zones = pd.read_csv(\"data/table/zones.csv\",\n",
    "                    usecols=['geohash', 'lat', 'lon', 'road_density', 'intxn_density'])\n",
    "zones.head()"
   ]
  },
  {
   "cell_type": "code",
   "execution_count": 11,
   "metadata": {
    "collapsed": false
   },
   "outputs": [
    {
     "data": {
      "text/html": [
       "<div>\n",
       "<table border=\"1\" class=\"dataframe\">\n",
       "  <thead>\n",
       "    <tr style=\"text-align: right;\">\n",
       "      <th></th>\n",
       "      <th>date</th>\n",
       "      <th>dayofweek</th>\n",
       "      <th>hour</th>\n",
       "      <th>geohash</th>\n",
       "      <th>demand</th>\n",
       "      <th>lat</th>\n",
       "      <th>lon</th>\n",
       "      <th>road_density</th>\n",
       "      <th>intxn_density</th>\n",
       "    </tr>\n",
       "  </thead>\n",
       "  <tbody>\n",
       "    <tr>\n",
       "      <th>0</th>\n",
       "      <td>1</td>\n",
       "      <td>6</td>\n",
       "      <td>0</td>\n",
       "      <td>dr5qgxz</td>\n",
       "      <td>0</td>\n",
       "      <td>40.604637</td>\n",
       "      <td>-74.015335</td>\n",
       "      <td>0</td>\n",
       "      <td>0</td>\n",
       "    </tr>\n",
       "    <tr>\n",
       "      <th>1</th>\n",
       "      <td>1</td>\n",
       "      <td>6</td>\n",
       "      <td>0</td>\n",
       "      <td>dr5qgz5</td>\n",
       "      <td>0</td>\n",
       "      <td>40.600984</td>\n",
       "      <td>-74.009745</td>\n",
       "      <td>13</td>\n",
       "      <td>5</td>\n",
       "    </tr>\n",
       "    <tr>\n",
       "      <th>2</th>\n",
       "      <td>1</td>\n",
       "      <td>6</td>\n",
       "      <td>0</td>\n",
       "      <td>dr5qgz7</td>\n",
       "      <td>0</td>\n",
       "      <td>40.602178</td>\n",
       "      <td>-74.010322</td>\n",
       "      <td>28</td>\n",
       "      <td>9</td>\n",
       "    </tr>\n",
       "    <tr>\n",
       "      <th>3</th>\n",
       "      <td>1</td>\n",
       "      <td>6</td>\n",
       "      <td>0</td>\n",
       "      <td>dr5qgz8</td>\n",
       "      <td>0</td>\n",
       "      <td>40.603474</td>\n",
       "      <td>-74.014180</td>\n",
       "      <td>49</td>\n",
       "      <td>14</td>\n",
       "    </tr>\n",
       "    <tr>\n",
       "      <th>4</th>\n",
       "      <td>1</td>\n",
       "      <td>6</td>\n",
       "      <td>0</td>\n",
       "      <td>dr5qgzc</td>\n",
       "      <td>0</td>\n",
       "      <td>40.604756</td>\n",
       "      <td>-74.012782</td>\n",
       "      <td>6</td>\n",
       "      <td>2</td>\n",
       "    </tr>\n",
       "  </tbody>\n",
       "</table>\n",
       "</div>"
      ],
      "text/plain": [
       "   date  dayofweek  hour  geohash  demand        lat        lon  road_density  \\\n",
       "0     1          6     0  dr5qgxz       0  40.604637 -74.015335             0   \n",
       "1     1          6     0  dr5qgz5       0  40.600984 -74.009745            13   \n",
       "2     1          6     0  dr5qgz7       0  40.602178 -74.010322            28   \n",
       "3     1          6     0  dr5qgz8       0  40.603474 -74.014180            49   \n",
       "4     1          6     0  dr5qgzc       0  40.604756 -74.012782             6   \n",
       "\n",
       "   intxn_density  \n",
       "0              0  \n",
       "1              5  \n",
       "2              9  \n",
       "3             14  \n",
       "4              2  "
      ]
     },
     "execution_count": 11,
     "metadata": {},
     "output_type": "execute_result"
    }
   ],
   "source": [
    "demand = demand.sort_values(by=['date', 'hour'])\n",
    "demand = demand.merge(zones, how='left', on='geohash')\n",
    "demand.head()"
   ]
  },
  {
   "cell_type": "code",
   "execution_count": 14,
   "metadata": {
    "collapsed": false
   },
   "outputs": [],
   "source": [
    "demand = demand.drop('geohash', axis=1)\n",
    "demand.to_csv('data/nyc_taxi/trips/demand_2016_05.csv', index=False)"
   ]
  },
  {
   "cell_type": "code",
   "execution_count": 15,
   "metadata": {
    "collapsed": true
   },
   "outputs": [],
   "source": [
    "del demand"
   ]
  },
  {
   "cell_type": "code",
   "execution_count": 22,
   "metadata": {
    "collapsed": false
   },
   "outputs": [
    {
     "name": "stdout",
     "output_type": "stream",
     "text": [
      "<class 'pandas.core.frame.DataFrame'>\n",
      "Int64Index: 25252848 entries, 0 to 25252847\n",
      "Data columns (total 7 columns):\n",
      "date            int32\n",
      "dayofweek       int32\n",
      "hour            float32\n",
      "demand          int32\n",
      "lat             float32\n",
      "lon             float32\n",
      "road_density    int32\n",
      "dtypes: float32(3), int32(4)\n",
      "memory usage: 867.0 MB\n"
     ]
    }
   ],
   "source": [
    "df = pd.read_csv('data/nyc_taxi/trips/demand_2016_05.csv',\n",
    "                dtype={\n",
    "                    'date':np.int32,\n",
    "                    'dayofweek':np.int32,\n",
    "                    'hour':np.float32,\n",
    "                    'demand':np.int32,\n",
    "                    'lat':np.float32,\n",
    "                    'lon':np.float32,\n",
    "                    'road_density':np.int32\n",
    "                }).drop('intxn_density', axis=1)\n",
    "df.info()"
   ]
  },
  {
   "cell_type": "code",
   "execution_count": 23,
   "metadata": {
    "collapsed": false
   },
   "outputs": [
    {
     "name": "stdout",
     "output_type": "stream",
     "text": [
      "<class 'pandas.core.frame.DataFrame'>\n",
      "Int64Index: 25201935 entries, 50942 to 25252684\n",
      "Data columns (total 14 columns):\n",
      "date             int32\n",
      "dayofweek        int32\n",
      "hour             float32\n",
      "demand           int32\n",
      "lat              float32\n",
      "lon              float32\n",
      "road_density     int32\n",
      "weekend          int32\n",
      "dayofweek_sin    float32\n",
      "dayofweek_cos    float32\n",
      "hour_sin         float32\n",
      "hour_cos         float32\n",
      "prev_demand1     int32\n",
      "prev_demand2     int32\n",
      "dtypes: float32(7), int32(7)\n",
      "memory usage: 1.5 GB\n"
     ]
    }
   ],
   "source": [
    "def create_features(df):\n",
    "    df['weekend'] = (df.dayofweek > 4).astype(np.int32)\n",
    "    df['dayofweek_sin'] = np.sin(df.dayofweek/7.0).astype(np.float32)\n",
    "    df['dayofweek_cos'] = np.cos(df.dayofweek/7.0).astype(np.float32)\n",
    "    df['hour_sin'] = np.sin(df.hour/24.0).astype(np.float32)\n",
    "    df['hour_cos'] = np.cos(df.hour/24.0).astype(np.float32)\n",
    "    df = df.sort_values(by=['lat', 'lon'])\n",
    "    df['prev_demand1'] = np.int32(0)\n",
    "    df['prev_demand1'].iloc[1:] = df['demand'].values[:-1]\n",
    "    df['prev_demand2'] = np.int32(0)\n",
    "    df['prev_demand2'].iloc[1:] = df['prev_demand1'].values[:-1]\n",
    "    df = df[(df.date>1)|(df.hour>1)]\n",
    "    df = df.sort_values(by=['date', 'hour'])\n",
    "    return df\n",
    "\n",
    "df = create_features(df)\n",
    "df.info()"
   ]
  },
  {
   "cell_type": "code",
   "execution_count": 36,
   "metadata": {
    "collapsed": false
   },
   "outputs": [
    {
     "name": "stdout",
     "output_type": "stream",
     "text": [
      "17641354\n",
      "7560581\n"
     ]
    }
   ],
   "source": [
    "X = df.drop(['demand', 'date'], axis=1).values\n",
    "y = df['demand'].values\n",
    "N = int(len(y)*0.7)\n",
    "X_train, X_test, y_train, y_test = X[:N], X[N:], y[:N], y[N:]\n",
    "print len(X_train)\n",
    "print len(X_test)"
   ]
  },
  {
   "cell_type": "code",
   "execution_count": 37,
   "metadata": {
    "collapsed": false
   },
   "outputs": [],
   "source": [
    "from sklearn.preprocessing import StandardScaler\n",
    "\n",
    "scl = StandardScaler()\n",
    "X_train = scl.fit_transform(X_train)\n",
    "X_test = scl.transform(X_test)"
   ]
  },
  {
   "cell_type": "code",
   "execution_count": 38,
   "metadata": {
    "collapsed": false
   },
   "outputs": [
    {
     "name": "stdout",
     "output_type": "stream",
     "text": [
      "0.116865576191\n",
      "0.111542353689\n",
      "7.41265165928\n",
      "6.08425767808\n"
     ]
    }
   ],
   "source": [
    "print y_train[y_train>0].size/float(y_train.size)\n",
    "print y_test[y_test>0].size/float(y_test.size)\n",
    "print (y_train**2).mean()\n",
    "print (y_test**2).mean()"
   ]
  },
  {
   "cell_type": "markdown",
   "metadata": {},
   "source": [
    "## Benchmark"
   ]
  },
  {
   "cell_type": "code",
   "execution_count": 39,
   "metadata": {
    "collapsed": false
   },
   "outputs": [
    {
     "name": "stdout",
     "output_type": "stream",
     "text": [
      "RMSE train/val: 1.19 / 1.11\n"
     ]
    }
   ],
   "source": [
    "from sklearn.linear_model import LinearRegression\n",
    "\n",
    "slr = LinearRegression()\n",
    "slr.fit(X_train, y_train)\n",
    "rmse_train = np.sqrt(((y_train - slr.predict(X_train))**2).mean())\n",
    "rmse_test = np.sqrt(((y_test - slr.predict(X_test))**2).mean())\n",
    "print \"RMSE train/val: %.2f / %.2f\" % (rmse_train, rmse_test)"
   ]
  },
  {
   "cell_type": "markdown",
   "metadata": {},
   "source": [
    "## Ensemble Methods"
   ]
  },
  {
   "cell_type": "code",
   "execution_count": 50,
   "metadata": {
    "collapsed": false
   },
   "outputs": [],
   "source": [
    "use_cols = [u'dayofweek', u'hour', u'lat', u'lon', u'road_density', u'prev_demand1', u'prev_demand2']\n",
    "X = df[use_cols].values\n",
    "y = df['demand'].values\n",
    "N = int(len(y)*0.7)\n",
    "X_train, X_test, y_train, y_test = X[:N], X[N:], y[:N], y[N:]"
   ]
  },
  {
   "cell_type": "code",
   "execution_count": 34,
   "metadata": {
    "collapsed": false
   },
   "outputs": [
    {
     "name": "stdout",
     "output_type": "stream",
     "text": [
      "d=2, n=10, RMSE train/val: 1.22 / 1.14\n",
      "d=2, n=20, RMSE train/val: 1.20 / 1.13\n",
      "d=4, n=10, RMSE train/val: 1.20 / 1.13\n",
      "d=4, n=20, RMSE train/val: 1.24 / 1.21\n",
      "CPU times: user 12min 17s, sys: 1min 3s, total: 13min 20s\n",
      "Wall time: 13min 27s\n"
     ]
    }
   ],
   "source": [
    "%%time\n",
    "from sklearn.ensemble import GradientBoostingRegressor\n",
    "\n",
    "lr = 1.0\n",
    "s = 0.2\n",
    "for d in [2, 4]:\n",
    "    for n in [10, 20]:\n",
    "        gbr = GradientBoostingRegressor(learning_rate=lr, n_estimators=n, subsample=s, max_depth=d)\n",
    "        gbr.fit(X_train, y_train)\n",
    "        rmse_train = np.sqrt(((y_train - gbr.predict(X_train))**2).mean())\n",
    "        rmse_test = np.sqrt(((y_test - gbr.predict(X_test))**2).mean())\n",
    "        print \"d=%d, n=%d, RMSE train/val: %.2f / %.2f\" % (d, n, rmse_train, rmse_test)"
   ]
  },
  {
   "cell_type": "code",
   "execution_count": 35,
   "metadata": {
    "collapsed": false
   },
   "outputs": [
    {
     "name": "stdout",
     "output_type": "stream",
     "text": [
      "s=0.000050, n=10, RMSE train/val: 1.14 / 1.08\n",
      "s=0.000050, n=20, RMSE train/val: 1.13 / 1.08\n",
      "s=0.000020, n=10, RMSE train/val: 1.10 / 1.06\n",
      "s=0.000020, n=20, RMSE train/val: 1.10 / 1.06\n",
      "CPU times: user 3h 37min 6s, sys: 1min 23s, total: 3h 38min 30s\n",
      "Wall time: 59min 5s\n"
     ]
    }
   ],
   "source": [
    "%%time\n",
    "from sklearn.ensemble import RandomForestRegressor\n",
    "\n",
    "for s in [5e-5, 2e-5]:\n",
    "    for n in [10, 20]:\n",
    "        forest = RandomForestRegressor(n_estimators=n,\n",
    "                                       min_samples_split=s,\n",
    "                                       n_jobs=-1)\n",
    "        forest.fit(X_train, y_train)\n",
    "        rmse_train = np.sqrt(((y_train - forest.predict(X_train))**2).mean())\n",
    "        rmse_test = np.sqrt(((y_test - forest.predict(X_test))**2).mean())\n",
    "        print \"s=%f, n=%d, RMSE train/val: %.2f / %.2f\" % (s, n, rmse_train, rmse_test)"
   ]
  },
  {
   "cell_type": "code",
   "execution_count": 51,
   "metadata": {
    "collapsed": false
   },
   "outputs": [
    {
     "name": "stdout",
     "output_type": "stream",
     "text": [
      "RMSE train/val: 1.10 / 1.06\n"
     ]
    }
   ],
   "source": [
    "forest = RandomForestRegressor(n_estimators=10,\n",
    "                               min_samples_split=2e-5,\n",
    "                               n_jobs=-1)\n",
    "forest.fit(X_train, y_train)\n",
    "rmse_train = np.sqrt(((y_train - forest.predict(X_train))**2).mean())\n",
    "rmse_test = np.sqrt(((y_test - forest.predict(X_test))**2).mean())\n",
    "print \"RMSE train/val: %.2f / %.2f\" % (rmse_train, rmse_test)"
   ]
  },
  {
   "cell_type": "code",
   "execution_count": 52,
   "metadata": {
    "collapsed": false
   },
   "outputs": [
    {
     "name": "stdout",
     "output_type": "stream",
     "text": [
      " 1) prev_demand1 0.9315\n",
      " 2) prev_demand2 0.0414\n",
      " 3) hour 0.0102\n",
      " 4) lat 0.0062\n",
      " 5) lon 0.0061\n",
      " 6) road_density 0.0035\n",
      " 7) dayofweek 0.0011\n"
     ]
    }
   ],
   "source": [
    "importances = forest.feature_importances_\n",
    "indices = np.argsort(importances)[::-1]\n",
    "for f in range(X_train.shape[1]):\n",
    "    print (\"%2d) %s %.4f\" %(f+1, use_cols[indices[f]], importances[indices[f]]) )"
   ]
  },
  {
   "cell_type": "code",
   "execution_count": 53,
   "metadata": {
    "collapsed": true
   },
   "outputs": [],
   "source": [
    "path = 'data/pickle/demand_predictor.pkl'\n",
    "with open(path, 'wb') as f:\n",
    "    pickle.dump(forest, f)"
   ]
  },
  {
   "cell_type": "code",
   "execution_count": null,
   "metadata": {
    "collapsed": true
   },
   "outputs": [],
   "source": []
  }
 ],
 "metadata": {
  "kernelspec": {
   "display_name": "Python 2",
   "language": "python",
   "name": "python2"
  },
  "language_info": {
   "codemirror_mode": {
    "name": "ipython",
    "version": 2
   },
   "file_extension": ".py",
   "mimetype": "text/x-python",
   "name": "python",
   "nbconvert_exporter": "python",
   "pygments_lexer": "ipython2",
   "version": "2.7.9"
  }
 },
 "nbformat": 4,
 "nbformat_minor": 0
}
