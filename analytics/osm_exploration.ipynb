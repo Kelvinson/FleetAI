{
 "cells": [
  {
   "cell_type": "code",
   "execution_count": 1,
   "metadata": {
    "collapsed": false
   },
   "outputs": [],
   "source": [
    "%load_ext autoreload\n",
    "%autoreload 2\n",
    "import numpy as np\n",
    "import pandas as pd\n",
    "import matplotlib\n",
    "%matplotlib inline\n",
    "import matplotlib.pyplot as plt\n",
    "import cPickle as pickle"
   ]
  },
  {
   "cell_type": "code",
   "execution_count": 2,
   "metadata": {
    "collapsed": false
   },
   "outputs": [
    {
     "name": "stdout",
     "output_type": "stream",
     "text": [
      "/Users/odatakuma/cmu/FleetAI\n"
     ]
    }
   ],
   "source": [
    "cd .."
   ]
  },
  {
   "cell_type": "code",
   "execution_count": 3,
   "metadata": {
    "collapsed": false
   },
   "outputs": [
    {
     "name": "stdout",
     "output_type": "stream",
     "text": [
      "# of nodes: 5092898\n",
      "# of highways: 57803\n"
     ]
    }
   ],
   "source": [
    "import json\n",
    "from engine.mapper.osmloader import OsmLoader\n",
    "\n",
    "osm_path = 'analytics/data/osm/osm_nyc.json'\n",
    "osm = OsmLoader(osm_path)"
   ]
  },
  {
   "cell_type": "code",
   "execution_count": 4,
   "metadata": {
    "collapsed": false
   },
   "outputs": [
    {
     "name": "stdout",
     "output_type": "stream",
     "text": [
      "105553 219351\n",
      "CPU times: user 2min 32s, sys: 22.6 s, total: 2min 55s\n",
      "Wall time: 3min 8s\n"
     ]
    }
   ],
   "source": [
    "%%time\n",
    "G = osm.get_graph(road_max_length=150, seg_max_length=150)\n",
    "print len(G.nodes()), len(G.edges())"
   ]
  },
  {
   "cell_type": "code",
   "execution_count": 5,
   "metadata": {
    "collapsed": false
   },
   "outputs": [],
   "source": [
    "path = 'engine/data/nyc_network_graph.pkl'\n",
    "with open(path, 'wb') as f:\n",
    "    pickle.dump(G, f)"
   ]
  },
  {
   "cell_type": "code",
   "execution_count": 6,
   "metadata": {
    "collapsed": false
   },
   "outputs": [],
   "source": [
    "path = 'engine/data/nyc_network_graph.pkl'\n",
    "with open(path, 'r') as f:\n",
    "    G = pickle.load(f)"
   ]
  },
  {
   "cell_type": "code",
   "execution_count": 7,
   "metadata": {
    "collapsed": false
   },
   "outputs": [
    {
     "data": {
      "image/png": "[encoded data removed]",
      "text/plain": [
       "<matplotlib.figure.Figure at 0x10f4d8790>"
      ]
     },
     "metadata": {},
     "output_type": "display_data"
    }
   ],
   "source": [
    "lengths = [l for _, _, l in G.edges_iter(data='length')]\n",
    "seg_lengths = [a-b for _, _, d in G.edges_iter(data=True) \n",
    "               if d.get('seg_length') and len(d['seg_length']) > 1\n",
    "               for a, b in zip(d['seg_length'][1:], d['seg_length'][:-1])]\n",
    "\n",
    "plt.style.use('ggplot')\n",
    "plt.figure(figsize=[10, 4])\n",
    "plt.subplot(121)\n",
    "plt.hist(lengths)\n",
    "plt.subplot(122)\n",
    "plt.hist(seg_lengths);"
   ]
  },
  {
   "cell_type": "markdown",
   "metadata": {},
   "source": [
    "## Compute road/intxn density"
   ]
  },
  {
   "cell_type": "code",
   "execution_count": 15,
   "metadata": {
    "collapsed": false
   },
   "outputs": [
    {
     "name": "stdout",
     "output_type": "stream",
     "text": [
      "70632 105444\n"
     ]
    }
   ],
   "source": [
    "G = osm.get_graph(drive=False, road_max_length=100000, seg_max_length=10)\n",
    "print len(G.nodes()), len(G.edges())"
   ]
  },
  {
   "cell_type": "code",
   "execution_count": 16,
   "metadata": {
    "collapsed": false
   },
   "outputs": [
    {
     "data": {
      "text/plain": [
       "10234374.548110962"
      ]
     },
     "execution_count": 16,
     "metadata": {},
     "output_type": "execute_result"
    }
   ],
   "source": [
    "lengths = [d['length'] for _, _, d in G.edges_iter(data=True) if d.get('seg_length')]\n",
    "sum(lengths)"
   ]
  },
  {
   "cell_type": "code",
   "execution_count": 17,
   "metadata": {
    "collapsed": false
   },
   "outputs": [
    {
     "data": {
      "text/plain": [
       "9.2050228661083917"
      ]
     },
     "execution_count": 17,
     "metadata": {},
     "output_type": "execute_result"
    }
   ],
   "source": [
    "nsegs = [len(d['seg_length']) for _, _, d in G.edges_iter(data=True) if d.get('seg_length')]\n",
    "sum(lengths)/sum(nsegs)"
   ]
  },
  {
   "cell_type": "code",
   "execution_count": 18,
   "metadata": {
    "collapsed": false
   },
   "outputs": [],
   "source": [
    "from engine.mapper import geohelper as gh\n",
    "\n",
    "road_locs = [zip(d['lat'], d['lon']) for _, _, d in G.edges_iter(data=True) if d.get('lat')]\n",
    "road_density = gh.road_density(road_locs)"
   ]
  },
  {
   "cell_type": "code",
   "execution_count": 19,
   "metadata": {
    "collapsed": false
   },
   "outputs": [],
   "source": [
    "node_locs =[(d['lat'], d['lon']) for _, d in G.nodes_iter(data=True) if d.get('lat')]\n",
    "intxn_density = gh.intxn_density(node_locs)"
   ]
  },
  {
   "cell_type": "code",
   "execution_count": 20,
   "metadata": {
    "collapsed": false
   },
   "outputs": [
    {
     "data": {
      "text/html": [
       "<div>\n",
       "<table border=\"1\" class=\"dataframe\">\n",
       "  <thead>\n",
       "    <tr style=\"text-align: right;\">\n",
       "      <th></th>\n",
       "      <th>geohash</th>\n",
       "      <th>total_pickup</th>\n",
       "      <th>total_dropoff</th>\n",
       "      <th>lat</th>\n",
       "      <th>lon</th>\n",
       "      <th>taxi_zone</th>\n",
       "      <th>road_density</th>\n",
       "      <th>intxn_density</th>\n",
       "      <th>motorway_density</th>\n",
       "      <th>motorxn_density</th>\n",
       "    </tr>\n",
       "  </thead>\n",
       "  <tbody>\n",
       "    <tr>\n",
       "      <th>0</th>\n",
       "      <td>dr5qgxx</td>\n",
       "      <td>0</td>\n",
       "      <td>8</td>\n",
       "      <td>40.603409</td>\n",
       "      <td>-74.015579</td>\n",
       "      <td>10</td>\n",
       "      <td>38</td>\n",
       "      <td>35</td>\n",
       "      <td>18</td>\n",
       "      <td>1</td>\n",
       "    </tr>\n",
       "    <tr>\n",
       "      <th>1</th>\n",
       "      <td>dr5qgxy</td>\n",
       "      <td>0</td>\n",
       "      <td>8</td>\n",
       "      <td>40.604782</td>\n",
       "      <td>-74.016953</td>\n",
       "      <td>10</td>\n",
       "      <td>39</td>\n",
       "      <td>8</td>\n",
       "      <td>4</td>\n",
       "      <td>0</td>\n",
       "    </tr>\n",
       "    <tr>\n",
       "      <th>2</th>\n",
       "      <td>dr5qgxz</td>\n",
       "      <td>0</td>\n",
       "      <td>9</td>\n",
       "      <td>40.604782</td>\n",
       "      <td>-74.015579</td>\n",
       "      <td>10</td>\n",
       "      <td>22</td>\n",
       "      <td>0</td>\n",
       "      <td>0</td>\n",
       "      <td>0</td>\n",
       "    </tr>\n",
       "    <tr>\n",
       "      <th>3</th>\n",
       "      <td>dr5qgz7</td>\n",
       "      <td>1</td>\n",
       "      <td>19</td>\n",
       "      <td>40.602036</td>\n",
       "      <td>-74.010086</td>\n",
       "      <td>10</td>\n",
       "      <td>28</td>\n",
       "      <td>9</td>\n",
       "      <td>0</td>\n",
       "      <td>0</td>\n",
       "    </tr>\n",
       "    <tr>\n",
       "      <th>4</th>\n",
       "      <td>dr5qgz8</td>\n",
       "      <td>2</td>\n",
       "      <td>11</td>\n",
       "      <td>40.603409</td>\n",
       "      <td>-74.014206</td>\n",
       "      <td>10</td>\n",
       "      <td>59</td>\n",
       "      <td>14</td>\n",
       "      <td>0</td>\n",
       "      <td>0</td>\n",
       "    </tr>\n",
       "  </tbody>\n",
       "</table>\n",
       "</div>"
      ],
      "text/plain": [
       "   geohash  total_pickup  total_dropoff        lat        lon  taxi_zone  \\\n",
       "0  dr5qgxx             0              8  40.603409 -74.015579         10   \n",
       "1  dr5qgxy             0              8  40.604782 -74.016953         10   \n",
       "2  dr5qgxz             0              9  40.604782 -74.015579         10   \n",
       "3  dr5qgz7             1             19  40.602036 -74.010086         10   \n",
       "4  dr5qgz8             2             11  40.603409 -74.014206         10   \n",
       "\n",
       "   road_density  intxn_density  motorway_density  motorxn_density  \n",
       "0            38             35                18                1  \n",
       "1            39              8                 4                0  \n",
       "2            22              0                 0                0  \n",
       "3            28              9                 0                0  \n",
       "4            59             14                 0                0  "
      ]
     },
     "execution_count": 20,
     "metadata": {},
     "output_type": "execute_result"
    }
   ],
   "source": [
    "zones = pd.read_csv(\"analytics/data/geohash.csv\")\n",
    "zones.head()"
   ]
  },
  {
   "cell_type": "code",
   "execution_count": 21,
   "metadata": {
    "collapsed": false
   },
   "outputs": [
    {
     "data": {
      "text/html": [
       "<div>\n",
       "<table border=\"1\" class=\"dataframe\">\n",
       "  <thead>\n",
       "    <tr style=\"text-align: right;\">\n",
       "      <th></th>\n",
       "      <th>geohash</th>\n",
       "      <th>total_pickup</th>\n",
       "      <th>total_dropoff</th>\n",
       "      <th>lat</th>\n",
       "      <th>lon</th>\n",
       "      <th>taxi_zone</th>\n",
       "      <th>road_density</th>\n",
       "      <th>intxn_density</th>\n",
       "      <th>motorway_density</th>\n",
       "      <th>motorxn_density</th>\n",
       "    </tr>\n",
       "  </thead>\n",
       "  <tbody>\n",
       "    <tr>\n",
       "      <th>0</th>\n",
       "      <td>dr5qgxx</td>\n",
       "      <td>0</td>\n",
       "      <td>8</td>\n",
       "      <td>40.603409</td>\n",
       "      <td>-74.015579</td>\n",
       "      <td>10</td>\n",
       "      <td>38</td>\n",
       "      <td>35</td>\n",
       "      <td>18</td>\n",
       "      <td>1</td>\n",
       "    </tr>\n",
       "    <tr>\n",
       "      <th>1</th>\n",
       "      <td>dr5qgxy</td>\n",
       "      <td>0</td>\n",
       "      <td>8</td>\n",
       "      <td>40.604782</td>\n",
       "      <td>-74.016953</td>\n",
       "      <td>10</td>\n",
       "      <td>39</td>\n",
       "      <td>8</td>\n",
       "      <td>4</td>\n",
       "      <td>0</td>\n",
       "    </tr>\n",
       "    <tr>\n",
       "      <th>2</th>\n",
       "      <td>dr5qgxz</td>\n",
       "      <td>0</td>\n",
       "      <td>9</td>\n",
       "      <td>40.604782</td>\n",
       "      <td>-74.015579</td>\n",
       "      <td>10</td>\n",
       "      <td>22</td>\n",
       "      <td>0</td>\n",
       "      <td>0</td>\n",
       "      <td>0</td>\n",
       "    </tr>\n",
       "    <tr>\n",
       "      <th>3</th>\n",
       "      <td>dr5qgz7</td>\n",
       "      <td>1</td>\n",
       "      <td>19</td>\n",
       "      <td>40.602036</td>\n",
       "      <td>-74.010086</td>\n",
       "      <td>10</td>\n",
       "      <td>28</td>\n",
       "      <td>9</td>\n",
       "      <td>0</td>\n",
       "      <td>0</td>\n",
       "    </tr>\n",
       "    <tr>\n",
       "      <th>4</th>\n",
       "      <td>dr5qgz8</td>\n",
       "      <td>2</td>\n",
       "      <td>11</td>\n",
       "      <td>40.603409</td>\n",
       "      <td>-74.014206</td>\n",
       "      <td>10</td>\n",
       "      <td>59</td>\n",
       "      <td>14</td>\n",
       "      <td>0</td>\n",
       "      <td>0</td>\n",
       "    </tr>\n",
       "  </tbody>\n",
       "</table>\n",
       "</div>"
      ],
      "text/plain": [
       "   geohash  total_pickup  total_dropoff        lat        lon  taxi_zone  \\\n",
       "0  dr5qgxx             0              8  40.603409 -74.015579         10   \n",
       "1  dr5qgxy             0              8  40.604782 -74.016953         10   \n",
       "2  dr5qgxz             0              9  40.604782 -74.015579         10   \n",
       "3  dr5qgz7             1             19  40.602036 -74.010086         10   \n",
       "4  dr5qgz8             2             11  40.603409 -74.014206         10   \n",
       "\n",
       "   road_density  intxn_density  motorway_density  motorxn_density  \n",
       "0            38             35                18                1  \n",
       "1            39              8                 4                0  \n",
       "2            22              0                 0                0  \n",
       "3            28              9                 0                0  \n",
       "4            59             14                 0                0  "
      ]
     },
     "execution_count": 21,
     "metadata": {},
     "output_type": "execute_result"
    }
   ],
   "source": [
    "zones['road_density'] = [road_density[g] for g in zones.geohash]\n",
    "zones['intxn_density'] = [intxn_density[g] for g in zones.geohash]\n",
    "zones.head()"
   ]
  },
  {
   "cell_type": "code",
   "execution_count": 25,
   "metadata": {
    "collapsed": false
   },
   "outputs": [
    {
     "data": {
      "image/png": "[encoded data removed]",
      "text/plain": [
       "<matplotlib.figure.Figure at 0x118413310>"
      ]
     },
     "metadata": {},
     "output_type": "display_data"
    }
   ],
   "source": [
    "plt.figure(figsize=[10, 4])\n",
    "plt.subplot(121)\n",
    "plt.scatter(zones.road_density, zones.total_pickup, alpha=0.1)\n",
    "plt.subplot(122)\n",
    "plt.scatter(zones.intxn_density, zones.total_pickup, alpha=0.1);"
   ]
  },
  {
   "cell_type": "markdown",
   "metadata": {},
   "source": [
    "## Recompute road/intxn density including motorways"
   ]
  },
  {
   "cell_type": "code",
   "execution_count": 26,
   "metadata": {
    "collapsed": true
   },
   "outputs": [],
   "source": [
    "G = osm.get_graph(drive=True, road_max_length=100000, seg_max_length=10)\n",
    "road_locs = [zip(d['lat'], d['lon']) for _, _, d in G.edges_iter(data=True) if d.get('lat')]\n",
    "road_density = gh.road_density(road_locs)\n",
    "node_locs =[(d['lat'], d['lon']) for _, d in G.nodes_iter(data=True) if d.get('lat')]\n",
    "intxn_density = gh.intxn_density(node_locs)"
   ]
  },
  {
   "cell_type": "code",
   "execution_count": 28,
   "metadata": {
    "collapsed": false
   },
   "outputs": [
    {
     "data": {
      "text/html": [
       "<div>\n",
       "<table border=\"1\" class=\"dataframe\">\n",
       "  <thead>\n",
       "    <tr style=\"text-align: right;\">\n",
       "      <th></th>\n",
       "      <th>geohash</th>\n",
       "      <th>total_pickup</th>\n",
       "      <th>total_dropoff</th>\n",
       "      <th>lat</th>\n",
       "      <th>lon</th>\n",
       "      <th>taxi_zone</th>\n",
       "      <th>road_density</th>\n",
       "      <th>intxn_density</th>\n",
       "      <th>motorway_density</th>\n",
       "      <th>motorxn_density</th>\n",
       "    </tr>\n",
       "  </thead>\n",
       "  <tbody>\n",
       "    <tr>\n",
       "      <th>0</th>\n",
       "      <td>dr5qgxx</td>\n",
       "      <td>0</td>\n",
       "      <td>8</td>\n",
       "      <td>40.603409</td>\n",
       "      <td>-74.015579</td>\n",
       "      <td>10</td>\n",
       "      <td>38</td>\n",
       "      <td>35</td>\n",
       "      <td>56</td>\n",
       "      <td>36</td>\n",
       "    </tr>\n",
       "    <tr>\n",
       "      <th>1</th>\n",
       "      <td>dr5qgxy</td>\n",
       "      <td>0</td>\n",
       "      <td>8</td>\n",
       "      <td>40.604782</td>\n",
       "      <td>-74.016953</td>\n",
       "      <td>10</td>\n",
       "      <td>39</td>\n",
       "      <td>8</td>\n",
       "      <td>43</td>\n",
       "      <td>8</td>\n",
       "    </tr>\n",
       "    <tr>\n",
       "      <th>2</th>\n",
       "      <td>dr5qgxz</td>\n",
       "      <td>0</td>\n",
       "      <td>9</td>\n",
       "      <td>40.604782</td>\n",
       "      <td>-74.015579</td>\n",
       "      <td>10</td>\n",
       "      <td>22</td>\n",
       "      <td>0</td>\n",
       "      <td>22</td>\n",
       "      <td>0</td>\n",
       "    </tr>\n",
       "    <tr>\n",
       "      <th>3</th>\n",
       "      <td>dr5qgz7</td>\n",
       "      <td>1</td>\n",
       "      <td>19</td>\n",
       "      <td>40.602036</td>\n",
       "      <td>-74.010086</td>\n",
       "      <td>10</td>\n",
       "      <td>28</td>\n",
       "      <td>9</td>\n",
       "      <td>28</td>\n",
       "      <td>9</td>\n",
       "    </tr>\n",
       "    <tr>\n",
       "      <th>4</th>\n",
       "      <td>dr5qgz8</td>\n",
       "      <td>2</td>\n",
       "      <td>11</td>\n",
       "      <td>40.603409</td>\n",
       "      <td>-74.014206</td>\n",
       "      <td>10</td>\n",
       "      <td>59</td>\n",
       "      <td>14</td>\n",
       "      <td>59</td>\n",
       "      <td>14</td>\n",
       "    </tr>\n",
       "  </tbody>\n",
       "</table>\n",
       "</div>"
      ],
      "text/plain": [
       "   geohash  total_pickup  total_dropoff        lat        lon  taxi_zone  \\\n",
       "0  dr5qgxx             0              8  40.603409 -74.015579         10   \n",
       "1  dr5qgxy             0              8  40.604782 -74.016953         10   \n",
       "2  dr5qgxz             0              9  40.604782 -74.015579         10   \n",
       "3  dr5qgz7             1             19  40.602036 -74.010086         10   \n",
       "4  dr5qgz8             2             11  40.603409 -74.014206         10   \n",
       "\n",
       "   road_density  intxn_density  motorway_density  motorxn_density  \n",
       "0            38             35                56               36  \n",
       "1            39              8                43                8  \n",
       "2            22              0                22                0  \n",
       "3            28              9                28                9  \n",
       "4            59             14                59               14  "
      ]
     },
     "execution_count": 28,
     "metadata": {},
     "output_type": "execute_result"
    }
   ],
   "source": [
    "zones['motorway_density'] = [road_density[g] for g in zones.geohash]\n",
    "zones['motorxn_density'] = [intxn_density[g] for g in zones.geohash]\n",
    "zones.head()"
   ]
  },
  {
   "cell_type": "code",
   "execution_count": 29,
   "metadata": {
    "collapsed": false
   },
   "outputs": [
    {
     "data": {
      "image/png": "[encoded data removed]",
      "text/plain": [
       "<matplotlib.figure.Figure at 0x118d38590>"
      ]
     },
     "metadata": {},
     "output_type": "display_data"
    }
   ],
   "source": [
    "plt.figure(figsize=[10, 4])\n",
    "plt.subplot(121)\n",
    "plt.scatter(zones.motorway_density, zones.total_pickup, alpha=0.1)\n",
    "plt.subplot(122)\n",
    "plt.scatter(zones.motorxn_density, zones.total_pickup, alpha=0.1);"
   ]
  },
  {
   "cell_type": "code",
   "execution_count": 30,
   "metadata": {
    "collapsed": true
   },
   "outputs": [],
   "source": [
    "zones['motorxn_density'] -= zones.intxn_density\n",
    "zones['motorway_density'] -= zones.road_density"
   ]
  },
  {
   "cell_type": "code",
   "execution_count": 31,
   "metadata": {
    "collapsed": false
   },
   "outputs": [
    {
     "data": {
      "image/png": "[encoded data removed]",
      "text/plain": [
       "<matplotlib.figure.Figure at 0x11fab1e90>"
      ]
     },
     "metadata": {},
     "output_type": "display_data"
    }
   ],
   "source": [
    "plt.figure(figsize=[10, 4])\n",
    "plt.subplot(121)\n",
    "plt.scatter(zones.motorway_density, zones.total_pickup, alpha=0.1)\n",
    "plt.subplot(122)\n",
    "plt.scatter(zones.motorxn_density, zones.total_pickup, alpha=0.1);"
   ]
  },
  {
   "cell_type": "code",
   "execution_count": 32,
   "metadata": {
    "collapsed": false
   },
   "outputs": [],
   "source": [
    "zones.to_csv(\"analytics/data/geohash.csv\", index=False)"
   ]
  },
  {
   "cell_type": "markdown",
   "metadata": {},
   "source": [
    "## Test Path Generator"
   ]
  },
  {
   "cell_type": "code",
   "execution_count": 8,
   "metadata": {
    "collapsed": false
   },
   "outputs": [
    {
     "data": {
      "text/html": [
       "<div>\n",
       "<table border=\"1\" class=\"dataframe\">\n",
       "  <thead>\n",
       "    <tr style=\"text-align: right;\">\n",
       "      <th></th>\n",
       "      <th>request_id</th>\n",
       "      <th>date</th>\n",
       "      <th>dayofweek</th>\n",
       "      <th>dropoff_latitude</th>\n",
       "      <th>dropoff_longitude</th>\n",
       "      <th>hour</th>\n",
       "      <th>minute</th>\n",
       "      <th>pickup_latitude</th>\n",
       "      <th>pickup_longitude</th>\n",
       "      <th>second</th>\n",
       "      <th>trip_distance</th>\n",
       "      <th>trip_time</th>\n",
       "      <th>great_circle_distance</th>\n",
       "      <th>pickup_geohash</th>\n",
       "      <th>dropoff_geohash</th>\n",
       "      <th>pickup_zone</th>\n",
       "      <th>dropoff_zone</th>\n",
       "    </tr>\n",
       "  </thead>\n",
       "  <tbody>\n",
       "    <tr>\n",
       "      <th>0</th>\n",
       "      <td>0</td>\n",
       "      <td>1</td>\n",
       "      <td>6</td>\n",
       "      <td>40.730099</td>\n",
       "      <td>-73.983986</td>\n",
       "      <td>0</td>\n",
       "      <td>0</td>\n",
       "      <td>40.768040</td>\n",
       "      <td>-73.985901</td>\n",
       "      <td>0</td>\n",
       "      <td>3.60</td>\n",
       "      <td>17.516667</td>\n",
       "      <td>4221</td>\n",
       "      <td>dr5rz4r</td>\n",
       "      <td>dr5rz2t</td>\n",
       "      <td>172</td>\n",
       "      <td>55</td>\n",
       "    </tr>\n",
       "    <tr>\n",
       "      <th>1</th>\n",
       "      <td>1</td>\n",
       "      <td>1</td>\n",
       "      <td>6</td>\n",
       "      <td>40.744633</td>\n",
       "      <td>-73.980995</td>\n",
       "      <td>0</td>\n",
       "      <td>0</td>\n",
       "      <td>40.741573</td>\n",
       "      <td>-73.993073</td>\n",
       "      <td>0</td>\n",
       "      <td>1.09</td>\n",
       "      <td>7.016667</td>\n",
       "      <td>1072</td>\n",
       "      <td>dr5rsg5</td>\n",
       "      <td>dr5rtk7</td>\n",
       "      <td>255</td>\n",
       "      <td>79</td>\n",
       "    </tr>\n",
       "    <tr>\n",
       "      <th>2</th>\n",
       "      <td>2</td>\n",
       "      <td>1</td>\n",
       "      <td>6</td>\n",
       "      <td>40.733002</td>\n",
       "      <td>-74.002258</td>\n",
       "      <td>0</td>\n",
       "      <td>0</td>\n",
       "      <td>40.684601</td>\n",
       "      <td>-73.991943</td>\n",
       "      <td>0</td>\n",
       "      <td>4.21</td>\n",
       "      <td>19.783333</td>\n",
       "      <td>5451</td>\n",
       "      <td>dr72j1h</td>\n",
       "      <td>dr5rtjs</td>\n",
       "      <td>74</td>\n",
       "      <td>111</td>\n",
       "    </tr>\n",
       "    <tr>\n",
       "      <th>3</th>\n",
       "      <td>3</td>\n",
       "      <td>1</td>\n",
       "      <td>6</td>\n",
       "      <td>40.765469</td>\n",
       "      <td>-73.975700</td>\n",
       "      <td>0</td>\n",
       "      <td>0</td>\n",
       "      <td>40.744751</td>\n",
       "      <td>-73.991577</td>\n",
       "      <td>0</td>\n",
       "      <td>1.68</td>\n",
       "      <td>7.516667</td>\n",
       "      <td>2663</td>\n",
       "      <td>dr5rz63</td>\n",
       "      <td>dr5rw3c</td>\n",
       "      <td>172</td>\n",
       "      <td>197</td>\n",
       "    </tr>\n",
       "    <tr>\n",
       "      <th>4</th>\n",
       "      <td>4</td>\n",
       "      <td>1</td>\n",
       "      <td>6</td>\n",
       "      <td>40.737564</td>\n",
       "      <td>-73.997498</td>\n",
       "      <td>0</td>\n",
       "      <td>0</td>\n",
       "      <td>40.740192</td>\n",
       "      <td>-74.005280</td>\n",
       "      <td>0</td>\n",
       "      <td>0.56</td>\n",
       "      <td>6.650000</td>\n",
       "      <td>717</td>\n",
       "      <td>dr5rtj6</td>\n",
       "      <td>dr5rsg7</td>\n",
       "      <td>254</td>\n",
       "      <td>255</td>\n",
       "    </tr>\n",
       "  </tbody>\n",
       "</table>\n",
       "</div>"
      ],
      "text/plain": [
       "   request_id  date  dayofweek  dropoff_latitude  dropoff_longitude  hour  \\\n",
       "0           0     1          6         40.730099         -73.983986     0   \n",
       "1           1     1          6         40.744633         -73.980995     0   \n",
       "2           2     1          6         40.733002         -74.002258     0   \n",
       "3           3     1          6         40.765469         -73.975700     0   \n",
       "4           4     1          6         40.737564         -73.997498     0   \n",
       "\n",
       "   minute  pickup_latitude  pickup_longitude  second  trip_distance  \\\n",
       "0       0        40.768040        -73.985901       0           3.60   \n",
       "1       0        40.741573        -73.993073       0           1.09   \n",
       "2       0        40.684601        -73.991943       0           4.21   \n",
       "3       0        40.744751        -73.991577       0           1.68   \n",
       "4       0        40.740192        -74.005280       0           0.56   \n",
       "\n",
       "   trip_time  great_circle_distance pickup_geohash dropoff_geohash  \\\n",
       "0  17.516667                   4221        dr5rz4r         dr5rz2t   \n",
       "1   7.016667                   1072        dr5rsg5         dr5rtk7   \n",
       "2  19.783333                   5451        dr72j1h         dr5rtjs   \n",
       "3   7.516667                   2663        dr5rz63         dr5rw3c   \n",
       "4   6.650000                    717        dr5rtj6         dr5rsg7   \n",
       "\n",
       "   pickup_zone  dropoff_zone  \n",
       "0          172            55  \n",
       "1          255            79  \n",
       "2           74           111  \n",
       "3          172           197  \n",
       "4          254           255  "
      ]
     },
     "execution_count": 8,
     "metadata": {},
     "output_type": "execute_result"
    }
   ],
   "source": [
    "df = pd.read_csv('analytics/data/taxi_trips/taxi_tripdata_2016-05.csv', nrows=1000)\n",
    "df.head()"
   ]
  },
  {
   "cell_type": "code",
   "execution_count": 9,
   "metadata": {
    "collapsed": false
   },
   "outputs": [],
   "source": [
    "from engine.mapper.pathgenerator import PathGenerator\n",
    "\n",
    "path_generator = PathGenerator(G)"
   ]
  },
  {
   "cell_type": "code",
   "execution_count": 10,
   "metadata": {
    "collapsed": true
   },
   "outputs": [],
   "source": [
    "i = 11\n",
    "origin = df[['pickup_latitude', 'pickup_longitude']].values[i]\n",
    "destination = df[['dropoff_latitude', 'dropoff_longitude']].values[i]\n",
    "trip_time = df['trip_time'].values[i]\n",
    "path = path_generator.get_path(origin, destination, trip_time)"
   ]
  },
  {
   "cell_type": "code",
   "execution_count": 11,
   "metadata": {
    "collapsed": false
   },
   "outputs": [
    {
     "name": "stdout",
     "output_type": "stream",
     "text": [
      "file created!\n"
     ]
    }
   ],
   "source": [
    "from engine.mapper.geohelper import visualize_trajectory\n",
    "visualize_trajectory(\n",
    "    center_lat_lon=origin,\n",
    "    blue_lat_lon=path,\n",
    "    blue_radius=[5]*len(path),\n",
    "    marker_locs=[origin, destination,]\n",
    ")"
   ]
  },
  {
   "cell_type": "code",
   "execution_count": 12,
   "metadata": {
    "collapsed": false
   },
   "outputs": [
    {
     "name": "stdout",
     "output_type": "stream",
     "text": [
      "CPU times: user 3.85 s, sys: 270 ms, total: 4.12 s\n",
      "Wall time: 4.74 s\n"
     ]
    }
   ],
   "source": [
    "%%time\n",
    "for i in range(100):\n",
    "    origin = df[['pickup_latitude', 'pickup_longitude']].values[i]\n",
    "    destination = df[['dropoff_latitude', 'dropoff_longitude']].values[i]\n",
    "    trip_time = df['trip_time'].values[i]\n",
    "    path = path_generator.get_path(origin, destination, trip_time)"
   ]
  },
  {
   "cell_type": "code",
   "execution_count": null,
   "metadata": {
    "collapsed": true
   },
   "outputs": [],
   "source": [
    "# # Unit Test for map_match method\n",
    "\n",
    "# for i, (u, v, d) in enumerate(G.edges_iter(data=True)):\n",
    "#     if 'lat' not in d: continue\n",
    "#     for j, loc in enumerate(zip(d['lat'], d['lon'])):\n",
    "#         u1, v1, d1 = path_generator.map_match(loc)\n",
    "#         if u1==u and v1==v:\n",
    "#             if np.abs((d['seg_length']+[d['length']])[j] - d1) > 1:\n",
    "#                 print (d['seg_length']+[d['length']])[j], d1\n",
    "#     if i > 1000: break\n",
    "\n",
    "# for i, (u, v, d) in enumerate(G.edges_iter(data=True)):\n",
    "#     if 'lat' not in d: continue\n",
    "#     for j, loc in enumerate(zip(d['lat'], d['lon'])):\n",
    "#         mloc = path_generator.mm_convert(loc)\n",
    "#         dlt = gh.distance_in_meters(loc[0], loc[1], mloc[0], mloc[1])\n",
    "#         if dlt > 1:\n",
    "#             print u, v, dlt\n",
    "#     if i > 1000: break\n",
    "\n",
    "# df = pd.read_csv(data_path,\n",
    "#                  usecols=[\n",
    "#                      'pickup_latitude',\n",
    "#                      'pickup_longitude',\n",
    "#                      'dropoff_latitude',\n",
    "#                      'dropoff_longitude',\n",
    "#                      'trip_time'\n",
    "#                  ], nrows=1000)\n",
    "\n",
    "\n",
    "# d = []\n",
    "# for i, loc in enumerate(df[['pickup_latitude', 'pickup_longitude']].values):\n",
    "#     try:\n",
    "#         mloc = path_generator.mm_convert(loc)\n",
    "#     except:\n",
    "#         continue\n",
    "#     d.append(gh.distance_in_meters(loc[0], loc[1], mloc[0], mloc[1]))\n",
    "# plt.hist(d);"
   ]
  }
 ],
 "metadata": {
  "kernelspec": {
   "display_name": "Python 2",
   "language": "python",
   "name": "python2"
  },
  "language_info": {
   "codemirror_mode": {
    "name": "ipython",
    "version": 2
   },
   "file_extension": ".py",
   "mimetype": "text/x-python",
   "name": "python",
   "nbconvert_exporter": "python",
   "pygments_lexer": "ipython2",
   "version": "2.7.9"
  }
 },
 "nbformat": 4,
 "nbformat_minor": 0
}
